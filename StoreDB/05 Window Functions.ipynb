{
    "metadata": {
        "kernelspec": {
            "name": "SQL",
            "display_name": "SQL",
            "language": "sql"
        },
        "language_info": {
            "name": "sql",
            "version": ""
        }
    },
    "nbformat_minor": 2,
    "nbformat": 4,
    "cells": [
        {
            "cell_type": "code",
            "source": [
                "use Store;"
            ],
            "metadata": {
                "language": "sql",
                "azdata_cell_guid": "087b890b-3526-45aa-9ad8-711a6d8f5605"
            },
            "outputs": [
                {
                    "output_type": "display_data",
                    "data": {
                        "text/html": "Commands completed successfully."
                    },
                    "metadata": {}
                },
                {
                    "output_type": "display_data",
                    "data": {
                        "text/html": "Total execution time: 00:00:00.001"
                    },
                    "metadata": {}
                }
            ],
            "execution_count": 1
        },
        {
            "cell_type": "code",
            "source": [
                "-- Ranking Window Functions\n",
                "SELECT *, \n",
                " DENSE_RANK() OVER (ORDER BY OrderId ) as DENSE_RANK,\n",
                " RANK() OVER (ORDER BY OrderId ) as RANK,\n",
                " ROW_NUMBER() OVER (ORDER BY OrderId ) as ROW_NUMBER,\n",
                " MIN(Quantity) OVER (PARTITION BY OrderId) as MIN\n",
                "FROM OrderItems"
            ],
            "metadata": {
                "azdata_cell_guid": "3fe3ecbe-7d04-47b2-a9d3-01e00a431339",
                "language": "sql",
                "tags": []
            },
            "outputs": [
                {
                    "output_type": "display_data",
                    "data": {
                        "text/html": "(18 rows affected)"
                    },
                    "metadata": {}
                },
                {
                    "output_type": "display_data",
                    "data": {
                        "text/html": "Total execution time: 00:00:00.015"
                    },
                    "metadata": {}
                },
                {
                    "output_type": "execute_result",
                    "metadata": {},
                    "execution_count": 2,
                    "data": {
                        "application/vnd.dataresource+json": {
                            "schema": {
                                "fields": [
                                    {
                                        "name": "OrderId"
                                    },
                                    {
                                        "name": "ProductId"
                                    },
                                    {
                                        "name": "Quantity"
                                    },
                                    {
                                        "name": "UnitPrice"
                                    },
                                    {
                                        "name": "DENSE_RANK"
                                    },
                                    {
                                        "name": "RANK"
                                    },
                                    {
                                        "name": "ROW_NUMBER"
                                    },
                                    {
                                        "name": "MIN"
                                    }
                                ]
                            },
                            "data": [
                                {
                                    "OrderId": "1",
                                    "ProductId": "4",
                                    "Quantity": "4",
                                    "UnitPrice": "3.74",
                                    "DENSE_RANK": "1",
                                    "RANK": "1",
                                    "ROW_NUMBER": "1",
                                    "MIN": "4"
                                },
                                {
                                    "OrderId": "2",
                                    "ProductId": "1",
                                    "Quantity": "2",
                                    "UnitPrice": "9.10",
                                    "DENSE_RANK": "2",
                                    "RANK": "2",
                                    "ROW_NUMBER": "2",
                                    "MIN": "2"
                                },
                                {
                                    "OrderId": "2",
                                    "ProductId": "4",
                                    "Quantity": "4",
                                    "UnitPrice": "1.66",
                                    "DENSE_RANK": "2",
                                    "RANK": "2",
                                    "ROW_NUMBER": "3",
                                    "MIN": "2"
                                },
                                {
                                    "OrderId": "2",
                                    "ProductId": "6",
                                    "Quantity": "2",
                                    "UnitPrice": "2.94",
                                    "DENSE_RANK": "2",
                                    "RANK": "2",
                                    "ROW_NUMBER": "4",
                                    "MIN": "2"
                                },
                                {
                                    "OrderId": "3",
                                    "ProductId": "3",
                                    "Quantity": "10",
                                    "UnitPrice": "9.12",
                                    "DENSE_RANK": "3",
                                    "RANK": "5",
                                    "ROW_NUMBER": "5",
                                    "MIN": "10"
                                },
                                {
                                    "OrderId": "4",
                                    "ProductId": "3",
                                    "Quantity": "7",
                                    "UnitPrice": "6.99",
                                    "DENSE_RANK": "4",
                                    "RANK": "6",
                                    "ROW_NUMBER": "6",
                                    "MIN": "7"
                                },
                                {
                                    "OrderId": "4",
                                    "ProductId": "10",
                                    "Quantity": "7",
                                    "UnitPrice": "6.40",
                                    "DENSE_RANK": "4",
                                    "RANK": "6",
                                    "ROW_NUMBER": "7",
                                    "MIN": "7"
                                },
                                {
                                    "OrderId": "5",
                                    "ProductId": "2",
                                    "Quantity": "3",
                                    "UnitPrice": "9.89",
                                    "DENSE_RANK": "5",
                                    "RANK": "8",
                                    "ROW_NUMBER": "8",
                                    "MIN": "3"
                                },
                                {
                                    "OrderId": "6",
                                    "ProductId": "1",
                                    "Quantity": "4",
                                    "UnitPrice": "8.65",
                                    "DENSE_RANK": "6",
                                    "RANK": "9",
                                    "ROW_NUMBER": "9",
                                    "MIN": "1"
                                },
                                {
                                    "OrderId": "6",
                                    "ProductId": "2",
                                    "Quantity": "4",
                                    "UnitPrice": "3.28",
                                    "DENSE_RANK": "6",
                                    "RANK": "9",
                                    "ROW_NUMBER": "10",
                                    "MIN": "1"
                                },
                                {
                                    "OrderId": "6",
                                    "ProductId": "3",
                                    "Quantity": "4",
                                    "UnitPrice": "7.46",
                                    "DENSE_RANK": "6",
                                    "RANK": "9",
                                    "ROW_NUMBER": "11",
                                    "MIN": "1"
                                },
                                {
                                    "OrderId": "6",
                                    "ProductId": "5",
                                    "Quantity": "1",
                                    "UnitPrice": "3.45",
                                    "DENSE_RANK": "6",
                                    "RANK": "9",
                                    "ROW_NUMBER": "12",
                                    "MIN": "1"
                                },
                                {
                                    "OrderId": "7",
                                    "ProductId": "3",
                                    "Quantity": "7",
                                    "UnitPrice": "9.17",
                                    "DENSE_RANK": "7",
                                    "RANK": "13",
                                    "ROW_NUMBER": "13",
                                    "MIN": "7"
                                },
                                {
                                    "OrderId": "8",
                                    "ProductId": "5",
                                    "Quantity": "2",
                                    "UnitPrice": "6.94",
                                    "DENSE_RANK": "8",
                                    "RANK": "14",
                                    "ROW_NUMBER": "14",
                                    "MIN": "2"
                                },
                                {
                                    "OrderId": "8",
                                    "ProductId": "8",
                                    "Quantity": "2",
                                    "UnitPrice": "8.59",
                                    "DENSE_RANK": "8",
                                    "RANK": "14",
                                    "ROW_NUMBER": "15",
                                    "MIN": "2"
                                },
                                {
                                    "OrderId": "9",
                                    "ProductId": "6",
                                    "Quantity": "5",
                                    "UnitPrice": "7.28",
                                    "DENSE_RANK": "9",
                                    "RANK": "16",
                                    "ROW_NUMBER": "16",
                                    "MIN": "5"
                                },
                                {
                                    "OrderId": "10",
                                    "ProductId": "1",
                                    "Quantity": "10",
                                    "UnitPrice": "6.01",
                                    "DENSE_RANK": "10",
                                    "RANK": "17",
                                    "ROW_NUMBER": "17",
                                    "MIN": "9"
                                },
                                {
                                    "OrderId": "10",
                                    "ProductId": "9",
                                    "Quantity": "9",
                                    "UnitPrice": "4.28",
                                    "DENSE_RANK": "10",
                                    "RANK": "17",
                                    "ROW_NUMBER": "18",
                                    "MIN": "9"
                                }
                            ]
                        },
                        "text/html": [
                            "<table>",
                            "<tr><th>OrderId</th><th>ProductId</th><th>Quantity</th><th>UnitPrice</th><th>DENSE_RANK</th><th>RANK</th><th>ROW_NUMBER</th><th>MIN</th></tr>",
                            "<tr><td>1</td><td>4</td><td>4</td><td>3.74</td><td>1</td><td>1</td><td>1</td><td>4</td></tr>",
                            "<tr><td>2</td><td>1</td><td>2</td><td>9.10</td><td>2</td><td>2</td><td>2</td><td>2</td></tr>",
                            "<tr><td>2</td><td>4</td><td>4</td><td>1.66</td><td>2</td><td>2</td><td>3</td><td>2</td></tr>",
                            "<tr><td>2</td><td>6</td><td>2</td><td>2.94</td><td>2</td><td>2</td><td>4</td><td>2</td></tr>",
                            "<tr><td>3</td><td>3</td><td>10</td><td>9.12</td><td>3</td><td>5</td><td>5</td><td>10</td></tr>",
                            "<tr><td>4</td><td>3</td><td>7</td><td>6.99</td><td>4</td><td>6</td><td>6</td><td>7</td></tr>",
                            "<tr><td>4</td><td>10</td><td>7</td><td>6.40</td><td>4</td><td>6</td><td>7</td><td>7</td></tr>",
                            "<tr><td>5</td><td>2</td><td>3</td><td>9.89</td><td>5</td><td>8</td><td>8</td><td>3</td></tr>",
                            "<tr><td>6</td><td>1</td><td>4</td><td>8.65</td><td>6</td><td>9</td><td>9</td><td>1</td></tr>",
                            "<tr><td>6</td><td>2</td><td>4</td><td>3.28</td><td>6</td><td>9</td><td>10</td><td>1</td></tr>",
                            "<tr><td>6</td><td>3</td><td>4</td><td>7.46</td><td>6</td><td>9</td><td>11</td><td>1</td></tr>",
                            "<tr><td>6</td><td>5</td><td>1</td><td>3.45</td><td>6</td><td>9</td><td>12</td><td>1</td></tr>",
                            "<tr><td>7</td><td>3</td><td>7</td><td>9.17</td><td>7</td><td>13</td><td>13</td><td>7</td></tr>",
                            "<tr><td>8</td><td>5</td><td>2</td><td>6.94</td><td>8</td><td>14</td><td>14</td><td>2</td></tr>",
                            "<tr><td>8</td><td>8</td><td>2</td><td>8.59</td><td>8</td><td>14</td><td>15</td><td>2</td></tr>",
                            "<tr><td>9</td><td>6</td><td>5</td><td>7.28</td><td>9</td><td>16</td><td>16</td><td>5</td></tr>",
                            "<tr><td>10</td><td>1</td><td>10</td><td>6.01</td><td>10</td><td>17</td><td>17</td><td>9</td></tr>",
                            "<tr><td>10</td><td>9</td><td>9</td><td>4.28</td><td>10</td><td>17</td><td>18</td><td>9</td></tr>",
                            "</table>"
                        ]
                    }
                }
            ],
            "execution_count": 2
        },
        {
            "cell_type": "code",
            "source": [
                "-- Aggregate Window Functions\n",
                "SELECT *, \n",
                " SUM(Quantity) OVER (PARTITION BY OrderId ) as OrderTotCount,\n",
                " AVG(Quantity) OVER (PARTITION BY OrderId ) as OrderAVGCount,\n",
                " MIN(Quantity) OVER (PARTITION BY OrderId ) as OrderMINCount,\n",
                " MAX(Quantity) OVER (PARTITION BY OrderId ) as OrderMAXCount,\n",
                " COUNT(Quantity) OVER (PARTITION BY OrderId ) as OrderItemCount\n",
                "FROM OrderItems"
            ],
            "metadata": {
                "azdata_cell_guid": "728719a9-3c30-4553-a723-13b68ebbf52f",
                "language": "sql"
            },
            "outputs": [
                {
                    "output_type": "display_data",
                    "data": {
                        "text/html": "(18 rows affected)"
                    },
                    "metadata": {}
                },
                {
                    "output_type": "display_data",
                    "data": {
                        "text/html": "Total execution time: 00:00:00.007"
                    },
                    "metadata": {}
                },
                {
                    "output_type": "execute_result",
                    "metadata": {},
                    "execution_count": 3,
                    "data": {
                        "application/vnd.dataresource+json": {
                            "schema": {
                                "fields": [
                                    {
                                        "name": "OrderId"
                                    },
                                    {
                                        "name": "ProductId"
                                    },
                                    {
                                        "name": "Quantity"
                                    },
                                    {
                                        "name": "UnitPrice"
                                    },
                                    {
                                        "name": "OrderTotCount"
                                    },
                                    {
                                        "name": "OrderAVGCount"
                                    },
                                    {
                                        "name": "OrderMINCount"
                                    },
                                    {
                                        "name": "OrderMAXCount"
                                    },
                                    {
                                        "name": "OrderItemCount"
                                    }
                                ]
                            },
                            "data": [
                                {
                                    "OrderId": "1",
                                    "ProductId": "4",
                                    "Quantity": "4",
                                    "UnitPrice": "3.74",
                                    "OrderTotCount": "4",
                                    "OrderAVGCount": "4",
                                    "OrderMINCount": "4",
                                    "OrderMAXCount": "4",
                                    "OrderItemCount": "1"
                                },
                                {
                                    "OrderId": "2",
                                    "ProductId": "1",
                                    "Quantity": "2",
                                    "UnitPrice": "9.10",
                                    "OrderTotCount": "8",
                                    "OrderAVGCount": "2",
                                    "OrderMINCount": "2",
                                    "OrderMAXCount": "4",
                                    "OrderItemCount": "3"
                                },
                                {
                                    "OrderId": "2",
                                    "ProductId": "4",
                                    "Quantity": "4",
                                    "UnitPrice": "1.66",
                                    "OrderTotCount": "8",
                                    "OrderAVGCount": "2",
                                    "OrderMINCount": "2",
                                    "OrderMAXCount": "4",
                                    "OrderItemCount": "3"
                                },
                                {
                                    "OrderId": "2",
                                    "ProductId": "6",
                                    "Quantity": "2",
                                    "UnitPrice": "2.94",
                                    "OrderTotCount": "8",
                                    "OrderAVGCount": "2",
                                    "OrderMINCount": "2",
                                    "OrderMAXCount": "4",
                                    "OrderItemCount": "3"
                                },
                                {
                                    "OrderId": "3",
                                    "ProductId": "3",
                                    "Quantity": "10",
                                    "UnitPrice": "9.12",
                                    "OrderTotCount": "10",
                                    "OrderAVGCount": "10",
                                    "OrderMINCount": "10",
                                    "OrderMAXCount": "10",
                                    "OrderItemCount": "1"
                                },
                                {
                                    "OrderId": "4",
                                    "ProductId": "3",
                                    "Quantity": "7",
                                    "UnitPrice": "6.99",
                                    "OrderTotCount": "14",
                                    "OrderAVGCount": "7",
                                    "OrderMINCount": "7",
                                    "OrderMAXCount": "7",
                                    "OrderItemCount": "2"
                                },
                                {
                                    "OrderId": "4",
                                    "ProductId": "10",
                                    "Quantity": "7",
                                    "UnitPrice": "6.40",
                                    "OrderTotCount": "14",
                                    "OrderAVGCount": "7",
                                    "OrderMINCount": "7",
                                    "OrderMAXCount": "7",
                                    "OrderItemCount": "2"
                                },
                                {
                                    "OrderId": "5",
                                    "ProductId": "2",
                                    "Quantity": "3",
                                    "UnitPrice": "9.89",
                                    "OrderTotCount": "3",
                                    "OrderAVGCount": "3",
                                    "OrderMINCount": "3",
                                    "OrderMAXCount": "3",
                                    "OrderItemCount": "1"
                                },
                                {
                                    "OrderId": "6",
                                    "ProductId": "1",
                                    "Quantity": "4",
                                    "UnitPrice": "8.65",
                                    "OrderTotCount": "13",
                                    "OrderAVGCount": "3",
                                    "OrderMINCount": "1",
                                    "OrderMAXCount": "4",
                                    "OrderItemCount": "4"
                                },
                                {
                                    "OrderId": "6",
                                    "ProductId": "2",
                                    "Quantity": "4",
                                    "UnitPrice": "3.28",
                                    "OrderTotCount": "13",
                                    "OrderAVGCount": "3",
                                    "OrderMINCount": "1",
                                    "OrderMAXCount": "4",
                                    "OrderItemCount": "4"
                                },
                                {
                                    "OrderId": "6",
                                    "ProductId": "3",
                                    "Quantity": "4",
                                    "UnitPrice": "7.46",
                                    "OrderTotCount": "13",
                                    "OrderAVGCount": "3",
                                    "OrderMINCount": "1",
                                    "OrderMAXCount": "4",
                                    "OrderItemCount": "4"
                                },
                                {
                                    "OrderId": "6",
                                    "ProductId": "5",
                                    "Quantity": "1",
                                    "UnitPrice": "3.45",
                                    "OrderTotCount": "13",
                                    "OrderAVGCount": "3",
                                    "OrderMINCount": "1",
                                    "OrderMAXCount": "4",
                                    "OrderItemCount": "4"
                                },
                                {
                                    "OrderId": "7",
                                    "ProductId": "3",
                                    "Quantity": "7",
                                    "UnitPrice": "9.17",
                                    "OrderTotCount": "7",
                                    "OrderAVGCount": "7",
                                    "OrderMINCount": "7",
                                    "OrderMAXCount": "7",
                                    "OrderItemCount": "1"
                                },
                                {
                                    "OrderId": "8",
                                    "ProductId": "5",
                                    "Quantity": "2",
                                    "UnitPrice": "6.94",
                                    "OrderTotCount": "4",
                                    "OrderAVGCount": "2",
                                    "OrderMINCount": "2",
                                    "OrderMAXCount": "2",
                                    "OrderItemCount": "2"
                                },
                                {
                                    "OrderId": "8",
                                    "ProductId": "8",
                                    "Quantity": "2",
                                    "UnitPrice": "8.59",
                                    "OrderTotCount": "4",
                                    "OrderAVGCount": "2",
                                    "OrderMINCount": "2",
                                    "OrderMAXCount": "2",
                                    "OrderItemCount": "2"
                                },
                                {
                                    "OrderId": "9",
                                    "ProductId": "6",
                                    "Quantity": "5",
                                    "UnitPrice": "7.28",
                                    "OrderTotCount": "5",
                                    "OrderAVGCount": "5",
                                    "OrderMINCount": "5",
                                    "OrderMAXCount": "5",
                                    "OrderItemCount": "1"
                                },
                                {
                                    "OrderId": "10",
                                    "ProductId": "1",
                                    "Quantity": "10",
                                    "UnitPrice": "6.01",
                                    "OrderTotCount": "19",
                                    "OrderAVGCount": "9",
                                    "OrderMINCount": "9",
                                    "OrderMAXCount": "10",
                                    "OrderItemCount": "2"
                                },
                                {
                                    "OrderId": "10",
                                    "ProductId": "9",
                                    "Quantity": "9",
                                    "UnitPrice": "4.28",
                                    "OrderTotCount": "19",
                                    "OrderAVGCount": "9",
                                    "OrderMINCount": "9",
                                    "OrderMAXCount": "10",
                                    "OrderItemCount": "2"
                                }
                            ]
                        },
                        "text/html": [
                            "<table>",
                            "<tr><th>OrderId</th><th>ProductId</th><th>Quantity</th><th>UnitPrice</th><th>OrderTotCount</th><th>OrderAVGCount</th><th>OrderMINCount</th><th>OrderMAXCount</th><th>OrderItemCount</th></tr>",
                            "<tr><td>1</td><td>4</td><td>4</td><td>3.74</td><td>4</td><td>4</td><td>4</td><td>4</td><td>1</td></tr>",
                            "<tr><td>2</td><td>1</td><td>2</td><td>9.10</td><td>8</td><td>2</td><td>2</td><td>4</td><td>3</td></tr>",
                            "<tr><td>2</td><td>4</td><td>4</td><td>1.66</td><td>8</td><td>2</td><td>2</td><td>4</td><td>3</td></tr>",
                            "<tr><td>2</td><td>6</td><td>2</td><td>2.94</td><td>8</td><td>2</td><td>2</td><td>4</td><td>3</td></tr>",
                            "<tr><td>3</td><td>3</td><td>10</td><td>9.12</td><td>10</td><td>10</td><td>10</td><td>10</td><td>1</td></tr>",
                            "<tr><td>4</td><td>3</td><td>7</td><td>6.99</td><td>14</td><td>7</td><td>7</td><td>7</td><td>2</td></tr>",
                            "<tr><td>4</td><td>10</td><td>7</td><td>6.40</td><td>14</td><td>7</td><td>7</td><td>7</td><td>2</td></tr>",
                            "<tr><td>5</td><td>2</td><td>3</td><td>9.89</td><td>3</td><td>3</td><td>3</td><td>3</td><td>1</td></tr>",
                            "<tr><td>6</td><td>1</td><td>4</td><td>8.65</td><td>13</td><td>3</td><td>1</td><td>4</td><td>4</td></tr>",
                            "<tr><td>6</td><td>2</td><td>4</td><td>3.28</td><td>13</td><td>3</td><td>1</td><td>4</td><td>4</td></tr>",
                            "<tr><td>6</td><td>3</td><td>4</td><td>7.46</td><td>13</td><td>3</td><td>1</td><td>4</td><td>4</td></tr>",
                            "<tr><td>6</td><td>5</td><td>1</td><td>3.45</td><td>13</td><td>3</td><td>1</td><td>4</td><td>4</td></tr>",
                            "<tr><td>7</td><td>3</td><td>7</td><td>9.17</td><td>7</td><td>7</td><td>7</td><td>7</td><td>1</td></tr>",
                            "<tr><td>8</td><td>5</td><td>2</td><td>6.94</td><td>4</td><td>2</td><td>2</td><td>2</td><td>2</td></tr>",
                            "<tr><td>8</td><td>8</td><td>2</td><td>8.59</td><td>4</td><td>2</td><td>2</td><td>2</td><td>2</td></tr>",
                            "<tr><td>9</td><td>6</td><td>5</td><td>7.28</td><td>5</td><td>5</td><td>5</td><td>5</td><td>1</td></tr>",
                            "<tr><td>10</td><td>1</td><td>10</td><td>6.01</td><td>19</td><td>9</td><td>9</td><td>10</td><td>2</td></tr>",
                            "<tr><td>10</td><td>9</td><td>9</td><td>4.28</td><td>19</td><td>9</td><td>9</td><td>10</td><td>2</td></tr>",
                            "</table>"
                        ]
                    }
                }
            ],
            "execution_count": 3
        },
        {
            "cell_type": "code",
            "source": [
                "-- Offset Window Functions\n",
                "-- Check the results for CustomerID 6 to understand\n",
                "\n",
                "SELECT *,\n",
                "LAG(Status, 1, 0) OVER (PARTITION BY CustomerId ORDER BY OrderId) AS PreviousOrderStatus,\n",
                "LEAD(Status, 1, -1) OVER (PARTITION BY CustomerId ORDER BY OrderId) AS NextOrderStatus,\n",
                "FIRST_VALUE(Status) OVER (PARTITION BY CustomerId ORDER BY OrderId) AS FirstOrderStatus,\n",
                "LAST_VALUE(Status) OVER (PARTITION BY CustomerId ORDER BY OrderId) AS LastOrderStatus\n",
                " FROM Orders"
            ],
            "metadata": {
                "azdata_cell_guid": "98733ad5-ea69-4326-86e6-7eac135ddcf9",
                "language": "sql",
                "tags": []
            },
            "outputs": [
                {
                    "output_type": "display_data",
                    "data": {
                        "text/html": "(11 rows affected)"
                    },
                    "metadata": {}
                },
                {
                    "output_type": "display_data",
                    "data": {
                        "text/html": "Total execution time: 00:00:00.020"
                    },
                    "metadata": {}
                },
                {
                    "output_type": "execute_result",
                    "metadata": {},
                    "execution_count": 4,
                    "data": {
                        "application/vnd.dataresource+json": {
                            "schema": {
                                "fields": [
                                    {
                                        "name": "OrderID"
                                    },
                                    {
                                        "name": "CustomerId"
                                    },
                                    {
                                        "name": "OrderDate"
                                    },
                                    {
                                        "name": "Status"
                                    },
                                    {
                                        "name": "comments"
                                    },
                                    {
                                        "name": "ShippedDate"
                                    },
                                    {
                                        "name": "ShipperId"
                                    },
                                    {
                                        "name": "PreviousOrderStatus"
                                    },
                                    {
                                        "name": "NextOrderStatus"
                                    },
                                    {
                                        "name": "FirstOrderStatus"
                                    },
                                    {
                                        "name": "LastOrderStatus"
                                    }
                                ]
                            },
                            "data": [
                                {
                                    "OrderID": "4",
                                    "CustomerId": "2",
                                    "OrderDate": "2017-01-22",
                                    "Status": "1",
                                    "comments": "NULL",
                                    "ShippedDate": "NULL",
                                    "ShipperId": "NULL",
                                    "PreviousOrderStatus": "0",
                                    "NextOrderStatus": "2",
                                    "FirstOrderStatus": "1",
                                    "LastOrderStatus": "1"
                                },
                                {
                                    "OrderID": "7",
                                    "CustomerId": "2",
                                    "OrderDate": "2018-09-22",
                                    "Status": "2",
                                    "comments": "NULL",
                                    "ShippedDate": "2018-09-23",
                                    "ShipperId": "4",
                                    "PreviousOrderStatus": "1",
                                    "NextOrderStatus": "-1",
                                    "FirstOrderStatus": "1",
                                    "LastOrderStatus": "2"
                                },
                                {
                                    "OrderID": "5",
                                    "CustomerId": "5",
                                    "OrderDate": "2017-08-25",
                                    "Status": "2",
                                    "comments": "",
                                    "ShippedDate": "2017-08-26",
                                    "ShipperId": "3",
                                    "PreviousOrderStatus": "0",
                                    "NextOrderStatus": "1",
                                    "FirstOrderStatus": "2",
                                    "LastOrderStatus": "2"
                                },
                                {
                                    "OrderID": "8",
                                    "CustomerId": "5",
                                    "OrderDate": "2018-06-08",
                                    "Status": "1",
                                    "comments": "Mauris enim leo, rhoncus sed, vestibulum sit amet, cursus id, turpis.",
                                    "ShippedDate": "NULL",
                                    "ShipperId": "NULL",
                                    "PreviousOrderStatus": "2",
                                    "NextOrderStatus": "-1",
                                    "FirstOrderStatus": "2",
                                    "LastOrderStatus": "1"
                                },
                                {
                                    "OrderID": "1",
                                    "CustomerId": "6",
                                    "OrderDate": "2019-01-30",
                                    "Status": "1",
                                    "comments": "NULL",
                                    "ShippedDate": "NULL",
                                    "ShipperId": "NULL",
                                    "PreviousOrderStatus": "0",
                                    "NextOrderStatus": "2",
                                    "FirstOrderStatus": "1",
                                    "LastOrderStatus": "1"
                                },
                                {
                                    "OrderID": "10",
                                    "CustomerId": "6",
                                    "OrderDate": "2018-04-22",
                                    "Status": "2",
                                    "comments": "NULL",
                                    "ShippedDate": "2018-04-23",
                                    "ShipperId": "2",
                                    "PreviousOrderStatus": "1",
                                    "NextOrderStatus": "2",
                                    "FirstOrderStatus": "1",
                                    "LastOrderStatus": "2"
                                },
                                {
                                    "OrderID": "11",
                                    "CustomerId": "6",
                                    "OrderDate": "2025-03-01",
                                    "Status": "2",
                                    "comments": "NULL",
                                    "ShippedDate": "2025-03-01",
                                    "ShipperId": "2",
                                    "PreviousOrderStatus": "2",
                                    "NextOrderStatus": "-1",
                                    "FirstOrderStatus": "1",
                                    "LastOrderStatus": "2"
                                },
                                {
                                    "OrderID": "2",
                                    "CustomerId": "7",
                                    "OrderDate": "2018-08-02",
                                    "Status": "2",
                                    "comments": "NULL",
                                    "ShippedDate": "2018-08-03",
                                    "ShipperId": "4",
                                    "PreviousOrderStatus": "0",
                                    "NextOrderStatus": "-1",
                                    "FirstOrderStatus": "2",
                                    "LastOrderStatus": "2"
                                },
                                {
                                    "OrderID": "3",
                                    "CustomerId": "8",
                                    "OrderDate": "2017-12-01",
                                    "Status": "1",
                                    "comments": "NULL",
                                    "ShippedDate": "NULL",
                                    "ShipperId": "NULL",
                                    "PreviousOrderStatus": "0",
                                    "NextOrderStatus": "-1",
                                    "FirstOrderStatus": "1",
                                    "LastOrderStatus": "1"
                                },
                                {
                                    "OrderID": "6",
                                    "CustomerId": "10",
                                    "OrderDate": "2018-11-18",
                                    "Status": "1",
                                    "comments": "Aliquam erat volutpat. In congue.",
                                    "ShippedDate": "NULL",
                                    "ShipperId": "NULL",
                                    "PreviousOrderStatus": "0",
                                    "NextOrderStatus": "2",
                                    "FirstOrderStatus": "1",
                                    "LastOrderStatus": "1"
                                },
                                {
                                    "OrderID": "9",
                                    "CustomerId": "10",
                                    "OrderDate": "2017-07-05",
                                    "Status": "2",
                                    "comments": "Nulla mollis molestie lorem. Quisque ut erat.",
                                    "ShippedDate": "2017-07-06",
                                    "ShipperId": "1",
                                    "PreviousOrderStatus": "1",
                                    "NextOrderStatus": "-1",
                                    "FirstOrderStatus": "1",
                                    "LastOrderStatus": "2"
                                }
                            ]
                        },
                        "text/html": [
                            "<table>",
                            "<tr><th>OrderID</th><th>CustomerId</th><th>OrderDate</th><th>Status</th><th>comments</th><th>ShippedDate</th><th>ShipperId</th><th>PreviousOrderStatus</th><th>NextOrderStatus</th><th>FirstOrderStatus</th><th>LastOrderStatus</th></tr>",
                            "<tr><td>4</td><td>2</td><td>2017-01-22</td><td>1</td><td>NULL</td><td>NULL</td><td>NULL</td><td>0</td><td>2</td><td>1</td><td>1</td></tr>",
                            "<tr><td>7</td><td>2</td><td>2018-09-22</td><td>2</td><td>NULL</td><td>2018-09-23</td><td>4</td><td>1</td><td>-1</td><td>1</td><td>2</td></tr>",
                            "<tr><td>5</td><td>5</td><td>2017-08-25</td><td>2</td><td></td><td>2017-08-26</td><td>3</td><td>0</td><td>1</td><td>2</td><td>2</td></tr>",
                            "<tr><td>8</td><td>5</td><td>2018-06-08</td><td>1</td><td>Mauris enim leo, rhoncus sed, vestibulum sit amet, cursus id, turpis.</td><td>NULL</td><td>NULL</td><td>2</td><td>-1</td><td>2</td><td>1</td></tr>",
                            "<tr><td>1</td><td>6</td><td>2019-01-30</td><td>1</td><td>NULL</td><td>NULL</td><td>NULL</td><td>0</td><td>2</td><td>1</td><td>1</td></tr>",
                            "<tr><td>10</td><td>6</td><td>2018-04-22</td><td>2</td><td>NULL</td><td>2018-04-23</td><td>2</td><td>1</td><td>2</td><td>1</td><td>2</td></tr>",
                            "<tr><td>11</td><td>6</td><td>2025-03-01</td><td>2</td><td>NULL</td><td>2025-03-01</td><td>2</td><td>2</td><td>-1</td><td>1</td><td>2</td></tr>",
                            "<tr><td>2</td><td>7</td><td>2018-08-02</td><td>2</td><td>NULL</td><td>2018-08-03</td><td>4</td><td>0</td><td>-1</td><td>2</td><td>2</td></tr>",
                            "<tr><td>3</td><td>8</td><td>2017-12-01</td><td>1</td><td>NULL</td><td>NULL</td><td>NULL</td><td>0</td><td>-1</td><td>1</td><td>1</td></tr>",
                            "<tr><td>6</td><td>10</td><td>2018-11-18</td><td>1</td><td>Aliquam erat volutpat. In congue.</td><td>NULL</td><td>NULL</td><td>0</td><td>2</td><td>1</td><td>1</td></tr>",
                            "<tr><td>9</td><td>10</td><td>2017-07-05</td><td>2</td><td>Nulla mollis molestie lorem. Quisque ut erat.</td><td>2017-07-06</td><td>1</td><td>1</td><td>-1</td><td>1</td><td>2</td></tr>",
                            "</table>"
                        ]
                    }
                }
            ],
            "execution_count": 4
        }
    ]
}