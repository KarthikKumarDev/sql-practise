{
    "metadata": {
        "kernelspec": {
            "name": "SQL",
            "display_name": "SQL",
            "language": "sql"
        },
        "language_info": {
            "name": "sql",
            "version": ""
        }
    },
    "nbformat_minor": 2,
    "nbformat": 4,
    "cells": [
        {
            "cell_type": "code",
            "source": [
                "-- docker run -e \"ACCEPT_EULA=1\" -e \"MSSQL_SA_PASSWORD=Sql@1234\" -e \"MSSQL_PID=Developer\" -e \"MSSQL_USER=SA\" -p 1433:1433 -d --name=sql mcr.microsoft.com/azure-sql-edge\n",
                "-- Init\n",
                "DROP DATABASE IF EXISTS store;\n",
                "CREATE DATABASE store;"
            ],
            "metadata": {
                "azdata_cell_guid": "4fc84e69-06a8-41b1-9b38-278ef6e82061",
                "tags": [],
                "language": "sql"
            },
            "outputs": [
                {
                    "output_type": "error",
                    "evalue": "Msg 3702, Level 16, State 3, Line 3\nCannot drop database \"store\" because it is currently in use.",
                    "ename": "",
                    "traceback": []
                },
                {
                    "output_type": "error",
                    "evalue": "Msg 1801, Level 16, State 3, Line 4\nDatabase 'store' already exists. Choose a different database name.",
                    "ename": "",
                    "traceback": []
                },
                {
                    "output_type": "display_data",
                    "data": {
                        "text/html": "Total execution time: 00:00:00.011"
                    },
                    "metadata": {}
                }
            ],
            "execution_count": 3
        },
        {
            "cell_type": "code",
            "source": [
                "-- Init Data\n",
                "USE store;\n",
                "\n",
                "IF OBJECT_ID('Products', 'U') IS NULL\n",
                "BEGIN\n",
                "    CREATE TABLE Products\n",
                "    (\n",
                "        ProductId int NOT NULL PRIMARY KEY IDENTITY(1,1),\n",
                "        Name varchar(50) NOT NULL,\n",
                "        QuantityInStock int NOT NULL,\n",
                "        UnitPrice decimal(4,2) NOT NULL\n",
                "    );\n",
                "\n",
                "    -- Insert Data into Products\n",
                "    INSERT INTO  Products  VALUES ('Foam Dinner Plate',70,1.21);\n",
                "    INSERT INTO  Products  VALUES ('Pork - Bacon,back Peameal',49,4.65);\n",
                "    INSERT INTO  Products  VALUES ('Lettuce - Romaine, Heart',38,3.35);\n",
                "    INSERT INTO  Products  VALUES ('Brocolinni - Gaylan, Chinese',90,4.53);\n",
                "    INSERT INTO  Products  VALUES ('Sauce - Ranch Dressing',94,1.63);\n",
                "    INSERT INTO  Products  VALUES ('Petit Baguette',14,2.39);\n",
                "    INSERT INTO  Products  VALUES ('Sweet Pea Sprouts',98,3.29);\n",
                "    INSERT INTO  Products  VALUES ('Island Oasis - Raspberry',26,0.74);\n",
                "    INSERT INTO  Products  VALUES ('Longan',67,2.26);\n",
                "    INSERT INTO  Products  VALUES ('Broom - Push',6,1.09);\n",
                "\n",
                "END\n",
                "\n",
                "IF OBJECT_ID('Shippers', 'U') IS NULL\n",
                "BEGIN\n",
                "    CREATE TABLE Shippers\n",
                "    (\n",
                "        ShipperId int NOT NULL PRIMARY KEY IDENTITY(1,1),\n",
                "        name varchar (50) NOT NULL,\n",
                "    );\n",
                "    INSERT INTO Shippers VALUES ('Hettinger LLC');\n",
                "    INSERT INTO  Shippers VALUES ('Schinner-Predovic');\n",
                "    INSERT INTO  Shippers VALUES ('Satterfield LLC');\n",
                "    INSERT INTO  Shippers VALUES ('Mraz, Renner and Nolan');\n",
                "    INSERT INTO  Shippers VALUES ('Waters, Mayert and Prohaska');\n",
                "END\n",
                "\n",
                "\n",
                "IF OBJECT_ID('Customers', 'U') IS NULL\n",
                "BEGIN\n",
                "    CREATE TABLE Customers\n",
                "    (\n",
                "        CustomerId int NOT NULL PRIMARY KEY IDENTITY(1,1),\n",
                "        FirstName varchar (50) NOT NULL,\n",
                "        LastName varchar (50) NOT NULL,\n",
                "        BirthDate date DEFAULT NULL,\n",
                "        Phone varchar (50) DEFAULT NULL,\n",
                "        Address varchar (50) NOT NULL,\n",
                "        City varchar (50) NOT NULL,\n",
                "        State char (2) NOT NULL,\n",
                "        Points int NOT NULL DEFAULT '0',\n",
                "    );\n",
                "\n",
                "    -- Insert Data into CUSTOMERS\n",
                "    INSERT INTO  CUSTOMERS  VALUES ('Babara','MacCaffrey','1986-03-28','781-932-9754','0 Sage Terrace','Waltham','MA',2273);\n",
                "    INSERT INTO  CUSTOMERS  VALUES ('Ines','Brushfield','1986-04-13','804-427-9456','14187 Commercial Trail','Hampton','VA',947);\n",
                "    INSERT INTO  CUSTOMERS  VALUES ('Freddi','Boagey','1985-02-07','719-724-7869','251 Springs Junction','Colorado Springs','CO',2967);\n",
                "    INSERT INTO  CUSTOMERS  VALUES ('Ambur','Roseburgh','1974-04-14','407-231-8017','30 Arapahoe Terrace','Orlando','FL',457);\n",
                "    INSERT INTO  CUSTOMERS  VALUES ('Clemmie','Betchley','1973-11-07',NULL,'5 Spohn Circle','Arlington','TX',3675);\n",
                "    INSERT INTO  CUSTOMERS  VALUES ('Elka','Twiddell','1991-09-04','312-480-8498','7 Manley Drive','Chicago','IL',3073);\n",
                "    INSERT INTO  CUSTOMERS  VALUES ('Ilene','Dowson','1964-08-30','615-641-4759','50 Lillian Crossing','Nashville','TN',1672);\n",
                "    INSERT INTO  CUSTOMERS  VALUES ('Thacher','Naseby','1993-07-17','941-527-3977','538 Mosinee Center','Sarasota','FL',205);\n",
                "    INSERT INTO  CUSTOMERS  VALUES ('Romola','Rumgay','1992-05-23','559-181-3744','3520 Ohio Trail','Visalia','CA',1486);\n",
                "    INSERT INTO  CUSTOMERS  VALUES ('Levy','Mynett','1969-10-13','404-246-3370','68 Lawn Avenue','Atlanta','GA',796);\n",
                "END\n",
                "\n",
                "IF OBJECT_ID('OrderStatuses', 'U') IS NULL\n",
                "BEGIN\n",
                "    CREATE TABLE OrderStatuses\n",
                "    (\n",
                "    OrderStatusesID  int NOT NULL PRIMARY KEY,\n",
                "    name  varchar(50) NOT NULL\n",
                "    );\n",
                "    -- Insert Data into Order Status\n",
                "    INSERT INTO  OrderStatuses  VALUES (1,'Processed');\n",
                "    INSERT INTO  OrderStatuses  VALUES (2,'Shipped');\n",
                "    INSERT INTO  OrderStatuses  VALUES (3,'Delivered');\n",
                "END\n",
                "\n",
                "IF OBJECT_ID('Orders', 'U') IS NULL\n",
                "BEGIN\n",
                "    CREATE TABLE Orders\n",
                "    (\n",
                "    OrderID  int NOT NULL PRIMARY KEY IDENTITY(1,1),\n",
                "    CustomerId  int NOT NULL FOREIGN KEY REFERENCES Customers(CustomerId) ON UPDATE CASCADE,\n",
                "    OrderDate  date NOT NULL,\n",
                "    Status  int NOT NULL DEFAULT '1' FOREIGN KEY REFERENCES OrderStatuses(OrderStatusesID) ON UPDATE CASCADE,\n",
                "    comments  varchar(2000) DEFAULT NULL,\n",
                "    ShippedDate  date DEFAULT NULL,\n",
                "    ShipperId  int DEFAULT NULL FOREIGN KEY REFERENCES Shippers(ShipperId) ON UPDATE CASCADE,\n",
                "    );\n",
                "    -- Insert Data into Orders\n",
                "    INSERT INTO  Orders  VALUES (6,'2019-01-30',1,NULL,NULL,NULL);\n",
                "    INSERT INTO  Orders  VALUES (7,'2018-08-02',2,NULL,'2018-08-03',4);\n",
                "    INSERT INTO  Orders  VALUES (8,'2017-12-01',1,NULL,NULL,NULL);\n",
                "    INSERT INTO  Orders  VALUES (2,'2017-01-22',1,NULL,NULL,NULL);\n",
                "    INSERT INTO  Orders  VALUES (5,'2017-08-25',2,'','2017-08-26',3);\n",
                "    INSERT INTO  Orders  VALUES (10,'2018-11-18',1,'Aliquam erat volutpat. In congue.',NULL,NULL);\n",
                "    INSERT INTO  Orders  VALUES (2,'2018-09-22',2,NULL,'2018-09-23',4);\n",
                "    INSERT INTO  Orders  VALUES (5,'2018-06-08',1,'Mauris enim leo, rhoncus sed, vestibulum sit amet, cursus id, turpis.',NULL,NULL);\n",
                "    INSERT INTO  Orders  VALUES (10,'2017-07-05',2,'Nulla mollis molestie lorem. Quisque ut erat.','2017-07-06',1);\n",
                "    INSERT INTO  Orders  VALUES (6,'2018-04-22',2,NULL,'2018-04-23',2);\n",
                "    INSERT INTO  Orders  VALUES (6,'2025-03-01',2,NULL,'2025-03-01',2);\n",
                "END\n",
                "\n",
                "\n",
                "IF OBJECT_ID('OrderItems', 'U') IS NULL\n",
                "BEGIN\n",
                "    CREATE TABLE OrderItems\n",
                "    (\n",
                "    OrderId  int NOT NULL FOREIGN KEY REFERENCES Orders(OrderID) ON UPDATE CASCADE,\n",
                "    ProductId  int NOT NULL FOREIGN KEY REFERENCES Products(ProductId) ON UPDATE CASCADE,\n",
                "    Quantity  int NOT NULL,\n",
                "    UnitPrice  decimal(4,2) NOT NULL,\n",
                "    PRIMARY KEY ( OrderId , ProductId ),\n",
                "    );\n",
                "    -- Insert Data into Order Items\n",
                "    INSERT INTO  OrderItems  VALUES (1,4,4,3.74);\n",
                "    INSERT INTO  OrderItems  VALUES (2,1,2,9.10);\n",
                "    INSERT INTO  OrderItems  VALUES (2,4,4,1.66);\n",
                "    INSERT INTO  OrderItems  VALUES (2,6,2,2.94);\n",
                "    INSERT INTO  OrderItems  VALUES (3,3,10,9.12);\n",
                "    INSERT INTO  OrderItems  VALUES (4,3,7,6.99);\n",
                "    INSERT INTO  OrderItems  VALUES (4,10,7,6.40);\n",
                "    INSERT INTO  OrderItems  VALUES (5,2,3,9.89);\n",
                "    INSERT INTO  OrderItems  VALUES (6,1,4,8.65);\n",
                "    INSERT INTO  OrderItems  VALUES (6,2,4,3.28);\n",
                "    INSERT INTO  OrderItems  VALUES (6,3,4,7.46);\n",
                "    INSERT INTO  OrderItems  VALUES (6,5,1,3.45);\n",
                "    INSERT INTO  OrderItems  VALUES (7,3,7,9.17);\n",
                "    INSERT INTO  OrderItems  VALUES (8,5,2,6.94);\n",
                "    INSERT INTO  OrderItems  VALUES (8,8,2,8.59);\n",
                "    INSERT INTO  OrderItems  VALUES (9,6,5,7.28);\n",
                "    INSERT INTO  OrderItems  VALUES (10,1,10,6.01);\n",
                "    INSERT INTO  OrderItems  VALUES (10,9,9,4.28);\n",
                "END\n",
                "\n",
                "IF OBJECT_ID('OrderItemNotes', 'U') IS NULL\n",
                "BEGIN\n",
                "    CREATE TABLE OrderItemNotes\n",
                "    (\n",
                "    NoteId  INT NOT NULL PRIMARY KEY,\n",
                "    OrderId  INT NOT NULL,\n",
                "    ProductId  INT NOT NULL,\n",
                "    Note  VARCHAR(255) NOT NULL,\n",
                "    );\n",
                "    -- Insert Data into Order Item Notes\n",
                "    INSERT INTO  OrderItemNotes VALUES ('1', '1', '2', 'first note');\n",
                "    INSERT INTO  OrderItemNotes VALUES ('2', '1', '2', 'second note');\n",
                "END\n",
                "\n",
                ""
            ],
            "metadata": {
                "azdata_cell_guid": "53699a69-222b-4b50-b764-feaeb0223f71",
                "tags": [],
                "language": "sql"
            },
            "outputs": [
                {
                    "output_type": "display_data",
                    "data": {
                        "text/html": "(1 row affected)"
                    },
                    "metadata": {}
                },
                {
                    "output_type": "display_data",
                    "data": {
                        "text/html": "(1 row affected)"
                    },
                    "metadata": {}
                },
                {
                    "output_type": "display_data",
                    "data": {
                        "text/html": "(1 row affected)"
                    },
                    "metadata": {}
                },
                {
                    "output_type": "display_data",
                    "data": {
                        "text/html": "(1 row affected)"
                    },
                    "metadata": {}
                },
                {
                    "output_type": "display_data",
                    "data": {
                        "text/html": "(1 row affected)"
                    },
                    "metadata": {}
                },
                {
                    "output_type": "display_data",
                    "data": {
                        "text/html": "(1 row affected)"
                    },
                    "metadata": {}
                },
                {
                    "output_type": "display_data",
                    "data": {
                        "text/html": "(1 row affected)"
                    },
                    "metadata": {}
                },
                {
                    "output_type": "display_data",
                    "data": {
                        "text/html": "(1 row affected)"
                    },
                    "metadata": {}
                },
                {
                    "output_type": "display_data",
                    "data": {
                        "text/html": "(1 row affected)"
                    },
                    "metadata": {}
                },
                {
                    "output_type": "display_data",
                    "data": {
                        "text/html": "(1 row affected)"
                    },
                    "metadata": {}
                },
                {
                    "output_type": "display_data",
                    "data": {
                        "text/html": "(1 row affected)"
                    },
                    "metadata": {}
                },
                {
                    "output_type": "display_data",
                    "data": {
                        "text/html": "(1 row affected)"
                    },
                    "metadata": {}
                },
                {
                    "output_type": "display_data",
                    "data": {
                        "text/html": "(1 row affected)"
                    },
                    "metadata": {}
                },
                {
                    "output_type": "display_data",
                    "data": {
                        "text/html": "(1 row affected)"
                    },
                    "metadata": {}
                },
                {
                    "output_type": "display_data",
                    "data": {
                        "text/html": "(1 row affected)"
                    },
                    "metadata": {}
                },
                {
                    "output_type": "display_data",
                    "data": {
                        "text/html": "(1 row affected)"
                    },
                    "metadata": {}
                },
                {
                    "output_type": "display_data",
                    "data": {
                        "text/html": "(1 row affected)"
                    },
                    "metadata": {}
                },
                {
                    "output_type": "display_data",
                    "data": {
                        "text/html": "(1 row affected)"
                    },
                    "metadata": {}
                },
                {
                    "output_type": "display_data",
                    "data": {
                        "text/html": "(1 row affected)"
                    },
                    "metadata": {}
                },
                {
                    "output_type": "display_data",
                    "data": {
                        "text/html": "(1 row affected)"
                    },
                    "metadata": {}
                },
                {
                    "output_type": "display_data",
                    "data": {
                        "text/html": "(1 row affected)"
                    },
                    "metadata": {}
                },
                {
                    "output_type": "display_data",
                    "data": {
                        "text/html": "(1 row affected)"
                    },
                    "metadata": {}
                },
                {
                    "output_type": "display_data",
                    "data": {
                        "text/html": "(1 row affected)"
                    },
                    "metadata": {}
                },
                {
                    "output_type": "display_data",
                    "data": {
                        "text/html": "(1 row affected)"
                    },
                    "metadata": {}
                },
                {
                    "output_type": "display_data",
                    "data": {
                        "text/html": "(1 row affected)"
                    },
                    "metadata": {}
                },
                {
                    "output_type": "display_data",
                    "data": {
                        "text/html": "(1 row affected)"
                    },
                    "metadata": {}
                },
                {
                    "output_type": "display_data",
                    "data": {
                        "text/html": "(1 row affected)"
                    },
                    "metadata": {}
                },
                {
                    "output_type": "display_data",
                    "data": {
                        "text/html": "(1 row affected)"
                    },
                    "metadata": {}
                },
                {
                    "output_type": "display_data",
                    "data": {
                        "text/html": "(1 row affected)"
                    },
                    "metadata": {}
                },
                {
                    "output_type": "display_data",
                    "data": {
                        "text/html": "(1 row affected)"
                    },
                    "metadata": {}
                },
                {
                    "output_type": "display_data",
                    "data": {
                        "text/html": "(1 row affected)"
                    },
                    "metadata": {}
                },
                {
                    "output_type": "display_data",
                    "data": {
                        "text/html": "(1 row affected)"
                    },
                    "metadata": {}
                },
                {
                    "output_type": "display_data",
                    "data": {
                        "text/html": "(1 row affected)"
                    },
                    "metadata": {}
                },
                {
                    "output_type": "display_data",
                    "data": {
                        "text/html": "(1 row affected)"
                    },
                    "metadata": {}
                },
                {
                    "output_type": "display_data",
                    "data": {
                        "text/html": "(1 row affected)"
                    },
                    "metadata": {}
                },
                {
                    "output_type": "display_data",
                    "data": {
                        "text/html": "(1 row affected)"
                    },
                    "metadata": {}
                },
                {
                    "output_type": "display_data",
                    "data": {
                        "text/html": "(1 row affected)"
                    },
                    "metadata": {}
                },
                {
                    "output_type": "display_data",
                    "data": {
                        "text/html": "(1 row affected)"
                    },
                    "metadata": {}
                },
                {
                    "output_type": "display_data",
                    "data": {
                        "text/html": "(1 row affected)"
                    },
                    "metadata": {}
                },
                {
                    "output_type": "display_data",
                    "data": {
                        "text/html": "(1 row affected)"
                    },
                    "metadata": {}
                },
                {
                    "output_type": "display_data",
                    "data": {
                        "text/html": "(1 row affected)"
                    },
                    "metadata": {}
                },
                {
                    "output_type": "display_data",
                    "data": {
                        "text/html": "(1 row affected)"
                    },
                    "metadata": {}
                },
                {
                    "output_type": "display_data",
                    "data": {
                        "text/html": "(1 row affected)"
                    },
                    "metadata": {}
                },
                {
                    "output_type": "display_data",
                    "data": {
                        "text/html": "(1 row affected)"
                    },
                    "metadata": {}
                },
                {
                    "output_type": "display_data",
                    "data": {
                        "text/html": "(1 row affected)"
                    },
                    "metadata": {}
                },
                {
                    "output_type": "display_data",
                    "data": {
                        "text/html": "(1 row affected)"
                    },
                    "metadata": {}
                },
                {
                    "output_type": "display_data",
                    "data": {
                        "text/html": "(1 row affected)"
                    },
                    "metadata": {}
                },
                {
                    "output_type": "display_data",
                    "data": {
                        "text/html": "(1 row affected)"
                    },
                    "metadata": {}
                },
                {
                    "output_type": "display_data",
                    "data": {
                        "text/html": "(1 row affected)"
                    },
                    "metadata": {}
                },
                {
                    "output_type": "display_data",
                    "data": {
                        "text/html": "(1 row affected)"
                    },
                    "metadata": {}
                },
                {
                    "output_type": "display_data",
                    "data": {
                        "text/html": "(1 row affected)"
                    },
                    "metadata": {}
                },
                {
                    "output_type": "display_data",
                    "data": {
                        "text/html": "(1 row affected)"
                    },
                    "metadata": {}
                },
                {
                    "output_type": "display_data",
                    "data": {
                        "text/html": "(1 row affected)"
                    },
                    "metadata": {}
                },
                {
                    "output_type": "display_data",
                    "data": {
                        "text/html": "(1 row affected)"
                    },
                    "metadata": {}
                },
                {
                    "output_type": "display_data",
                    "data": {
                        "text/html": "(1 row affected)"
                    },
                    "metadata": {}
                },
                {
                    "output_type": "display_data",
                    "data": {
                        "text/html": "(1 row affected)"
                    },
                    "metadata": {}
                },
                {
                    "output_type": "display_data",
                    "data": {
                        "text/html": "(1 row affected)"
                    },
                    "metadata": {}
                },
                {
                    "output_type": "display_data",
                    "data": {
                        "text/html": "(1 row affected)"
                    },
                    "metadata": {}
                },
                {
                    "output_type": "display_data",
                    "data": {
                        "text/html": "(1 row affected)"
                    },
                    "metadata": {}
                },
                {
                    "output_type": "display_data",
                    "data": {
                        "text/html": "Total execution time: 00:00:00.186"
                    },
                    "metadata": {}
                }
            ],
            "execution_count": 2
        }
    ]
}