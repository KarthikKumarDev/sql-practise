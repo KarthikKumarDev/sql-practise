{
    "metadata": {
        "kernelspec": {
            "name": "SQL",
            "display_name": "SQL",
            "language": "sql"
        },
        "language_info": {
            "name": "sql",
            "version": ""
        }
    },
    "nbformat_minor": 2,
    "nbformat": 4,
    "cells": [
        {
            "cell_type": "code",
            "source": [
                "-- Init\n",
                "-- Ensure Init StoreDB is run before to setup the Store DB\n",
                "\n",
                "USE Store;"
            ],
            "metadata": {
                "azdata_cell_guid": "1870631a-800e-480d-98d9-5c3631d0659e"
            },
            "outputs": [
                {
                    "output_type": "display_data",
                    "data": {
                        "text/html": "Commands completed successfully."
                    },
                    "metadata": {}
                },
                {
                    "output_type": "display_data",
                    "data": {
                        "text/html": "Total execution time: 00:00:00.003"
                    },
                    "metadata": {}
                }
            ],
            "execution_count": 1
        },
        {
            "cell_type": "code",
            "source": [
                "-- Inner Join \n",
                "SELECT * FROM Orders O JOIN Customers C ON O.CustomerId = C.CustomerId;"
            ],
            "metadata": {
                "azdata_cell_guid": "d1887907-de6e-4dd4-9305-08a22d4ac55e",
                "tags": []
            },
            "outputs": [
                {
                    "output_type": "display_data",
                    "data": {
                        "text/html": "(10 rows affected)"
                    },
                    "metadata": {}
                },
                {
                    "output_type": "display_data",
                    "data": {
                        "text/html": "Total execution time: 00:00:00.011"
                    },
                    "metadata": {}
                },
                {
                    "output_type": "execute_result",
                    "metadata": {},
                    "execution_count": 2,
                    "data": {
                        "application/vnd.dataresource+json": {
                            "schema": {
                                "fields": [
                                    {
                                        "name": "OrderID"
                                    },
                                    {
                                        "name": "CustomerId"
                                    },
                                    {
                                        "name": "OrderDate"
                                    },
                                    {
                                        "name": "Status"
                                    },
                                    {
                                        "name": "comments"
                                    },
                                    {
                                        "name": "ShippedDate"
                                    },
                                    {
                                        "name": "ShipperId"
                                    },
                                    {
                                        "name": "CustomerId"
                                    },
                                    {
                                        "name": "FirstName"
                                    },
                                    {
                                        "name": "LastName"
                                    },
                                    {
                                        "name": "BirthDate"
                                    },
                                    {
                                        "name": "Phone"
                                    },
                                    {
                                        "name": "Address"
                                    },
                                    {
                                        "name": "City"
                                    },
                                    {
                                        "name": "State"
                                    },
                                    {
                                        "name": "Points"
                                    }
                                ]
                            },
                            "data": [
                                {
                                    "0": "1",
                                    "1": "6",
                                    "2": "2019-01-30",
                                    "3": "1",
                                    "4": "NULL",
                                    "5": "NULL",
                                    "6": "NULL",
                                    "7": "6",
                                    "8": "Elka",
                                    "9": "Twiddell",
                                    "10": "1991-09-04",
                                    "11": "312-480-8498",
                                    "12": "7 Manley Drive",
                                    "13": "Chicago",
                                    "14": "IL",
                                    "15": "3073"
                                },
                                {
                                    "0": "2",
                                    "1": "7",
                                    "2": "2018-08-02",
                                    "3": "2",
                                    "4": "NULL",
                                    "5": "2018-08-03",
                                    "6": "4",
                                    "7": "7",
                                    "8": "Ilene",
                                    "9": "Dowson",
                                    "10": "1964-08-30",
                                    "11": "615-641-4759",
                                    "12": "50 Lillian Crossing",
                                    "13": "Nashville",
                                    "14": "TN",
                                    "15": "1672"
                                },
                                {
                                    "0": "3",
                                    "1": "8",
                                    "2": "2017-12-01",
                                    "3": "1",
                                    "4": "NULL",
                                    "5": "NULL",
                                    "6": "NULL",
                                    "7": "8",
                                    "8": "Thacher",
                                    "9": "Naseby",
                                    "10": "1993-07-17",
                                    "11": "941-527-3977",
                                    "12": "538 Mosinee Center",
                                    "13": "Sarasota",
                                    "14": "FL",
                                    "15": "205"
                                },
                                {
                                    "0": "4",
                                    "1": "2",
                                    "2": "2017-01-22",
                                    "3": "1",
                                    "4": "NULL",
                                    "5": "NULL",
                                    "6": "NULL",
                                    "7": "2",
                                    "8": "Ines",
                                    "9": "Brushfield",
                                    "10": "1986-04-13",
                                    "11": "804-427-9456",
                                    "12": "14187 Commercial Trail",
                                    "13": "Hampton",
                                    "14": "VA",
                                    "15": "947"
                                },
                                {
                                    "0": "5",
                                    "1": "5",
                                    "2": "2017-08-25",
                                    "3": "2",
                                    "4": "",
                                    "5": "2017-08-26",
                                    "6": "3",
                                    "7": "5",
                                    "8": "Clemmie",
                                    "9": "Betchley",
                                    "10": "1973-11-07",
                                    "11": "NULL",
                                    "12": "5 Spohn Circle",
                                    "13": "Arlington",
                                    "14": "TX",
                                    "15": "3675"
                                },
                                {
                                    "0": "6",
                                    "1": "10",
                                    "2": "2018-11-18",
                                    "3": "1",
                                    "4": "Aliquam erat volutpat. In congue.",
                                    "5": "NULL",
                                    "6": "NULL",
                                    "7": "10",
                                    "8": "Levy",
                                    "9": "Mynett",
                                    "10": "1969-10-13",
                                    "11": "404-246-3370",
                                    "12": "68 Lawn Avenue",
                                    "13": "Atlanta",
                                    "14": "GA",
                                    "15": "796"
                                },
                                {
                                    "0": "7",
                                    "1": "2",
                                    "2": "2018-09-22",
                                    "3": "2",
                                    "4": "NULL",
                                    "5": "2018-09-23",
                                    "6": "4",
                                    "7": "2",
                                    "8": "Ines",
                                    "9": "Brushfield",
                                    "10": "1986-04-13",
                                    "11": "804-427-9456",
                                    "12": "14187 Commercial Trail",
                                    "13": "Hampton",
                                    "14": "VA",
                                    "15": "947"
                                },
                                {
                                    "0": "8",
                                    "1": "5",
                                    "2": "2018-06-08",
                                    "3": "1",
                                    "4": "Mauris enim leo, rhoncus sed, vestibulum sit amet, cursus id, turpis.",
                                    "5": "NULL",
                                    "6": "NULL",
                                    "7": "5",
                                    "8": "Clemmie",
                                    "9": "Betchley",
                                    "10": "1973-11-07",
                                    "11": "NULL",
                                    "12": "5 Spohn Circle",
                                    "13": "Arlington",
                                    "14": "TX",
                                    "15": "3675"
                                },
                                {
                                    "0": "9",
                                    "1": "10",
                                    "2": "2017-07-05",
                                    "3": "2",
                                    "4": "Nulla mollis molestie lorem. Quisque ut erat.",
                                    "5": "2017-07-06",
                                    "6": "1",
                                    "7": "10",
                                    "8": "Levy",
                                    "9": "Mynett",
                                    "10": "1969-10-13",
                                    "11": "404-246-3370",
                                    "12": "68 Lawn Avenue",
                                    "13": "Atlanta",
                                    "14": "GA",
                                    "15": "796"
                                },
                                {
                                    "0": "10",
                                    "1": "6",
                                    "2": "2018-04-22",
                                    "3": "2",
                                    "4": "NULL",
                                    "5": "2018-04-23",
                                    "6": "2",
                                    "7": "6",
                                    "8": "Elka",
                                    "9": "Twiddell",
                                    "10": "1991-09-04",
                                    "11": "312-480-8498",
                                    "12": "7 Manley Drive",
                                    "13": "Chicago",
                                    "14": "IL",
                                    "15": "3073"
                                }
                            ]
                        },
                        "text/html": [
                            "<table>",
                            "<tr><th>OrderID</th><th>CustomerId</th><th>OrderDate</th><th>Status</th><th>comments</th><th>ShippedDate</th><th>ShipperId</th><th>CustomerId</th><th>FirstName</th><th>LastName</th><th>BirthDate</th><th>Phone</th><th>Address</th><th>City</th><th>State</th><th>Points</th></tr>",
                            "<tr><td>1</td><td>6</td><td>2019-01-30</td><td>1</td><td>NULL</td><td>NULL</td><td>NULL</td><td>6</td><td>Elka</td><td>Twiddell</td><td>1991-09-04</td><td>312-480-8498</td><td>7 Manley Drive</td><td>Chicago</td><td>IL</td><td>3073</td></tr>",
                            "<tr><td>2</td><td>7</td><td>2018-08-02</td><td>2</td><td>NULL</td><td>2018-08-03</td><td>4</td><td>7</td><td>Ilene</td><td>Dowson</td><td>1964-08-30</td><td>615-641-4759</td><td>50 Lillian Crossing</td><td>Nashville</td><td>TN</td><td>1672</td></tr>",
                            "<tr><td>3</td><td>8</td><td>2017-12-01</td><td>1</td><td>NULL</td><td>NULL</td><td>NULL</td><td>8</td><td>Thacher</td><td>Naseby</td><td>1993-07-17</td><td>941-527-3977</td><td>538 Mosinee Center</td><td>Sarasota</td><td>FL</td><td>205</td></tr>",
                            "<tr><td>4</td><td>2</td><td>2017-01-22</td><td>1</td><td>NULL</td><td>NULL</td><td>NULL</td><td>2</td><td>Ines</td><td>Brushfield</td><td>1986-04-13</td><td>804-427-9456</td><td>14187 Commercial Trail</td><td>Hampton</td><td>VA</td><td>947</td></tr>",
                            "<tr><td>5</td><td>5</td><td>2017-08-25</td><td>2</td><td></td><td>2017-08-26</td><td>3</td><td>5</td><td>Clemmie</td><td>Betchley</td><td>1973-11-07</td><td>NULL</td><td>5 Spohn Circle</td><td>Arlington</td><td>TX</td><td>3675</td></tr>",
                            "<tr><td>6</td><td>10</td><td>2018-11-18</td><td>1</td><td>Aliquam erat volutpat. In congue.</td><td>NULL</td><td>NULL</td><td>10</td><td>Levy</td><td>Mynett</td><td>1969-10-13</td><td>404-246-3370</td><td>68 Lawn Avenue</td><td>Atlanta</td><td>GA</td><td>796</td></tr>",
                            "<tr><td>7</td><td>2</td><td>2018-09-22</td><td>2</td><td>NULL</td><td>2018-09-23</td><td>4</td><td>2</td><td>Ines</td><td>Brushfield</td><td>1986-04-13</td><td>804-427-9456</td><td>14187 Commercial Trail</td><td>Hampton</td><td>VA</td><td>947</td></tr>",
                            "<tr><td>8</td><td>5</td><td>2018-06-08</td><td>1</td><td>Mauris enim leo, rhoncus sed, vestibulum sit amet, cursus id, turpis.</td><td>NULL</td><td>NULL</td><td>5</td><td>Clemmie</td><td>Betchley</td><td>1973-11-07</td><td>NULL</td><td>5 Spohn Circle</td><td>Arlington</td><td>TX</td><td>3675</td></tr>",
                            "<tr><td>9</td><td>10</td><td>2017-07-05</td><td>2</td><td>Nulla mollis molestie lorem. Quisque ut erat.</td><td>2017-07-06</td><td>1</td><td>10</td><td>Levy</td><td>Mynett</td><td>1969-10-13</td><td>404-246-3370</td><td>68 Lawn Avenue</td><td>Atlanta</td><td>GA</td><td>796</td></tr>",
                            "<tr><td>10</td><td>6</td><td>2018-04-22</td><td>2</td><td>NULL</td><td>2018-04-23</td><td>2</td><td>6</td><td>Elka</td><td>Twiddell</td><td>1991-09-04</td><td>312-480-8498</td><td>7 Manley Drive</td><td>Chicago</td><td>IL</td><td>3073</td></tr>",
                            "</table>"
                        ]
                    }
                }
            ],
            "execution_count": 2
        },
        {
            "cell_type": "code",
            "source": [
                "-- Exercise 1\n",
                "-- Join Order Items and Products tables\n",
                "SELECT * FROM OrderItems OI JOIN Products P on OI.ProductId = P.ProductId;"
            ],
            "metadata": {
                "azdata_cell_guid": "97ca8b51-aafb-4d90-88bb-6dd10fd0e3c8"
            },
            "outputs": [
                {
                    "output_type": "display_data",
                    "data": {
                        "text/html": "(18 rows affected)"
                    },
                    "metadata": {}
                },
                {
                    "output_type": "display_data",
                    "data": {
                        "text/html": "Total execution time: 00:00:00.008"
                    },
                    "metadata": {}
                },
                {
                    "output_type": "execute_result",
                    "metadata": {},
                    "execution_count": 3,
                    "data": {
                        "application/vnd.dataresource+json": {
                            "schema": {
                                "fields": [
                                    {
                                        "name": "OrderId"
                                    },
                                    {
                                        "name": "ProductId"
                                    },
                                    {
                                        "name": "Quantity"
                                    },
                                    {
                                        "name": "UnitPrice"
                                    },
                                    {
                                        "name": "ProductId"
                                    },
                                    {
                                        "name": "Name"
                                    },
                                    {
                                        "name": "QuantityInStock"
                                    },
                                    {
                                        "name": "UnitPrice"
                                    }
                                ]
                            },
                            "data": [
                                {
                                    "0": "1",
                                    "1": "4",
                                    "2": "4",
                                    "3": "3.74",
                                    "4": "4",
                                    "5": "Brocolinni - Gaylan, Chinese",
                                    "6": "90",
                                    "7": "4.53"
                                },
                                {
                                    "0": "2",
                                    "1": "1",
                                    "2": "2",
                                    "3": "9.10",
                                    "4": "1",
                                    "5": "Foam Dinner Plate",
                                    "6": "70",
                                    "7": "1.21"
                                },
                                {
                                    "0": "2",
                                    "1": "4",
                                    "2": "4",
                                    "3": "1.66",
                                    "4": "4",
                                    "5": "Brocolinni - Gaylan, Chinese",
                                    "6": "90",
                                    "7": "4.53"
                                },
                                {
                                    "0": "2",
                                    "1": "6",
                                    "2": "2",
                                    "3": "2.94",
                                    "4": "6",
                                    "5": "Petit Baguette",
                                    "6": "14",
                                    "7": "2.39"
                                },
                                {
                                    "0": "3",
                                    "1": "3",
                                    "2": "10",
                                    "3": "9.12",
                                    "4": "3",
                                    "5": "Lettuce - Romaine, Heart",
                                    "6": "38",
                                    "7": "3.35"
                                },
                                {
                                    "0": "4",
                                    "1": "3",
                                    "2": "7",
                                    "3": "6.99",
                                    "4": "3",
                                    "5": "Lettuce - Romaine, Heart",
                                    "6": "38",
                                    "7": "3.35"
                                },
                                {
                                    "0": "4",
                                    "1": "10",
                                    "2": "7",
                                    "3": "6.40",
                                    "4": "10",
                                    "5": "Broom - Push",
                                    "6": "6",
                                    "7": "1.09"
                                },
                                {
                                    "0": "5",
                                    "1": "2",
                                    "2": "3",
                                    "3": "9.89",
                                    "4": "2",
                                    "5": "Pork - Bacon,back Peameal",
                                    "6": "49",
                                    "7": "4.65"
                                },
                                {
                                    "0": "6",
                                    "1": "1",
                                    "2": "4",
                                    "3": "8.65",
                                    "4": "1",
                                    "5": "Foam Dinner Plate",
                                    "6": "70",
                                    "7": "1.21"
                                },
                                {
                                    "0": "6",
                                    "1": "2",
                                    "2": "4",
                                    "3": "3.28",
                                    "4": "2",
                                    "5": "Pork - Bacon,back Peameal",
                                    "6": "49",
                                    "7": "4.65"
                                },
                                {
                                    "0": "6",
                                    "1": "3",
                                    "2": "4",
                                    "3": "7.46",
                                    "4": "3",
                                    "5": "Lettuce - Romaine, Heart",
                                    "6": "38",
                                    "7": "3.35"
                                },
                                {
                                    "0": "6",
                                    "1": "5",
                                    "2": "1",
                                    "3": "3.45",
                                    "4": "5",
                                    "5": "Sauce - Ranch Dressing",
                                    "6": "94",
                                    "7": "1.63"
                                },
                                {
                                    "0": "7",
                                    "1": "3",
                                    "2": "7",
                                    "3": "9.17",
                                    "4": "3",
                                    "5": "Lettuce - Romaine, Heart",
                                    "6": "38",
                                    "7": "3.35"
                                },
                                {
                                    "0": "8",
                                    "1": "5",
                                    "2": "2",
                                    "3": "6.94",
                                    "4": "5",
                                    "5": "Sauce - Ranch Dressing",
                                    "6": "94",
                                    "7": "1.63"
                                },
                                {
                                    "0": "8",
                                    "1": "8",
                                    "2": "2",
                                    "3": "8.59",
                                    "4": "8",
                                    "5": "Island Oasis - Raspberry",
                                    "6": "26",
                                    "7": "0.74"
                                },
                                {
                                    "0": "9",
                                    "1": "6",
                                    "2": "5",
                                    "3": "7.28",
                                    "4": "6",
                                    "5": "Petit Baguette",
                                    "6": "14",
                                    "7": "2.39"
                                },
                                {
                                    "0": "10",
                                    "1": "1",
                                    "2": "10",
                                    "3": "6.01",
                                    "4": "1",
                                    "5": "Foam Dinner Plate",
                                    "6": "70",
                                    "7": "1.21"
                                },
                                {
                                    "0": "10",
                                    "1": "9",
                                    "2": "9",
                                    "3": "4.28",
                                    "4": "9",
                                    "5": "Longan",
                                    "6": "67",
                                    "7": "2.26"
                                }
                            ]
                        },
                        "text/html": [
                            "<table>",
                            "<tr><th>OrderId</th><th>ProductId</th><th>Quantity</th><th>UnitPrice</th><th>ProductId</th><th>Name</th><th>QuantityInStock</th><th>UnitPrice</th></tr>",
                            "<tr><td>1</td><td>4</td><td>4</td><td>3.74</td><td>4</td><td>Brocolinni - Gaylan, Chinese</td><td>90</td><td>4.53</td></tr>",
                            "<tr><td>2</td><td>1</td><td>2</td><td>9.10</td><td>1</td><td>Foam Dinner Plate</td><td>70</td><td>1.21</td></tr>",
                            "<tr><td>2</td><td>4</td><td>4</td><td>1.66</td><td>4</td><td>Brocolinni - Gaylan, Chinese</td><td>90</td><td>4.53</td></tr>",
                            "<tr><td>2</td><td>6</td><td>2</td><td>2.94</td><td>6</td><td>Petit Baguette</td><td>14</td><td>2.39</td></tr>",
                            "<tr><td>3</td><td>3</td><td>10</td><td>9.12</td><td>3</td><td>Lettuce - Romaine, Heart</td><td>38</td><td>3.35</td></tr>",
                            "<tr><td>4</td><td>3</td><td>7</td><td>6.99</td><td>3</td><td>Lettuce - Romaine, Heart</td><td>38</td><td>3.35</td></tr>",
                            "<tr><td>4</td><td>10</td><td>7</td><td>6.40</td><td>10</td><td>Broom - Push</td><td>6</td><td>1.09</td></tr>",
                            "<tr><td>5</td><td>2</td><td>3</td><td>9.89</td><td>2</td><td>Pork - Bacon,back Peameal</td><td>49</td><td>4.65</td></tr>",
                            "<tr><td>6</td><td>1</td><td>4</td><td>8.65</td><td>1</td><td>Foam Dinner Plate</td><td>70</td><td>1.21</td></tr>",
                            "<tr><td>6</td><td>2</td><td>4</td><td>3.28</td><td>2</td><td>Pork - Bacon,back Peameal</td><td>49</td><td>4.65</td></tr>",
                            "<tr><td>6</td><td>3</td><td>4</td><td>7.46</td><td>3</td><td>Lettuce - Romaine, Heart</td><td>38</td><td>3.35</td></tr>",
                            "<tr><td>6</td><td>5</td><td>1</td><td>3.45</td><td>5</td><td>Sauce - Ranch Dressing</td><td>94</td><td>1.63</td></tr>",
                            "<tr><td>7</td><td>3</td><td>7</td><td>9.17</td><td>3</td><td>Lettuce - Romaine, Heart</td><td>38</td><td>3.35</td></tr>",
                            "<tr><td>8</td><td>5</td><td>2</td><td>6.94</td><td>5</td><td>Sauce - Ranch Dressing</td><td>94</td><td>1.63</td></tr>",
                            "<tr><td>8</td><td>8</td><td>2</td><td>8.59</td><td>8</td><td>Island Oasis - Raspberry</td><td>26</td><td>0.74</td></tr>",
                            "<tr><td>9</td><td>6</td><td>5</td><td>7.28</td><td>6</td><td>Petit Baguette</td><td>14</td><td>2.39</td></tr>",
                            "<tr><td>10</td><td>1</td><td>10</td><td>6.01</td><td>1</td><td>Foam Dinner Plate</td><td>70</td><td>1.21</td></tr>",
                            "<tr><td>10</td><td>9</td><td>9</td><td>4.28</td><td>9</td><td>Longan</td><td>67</td><td>2.26</td></tr>",
                            "</table>"
                        ]
                    }
                }
            ],
            "execution_count": 3
        },
        {
            "cell_type": "code",
            "source": [
                "-- Joining Across Databases\n",
                "-- Prefix the Database name to the table while joining between DBs\n",
                "-- Prefix is not required for the Tables of the current DB\n",
                "-- SELECT * FROM OrderItems OI JOIN AnotherDB.Products P on OI.ProductId = P.ProductId;"
            ],
            "metadata": {
                "azdata_cell_guid": "410a1220-a18d-4267-821e-fcc662b2bb90"
            },
            "outputs": [
                {
                    "output_type": "display_data",
                    "data": {
                        "text/html": "Commands completed successfully."
                    },
                    "metadata": {}
                },
                {
                    "output_type": "display_data",
                    "data": {
                        "text/html": "Total execution time: 00:00:00.001"
                    },
                    "metadata": {}
                }
            ],
            "execution_count": 4
        },
        {
            "cell_type": "code",
            "source": [
                "-- Joining Multiple Tables\n",
                "SELECT\n",
                "    O.OrderId,\n",
                "    O.OrderDate,\n",
                "    C.FirstName,\n",
                "    OS.Name as Status\n",
                "FROM Orders O\n",
                "JOIN Customers C\n",
                "ON O.CustomerId = C.CustomerId\n",
                "JOIN OrderStatuses OS \n",
                "ON O.Status = OS.OrderStatusesId \n",
                "\n",
                "\n",
                ""
            ],
            "metadata": {
                "azdata_cell_guid": "47521ec3-740d-417c-952c-331597dcec8d"
            },
            "outputs": [
                {
                    "output_type": "display_data",
                    "data": {
                        "text/html": "(10 rows affected)"
                    },
                    "metadata": {}
                },
                {
                    "output_type": "display_data",
                    "data": {
                        "text/html": "Total execution time: 00:00:00.011"
                    },
                    "metadata": {}
                },
                {
                    "output_type": "execute_result",
                    "metadata": {},
                    "execution_count": 5,
                    "data": {
                        "application/vnd.dataresource+json": {
                            "schema": {
                                "fields": [
                                    {
                                        "name": "OrderId"
                                    },
                                    {
                                        "name": "OrderDate"
                                    },
                                    {
                                        "name": "FirstName"
                                    },
                                    {
                                        "name": "Status"
                                    }
                                ]
                            },
                            "data": [
                                {
                                    "0": "1",
                                    "1": "2019-01-30",
                                    "2": "Elka",
                                    "3": "Processed"
                                },
                                {
                                    "0": "2",
                                    "1": "2018-08-02",
                                    "2": "Ilene",
                                    "3": "Shipped"
                                },
                                {
                                    "0": "3",
                                    "1": "2017-12-01",
                                    "2": "Thacher",
                                    "3": "Processed"
                                },
                                {
                                    "0": "4",
                                    "1": "2017-01-22",
                                    "2": "Ines",
                                    "3": "Processed"
                                },
                                {
                                    "0": "5",
                                    "1": "2017-08-25",
                                    "2": "Clemmie",
                                    "3": "Shipped"
                                },
                                {
                                    "0": "6",
                                    "1": "2018-11-18",
                                    "2": "Levy",
                                    "3": "Processed"
                                },
                                {
                                    "0": "7",
                                    "1": "2018-09-22",
                                    "2": "Ines",
                                    "3": "Shipped"
                                },
                                {
                                    "0": "8",
                                    "1": "2018-06-08",
                                    "2": "Clemmie",
                                    "3": "Processed"
                                },
                                {
                                    "0": "9",
                                    "1": "2017-07-05",
                                    "2": "Levy",
                                    "3": "Shipped"
                                },
                                {
                                    "0": "10",
                                    "1": "2018-04-22",
                                    "2": "Elka",
                                    "3": "Shipped"
                                }
                            ]
                        },
                        "text/html": [
                            "<table>",
                            "<tr><th>OrderId</th><th>OrderDate</th><th>FirstName</th><th>Status</th></tr>",
                            "<tr><td>1</td><td>2019-01-30</td><td>Elka</td><td>Processed</td></tr>",
                            "<tr><td>2</td><td>2018-08-02</td><td>Ilene</td><td>Shipped</td></tr>",
                            "<tr><td>3</td><td>2017-12-01</td><td>Thacher</td><td>Processed</td></tr>",
                            "<tr><td>4</td><td>2017-01-22</td><td>Ines</td><td>Processed</td></tr>",
                            "<tr><td>5</td><td>2017-08-25</td><td>Clemmie</td><td>Shipped</td></tr>",
                            "<tr><td>6</td><td>2018-11-18</td><td>Levy</td><td>Processed</td></tr>",
                            "<tr><td>7</td><td>2018-09-22</td><td>Ines</td><td>Shipped</td></tr>",
                            "<tr><td>8</td><td>2018-06-08</td><td>Clemmie</td><td>Processed</td></tr>",
                            "<tr><td>9</td><td>2017-07-05</td><td>Levy</td><td>Shipped</td></tr>",
                            "<tr><td>10</td><td>2018-04-22</td><td>Elka</td><td>Shipped</td></tr>",
                            "</table>"
                        ]
                    }
                }
            ],
            "execution_count": 5
        },
        {
            "cell_type": "code",
            "source": [
                "-- Composite Primary Keys\n",
                "SELECT * FROM OrderItems OI JOIN OrderItemNotes OIN ON OI.OrderId = OIN.OrderId AND OI.ProductId = OIN.ProductId;"
            ],
            "metadata": {
                "azdata_cell_guid": "1248a9c8-7624-40d2-b596-0b71843a376c"
            },
            "outputs": [
                {
                    "output_type": "display_data",
                    "data": {
                        "text/html": "(1 row affected)"
                    },
                    "metadata": {}
                },
                {
                    "output_type": "display_data",
                    "data": {
                        "text/html": "Total execution time: 00:00:00.009"
                    },
                    "metadata": {}
                },
                {
                    "output_type": "execute_result",
                    "metadata": {},
                    "execution_count": 6,
                    "data": {
                        "application/vnd.dataresource+json": {
                            "schema": {
                                "fields": [
                                    {
                                        "name": "OrderId"
                                    },
                                    {
                                        "name": "ProductId"
                                    },
                                    {
                                        "name": "Quantity"
                                    },
                                    {
                                        "name": "UnitPrice"
                                    },
                                    {
                                        "name": "NoteId"
                                    },
                                    {
                                        "name": "OrderId"
                                    },
                                    {
                                        "name": "ProductId"
                                    },
                                    {
                                        "name": "Note"
                                    }
                                ]
                            },
                            "data": [
                                {
                                    "0": "1",
                                    "1": "4",
                                    "2": "4",
                                    "3": "3.74",
                                    "4": "1",
                                    "5": "1",
                                    "6": "4",
                                    "7": "first note"
                                }
                            ]
                        },
                        "text/html": [
                            "<table>",
                            "<tr><th>OrderId</th><th>ProductId</th><th>Quantity</th><th>UnitPrice</th><th>NoteId</th><th>OrderId</th><th>ProductId</th><th>Note</th></tr>",
                            "<tr><td>1</td><td>4</td><td>4</td><td>3.74</td><td>1</td><td>1</td><td>4</td><td>first note</td></tr>",
                            "</table>"
                        ]
                    }
                }
            ],
            "execution_count": 6
        },
        {
            "cell_type": "code",
            "source": [
                "-- Implicit Joins\n",
                "-- Regular \n",
                "SELECT * FROM  Orders O JOIN Customers C ON O.CustomerId = C.CustomerId;\n",
                "\n",
                "-- Implicit Way\n",
                "SELECT * FROM Orders O, Customers C WHERE O.CustomerId = C.CustomerId;"
            ],
            "metadata": {
                "azdata_cell_guid": "6ae8abc5-f349-4b49-bd9b-3e1be40a8d25",
                "tags": []
            },
            "outputs": [
                {
                    "output_type": "display_data",
                    "data": {
                        "text/html": "(10 rows affected)"
                    },
                    "metadata": {}
                },
                {
                    "output_type": "display_data",
                    "data": {
                        "text/html": "(10 rows affected)"
                    },
                    "metadata": {}
                },
                {
                    "output_type": "display_data",
                    "data": {
                        "text/html": "Total execution time: 00:00:00.008"
                    },
                    "metadata": {}
                },
                {
                    "output_type": "execute_result",
                    "metadata": {},
                    "execution_count": 7,
                    "data": {
                        "application/vnd.dataresource+json": {
                            "schema": {
                                "fields": [
                                    {
                                        "name": "OrderID"
                                    },
                                    {
                                        "name": "CustomerId"
                                    },
                                    {
                                        "name": "OrderDate"
                                    },
                                    {
                                        "name": "Status"
                                    },
                                    {
                                        "name": "comments"
                                    },
                                    {
                                        "name": "ShippedDate"
                                    },
                                    {
                                        "name": "ShipperId"
                                    },
                                    {
                                        "name": "CustomerId"
                                    },
                                    {
                                        "name": "FirstName"
                                    },
                                    {
                                        "name": "LastName"
                                    },
                                    {
                                        "name": "BirthDate"
                                    },
                                    {
                                        "name": "Phone"
                                    },
                                    {
                                        "name": "Address"
                                    },
                                    {
                                        "name": "City"
                                    },
                                    {
                                        "name": "State"
                                    },
                                    {
                                        "name": "Points"
                                    }
                                ]
                            },
                            "data": [
                                {
                                    "0": "1",
                                    "1": "6",
                                    "2": "2019-01-30",
                                    "3": "1",
                                    "4": "NULL",
                                    "5": "NULL",
                                    "6": "NULL",
                                    "7": "6",
                                    "8": "Elka",
                                    "9": "Twiddell",
                                    "10": "1991-09-04",
                                    "11": "312-480-8498",
                                    "12": "7 Manley Drive",
                                    "13": "Chicago",
                                    "14": "IL",
                                    "15": "3073"
                                },
                                {
                                    "0": "2",
                                    "1": "7",
                                    "2": "2018-08-02",
                                    "3": "2",
                                    "4": "NULL",
                                    "5": "2018-08-03",
                                    "6": "4",
                                    "7": "7",
                                    "8": "Ilene",
                                    "9": "Dowson",
                                    "10": "1964-08-30",
                                    "11": "615-641-4759",
                                    "12": "50 Lillian Crossing",
                                    "13": "Nashville",
                                    "14": "TN",
                                    "15": "1672"
                                },
                                {
                                    "0": "3",
                                    "1": "8",
                                    "2": "2017-12-01",
                                    "3": "1",
                                    "4": "NULL",
                                    "5": "NULL",
                                    "6": "NULL",
                                    "7": "8",
                                    "8": "Thacher",
                                    "9": "Naseby",
                                    "10": "1993-07-17",
                                    "11": "941-527-3977",
                                    "12": "538 Mosinee Center",
                                    "13": "Sarasota",
                                    "14": "FL",
                                    "15": "205"
                                },
                                {
                                    "0": "4",
                                    "1": "2",
                                    "2": "2017-01-22",
                                    "3": "1",
                                    "4": "NULL",
                                    "5": "NULL",
                                    "6": "NULL",
                                    "7": "2",
                                    "8": "Ines",
                                    "9": "Brushfield",
                                    "10": "1986-04-13",
                                    "11": "804-427-9456",
                                    "12": "14187 Commercial Trail",
                                    "13": "Hampton",
                                    "14": "VA",
                                    "15": "947"
                                },
                                {
                                    "0": "5",
                                    "1": "5",
                                    "2": "2017-08-25",
                                    "3": "2",
                                    "4": "",
                                    "5": "2017-08-26",
                                    "6": "3",
                                    "7": "5",
                                    "8": "Clemmie",
                                    "9": "Betchley",
                                    "10": "1973-11-07",
                                    "11": "NULL",
                                    "12": "5 Spohn Circle",
                                    "13": "Arlington",
                                    "14": "TX",
                                    "15": "3675"
                                },
                                {
                                    "0": "6",
                                    "1": "10",
                                    "2": "2018-11-18",
                                    "3": "1",
                                    "4": "Aliquam erat volutpat. In congue.",
                                    "5": "NULL",
                                    "6": "NULL",
                                    "7": "10",
                                    "8": "Levy",
                                    "9": "Mynett",
                                    "10": "1969-10-13",
                                    "11": "404-246-3370",
                                    "12": "68 Lawn Avenue",
                                    "13": "Atlanta",
                                    "14": "GA",
                                    "15": "796"
                                },
                                {
                                    "0": "7",
                                    "1": "2",
                                    "2": "2018-09-22",
                                    "3": "2",
                                    "4": "NULL",
                                    "5": "2018-09-23",
                                    "6": "4",
                                    "7": "2",
                                    "8": "Ines",
                                    "9": "Brushfield",
                                    "10": "1986-04-13",
                                    "11": "804-427-9456",
                                    "12": "14187 Commercial Trail",
                                    "13": "Hampton",
                                    "14": "VA",
                                    "15": "947"
                                },
                                {
                                    "0": "8",
                                    "1": "5",
                                    "2": "2018-06-08",
                                    "3": "1",
                                    "4": "Mauris enim leo, rhoncus sed, vestibulum sit amet, cursus id, turpis.",
                                    "5": "NULL",
                                    "6": "NULL",
                                    "7": "5",
                                    "8": "Clemmie",
                                    "9": "Betchley",
                                    "10": "1973-11-07",
                                    "11": "NULL",
                                    "12": "5 Spohn Circle",
                                    "13": "Arlington",
                                    "14": "TX",
                                    "15": "3675"
                                },
                                {
                                    "0": "9",
                                    "1": "10",
                                    "2": "2017-07-05",
                                    "3": "2",
                                    "4": "Nulla mollis molestie lorem. Quisque ut erat.",
                                    "5": "2017-07-06",
                                    "6": "1",
                                    "7": "10",
                                    "8": "Levy",
                                    "9": "Mynett",
                                    "10": "1969-10-13",
                                    "11": "404-246-3370",
                                    "12": "68 Lawn Avenue",
                                    "13": "Atlanta",
                                    "14": "GA",
                                    "15": "796"
                                },
                                {
                                    "0": "10",
                                    "1": "6",
                                    "2": "2018-04-22",
                                    "3": "2",
                                    "4": "NULL",
                                    "5": "2018-04-23",
                                    "6": "2",
                                    "7": "6",
                                    "8": "Elka",
                                    "9": "Twiddell",
                                    "10": "1991-09-04",
                                    "11": "312-480-8498",
                                    "12": "7 Manley Drive",
                                    "13": "Chicago",
                                    "14": "IL",
                                    "15": "3073"
                                }
                            ]
                        },
                        "text/html": [
                            "<table>",
                            "<tr><th>OrderID</th><th>CustomerId</th><th>OrderDate</th><th>Status</th><th>comments</th><th>ShippedDate</th><th>ShipperId</th><th>CustomerId</th><th>FirstName</th><th>LastName</th><th>BirthDate</th><th>Phone</th><th>Address</th><th>City</th><th>State</th><th>Points</th></tr>",
                            "<tr><td>1</td><td>6</td><td>2019-01-30</td><td>1</td><td>NULL</td><td>NULL</td><td>NULL</td><td>6</td><td>Elka</td><td>Twiddell</td><td>1991-09-04</td><td>312-480-8498</td><td>7 Manley Drive</td><td>Chicago</td><td>IL</td><td>3073</td></tr>",
                            "<tr><td>2</td><td>7</td><td>2018-08-02</td><td>2</td><td>NULL</td><td>2018-08-03</td><td>4</td><td>7</td><td>Ilene</td><td>Dowson</td><td>1964-08-30</td><td>615-641-4759</td><td>50 Lillian Crossing</td><td>Nashville</td><td>TN</td><td>1672</td></tr>",
                            "<tr><td>3</td><td>8</td><td>2017-12-01</td><td>1</td><td>NULL</td><td>NULL</td><td>NULL</td><td>8</td><td>Thacher</td><td>Naseby</td><td>1993-07-17</td><td>941-527-3977</td><td>538 Mosinee Center</td><td>Sarasota</td><td>FL</td><td>205</td></tr>",
                            "<tr><td>4</td><td>2</td><td>2017-01-22</td><td>1</td><td>NULL</td><td>NULL</td><td>NULL</td><td>2</td><td>Ines</td><td>Brushfield</td><td>1986-04-13</td><td>804-427-9456</td><td>14187 Commercial Trail</td><td>Hampton</td><td>VA</td><td>947</td></tr>",
                            "<tr><td>5</td><td>5</td><td>2017-08-25</td><td>2</td><td></td><td>2017-08-26</td><td>3</td><td>5</td><td>Clemmie</td><td>Betchley</td><td>1973-11-07</td><td>NULL</td><td>5 Spohn Circle</td><td>Arlington</td><td>TX</td><td>3675</td></tr>",
                            "<tr><td>6</td><td>10</td><td>2018-11-18</td><td>1</td><td>Aliquam erat volutpat. In congue.</td><td>NULL</td><td>NULL</td><td>10</td><td>Levy</td><td>Mynett</td><td>1969-10-13</td><td>404-246-3370</td><td>68 Lawn Avenue</td><td>Atlanta</td><td>GA</td><td>796</td></tr>",
                            "<tr><td>7</td><td>2</td><td>2018-09-22</td><td>2</td><td>NULL</td><td>2018-09-23</td><td>4</td><td>2</td><td>Ines</td><td>Brushfield</td><td>1986-04-13</td><td>804-427-9456</td><td>14187 Commercial Trail</td><td>Hampton</td><td>VA</td><td>947</td></tr>",
                            "<tr><td>8</td><td>5</td><td>2018-06-08</td><td>1</td><td>Mauris enim leo, rhoncus sed, vestibulum sit amet, cursus id, turpis.</td><td>NULL</td><td>NULL</td><td>5</td><td>Clemmie</td><td>Betchley</td><td>1973-11-07</td><td>NULL</td><td>5 Spohn Circle</td><td>Arlington</td><td>TX</td><td>3675</td></tr>",
                            "<tr><td>9</td><td>10</td><td>2017-07-05</td><td>2</td><td>Nulla mollis molestie lorem. Quisque ut erat.</td><td>2017-07-06</td><td>1</td><td>10</td><td>Levy</td><td>Mynett</td><td>1969-10-13</td><td>404-246-3370</td><td>68 Lawn Avenue</td><td>Atlanta</td><td>GA</td><td>796</td></tr>",
                            "<tr><td>10</td><td>6</td><td>2018-04-22</td><td>2</td><td>NULL</td><td>2018-04-23</td><td>2</td><td>6</td><td>Elka</td><td>Twiddell</td><td>1991-09-04</td><td>312-480-8498</td><td>7 Manley Drive</td><td>Chicago</td><td>IL</td><td>3073</td></tr>",
                            "</table>"
                        ]
                    }
                },
                {
                    "output_type": "execute_result",
                    "metadata": {},
                    "execution_count": 7,
                    "data": {
                        "application/vnd.dataresource+json": {
                            "schema": {
                                "fields": [
                                    {
                                        "name": "OrderID"
                                    },
                                    {
                                        "name": "CustomerId"
                                    },
                                    {
                                        "name": "OrderDate"
                                    },
                                    {
                                        "name": "Status"
                                    },
                                    {
                                        "name": "comments"
                                    },
                                    {
                                        "name": "ShippedDate"
                                    },
                                    {
                                        "name": "ShipperId"
                                    },
                                    {
                                        "name": "CustomerId"
                                    },
                                    {
                                        "name": "FirstName"
                                    },
                                    {
                                        "name": "LastName"
                                    },
                                    {
                                        "name": "BirthDate"
                                    },
                                    {
                                        "name": "Phone"
                                    },
                                    {
                                        "name": "Address"
                                    },
                                    {
                                        "name": "City"
                                    },
                                    {
                                        "name": "State"
                                    },
                                    {
                                        "name": "Points"
                                    }
                                ]
                            },
                            "data": [
                                {
                                    "0": "1",
                                    "1": "6",
                                    "2": "2019-01-30",
                                    "3": "1",
                                    "4": "NULL",
                                    "5": "NULL",
                                    "6": "NULL",
                                    "7": "6",
                                    "8": "Elka",
                                    "9": "Twiddell",
                                    "10": "1991-09-04",
                                    "11": "312-480-8498",
                                    "12": "7 Manley Drive",
                                    "13": "Chicago",
                                    "14": "IL",
                                    "15": "3073"
                                },
                                {
                                    "0": "2",
                                    "1": "7",
                                    "2": "2018-08-02",
                                    "3": "2",
                                    "4": "NULL",
                                    "5": "2018-08-03",
                                    "6": "4",
                                    "7": "7",
                                    "8": "Ilene",
                                    "9": "Dowson",
                                    "10": "1964-08-30",
                                    "11": "615-641-4759",
                                    "12": "50 Lillian Crossing",
                                    "13": "Nashville",
                                    "14": "TN",
                                    "15": "1672"
                                },
                                {
                                    "0": "3",
                                    "1": "8",
                                    "2": "2017-12-01",
                                    "3": "1",
                                    "4": "NULL",
                                    "5": "NULL",
                                    "6": "NULL",
                                    "7": "8",
                                    "8": "Thacher",
                                    "9": "Naseby",
                                    "10": "1993-07-17",
                                    "11": "941-527-3977",
                                    "12": "538 Mosinee Center",
                                    "13": "Sarasota",
                                    "14": "FL",
                                    "15": "205"
                                },
                                {
                                    "0": "4",
                                    "1": "2",
                                    "2": "2017-01-22",
                                    "3": "1",
                                    "4": "NULL",
                                    "5": "NULL",
                                    "6": "NULL",
                                    "7": "2",
                                    "8": "Ines",
                                    "9": "Brushfield",
                                    "10": "1986-04-13",
                                    "11": "804-427-9456",
                                    "12": "14187 Commercial Trail",
                                    "13": "Hampton",
                                    "14": "VA",
                                    "15": "947"
                                },
                                {
                                    "0": "5",
                                    "1": "5",
                                    "2": "2017-08-25",
                                    "3": "2",
                                    "4": "",
                                    "5": "2017-08-26",
                                    "6": "3",
                                    "7": "5",
                                    "8": "Clemmie",
                                    "9": "Betchley",
                                    "10": "1973-11-07",
                                    "11": "NULL",
                                    "12": "5 Spohn Circle",
                                    "13": "Arlington",
                                    "14": "TX",
                                    "15": "3675"
                                },
                                {
                                    "0": "6",
                                    "1": "10",
                                    "2": "2018-11-18",
                                    "3": "1",
                                    "4": "Aliquam erat volutpat. In congue.",
                                    "5": "NULL",
                                    "6": "NULL",
                                    "7": "10",
                                    "8": "Levy",
                                    "9": "Mynett",
                                    "10": "1969-10-13",
                                    "11": "404-246-3370",
                                    "12": "68 Lawn Avenue",
                                    "13": "Atlanta",
                                    "14": "GA",
                                    "15": "796"
                                },
                                {
                                    "0": "7",
                                    "1": "2",
                                    "2": "2018-09-22",
                                    "3": "2",
                                    "4": "NULL",
                                    "5": "2018-09-23",
                                    "6": "4",
                                    "7": "2",
                                    "8": "Ines",
                                    "9": "Brushfield",
                                    "10": "1986-04-13",
                                    "11": "804-427-9456",
                                    "12": "14187 Commercial Trail",
                                    "13": "Hampton",
                                    "14": "VA",
                                    "15": "947"
                                },
                                {
                                    "0": "8",
                                    "1": "5",
                                    "2": "2018-06-08",
                                    "3": "1",
                                    "4": "Mauris enim leo, rhoncus sed, vestibulum sit amet, cursus id, turpis.",
                                    "5": "NULL",
                                    "6": "NULL",
                                    "7": "5",
                                    "8": "Clemmie",
                                    "9": "Betchley",
                                    "10": "1973-11-07",
                                    "11": "NULL",
                                    "12": "5 Spohn Circle",
                                    "13": "Arlington",
                                    "14": "TX",
                                    "15": "3675"
                                },
                                {
                                    "0": "9",
                                    "1": "10",
                                    "2": "2017-07-05",
                                    "3": "2",
                                    "4": "Nulla mollis molestie lorem. Quisque ut erat.",
                                    "5": "2017-07-06",
                                    "6": "1",
                                    "7": "10",
                                    "8": "Levy",
                                    "9": "Mynett",
                                    "10": "1969-10-13",
                                    "11": "404-246-3370",
                                    "12": "68 Lawn Avenue",
                                    "13": "Atlanta",
                                    "14": "GA",
                                    "15": "796"
                                },
                                {
                                    "0": "10",
                                    "1": "6",
                                    "2": "2018-04-22",
                                    "3": "2",
                                    "4": "NULL",
                                    "5": "2018-04-23",
                                    "6": "2",
                                    "7": "6",
                                    "8": "Elka",
                                    "9": "Twiddell",
                                    "10": "1991-09-04",
                                    "11": "312-480-8498",
                                    "12": "7 Manley Drive",
                                    "13": "Chicago",
                                    "14": "IL",
                                    "15": "3073"
                                }
                            ]
                        },
                        "text/html": [
                            "<table>",
                            "<tr><th>OrderID</th><th>CustomerId</th><th>OrderDate</th><th>Status</th><th>comments</th><th>ShippedDate</th><th>ShipperId</th><th>CustomerId</th><th>FirstName</th><th>LastName</th><th>BirthDate</th><th>Phone</th><th>Address</th><th>City</th><th>State</th><th>Points</th></tr>",
                            "<tr><td>1</td><td>6</td><td>2019-01-30</td><td>1</td><td>NULL</td><td>NULL</td><td>NULL</td><td>6</td><td>Elka</td><td>Twiddell</td><td>1991-09-04</td><td>312-480-8498</td><td>7 Manley Drive</td><td>Chicago</td><td>IL</td><td>3073</td></tr>",
                            "<tr><td>2</td><td>7</td><td>2018-08-02</td><td>2</td><td>NULL</td><td>2018-08-03</td><td>4</td><td>7</td><td>Ilene</td><td>Dowson</td><td>1964-08-30</td><td>615-641-4759</td><td>50 Lillian Crossing</td><td>Nashville</td><td>TN</td><td>1672</td></tr>",
                            "<tr><td>3</td><td>8</td><td>2017-12-01</td><td>1</td><td>NULL</td><td>NULL</td><td>NULL</td><td>8</td><td>Thacher</td><td>Naseby</td><td>1993-07-17</td><td>941-527-3977</td><td>538 Mosinee Center</td><td>Sarasota</td><td>FL</td><td>205</td></tr>",
                            "<tr><td>4</td><td>2</td><td>2017-01-22</td><td>1</td><td>NULL</td><td>NULL</td><td>NULL</td><td>2</td><td>Ines</td><td>Brushfield</td><td>1986-04-13</td><td>804-427-9456</td><td>14187 Commercial Trail</td><td>Hampton</td><td>VA</td><td>947</td></tr>",
                            "<tr><td>5</td><td>5</td><td>2017-08-25</td><td>2</td><td></td><td>2017-08-26</td><td>3</td><td>5</td><td>Clemmie</td><td>Betchley</td><td>1973-11-07</td><td>NULL</td><td>5 Spohn Circle</td><td>Arlington</td><td>TX</td><td>3675</td></tr>",
                            "<tr><td>6</td><td>10</td><td>2018-11-18</td><td>1</td><td>Aliquam erat volutpat. In congue.</td><td>NULL</td><td>NULL</td><td>10</td><td>Levy</td><td>Mynett</td><td>1969-10-13</td><td>404-246-3370</td><td>68 Lawn Avenue</td><td>Atlanta</td><td>GA</td><td>796</td></tr>",
                            "<tr><td>7</td><td>2</td><td>2018-09-22</td><td>2</td><td>NULL</td><td>2018-09-23</td><td>4</td><td>2</td><td>Ines</td><td>Brushfield</td><td>1986-04-13</td><td>804-427-9456</td><td>14187 Commercial Trail</td><td>Hampton</td><td>VA</td><td>947</td></tr>",
                            "<tr><td>8</td><td>5</td><td>2018-06-08</td><td>1</td><td>Mauris enim leo, rhoncus sed, vestibulum sit amet, cursus id, turpis.</td><td>NULL</td><td>NULL</td><td>5</td><td>Clemmie</td><td>Betchley</td><td>1973-11-07</td><td>NULL</td><td>5 Spohn Circle</td><td>Arlington</td><td>TX</td><td>3675</td></tr>",
                            "<tr><td>9</td><td>10</td><td>2017-07-05</td><td>2</td><td>Nulla mollis molestie lorem. Quisque ut erat.</td><td>2017-07-06</td><td>1</td><td>10</td><td>Levy</td><td>Mynett</td><td>1969-10-13</td><td>404-246-3370</td><td>68 Lawn Avenue</td><td>Atlanta</td><td>GA</td><td>796</td></tr>",
                            "<tr><td>10</td><td>6</td><td>2018-04-22</td><td>2</td><td>NULL</td><td>2018-04-23</td><td>2</td><td>6</td><td>Elka</td><td>Twiddell</td><td>1991-09-04</td><td>312-480-8498</td><td>7 Manley Drive</td><td>Chicago</td><td>IL</td><td>3073</td></tr>",
                            "</table>"
                        ]
                    }
                }
            ],
            "execution_count": 7
        },
        {
            "cell_type": "code",
            "source": [
                "-- Outer Join\n",
                "-- Inner Join\n",
                "SELECT C.CustomerId, C.FirstName, O.OrderId FROM Customers C JOIN Orders O ON C.CustomerId = O.CustomerId ORDER BY C.CustomerId;\n",
                "\n",
                "-- Outer Join\n",
                "SELECT C.CustomerId, C.FirstName, O.OrderId FROM Customers C FULL OUTER JOIN Orders O ON C.CustomerId = O.CustomerId ORDER BY C.CustomerId;"
            ],
            "metadata": {
                "azdata_cell_guid": "d1dcbfdf-4121-4cdf-82c9-26f8e69c751e"
            },
            "outputs": [
                {
                    "output_type": "display_data",
                    "data": {
                        "text/html": "(10 rows affected)"
                    },
                    "metadata": {}
                },
                {
                    "output_type": "display_data",
                    "data": {
                        "text/html": "(14 rows affected)"
                    },
                    "metadata": {}
                },
                {
                    "output_type": "display_data",
                    "data": {
                        "text/html": "Total execution time: 00:00:00.025"
                    },
                    "metadata": {}
                },
                {
                    "output_type": "execute_result",
                    "metadata": {},
                    "execution_count": 8,
                    "data": {
                        "application/vnd.dataresource+json": {
                            "schema": {
                                "fields": [
                                    {
                                        "name": "CustomerId"
                                    },
                                    {
                                        "name": "FirstName"
                                    },
                                    {
                                        "name": "OrderId"
                                    }
                                ]
                            },
                            "data": [
                                {
                                    "0": "2",
                                    "1": "Ines",
                                    "2": "4"
                                },
                                {
                                    "0": "2",
                                    "1": "Ines",
                                    "2": "7"
                                },
                                {
                                    "0": "5",
                                    "1": "Clemmie",
                                    "2": "8"
                                },
                                {
                                    "0": "5",
                                    "1": "Clemmie",
                                    "2": "5"
                                },
                                {
                                    "0": "6",
                                    "1": "Elka",
                                    "2": "1"
                                },
                                {
                                    "0": "6",
                                    "1": "Elka",
                                    "2": "10"
                                },
                                {
                                    "0": "7",
                                    "1": "Ilene",
                                    "2": "2"
                                },
                                {
                                    "0": "8",
                                    "1": "Thacher",
                                    "2": "3"
                                },
                                {
                                    "0": "10",
                                    "1": "Levy",
                                    "2": "6"
                                },
                                {
                                    "0": "10",
                                    "1": "Levy",
                                    "2": "9"
                                }
                            ]
                        },
                        "text/html": [
                            "<table>",
                            "<tr><th>CustomerId</th><th>FirstName</th><th>OrderId</th></tr>",
                            "<tr><td>2</td><td>Ines</td><td>4</td></tr>",
                            "<tr><td>2</td><td>Ines</td><td>7</td></tr>",
                            "<tr><td>5</td><td>Clemmie</td><td>8</td></tr>",
                            "<tr><td>5</td><td>Clemmie</td><td>5</td></tr>",
                            "<tr><td>6</td><td>Elka</td><td>1</td></tr>",
                            "<tr><td>6</td><td>Elka</td><td>10</td></tr>",
                            "<tr><td>7</td><td>Ilene</td><td>2</td></tr>",
                            "<tr><td>8</td><td>Thacher</td><td>3</td></tr>",
                            "<tr><td>10</td><td>Levy</td><td>6</td></tr>",
                            "<tr><td>10</td><td>Levy</td><td>9</td></tr>",
                            "</table>"
                        ]
                    }
                },
                {
                    "output_type": "execute_result",
                    "metadata": {},
                    "execution_count": 8,
                    "data": {
                        "application/vnd.dataresource+json": {
                            "schema": {
                                "fields": [
                                    {
                                        "name": "CustomerId"
                                    },
                                    {
                                        "name": "FirstName"
                                    },
                                    {
                                        "name": "OrderId"
                                    }
                                ]
                            },
                            "data": [
                                {
                                    "0": "1",
                                    "1": "Babara",
                                    "2": "NULL"
                                },
                                {
                                    "0": "2",
                                    "1": "Ines",
                                    "2": "4"
                                },
                                {
                                    "0": "2",
                                    "1": "Ines",
                                    "2": "7"
                                },
                                {
                                    "0": "3",
                                    "1": "Freddi",
                                    "2": "NULL"
                                },
                                {
                                    "0": "4",
                                    "1": "Ambur",
                                    "2": "NULL"
                                },
                                {
                                    "0": "5",
                                    "1": "Clemmie",
                                    "2": "5"
                                },
                                {
                                    "0": "5",
                                    "1": "Clemmie",
                                    "2": "8"
                                },
                                {
                                    "0": "6",
                                    "1": "Elka",
                                    "2": "1"
                                },
                                {
                                    "0": "6",
                                    "1": "Elka",
                                    "2": "10"
                                },
                                {
                                    "0": "7",
                                    "1": "Ilene",
                                    "2": "2"
                                },
                                {
                                    "0": "8",
                                    "1": "Thacher",
                                    "2": "3"
                                },
                                {
                                    "0": "9",
                                    "1": "Romola",
                                    "2": "NULL"
                                },
                                {
                                    "0": "10",
                                    "1": "Levy",
                                    "2": "6"
                                },
                                {
                                    "0": "10",
                                    "1": "Levy",
                                    "2": "9"
                                }
                            ]
                        },
                        "text/html": [
                            "<table>",
                            "<tr><th>CustomerId</th><th>FirstName</th><th>OrderId</th></tr>",
                            "<tr><td>1</td><td>Babara</td><td>NULL</td></tr>",
                            "<tr><td>2</td><td>Ines</td><td>4</td></tr>",
                            "<tr><td>2</td><td>Ines</td><td>7</td></tr>",
                            "<tr><td>3</td><td>Freddi</td><td>NULL</td></tr>",
                            "<tr><td>4</td><td>Ambur</td><td>NULL</td></tr>",
                            "<tr><td>5</td><td>Clemmie</td><td>5</td></tr>",
                            "<tr><td>5</td><td>Clemmie</td><td>8</td></tr>",
                            "<tr><td>6</td><td>Elka</td><td>1</td></tr>",
                            "<tr><td>6</td><td>Elka</td><td>10</td></tr>",
                            "<tr><td>7</td><td>Ilene</td><td>2</td></tr>",
                            "<tr><td>8</td><td>Thacher</td><td>3</td></tr>",
                            "<tr><td>9</td><td>Romola</td><td>NULL</td></tr>",
                            "<tr><td>10</td><td>Levy</td><td>6</td></tr>",
                            "<tr><td>10</td><td>Levy</td><td>9</td></tr>",
                            "</table>"
                        ]
                    }
                }
            ],
            "execution_count": 8
        },
        {
            "cell_type": "code",
            "source": [
                "-- Exercise 2\n",
                "\n",
                "SELECT P.ProductId, P.Name, OI.Quantity FROM Products P FULL OUTER JOIN OrderItems OI ON P.ProductId = OI.ProductId;"
            ],
            "metadata": {
                "azdata_cell_guid": "33573b07-66cd-466e-a340-a38ab93f0e67"
            },
            "outputs": [
                {
                    "output_type": "display_data",
                    "data": {
                        "text/html": "(19 rows affected)"
                    },
                    "metadata": {}
                },
                {
                    "output_type": "display_data",
                    "data": {
                        "text/html": "Total execution time: 00:00:00.007"
                    },
                    "metadata": {}
                },
                {
                    "output_type": "execute_result",
                    "metadata": {},
                    "execution_count": 9,
                    "data": {
                        "application/vnd.dataresource+json": {
                            "schema": {
                                "fields": [
                                    {
                                        "name": "ProductId"
                                    },
                                    {
                                        "name": "Name"
                                    },
                                    {
                                        "name": "Quantity"
                                    }
                                ]
                            },
                            "data": [
                                {
                                    "0": "1",
                                    "1": "Foam Dinner Plate",
                                    "2": "2"
                                },
                                {
                                    "0": "1",
                                    "1": "Foam Dinner Plate",
                                    "2": "4"
                                },
                                {
                                    "0": "1",
                                    "1": "Foam Dinner Plate",
                                    "2": "10"
                                },
                                {
                                    "0": "2",
                                    "1": "Pork - Bacon,back Peameal",
                                    "2": "3"
                                },
                                {
                                    "0": "2",
                                    "1": "Pork - Bacon,back Peameal",
                                    "2": "4"
                                },
                                {
                                    "0": "3",
                                    "1": "Lettuce - Romaine, Heart",
                                    "2": "10"
                                },
                                {
                                    "0": "3",
                                    "1": "Lettuce - Romaine, Heart",
                                    "2": "7"
                                },
                                {
                                    "0": "3",
                                    "1": "Lettuce - Romaine, Heart",
                                    "2": "4"
                                },
                                {
                                    "0": "3",
                                    "1": "Lettuce - Romaine, Heart",
                                    "2": "7"
                                },
                                {
                                    "0": "4",
                                    "1": "Brocolinni - Gaylan, Chinese",
                                    "2": "4"
                                },
                                {
                                    "0": "4",
                                    "1": "Brocolinni - Gaylan, Chinese",
                                    "2": "4"
                                },
                                {
                                    "0": "5",
                                    "1": "Sauce - Ranch Dressing",
                                    "2": "1"
                                },
                                {
                                    "0": "5",
                                    "1": "Sauce - Ranch Dressing",
                                    "2": "2"
                                },
                                {
                                    "0": "6",
                                    "1": "Petit Baguette",
                                    "2": "2"
                                },
                                {
                                    "0": "6",
                                    "1": "Petit Baguette",
                                    "2": "5"
                                },
                                {
                                    "0": "7",
                                    "1": "Sweet Pea Sprouts",
                                    "2": "NULL"
                                },
                                {
                                    "0": "8",
                                    "1": "Island Oasis - Raspberry",
                                    "2": "2"
                                },
                                {
                                    "0": "9",
                                    "1": "Longan",
                                    "2": "9"
                                },
                                {
                                    "0": "10",
                                    "1": "Broom - Push",
                                    "2": "7"
                                }
                            ]
                        },
                        "text/html": [
                            "<table>",
                            "<tr><th>ProductId</th><th>Name</th><th>Quantity</th></tr>",
                            "<tr><td>1</td><td>Foam Dinner Plate</td><td>2</td></tr>",
                            "<tr><td>1</td><td>Foam Dinner Plate</td><td>4</td></tr>",
                            "<tr><td>1</td><td>Foam Dinner Plate</td><td>10</td></tr>",
                            "<tr><td>2</td><td>Pork - Bacon,back Peameal</td><td>3</td></tr>",
                            "<tr><td>2</td><td>Pork - Bacon,back Peameal</td><td>4</td></tr>",
                            "<tr><td>3</td><td>Lettuce - Romaine, Heart</td><td>10</td></tr>",
                            "<tr><td>3</td><td>Lettuce - Romaine, Heart</td><td>7</td></tr>",
                            "<tr><td>3</td><td>Lettuce - Romaine, Heart</td><td>4</td></tr>",
                            "<tr><td>3</td><td>Lettuce - Romaine, Heart</td><td>7</td></tr>",
                            "<tr><td>4</td><td>Brocolinni - Gaylan, Chinese</td><td>4</td></tr>",
                            "<tr><td>4</td><td>Brocolinni - Gaylan, Chinese</td><td>4</td></tr>",
                            "<tr><td>5</td><td>Sauce - Ranch Dressing</td><td>1</td></tr>",
                            "<tr><td>5</td><td>Sauce - Ranch Dressing</td><td>2</td></tr>",
                            "<tr><td>6</td><td>Petit Baguette</td><td>2</td></tr>",
                            "<tr><td>6</td><td>Petit Baguette</td><td>5</td></tr>",
                            "<tr><td>7</td><td>Sweet Pea Sprouts</td><td>NULL</td></tr>",
                            "<tr><td>8</td><td>Island Oasis - Raspberry</td><td>2</td></tr>",
                            "<tr><td>9</td><td>Longan</td><td>9</td></tr>",
                            "<tr><td>10</td><td>Broom - Push</td><td>7</td></tr>",
                            "</table>"
                        ]
                    }
                }
            ],
            "execution_count": 9
        },
        {
            "cell_type": "code",
            "source": [
                "-- Exercise 3\n",
                "-- Multiple Joins with Outer join\n",
                "\n",
                "SELECT O.OrderId, O.OrderDate, C.FirstName as Customer, SH.Name as Shipper, OS.Name as Status \n",
                "FROM Orders O JOIN Customers C ON O.CustomerId = C.CustomerId \n",
                "LEFT OUTER JOIN Shippers SH ON O.ShipperId = SH.ShipperId \n",
                "JOIN OrderStatuses OS ON O.Status = OS.OrderStatusesId; "
            ],
            "metadata": {
                "azdata_cell_guid": "2d88f949-2b8f-4c3a-b019-258dc16e3a6d"
            },
            "outputs": [
                {
                    "output_type": "display_data",
                    "data": {
                        "text/html": "(10 rows affected)"
                    },
                    "metadata": {}
                },
                {
                    "output_type": "display_data",
                    "data": {
                        "text/html": "Total execution time: 00:00:00.005"
                    },
                    "metadata": {}
                },
                {
                    "output_type": "execute_result",
                    "metadata": {},
                    "execution_count": 10,
                    "data": {
                        "application/vnd.dataresource+json": {
                            "schema": {
                                "fields": [
                                    {
                                        "name": "OrderId"
                                    },
                                    {
                                        "name": "OrderDate"
                                    },
                                    {
                                        "name": "Customer"
                                    },
                                    {
                                        "name": "Shipper"
                                    },
                                    {
                                        "name": "Status"
                                    }
                                ]
                            },
                            "data": [
                                {
                                    "0": "1",
                                    "1": "2019-01-30",
                                    "2": "Elka",
                                    "3": "NULL",
                                    "4": "Processed"
                                },
                                {
                                    "0": "2",
                                    "1": "2018-08-02",
                                    "2": "Ilene",
                                    "3": "Mraz, Renner and Nolan",
                                    "4": "Shipped"
                                },
                                {
                                    "0": "3",
                                    "1": "2017-12-01",
                                    "2": "Thacher",
                                    "3": "NULL",
                                    "4": "Processed"
                                },
                                {
                                    "0": "4",
                                    "1": "2017-01-22",
                                    "2": "Ines",
                                    "3": "NULL",
                                    "4": "Processed"
                                },
                                {
                                    "0": "5",
                                    "1": "2017-08-25",
                                    "2": "Clemmie",
                                    "3": "Satterfield LLC",
                                    "4": "Shipped"
                                },
                                {
                                    "0": "6",
                                    "1": "2018-11-18",
                                    "2": "Levy",
                                    "3": "NULL",
                                    "4": "Processed"
                                },
                                {
                                    "0": "7",
                                    "1": "2018-09-22",
                                    "2": "Ines",
                                    "3": "Mraz, Renner and Nolan",
                                    "4": "Shipped"
                                },
                                {
                                    "0": "8",
                                    "1": "2018-06-08",
                                    "2": "Clemmie",
                                    "3": "NULL",
                                    "4": "Processed"
                                },
                                {
                                    "0": "9",
                                    "1": "2017-07-05",
                                    "2": "Levy",
                                    "3": "Hettinger LLC",
                                    "4": "Shipped"
                                },
                                {
                                    "0": "10",
                                    "1": "2018-04-22",
                                    "2": "Elka",
                                    "3": "Schinner-Predovic",
                                    "4": "Shipped"
                                }
                            ]
                        },
                        "text/html": [
                            "<table>",
                            "<tr><th>OrderId</th><th>OrderDate</th><th>Customer</th><th>Shipper</th><th>Status</th></tr>",
                            "<tr><td>1</td><td>2019-01-30</td><td>Elka</td><td>NULL</td><td>Processed</td></tr>",
                            "<tr><td>2</td><td>2018-08-02</td><td>Ilene</td><td>Mraz, Renner and Nolan</td><td>Shipped</td></tr>",
                            "<tr><td>3</td><td>2017-12-01</td><td>Thacher</td><td>NULL</td><td>Processed</td></tr>",
                            "<tr><td>4</td><td>2017-01-22</td><td>Ines</td><td>NULL</td><td>Processed</td></tr>",
                            "<tr><td>5</td><td>2017-08-25</td><td>Clemmie</td><td>Satterfield LLC</td><td>Shipped</td></tr>",
                            "<tr><td>6</td><td>2018-11-18</td><td>Levy</td><td>NULL</td><td>Processed</td></tr>",
                            "<tr><td>7</td><td>2018-09-22</td><td>Ines</td><td>Mraz, Renner and Nolan</td><td>Shipped</td></tr>",
                            "<tr><td>8</td><td>2018-06-08</td><td>Clemmie</td><td>NULL</td><td>Processed</td></tr>",
                            "<tr><td>9</td><td>2017-07-05</td><td>Levy</td><td>Hettinger LLC</td><td>Shipped</td></tr>",
                            "<tr><td>10</td><td>2018-04-22</td><td>Elka</td><td>Schinner-Predovic</td><td>Shipped</td></tr>",
                            "</table>"
                        ]
                    }
                }
            ],
            "execution_count": 10
        },
        {
            "cell_type": "code",
            "source": [
                "-- Using Clause\n",
                "-- Not available in SQL Server\n",
                "-- SELECT O.OrderId, C.FirstName, SH.name as Shipper\n",
                "-- FROM Orders O JOIN Customers C  USING(CustomerId) LEFT JOIN Shippers USING(ShipperId) ;"
            ],
            "metadata": {
                "azdata_cell_guid": "78a28c69-db04-4914-bb2f-39e94812598e",
                "tags": []
            },
            "outputs": [
                {
                    "output_type": "display_data",
                    "data": {
                        "text/html": "Commands completed successfully."
                    },
                    "metadata": {}
                },
                {
                    "output_type": "display_data",
                    "data": {
                        "text/html": "Total execution time: 00:00:00.003"
                    },
                    "metadata": {}
                }
            ],
            "execution_count": 14
        },
        {
            "cell_type": "code",
            "source": [
                "-- Natural Joins\n",
                "-- Not supported in SQL Server\n",
                "-- The DB enginer determines the common column and tries to Join\n",
                "-- This can result in unexpected scenarios, hence best avoided\n",
                "-- SELECT * FROM Orders O NATURAL JOIN Customers C"
            ],
            "metadata": {
                "azdata_cell_guid": "ca87d09e-7fc8-4e7a-a111-b603b9fcd859"
            },
            "outputs": [
                {
                    "output_type": "display_data",
                    "data": {
                        "text/html": "Commands completed successfully."
                    },
                    "metadata": {}
                },
                {
                    "output_type": "display_data",
                    "data": {
                        "text/html": "Total execution time: 00:00:00.003"
                    },
                    "metadata": {}
                }
            ],
            "execution_count": 16
        },
        {
            "cell_type": "code",
            "source": [
                "-- Cross Joins\n",
                "-- Matches every record in the first table with the second table\n",
                "SELECT C.FirstName AS Customer, P.Name AS Product FROM Customers C CROSS JOIN Products P;\n",
                "\n",
                "-- Same\n",
                "SELECT C.FirstName AS Customer, P.Name AS Product FROM Customers C , Products P;"
            ],
            "metadata": {
                "azdata_cell_guid": "a65a03c4-9731-4a10-bc3d-b0e288fd18c2"
            },
            "outputs": [
                {
                    "output_type": "display_data",
                    "data": {
                        "text/html": "(100 rows affected)"
                    },
                    "metadata": {}
                },
                {
                    "output_type": "display_data",
                    "data": {
                        "text/html": "(100 rows affected)"
                    },
                    "metadata": {}
                },
                {
                    "output_type": "display_data",
                    "data": {
                        "text/html": "Total execution time: 00:00:00.008"
                    },
                    "metadata": {}
                },
                {
                    "output_type": "execute_result",
                    "metadata": {},
                    "execution_count": 18,
                    "data": {
                        "application/vnd.dataresource+json": {
                            "schema": {
                                "fields": [
                                    {
                                        "name": "Customer"
                                    },
                                    {
                                        "name": "Product"
                                    }
                                ]
                            },
                            "data": [
                                {
                                    "0": "Babara",
                                    "1": "Foam Dinner Plate"
                                },
                                {
                                    "0": "Ines",
                                    "1": "Foam Dinner Plate"
                                },
                                {
                                    "0": "Freddi",
                                    "1": "Foam Dinner Plate"
                                },
                                {
                                    "0": "Ambur",
                                    "1": "Foam Dinner Plate"
                                },
                                {
                                    "0": "Clemmie",
                                    "1": "Foam Dinner Plate"
                                },
                                {
                                    "0": "Elka",
                                    "1": "Foam Dinner Plate"
                                },
                                {
                                    "0": "Ilene",
                                    "1": "Foam Dinner Plate"
                                },
                                {
                                    "0": "Thacher",
                                    "1": "Foam Dinner Plate"
                                },
                                {
                                    "0": "Romola",
                                    "1": "Foam Dinner Plate"
                                },
                                {
                                    "0": "Levy",
                                    "1": "Foam Dinner Plate"
                                },
                                {
                                    "0": "Babara",
                                    "1": "Pork - Bacon,back Peameal"
                                },
                                {
                                    "0": "Ines",
                                    "1": "Pork - Bacon,back Peameal"
                                },
                                {
                                    "0": "Freddi",
                                    "1": "Pork - Bacon,back Peameal"
                                },
                                {
                                    "0": "Ambur",
                                    "1": "Pork - Bacon,back Peameal"
                                },
                                {
                                    "0": "Clemmie",
                                    "1": "Pork - Bacon,back Peameal"
                                },
                                {
                                    "0": "Elka",
                                    "1": "Pork - Bacon,back Peameal"
                                },
                                {
                                    "0": "Ilene",
                                    "1": "Pork - Bacon,back Peameal"
                                },
                                {
                                    "0": "Thacher",
                                    "1": "Pork - Bacon,back Peameal"
                                },
                                {
                                    "0": "Romola",
                                    "1": "Pork - Bacon,back Peameal"
                                },
                                {
                                    "0": "Levy",
                                    "1": "Pork - Bacon,back Peameal"
                                },
                                {
                                    "0": "Babara",
                                    "1": "Lettuce - Romaine, Heart"
                                },
                                {
                                    "0": "Ines",
                                    "1": "Lettuce - Romaine, Heart"
                                },
                                {
                                    "0": "Freddi",
                                    "1": "Lettuce - Romaine, Heart"
                                },
                                {
                                    "0": "Ambur",
                                    "1": "Lettuce - Romaine, Heart"
                                },
                                {
                                    "0": "Clemmie",
                                    "1": "Lettuce - Romaine, Heart"
                                },
                                {
                                    "0": "Elka",
                                    "1": "Lettuce - Romaine, Heart"
                                },
                                {
                                    "0": "Ilene",
                                    "1": "Lettuce - Romaine, Heart"
                                },
                                {
                                    "0": "Thacher",
                                    "1": "Lettuce - Romaine, Heart"
                                },
                                {
                                    "0": "Romola",
                                    "1": "Lettuce - Romaine, Heart"
                                },
                                {
                                    "0": "Levy",
                                    "1": "Lettuce - Romaine, Heart"
                                },
                                {
                                    "0": "Babara",
                                    "1": "Brocolinni - Gaylan, Chinese"
                                },
                                {
                                    "0": "Ines",
                                    "1": "Brocolinni - Gaylan, Chinese"
                                },
                                {
                                    "0": "Freddi",
                                    "1": "Brocolinni - Gaylan, Chinese"
                                },
                                {
                                    "0": "Ambur",
                                    "1": "Brocolinni - Gaylan, Chinese"
                                },
                                {
                                    "0": "Clemmie",
                                    "1": "Brocolinni - Gaylan, Chinese"
                                },
                                {
                                    "0": "Elka",
                                    "1": "Brocolinni - Gaylan, Chinese"
                                },
                                {
                                    "0": "Ilene",
                                    "1": "Brocolinni - Gaylan, Chinese"
                                },
                                {
                                    "0": "Thacher",
                                    "1": "Brocolinni - Gaylan, Chinese"
                                },
                                {
                                    "0": "Romola",
                                    "1": "Brocolinni - Gaylan, Chinese"
                                },
                                {
                                    "0": "Levy",
                                    "1": "Brocolinni - Gaylan, Chinese"
                                },
                                {
                                    "0": "Babara",
                                    "1": "Sauce - Ranch Dressing"
                                },
                                {
                                    "0": "Ines",
                                    "1": "Sauce - Ranch Dressing"
                                },
                                {
                                    "0": "Freddi",
                                    "1": "Sauce - Ranch Dressing"
                                },
                                {
                                    "0": "Ambur",
                                    "1": "Sauce - Ranch Dressing"
                                },
                                {
                                    "0": "Clemmie",
                                    "1": "Sauce - Ranch Dressing"
                                },
                                {
                                    "0": "Elka",
                                    "1": "Sauce - Ranch Dressing"
                                },
                                {
                                    "0": "Ilene",
                                    "1": "Sauce - Ranch Dressing"
                                },
                                {
                                    "0": "Thacher",
                                    "1": "Sauce - Ranch Dressing"
                                },
                                {
                                    "0": "Romola",
                                    "1": "Sauce - Ranch Dressing"
                                },
                                {
                                    "0": "Levy",
                                    "1": "Sauce - Ranch Dressing"
                                },
                                {
                                    "0": "Babara",
                                    "1": "Petit Baguette"
                                },
                                {
                                    "0": "Ines",
                                    "1": "Petit Baguette"
                                },
                                {
                                    "0": "Freddi",
                                    "1": "Petit Baguette"
                                },
                                {
                                    "0": "Ambur",
                                    "1": "Petit Baguette"
                                },
                                {
                                    "0": "Clemmie",
                                    "1": "Petit Baguette"
                                },
                                {
                                    "0": "Elka",
                                    "1": "Petit Baguette"
                                },
                                {
                                    "0": "Ilene",
                                    "1": "Petit Baguette"
                                },
                                {
                                    "0": "Thacher",
                                    "1": "Petit Baguette"
                                },
                                {
                                    "0": "Romola",
                                    "1": "Petit Baguette"
                                },
                                {
                                    "0": "Levy",
                                    "1": "Petit Baguette"
                                },
                                {
                                    "0": "Babara",
                                    "1": "Sweet Pea Sprouts"
                                },
                                {
                                    "0": "Ines",
                                    "1": "Sweet Pea Sprouts"
                                },
                                {
                                    "0": "Freddi",
                                    "1": "Sweet Pea Sprouts"
                                },
                                {
                                    "0": "Ambur",
                                    "1": "Sweet Pea Sprouts"
                                },
                                {
                                    "0": "Clemmie",
                                    "1": "Sweet Pea Sprouts"
                                },
                                {
                                    "0": "Elka",
                                    "1": "Sweet Pea Sprouts"
                                },
                                {
                                    "0": "Ilene",
                                    "1": "Sweet Pea Sprouts"
                                },
                                {
                                    "0": "Thacher",
                                    "1": "Sweet Pea Sprouts"
                                },
                                {
                                    "0": "Romola",
                                    "1": "Sweet Pea Sprouts"
                                },
                                {
                                    "0": "Levy",
                                    "1": "Sweet Pea Sprouts"
                                },
                                {
                                    "0": "Babara",
                                    "1": "Island Oasis - Raspberry"
                                },
                                {
                                    "0": "Ines",
                                    "1": "Island Oasis - Raspberry"
                                },
                                {
                                    "0": "Freddi",
                                    "1": "Island Oasis - Raspberry"
                                },
                                {
                                    "0": "Ambur",
                                    "1": "Island Oasis - Raspberry"
                                },
                                {
                                    "0": "Clemmie",
                                    "1": "Island Oasis - Raspberry"
                                },
                                {
                                    "0": "Elka",
                                    "1": "Island Oasis - Raspberry"
                                },
                                {
                                    "0": "Ilene",
                                    "1": "Island Oasis - Raspberry"
                                },
                                {
                                    "0": "Thacher",
                                    "1": "Island Oasis - Raspberry"
                                },
                                {
                                    "0": "Romola",
                                    "1": "Island Oasis - Raspberry"
                                },
                                {
                                    "0": "Levy",
                                    "1": "Island Oasis - Raspberry"
                                },
                                {
                                    "0": "Babara",
                                    "1": "Longan"
                                },
                                {
                                    "0": "Ines",
                                    "1": "Longan"
                                },
                                {
                                    "0": "Freddi",
                                    "1": "Longan"
                                },
                                {
                                    "0": "Ambur",
                                    "1": "Longan"
                                },
                                {
                                    "0": "Clemmie",
                                    "1": "Longan"
                                },
                                {
                                    "0": "Elka",
                                    "1": "Longan"
                                },
                                {
                                    "0": "Ilene",
                                    "1": "Longan"
                                },
                                {
                                    "0": "Thacher",
                                    "1": "Longan"
                                },
                                {
                                    "0": "Romola",
                                    "1": "Longan"
                                },
                                {
                                    "0": "Levy",
                                    "1": "Longan"
                                },
                                {
                                    "0": "Babara",
                                    "1": "Broom - Push"
                                },
                                {
                                    "0": "Ines",
                                    "1": "Broom - Push"
                                },
                                {
                                    "0": "Freddi",
                                    "1": "Broom - Push"
                                },
                                {
                                    "0": "Ambur",
                                    "1": "Broom - Push"
                                },
                                {
                                    "0": "Clemmie",
                                    "1": "Broom - Push"
                                },
                                {
                                    "0": "Elka",
                                    "1": "Broom - Push"
                                },
                                {
                                    "0": "Ilene",
                                    "1": "Broom - Push"
                                },
                                {
                                    "0": "Thacher",
                                    "1": "Broom - Push"
                                },
                                {
                                    "0": "Romola",
                                    "1": "Broom - Push"
                                },
                                {
                                    "0": "Levy",
                                    "1": "Broom - Push"
                                }
                            ]
                        },
                        "text/html": [
                            "<table>",
                            "<tr><th>Customer</th><th>Product</th></tr>",
                            "<tr><td>Babara</td><td>Foam Dinner Plate</td></tr>",
                            "<tr><td>Ines</td><td>Foam Dinner Plate</td></tr>",
                            "<tr><td>Freddi</td><td>Foam Dinner Plate</td></tr>",
                            "<tr><td>Ambur</td><td>Foam Dinner Plate</td></tr>",
                            "<tr><td>Clemmie</td><td>Foam Dinner Plate</td></tr>",
                            "<tr><td>Elka</td><td>Foam Dinner Plate</td></tr>",
                            "<tr><td>Ilene</td><td>Foam Dinner Plate</td></tr>",
                            "<tr><td>Thacher</td><td>Foam Dinner Plate</td></tr>",
                            "<tr><td>Romola</td><td>Foam Dinner Plate</td></tr>",
                            "<tr><td>Levy</td><td>Foam Dinner Plate</td></tr>",
                            "<tr><td>Babara</td><td>Pork - Bacon,back Peameal</td></tr>",
                            "<tr><td>Ines</td><td>Pork - Bacon,back Peameal</td></tr>",
                            "<tr><td>Freddi</td><td>Pork - Bacon,back Peameal</td></tr>",
                            "<tr><td>Ambur</td><td>Pork - Bacon,back Peameal</td></tr>",
                            "<tr><td>Clemmie</td><td>Pork - Bacon,back Peameal</td></tr>",
                            "<tr><td>Elka</td><td>Pork - Bacon,back Peameal</td></tr>",
                            "<tr><td>Ilene</td><td>Pork - Bacon,back Peameal</td></tr>",
                            "<tr><td>Thacher</td><td>Pork - Bacon,back Peameal</td></tr>",
                            "<tr><td>Romola</td><td>Pork - Bacon,back Peameal</td></tr>",
                            "<tr><td>Levy</td><td>Pork - Bacon,back Peameal</td></tr>",
                            "<tr><td>Babara</td><td>Lettuce - Romaine, Heart</td></tr>",
                            "<tr><td>Ines</td><td>Lettuce - Romaine, Heart</td></tr>",
                            "<tr><td>Freddi</td><td>Lettuce - Romaine, Heart</td></tr>",
                            "<tr><td>Ambur</td><td>Lettuce - Romaine, Heart</td></tr>",
                            "<tr><td>Clemmie</td><td>Lettuce - Romaine, Heart</td></tr>",
                            "<tr><td>Elka</td><td>Lettuce - Romaine, Heart</td></tr>",
                            "<tr><td>Ilene</td><td>Lettuce - Romaine, Heart</td></tr>",
                            "<tr><td>Thacher</td><td>Lettuce - Romaine, Heart</td></tr>",
                            "<tr><td>Romola</td><td>Lettuce - Romaine, Heart</td></tr>",
                            "<tr><td>Levy</td><td>Lettuce - Romaine, Heart</td></tr>",
                            "<tr><td>Babara</td><td>Brocolinni - Gaylan, Chinese</td></tr>",
                            "<tr><td>Ines</td><td>Brocolinni - Gaylan, Chinese</td></tr>",
                            "<tr><td>Freddi</td><td>Brocolinni - Gaylan, Chinese</td></tr>",
                            "<tr><td>Ambur</td><td>Brocolinni - Gaylan, Chinese</td></tr>",
                            "<tr><td>Clemmie</td><td>Brocolinni - Gaylan, Chinese</td></tr>",
                            "<tr><td>Elka</td><td>Brocolinni - Gaylan, Chinese</td></tr>",
                            "<tr><td>Ilene</td><td>Brocolinni - Gaylan, Chinese</td></tr>",
                            "<tr><td>Thacher</td><td>Brocolinni - Gaylan, Chinese</td></tr>",
                            "<tr><td>Romola</td><td>Brocolinni - Gaylan, Chinese</td></tr>",
                            "<tr><td>Levy</td><td>Brocolinni - Gaylan, Chinese</td></tr>",
                            "<tr><td>Babara</td><td>Sauce - Ranch Dressing</td></tr>",
                            "<tr><td>Ines</td><td>Sauce - Ranch Dressing</td></tr>",
                            "<tr><td>Freddi</td><td>Sauce - Ranch Dressing</td></tr>",
                            "<tr><td>Ambur</td><td>Sauce - Ranch Dressing</td></tr>",
                            "<tr><td>Clemmie</td><td>Sauce - Ranch Dressing</td></tr>",
                            "<tr><td>Elka</td><td>Sauce - Ranch Dressing</td></tr>",
                            "<tr><td>Ilene</td><td>Sauce - Ranch Dressing</td></tr>",
                            "<tr><td>Thacher</td><td>Sauce - Ranch Dressing</td></tr>",
                            "<tr><td>Romola</td><td>Sauce - Ranch Dressing</td></tr>",
                            "<tr><td>Levy</td><td>Sauce - Ranch Dressing</td></tr>",
                            "<tr><td>Babara</td><td>Petit Baguette</td></tr>",
                            "<tr><td>Ines</td><td>Petit Baguette</td></tr>",
                            "<tr><td>Freddi</td><td>Petit Baguette</td></tr>",
                            "<tr><td>Ambur</td><td>Petit Baguette</td></tr>",
                            "<tr><td>Clemmie</td><td>Petit Baguette</td></tr>",
                            "<tr><td>Elka</td><td>Petit Baguette</td></tr>",
                            "<tr><td>Ilene</td><td>Petit Baguette</td></tr>",
                            "<tr><td>Thacher</td><td>Petit Baguette</td></tr>",
                            "<tr><td>Romola</td><td>Petit Baguette</td></tr>",
                            "<tr><td>Levy</td><td>Petit Baguette</td></tr>",
                            "<tr><td>Babara</td><td>Sweet Pea Sprouts</td></tr>",
                            "<tr><td>Ines</td><td>Sweet Pea Sprouts</td></tr>",
                            "<tr><td>Freddi</td><td>Sweet Pea Sprouts</td></tr>",
                            "<tr><td>Ambur</td><td>Sweet Pea Sprouts</td></tr>",
                            "<tr><td>Clemmie</td><td>Sweet Pea Sprouts</td></tr>",
                            "<tr><td>Elka</td><td>Sweet Pea Sprouts</td></tr>",
                            "<tr><td>Ilene</td><td>Sweet Pea Sprouts</td></tr>",
                            "<tr><td>Thacher</td><td>Sweet Pea Sprouts</td></tr>",
                            "<tr><td>Romola</td><td>Sweet Pea Sprouts</td></tr>",
                            "<tr><td>Levy</td><td>Sweet Pea Sprouts</td></tr>",
                            "<tr><td>Babara</td><td>Island Oasis - Raspberry</td></tr>",
                            "<tr><td>Ines</td><td>Island Oasis - Raspberry</td></tr>",
                            "<tr><td>Freddi</td><td>Island Oasis - Raspberry</td></tr>",
                            "<tr><td>Ambur</td><td>Island Oasis - Raspberry</td></tr>",
                            "<tr><td>Clemmie</td><td>Island Oasis - Raspberry</td></tr>",
                            "<tr><td>Elka</td><td>Island Oasis - Raspberry</td></tr>",
                            "<tr><td>Ilene</td><td>Island Oasis - Raspberry</td></tr>",
                            "<tr><td>Thacher</td><td>Island Oasis - Raspberry</td></tr>",
                            "<tr><td>Romola</td><td>Island Oasis - Raspberry</td></tr>",
                            "<tr><td>Levy</td><td>Island Oasis - Raspberry</td></tr>",
                            "<tr><td>Babara</td><td>Longan</td></tr>",
                            "<tr><td>Ines</td><td>Longan</td></tr>",
                            "<tr><td>Freddi</td><td>Longan</td></tr>",
                            "<tr><td>Ambur</td><td>Longan</td></tr>",
                            "<tr><td>Clemmie</td><td>Longan</td></tr>",
                            "<tr><td>Elka</td><td>Longan</td></tr>",
                            "<tr><td>Ilene</td><td>Longan</td></tr>",
                            "<tr><td>Thacher</td><td>Longan</td></tr>",
                            "<tr><td>Romola</td><td>Longan</td></tr>",
                            "<tr><td>Levy</td><td>Longan</td></tr>",
                            "<tr><td>Babara</td><td>Broom - Push</td></tr>",
                            "<tr><td>Ines</td><td>Broom - Push</td></tr>",
                            "<tr><td>Freddi</td><td>Broom - Push</td></tr>",
                            "<tr><td>Ambur</td><td>Broom - Push</td></tr>",
                            "<tr><td>Clemmie</td><td>Broom - Push</td></tr>",
                            "<tr><td>Elka</td><td>Broom - Push</td></tr>",
                            "<tr><td>Ilene</td><td>Broom - Push</td></tr>",
                            "<tr><td>Thacher</td><td>Broom - Push</td></tr>",
                            "<tr><td>Romola</td><td>Broom - Push</td></tr>",
                            "<tr><td>Levy</td><td>Broom - Push</td></tr>",
                            "</table>"
                        ]
                    }
                },
                {
                    "output_type": "execute_result",
                    "metadata": {},
                    "execution_count": 18,
                    "data": {
                        "application/vnd.dataresource+json": {
                            "schema": {
                                "fields": [
                                    {
                                        "name": "Customer"
                                    },
                                    {
                                        "name": "Product"
                                    }
                                ]
                            },
                            "data": [
                                {
                                    "0": "Babara",
                                    "1": "Foam Dinner Plate"
                                },
                                {
                                    "0": "Ines",
                                    "1": "Foam Dinner Plate"
                                },
                                {
                                    "0": "Freddi",
                                    "1": "Foam Dinner Plate"
                                },
                                {
                                    "0": "Ambur",
                                    "1": "Foam Dinner Plate"
                                },
                                {
                                    "0": "Clemmie",
                                    "1": "Foam Dinner Plate"
                                },
                                {
                                    "0": "Elka",
                                    "1": "Foam Dinner Plate"
                                },
                                {
                                    "0": "Ilene",
                                    "1": "Foam Dinner Plate"
                                },
                                {
                                    "0": "Thacher",
                                    "1": "Foam Dinner Plate"
                                },
                                {
                                    "0": "Romola",
                                    "1": "Foam Dinner Plate"
                                },
                                {
                                    "0": "Levy",
                                    "1": "Foam Dinner Plate"
                                },
                                {
                                    "0": "Babara",
                                    "1": "Pork - Bacon,back Peameal"
                                },
                                {
                                    "0": "Ines",
                                    "1": "Pork - Bacon,back Peameal"
                                },
                                {
                                    "0": "Freddi",
                                    "1": "Pork - Bacon,back Peameal"
                                },
                                {
                                    "0": "Ambur",
                                    "1": "Pork - Bacon,back Peameal"
                                },
                                {
                                    "0": "Clemmie",
                                    "1": "Pork - Bacon,back Peameal"
                                },
                                {
                                    "0": "Elka",
                                    "1": "Pork - Bacon,back Peameal"
                                },
                                {
                                    "0": "Ilene",
                                    "1": "Pork - Bacon,back Peameal"
                                },
                                {
                                    "0": "Thacher",
                                    "1": "Pork - Bacon,back Peameal"
                                },
                                {
                                    "0": "Romola",
                                    "1": "Pork - Bacon,back Peameal"
                                },
                                {
                                    "0": "Levy",
                                    "1": "Pork - Bacon,back Peameal"
                                },
                                {
                                    "0": "Babara",
                                    "1": "Lettuce - Romaine, Heart"
                                },
                                {
                                    "0": "Ines",
                                    "1": "Lettuce - Romaine, Heart"
                                },
                                {
                                    "0": "Freddi",
                                    "1": "Lettuce - Romaine, Heart"
                                },
                                {
                                    "0": "Ambur",
                                    "1": "Lettuce - Romaine, Heart"
                                },
                                {
                                    "0": "Clemmie",
                                    "1": "Lettuce - Romaine, Heart"
                                },
                                {
                                    "0": "Elka",
                                    "1": "Lettuce - Romaine, Heart"
                                },
                                {
                                    "0": "Ilene",
                                    "1": "Lettuce - Romaine, Heart"
                                },
                                {
                                    "0": "Thacher",
                                    "1": "Lettuce - Romaine, Heart"
                                },
                                {
                                    "0": "Romola",
                                    "1": "Lettuce - Romaine, Heart"
                                },
                                {
                                    "0": "Levy",
                                    "1": "Lettuce - Romaine, Heart"
                                },
                                {
                                    "0": "Babara",
                                    "1": "Brocolinni - Gaylan, Chinese"
                                },
                                {
                                    "0": "Ines",
                                    "1": "Brocolinni - Gaylan, Chinese"
                                },
                                {
                                    "0": "Freddi",
                                    "1": "Brocolinni - Gaylan, Chinese"
                                },
                                {
                                    "0": "Ambur",
                                    "1": "Brocolinni - Gaylan, Chinese"
                                },
                                {
                                    "0": "Clemmie",
                                    "1": "Brocolinni - Gaylan, Chinese"
                                },
                                {
                                    "0": "Elka",
                                    "1": "Brocolinni - Gaylan, Chinese"
                                },
                                {
                                    "0": "Ilene",
                                    "1": "Brocolinni - Gaylan, Chinese"
                                },
                                {
                                    "0": "Thacher",
                                    "1": "Brocolinni - Gaylan, Chinese"
                                },
                                {
                                    "0": "Romola",
                                    "1": "Brocolinni - Gaylan, Chinese"
                                },
                                {
                                    "0": "Levy",
                                    "1": "Brocolinni - Gaylan, Chinese"
                                },
                                {
                                    "0": "Babara",
                                    "1": "Sauce - Ranch Dressing"
                                },
                                {
                                    "0": "Ines",
                                    "1": "Sauce - Ranch Dressing"
                                },
                                {
                                    "0": "Freddi",
                                    "1": "Sauce - Ranch Dressing"
                                },
                                {
                                    "0": "Ambur",
                                    "1": "Sauce - Ranch Dressing"
                                },
                                {
                                    "0": "Clemmie",
                                    "1": "Sauce - Ranch Dressing"
                                },
                                {
                                    "0": "Elka",
                                    "1": "Sauce - Ranch Dressing"
                                },
                                {
                                    "0": "Ilene",
                                    "1": "Sauce - Ranch Dressing"
                                },
                                {
                                    "0": "Thacher",
                                    "1": "Sauce - Ranch Dressing"
                                },
                                {
                                    "0": "Romola",
                                    "1": "Sauce - Ranch Dressing"
                                },
                                {
                                    "0": "Levy",
                                    "1": "Sauce - Ranch Dressing"
                                },
                                {
                                    "0": "Babara",
                                    "1": "Petit Baguette"
                                },
                                {
                                    "0": "Ines",
                                    "1": "Petit Baguette"
                                },
                                {
                                    "0": "Freddi",
                                    "1": "Petit Baguette"
                                },
                                {
                                    "0": "Ambur",
                                    "1": "Petit Baguette"
                                },
                                {
                                    "0": "Clemmie",
                                    "1": "Petit Baguette"
                                },
                                {
                                    "0": "Elka",
                                    "1": "Petit Baguette"
                                },
                                {
                                    "0": "Ilene",
                                    "1": "Petit Baguette"
                                },
                                {
                                    "0": "Thacher",
                                    "1": "Petit Baguette"
                                },
                                {
                                    "0": "Romola",
                                    "1": "Petit Baguette"
                                },
                                {
                                    "0": "Levy",
                                    "1": "Petit Baguette"
                                },
                                {
                                    "0": "Babara",
                                    "1": "Sweet Pea Sprouts"
                                },
                                {
                                    "0": "Ines",
                                    "1": "Sweet Pea Sprouts"
                                },
                                {
                                    "0": "Freddi",
                                    "1": "Sweet Pea Sprouts"
                                },
                                {
                                    "0": "Ambur",
                                    "1": "Sweet Pea Sprouts"
                                },
                                {
                                    "0": "Clemmie",
                                    "1": "Sweet Pea Sprouts"
                                },
                                {
                                    "0": "Elka",
                                    "1": "Sweet Pea Sprouts"
                                },
                                {
                                    "0": "Ilene",
                                    "1": "Sweet Pea Sprouts"
                                },
                                {
                                    "0": "Thacher",
                                    "1": "Sweet Pea Sprouts"
                                },
                                {
                                    "0": "Romola",
                                    "1": "Sweet Pea Sprouts"
                                },
                                {
                                    "0": "Levy",
                                    "1": "Sweet Pea Sprouts"
                                },
                                {
                                    "0": "Babara",
                                    "1": "Island Oasis - Raspberry"
                                },
                                {
                                    "0": "Ines",
                                    "1": "Island Oasis - Raspberry"
                                },
                                {
                                    "0": "Freddi",
                                    "1": "Island Oasis - Raspberry"
                                },
                                {
                                    "0": "Ambur",
                                    "1": "Island Oasis - Raspberry"
                                },
                                {
                                    "0": "Clemmie",
                                    "1": "Island Oasis - Raspberry"
                                },
                                {
                                    "0": "Elka",
                                    "1": "Island Oasis - Raspberry"
                                },
                                {
                                    "0": "Ilene",
                                    "1": "Island Oasis - Raspberry"
                                },
                                {
                                    "0": "Thacher",
                                    "1": "Island Oasis - Raspberry"
                                },
                                {
                                    "0": "Romola",
                                    "1": "Island Oasis - Raspberry"
                                },
                                {
                                    "0": "Levy",
                                    "1": "Island Oasis - Raspberry"
                                },
                                {
                                    "0": "Babara",
                                    "1": "Longan"
                                },
                                {
                                    "0": "Ines",
                                    "1": "Longan"
                                },
                                {
                                    "0": "Freddi",
                                    "1": "Longan"
                                },
                                {
                                    "0": "Ambur",
                                    "1": "Longan"
                                },
                                {
                                    "0": "Clemmie",
                                    "1": "Longan"
                                },
                                {
                                    "0": "Elka",
                                    "1": "Longan"
                                },
                                {
                                    "0": "Ilene",
                                    "1": "Longan"
                                },
                                {
                                    "0": "Thacher",
                                    "1": "Longan"
                                },
                                {
                                    "0": "Romola",
                                    "1": "Longan"
                                },
                                {
                                    "0": "Levy",
                                    "1": "Longan"
                                },
                                {
                                    "0": "Babara",
                                    "1": "Broom - Push"
                                },
                                {
                                    "0": "Ines",
                                    "1": "Broom - Push"
                                },
                                {
                                    "0": "Freddi",
                                    "1": "Broom - Push"
                                },
                                {
                                    "0": "Ambur",
                                    "1": "Broom - Push"
                                },
                                {
                                    "0": "Clemmie",
                                    "1": "Broom - Push"
                                },
                                {
                                    "0": "Elka",
                                    "1": "Broom - Push"
                                },
                                {
                                    "0": "Ilene",
                                    "1": "Broom - Push"
                                },
                                {
                                    "0": "Thacher",
                                    "1": "Broom - Push"
                                },
                                {
                                    "0": "Romola",
                                    "1": "Broom - Push"
                                },
                                {
                                    "0": "Levy",
                                    "1": "Broom - Push"
                                }
                            ]
                        },
                        "text/html": [
                            "<table>",
                            "<tr><th>Customer</th><th>Product</th></tr>",
                            "<tr><td>Babara</td><td>Foam Dinner Plate</td></tr>",
                            "<tr><td>Ines</td><td>Foam Dinner Plate</td></tr>",
                            "<tr><td>Freddi</td><td>Foam Dinner Plate</td></tr>",
                            "<tr><td>Ambur</td><td>Foam Dinner Plate</td></tr>",
                            "<tr><td>Clemmie</td><td>Foam Dinner Plate</td></tr>",
                            "<tr><td>Elka</td><td>Foam Dinner Plate</td></tr>",
                            "<tr><td>Ilene</td><td>Foam Dinner Plate</td></tr>",
                            "<tr><td>Thacher</td><td>Foam Dinner Plate</td></tr>",
                            "<tr><td>Romola</td><td>Foam Dinner Plate</td></tr>",
                            "<tr><td>Levy</td><td>Foam Dinner Plate</td></tr>",
                            "<tr><td>Babara</td><td>Pork - Bacon,back Peameal</td></tr>",
                            "<tr><td>Ines</td><td>Pork - Bacon,back Peameal</td></tr>",
                            "<tr><td>Freddi</td><td>Pork - Bacon,back Peameal</td></tr>",
                            "<tr><td>Ambur</td><td>Pork - Bacon,back Peameal</td></tr>",
                            "<tr><td>Clemmie</td><td>Pork - Bacon,back Peameal</td></tr>",
                            "<tr><td>Elka</td><td>Pork - Bacon,back Peameal</td></tr>",
                            "<tr><td>Ilene</td><td>Pork - Bacon,back Peameal</td></tr>",
                            "<tr><td>Thacher</td><td>Pork - Bacon,back Peameal</td></tr>",
                            "<tr><td>Romola</td><td>Pork - Bacon,back Peameal</td></tr>",
                            "<tr><td>Levy</td><td>Pork - Bacon,back Peameal</td></tr>",
                            "<tr><td>Babara</td><td>Lettuce - Romaine, Heart</td></tr>",
                            "<tr><td>Ines</td><td>Lettuce - Romaine, Heart</td></tr>",
                            "<tr><td>Freddi</td><td>Lettuce - Romaine, Heart</td></tr>",
                            "<tr><td>Ambur</td><td>Lettuce - Romaine, Heart</td></tr>",
                            "<tr><td>Clemmie</td><td>Lettuce - Romaine, Heart</td></tr>",
                            "<tr><td>Elka</td><td>Lettuce - Romaine, Heart</td></tr>",
                            "<tr><td>Ilene</td><td>Lettuce - Romaine, Heart</td></tr>",
                            "<tr><td>Thacher</td><td>Lettuce - Romaine, Heart</td></tr>",
                            "<tr><td>Romola</td><td>Lettuce - Romaine, Heart</td></tr>",
                            "<tr><td>Levy</td><td>Lettuce - Romaine, Heart</td></tr>",
                            "<tr><td>Babara</td><td>Brocolinni - Gaylan, Chinese</td></tr>",
                            "<tr><td>Ines</td><td>Brocolinni - Gaylan, Chinese</td></tr>",
                            "<tr><td>Freddi</td><td>Brocolinni - Gaylan, Chinese</td></tr>",
                            "<tr><td>Ambur</td><td>Brocolinni - Gaylan, Chinese</td></tr>",
                            "<tr><td>Clemmie</td><td>Brocolinni - Gaylan, Chinese</td></tr>",
                            "<tr><td>Elka</td><td>Brocolinni - Gaylan, Chinese</td></tr>",
                            "<tr><td>Ilene</td><td>Brocolinni - Gaylan, Chinese</td></tr>",
                            "<tr><td>Thacher</td><td>Brocolinni - Gaylan, Chinese</td></tr>",
                            "<tr><td>Romola</td><td>Brocolinni - Gaylan, Chinese</td></tr>",
                            "<tr><td>Levy</td><td>Brocolinni - Gaylan, Chinese</td></tr>",
                            "<tr><td>Babara</td><td>Sauce - Ranch Dressing</td></tr>",
                            "<tr><td>Ines</td><td>Sauce - Ranch Dressing</td></tr>",
                            "<tr><td>Freddi</td><td>Sauce - Ranch Dressing</td></tr>",
                            "<tr><td>Ambur</td><td>Sauce - Ranch Dressing</td></tr>",
                            "<tr><td>Clemmie</td><td>Sauce - Ranch Dressing</td></tr>",
                            "<tr><td>Elka</td><td>Sauce - Ranch Dressing</td></tr>",
                            "<tr><td>Ilene</td><td>Sauce - Ranch Dressing</td></tr>",
                            "<tr><td>Thacher</td><td>Sauce - Ranch Dressing</td></tr>",
                            "<tr><td>Romola</td><td>Sauce - Ranch Dressing</td></tr>",
                            "<tr><td>Levy</td><td>Sauce - Ranch Dressing</td></tr>",
                            "<tr><td>Babara</td><td>Petit Baguette</td></tr>",
                            "<tr><td>Ines</td><td>Petit Baguette</td></tr>",
                            "<tr><td>Freddi</td><td>Petit Baguette</td></tr>",
                            "<tr><td>Ambur</td><td>Petit Baguette</td></tr>",
                            "<tr><td>Clemmie</td><td>Petit Baguette</td></tr>",
                            "<tr><td>Elka</td><td>Petit Baguette</td></tr>",
                            "<tr><td>Ilene</td><td>Petit Baguette</td></tr>",
                            "<tr><td>Thacher</td><td>Petit Baguette</td></tr>",
                            "<tr><td>Romola</td><td>Petit Baguette</td></tr>",
                            "<tr><td>Levy</td><td>Petit Baguette</td></tr>",
                            "<tr><td>Babara</td><td>Sweet Pea Sprouts</td></tr>",
                            "<tr><td>Ines</td><td>Sweet Pea Sprouts</td></tr>",
                            "<tr><td>Freddi</td><td>Sweet Pea Sprouts</td></tr>",
                            "<tr><td>Ambur</td><td>Sweet Pea Sprouts</td></tr>",
                            "<tr><td>Clemmie</td><td>Sweet Pea Sprouts</td></tr>",
                            "<tr><td>Elka</td><td>Sweet Pea Sprouts</td></tr>",
                            "<tr><td>Ilene</td><td>Sweet Pea Sprouts</td></tr>",
                            "<tr><td>Thacher</td><td>Sweet Pea Sprouts</td></tr>",
                            "<tr><td>Romola</td><td>Sweet Pea Sprouts</td></tr>",
                            "<tr><td>Levy</td><td>Sweet Pea Sprouts</td></tr>",
                            "<tr><td>Babara</td><td>Island Oasis - Raspberry</td></tr>",
                            "<tr><td>Ines</td><td>Island Oasis - Raspberry</td></tr>",
                            "<tr><td>Freddi</td><td>Island Oasis - Raspberry</td></tr>",
                            "<tr><td>Ambur</td><td>Island Oasis - Raspberry</td></tr>",
                            "<tr><td>Clemmie</td><td>Island Oasis - Raspberry</td></tr>",
                            "<tr><td>Elka</td><td>Island Oasis - Raspberry</td></tr>",
                            "<tr><td>Ilene</td><td>Island Oasis - Raspberry</td></tr>",
                            "<tr><td>Thacher</td><td>Island Oasis - Raspberry</td></tr>",
                            "<tr><td>Romola</td><td>Island Oasis - Raspberry</td></tr>",
                            "<tr><td>Levy</td><td>Island Oasis - Raspberry</td></tr>",
                            "<tr><td>Babara</td><td>Longan</td></tr>",
                            "<tr><td>Ines</td><td>Longan</td></tr>",
                            "<tr><td>Freddi</td><td>Longan</td></tr>",
                            "<tr><td>Ambur</td><td>Longan</td></tr>",
                            "<tr><td>Clemmie</td><td>Longan</td></tr>",
                            "<tr><td>Elka</td><td>Longan</td></tr>",
                            "<tr><td>Ilene</td><td>Longan</td></tr>",
                            "<tr><td>Thacher</td><td>Longan</td></tr>",
                            "<tr><td>Romola</td><td>Longan</td></tr>",
                            "<tr><td>Levy</td><td>Longan</td></tr>",
                            "<tr><td>Babara</td><td>Broom - Push</td></tr>",
                            "<tr><td>Ines</td><td>Broom - Push</td></tr>",
                            "<tr><td>Freddi</td><td>Broom - Push</td></tr>",
                            "<tr><td>Ambur</td><td>Broom - Push</td></tr>",
                            "<tr><td>Clemmie</td><td>Broom - Push</td></tr>",
                            "<tr><td>Elka</td><td>Broom - Push</td></tr>",
                            "<tr><td>Ilene</td><td>Broom - Push</td></tr>",
                            "<tr><td>Thacher</td><td>Broom - Push</td></tr>",
                            "<tr><td>Romola</td><td>Broom - Push</td></tr>",
                            "<tr><td>Levy</td><td>Broom - Push</td></tr>",
                            "</table>"
                        ]
                    }
                }
            ],
            "execution_count": 18
        },
        {
            "cell_type": "code",
            "source": [
                "-- Exercise 4\n",
                "-- Cross Joins\n",
                "\n",
                "SELECT * FROM Shippers S CROSS JOIN Products P;"
            ],
            "metadata": {
                "azdata_cell_guid": "ec297e0a-ba69-4dbc-ab54-829cc91a56a0"
            },
            "outputs": [
                {
                    "output_type": "display_data",
                    "data": {
                        "text/html": "(50 rows affected)"
                    },
                    "metadata": {}
                },
                {
                    "output_type": "display_data",
                    "data": {
                        "text/html": "Total execution time: 00:00:00.007"
                    },
                    "metadata": {}
                },
                {
                    "output_type": "execute_result",
                    "metadata": {},
                    "execution_count": 19,
                    "data": {
                        "application/vnd.dataresource+json": {
                            "schema": {
                                "fields": [
                                    {
                                        "name": "ShipperId"
                                    },
                                    {
                                        "name": "name"
                                    },
                                    {
                                        "name": "ProductId"
                                    },
                                    {
                                        "name": "Name"
                                    },
                                    {
                                        "name": "QuantityInStock"
                                    },
                                    {
                                        "name": "UnitPrice"
                                    }
                                ]
                            },
                            "data": [
                                {
                                    "0": "1",
                                    "1": "Hettinger LLC",
                                    "2": "1",
                                    "3": "Foam Dinner Plate",
                                    "4": "70",
                                    "5": "1.21"
                                },
                                {
                                    "0": "1",
                                    "1": "Hettinger LLC",
                                    "2": "2",
                                    "3": "Pork - Bacon,back Peameal",
                                    "4": "49",
                                    "5": "4.65"
                                },
                                {
                                    "0": "1",
                                    "1": "Hettinger LLC",
                                    "2": "3",
                                    "3": "Lettuce - Romaine, Heart",
                                    "4": "38",
                                    "5": "3.35"
                                },
                                {
                                    "0": "1",
                                    "1": "Hettinger LLC",
                                    "2": "4",
                                    "3": "Brocolinni - Gaylan, Chinese",
                                    "4": "90",
                                    "5": "4.53"
                                },
                                {
                                    "0": "1",
                                    "1": "Hettinger LLC",
                                    "2": "5",
                                    "3": "Sauce - Ranch Dressing",
                                    "4": "94",
                                    "5": "1.63"
                                },
                                {
                                    "0": "1",
                                    "1": "Hettinger LLC",
                                    "2": "6",
                                    "3": "Petit Baguette",
                                    "4": "14",
                                    "5": "2.39"
                                },
                                {
                                    "0": "1",
                                    "1": "Hettinger LLC",
                                    "2": "7",
                                    "3": "Sweet Pea Sprouts",
                                    "4": "98",
                                    "5": "3.29"
                                },
                                {
                                    "0": "1",
                                    "1": "Hettinger LLC",
                                    "2": "8",
                                    "3": "Island Oasis - Raspberry",
                                    "4": "26",
                                    "5": "0.74"
                                },
                                {
                                    "0": "1",
                                    "1": "Hettinger LLC",
                                    "2": "9",
                                    "3": "Longan",
                                    "4": "67",
                                    "5": "2.26"
                                },
                                {
                                    "0": "1",
                                    "1": "Hettinger LLC",
                                    "2": "10",
                                    "3": "Broom - Push",
                                    "4": "6",
                                    "5": "1.09"
                                },
                                {
                                    "0": "2",
                                    "1": "Schinner-Predovic",
                                    "2": "1",
                                    "3": "Foam Dinner Plate",
                                    "4": "70",
                                    "5": "1.21"
                                },
                                {
                                    "0": "2",
                                    "1": "Schinner-Predovic",
                                    "2": "2",
                                    "3": "Pork - Bacon,back Peameal",
                                    "4": "49",
                                    "5": "4.65"
                                },
                                {
                                    "0": "2",
                                    "1": "Schinner-Predovic",
                                    "2": "3",
                                    "3": "Lettuce - Romaine, Heart",
                                    "4": "38",
                                    "5": "3.35"
                                },
                                {
                                    "0": "2",
                                    "1": "Schinner-Predovic",
                                    "2": "4",
                                    "3": "Brocolinni - Gaylan, Chinese",
                                    "4": "90",
                                    "5": "4.53"
                                },
                                {
                                    "0": "2",
                                    "1": "Schinner-Predovic",
                                    "2": "5",
                                    "3": "Sauce - Ranch Dressing",
                                    "4": "94",
                                    "5": "1.63"
                                },
                                {
                                    "0": "2",
                                    "1": "Schinner-Predovic",
                                    "2": "6",
                                    "3": "Petit Baguette",
                                    "4": "14",
                                    "5": "2.39"
                                },
                                {
                                    "0": "2",
                                    "1": "Schinner-Predovic",
                                    "2": "7",
                                    "3": "Sweet Pea Sprouts",
                                    "4": "98",
                                    "5": "3.29"
                                },
                                {
                                    "0": "2",
                                    "1": "Schinner-Predovic",
                                    "2": "8",
                                    "3": "Island Oasis - Raspberry",
                                    "4": "26",
                                    "5": "0.74"
                                },
                                {
                                    "0": "2",
                                    "1": "Schinner-Predovic",
                                    "2": "9",
                                    "3": "Longan",
                                    "4": "67",
                                    "5": "2.26"
                                },
                                {
                                    "0": "2",
                                    "1": "Schinner-Predovic",
                                    "2": "10",
                                    "3": "Broom - Push",
                                    "4": "6",
                                    "5": "1.09"
                                },
                                {
                                    "0": "3",
                                    "1": "Satterfield LLC",
                                    "2": "1",
                                    "3": "Foam Dinner Plate",
                                    "4": "70",
                                    "5": "1.21"
                                },
                                {
                                    "0": "3",
                                    "1": "Satterfield LLC",
                                    "2": "2",
                                    "3": "Pork - Bacon,back Peameal",
                                    "4": "49",
                                    "5": "4.65"
                                },
                                {
                                    "0": "3",
                                    "1": "Satterfield LLC",
                                    "2": "3",
                                    "3": "Lettuce - Romaine, Heart",
                                    "4": "38",
                                    "5": "3.35"
                                },
                                {
                                    "0": "3",
                                    "1": "Satterfield LLC",
                                    "2": "4",
                                    "3": "Brocolinni - Gaylan, Chinese",
                                    "4": "90",
                                    "5": "4.53"
                                },
                                {
                                    "0": "3",
                                    "1": "Satterfield LLC",
                                    "2": "5",
                                    "3": "Sauce - Ranch Dressing",
                                    "4": "94",
                                    "5": "1.63"
                                },
                                {
                                    "0": "3",
                                    "1": "Satterfield LLC",
                                    "2": "6",
                                    "3": "Petit Baguette",
                                    "4": "14",
                                    "5": "2.39"
                                },
                                {
                                    "0": "3",
                                    "1": "Satterfield LLC",
                                    "2": "7",
                                    "3": "Sweet Pea Sprouts",
                                    "4": "98",
                                    "5": "3.29"
                                },
                                {
                                    "0": "3",
                                    "1": "Satterfield LLC",
                                    "2": "8",
                                    "3": "Island Oasis - Raspberry",
                                    "4": "26",
                                    "5": "0.74"
                                },
                                {
                                    "0": "3",
                                    "1": "Satterfield LLC",
                                    "2": "9",
                                    "3": "Longan",
                                    "4": "67",
                                    "5": "2.26"
                                },
                                {
                                    "0": "3",
                                    "1": "Satterfield LLC",
                                    "2": "10",
                                    "3": "Broom - Push",
                                    "4": "6",
                                    "5": "1.09"
                                },
                                {
                                    "0": "4",
                                    "1": "Mraz, Renner and Nolan",
                                    "2": "1",
                                    "3": "Foam Dinner Plate",
                                    "4": "70",
                                    "5": "1.21"
                                },
                                {
                                    "0": "4",
                                    "1": "Mraz, Renner and Nolan",
                                    "2": "2",
                                    "3": "Pork - Bacon,back Peameal",
                                    "4": "49",
                                    "5": "4.65"
                                },
                                {
                                    "0": "4",
                                    "1": "Mraz, Renner and Nolan",
                                    "2": "3",
                                    "3": "Lettuce - Romaine, Heart",
                                    "4": "38",
                                    "5": "3.35"
                                },
                                {
                                    "0": "4",
                                    "1": "Mraz, Renner and Nolan",
                                    "2": "4",
                                    "3": "Brocolinni - Gaylan, Chinese",
                                    "4": "90",
                                    "5": "4.53"
                                },
                                {
                                    "0": "4",
                                    "1": "Mraz, Renner and Nolan",
                                    "2": "5",
                                    "3": "Sauce - Ranch Dressing",
                                    "4": "94",
                                    "5": "1.63"
                                },
                                {
                                    "0": "4",
                                    "1": "Mraz, Renner and Nolan",
                                    "2": "6",
                                    "3": "Petit Baguette",
                                    "4": "14",
                                    "5": "2.39"
                                },
                                {
                                    "0": "4",
                                    "1": "Mraz, Renner and Nolan",
                                    "2": "7",
                                    "3": "Sweet Pea Sprouts",
                                    "4": "98",
                                    "5": "3.29"
                                },
                                {
                                    "0": "4",
                                    "1": "Mraz, Renner and Nolan",
                                    "2": "8",
                                    "3": "Island Oasis - Raspberry",
                                    "4": "26",
                                    "5": "0.74"
                                },
                                {
                                    "0": "4",
                                    "1": "Mraz, Renner and Nolan",
                                    "2": "9",
                                    "3": "Longan",
                                    "4": "67",
                                    "5": "2.26"
                                },
                                {
                                    "0": "4",
                                    "1": "Mraz, Renner and Nolan",
                                    "2": "10",
                                    "3": "Broom - Push",
                                    "4": "6",
                                    "5": "1.09"
                                },
                                {
                                    "0": "5",
                                    "1": "Waters, Mayert and Prohaska",
                                    "2": "1",
                                    "3": "Foam Dinner Plate",
                                    "4": "70",
                                    "5": "1.21"
                                },
                                {
                                    "0": "5",
                                    "1": "Waters, Mayert and Prohaska",
                                    "2": "2",
                                    "3": "Pork - Bacon,back Peameal",
                                    "4": "49",
                                    "5": "4.65"
                                },
                                {
                                    "0": "5",
                                    "1": "Waters, Mayert and Prohaska",
                                    "2": "3",
                                    "3": "Lettuce - Romaine, Heart",
                                    "4": "38",
                                    "5": "3.35"
                                },
                                {
                                    "0": "5",
                                    "1": "Waters, Mayert and Prohaska",
                                    "2": "4",
                                    "3": "Brocolinni - Gaylan, Chinese",
                                    "4": "90",
                                    "5": "4.53"
                                },
                                {
                                    "0": "5",
                                    "1": "Waters, Mayert and Prohaska",
                                    "2": "5",
                                    "3": "Sauce - Ranch Dressing",
                                    "4": "94",
                                    "5": "1.63"
                                },
                                {
                                    "0": "5",
                                    "1": "Waters, Mayert and Prohaska",
                                    "2": "6",
                                    "3": "Petit Baguette",
                                    "4": "14",
                                    "5": "2.39"
                                },
                                {
                                    "0": "5",
                                    "1": "Waters, Mayert and Prohaska",
                                    "2": "7",
                                    "3": "Sweet Pea Sprouts",
                                    "4": "98",
                                    "5": "3.29"
                                },
                                {
                                    "0": "5",
                                    "1": "Waters, Mayert and Prohaska",
                                    "2": "8",
                                    "3": "Island Oasis - Raspberry",
                                    "4": "26",
                                    "5": "0.74"
                                },
                                {
                                    "0": "5",
                                    "1": "Waters, Mayert and Prohaska",
                                    "2": "9",
                                    "3": "Longan",
                                    "4": "67",
                                    "5": "2.26"
                                },
                                {
                                    "0": "5",
                                    "1": "Waters, Mayert and Prohaska",
                                    "2": "10",
                                    "3": "Broom - Push",
                                    "4": "6",
                                    "5": "1.09"
                                }
                            ]
                        },
                        "text/html": [
                            "<table>",
                            "<tr><th>ShipperId</th><th>name</th><th>ProductId</th><th>Name</th><th>QuantityInStock</th><th>UnitPrice</th></tr>",
                            "<tr><td>1</td><td>Hettinger LLC</td><td>1</td><td>Foam Dinner Plate</td><td>70</td><td>1.21</td></tr>",
                            "<tr><td>1</td><td>Hettinger LLC</td><td>2</td><td>Pork - Bacon,back Peameal</td><td>49</td><td>4.65</td></tr>",
                            "<tr><td>1</td><td>Hettinger LLC</td><td>3</td><td>Lettuce - Romaine, Heart</td><td>38</td><td>3.35</td></tr>",
                            "<tr><td>1</td><td>Hettinger LLC</td><td>4</td><td>Brocolinni - Gaylan, Chinese</td><td>90</td><td>4.53</td></tr>",
                            "<tr><td>1</td><td>Hettinger LLC</td><td>5</td><td>Sauce - Ranch Dressing</td><td>94</td><td>1.63</td></tr>",
                            "<tr><td>1</td><td>Hettinger LLC</td><td>6</td><td>Petit Baguette</td><td>14</td><td>2.39</td></tr>",
                            "<tr><td>1</td><td>Hettinger LLC</td><td>7</td><td>Sweet Pea Sprouts</td><td>98</td><td>3.29</td></tr>",
                            "<tr><td>1</td><td>Hettinger LLC</td><td>8</td><td>Island Oasis - Raspberry</td><td>26</td><td>0.74</td></tr>",
                            "<tr><td>1</td><td>Hettinger LLC</td><td>9</td><td>Longan</td><td>67</td><td>2.26</td></tr>",
                            "<tr><td>1</td><td>Hettinger LLC</td><td>10</td><td>Broom - Push</td><td>6</td><td>1.09</td></tr>",
                            "<tr><td>2</td><td>Schinner-Predovic</td><td>1</td><td>Foam Dinner Plate</td><td>70</td><td>1.21</td></tr>",
                            "<tr><td>2</td><td>Schinner-Predovic</td><td>2</td><td>Pork - Bacon,back Peameal</td><td>49</td><td>4.65</td></tr>",
                            "<tr><td>2</td><td>Schinner-Predovic</td><td>3</td><td>Lettuce - Romaine, Heart</td><td>38</td><td>3.35</td></tr>",
                            "<tr><td>2</td><td>Schinner-Predovic</td><td>4</td><td>Brocolinni - Gaylan, Chinese</td><td>90</td><td>4.53</td></tr>",
                            "<tr><td>2</td><td>Schinner-Predovic</td><td>5</td><td>Sauce - Ranch Dressing</td><td>94</td><td>1.63</td></tr>",
                            "<tr><td>2</td><td>Schinner-Predovic</td><td>6</td><td>Petit Baguette</td><td>14</td><td>2.39</td></tr>",
                            "<tr><td>2</td><td>Schinner-Predovic</td><td>7</td><td>Sweet Pea Sprouts</td><td>98</td><td>3.29</td></tr>",
                            "<tr><td>2</td><td>Schinner-Predovic</td><td>8</td><td>Island Oasis - Raspberry</td><td>26</td><td>0.74</td></tr>",
                            "<tr><td>2</td><td>Schinner-Predovic</td><td>9</td><td>Longan</td><td>67</td><td>2.26</td></tr>",
                            "<tr><td>2</td><td>Schinner-Predovic</td><td>10</td><td>Broom - Push</td><td>6</td><td>1.09</td></tr>",
                            "<tr><td>3</td><td>Satterfield LLC</td><td>1</td><td>Foam Dinner Plate</td><td>70</td><td>1.21</td></tr>",
                            "<tr><td>3</td><td>Satterfield LLC</td><td>2</td><td>Pork - Bacon,back Peameal</td><td>49</td><td>4.65</td></tr>",
                            "<tr><td>3</td><td>Satterfield LLC</td><td>3</td><td>Lettuce - Romaine, Heart</td><td>38</td><td>3.35</td></tr>",
                            "<tr><td>3</td><td>Satterfield LLC</td><td>4</td><td>Brocolinni - Gaylan, Chinese</td><td>90</td><td>4.53</td></tr>",
                            "<tr><td>3</td><td>Satterfield LLC</td><td>5</td><td>Sauce - Ranch Dressing</td><td>94</td><td>1.63</td></tr>",
                            "<tr><td>3</td><td>Satterfield LLC</td><td>6</td><td>Petit Baguette</td><td>14</td><td>2.39</td></tr>",
                            "<tr><td>3</td><td>Satterfield LLC</td><td>7</td><td>Sweet Pea Sprouts</td><td>98</td><td>3.29</td></tr>",
                            "<tr><td>3</td><td>Satterfield LLC</td><td>8</td><td>Island Oasis - Raspberry</td><td>26</td><td>0.74</td></tr>",
                            "<tr><td>3</td><td>Satterfield LLC</td><td>9</td><td>Longan</td><td>67</td><td>2.26</td></tr>",
                            "<tr><td>3</td><td>Satterfield LLC</td><td>10</td><td>Broom - Push</td><td>6</td><td>1.09</td></tr>",
                            "<tr><td>4</td><td>Mraz, Renner and Nolan</td><td>1</td><td>Foam Dinner Plate</td><td>70</td><td>1.21</td></tr>",
                            "<tr><td>4</td><td>Mraz, Renner and Nolan</td><td>2</td><td>Pork - Bacon,back Peameal</td><td>49</td><td>4.65</td></tr>",
                            "<tr><td>4</td><td>Mraz, Renner and Nolan</td><td>3</td><td>Lettuce - Romaine, Heart</td><td>38</td><td>3.35</td></tr>",
                            "<tr><td>4</td><td>Mraz, Renner and Nolan</td><td>4</td><td>Brocolinni - Gaylan, Chinese</td><td>90</td><td>4.53</td></tr>",
                            "<tr><td>4</td><td>Mraz, Renner and Nolan</td><td>5</td><td>Sauce - Ranch Dressing</td><td>94</td><td>1.63</td></tr>",
                            "<tr><td>4</td><td>Mraz, Renner and Nolan</td><td>6</td><td>Petit Baguette</td><td>14</td><td>2.39</td></tr>",
                            "<tr><td>4</td><td>Mraz, Renner and Nolan</td><td>7</td><td>Sweet Pea Sprouts</td><td>98</td><td>3.29</td></tr>",
                            "<tr><td>4</td><td>Mraz, Renner and Nolan</td><td>8</td><td>Island Oasis - Raspberry</td><td>26</td><td>0.74</td></tr>",
                            "<tr><td>4</td><td>Mraz, Renner and Nolan</td><td>9</td><td>Longan</td><td>67</td><td>2.26</td></tr>",
                            "<tr><td>4</td><td>Mraz, Renner and Nolan</td><td>10</td><td>Broom - Push</td><td>6</td><td>1.09</td></tr>",
                            "<tr><td>5</td><td>Waters, Mayert and Prohaska</td><td>1</td><td>Foam Dinner Plate</td><td>70</td><td>1.21</td></tr>",
                            "<tr><td>5</td><td>Waters, Mayert and Prohaska</td><td>2</td><td>Pork - Bacon,back Peameal</td><td>49</td><td>4.65</td></tr>",
                            "<tr><td>5</td><td>Waters, Mayert and Prohaska</td><td>3</td><td>Lettuce - Romaine, Heart</td><td>38</td><td>3.35</td></tr>",
                            "<tr><td>5</td><td>Waters, Mayert and Prohaska</td><td>4</td><td>Brocolinni - Gaylan, Chinese</td><td>90</td><td>4.53</td></tr>",
                            "<tr><td>5</td><td>Waters, Mayert and Prohaska</td><td>5</td><td>Sauce - Ranch Dressing</td><td>94</td><td>1.63</td></tr>",
                            "<tr><td>5</td><td>Waters, Mayert and Prohaska</td><td>6</td><td>Petit Baguette</td><td>14</td><td>2.39</td></tr>",
                            "<tr><td>5</td><td>Waters, Mayert and Prohaska</td><td>7</td><td>Sweet Pea Sprouts</td><td>98</td><td>3.29</td></tr>",
                            "<tr><td>5</td><td>Waters, Mayert and Prohaska</td><td>8</td><td>Island Oasis - Raspberry</td><td>26</td><td>0.74</td></tr>",
                            "<tr><td>5</td><td>Waters, Mayert and Prohaska</td><td>9</td><td>Longan</td><td>67</td><td>2.26</td></tr>",
                            "<tr><td>5</td><td>Waters, Mayert and Prohaska</td><td>10</td><td>Broom - Push</td><td>6</td><td>1.09</td></tr>",
                            "</table>"
                        ]
                    }
                }
            ],
            "execution_count": 19
        },
        {
            "cell_type": "code",
            "source": [
                "-- UNIONS\n",
                "-- All queries combined using a UNION, INTERSECT or EXCEPT operator must have an equal number of expressions in their target lists.\n",
                "SELECT OrderId, OrderDate, 'Active' as Status FROM Orders WHERE YEAR(OrderDate) = YEAR(GETDATE()) - 3\n",
                "UNION\n",
                "SELECT OrderId, OrderDate, 'Archived' as Status FROM Orders WHERE YEAR(OrderDate) = YEAR(GETDATE()) - 4;\n",
                ""
            ],
            "metadata": {
                "azdata_cell_guid": "890e6822-d2af-45e5-b0ea-02b4f8eb786c",
                "tags": []
            },
            "outputs": [
                {
                    "output_type": "display_data",
                    "data": {
                        "text/html": "(6 rows affected)"
                    },
                    "metadata": {}
                },
                {
                    "output_type": "display_data",
                    "data": {
                        "text/html": "Total execution time: 00:00:00.036"
                    },
                    "metadata": {}
                },
                {
                    "output_type": "execute_result",
                    "metadata": {},
                    "execution_count": 32,
                    "data": {
                        "application/vnd.dataresource+json": {
                            "schema": {
                                "fields": [
                                    {
                                        "name": "OrderId"
                                    },
                                    {
                                        "name": "OrderDate"
                                    },
                                    {
                                        "name": "Status"
                                    }
                                ]
                            },
                            "data": [
                                {
                                    "0": "1",
                                    "1": "2019-01-30",
                                    "2": "Active"
                                },
                                {
                                    "0": "2",
                                    "1": "2018-08-02",
                                    "2": "Archived"
                                },
                                {
                                    "0": "6",
                                    "1": "2018-11-18",
                                    "2": "Archived"
                                },
                                {
                                    "0": "7",
                                    "1": "2018-09-22",
                                    "2": "Archived"
                                },
                                {
                                    "0": "8",
                                    "1": "2018-06-08",
                                    "2": "Archived"
                                },
                                {
                                    "0": "10",
                                    "1": "2018-04-22",
                                    "2": "Archived"
                                }
                            ]
                        },
                        "text/html": [
                            "<table>",
                            "<tr><th>OrderId</th><th>OrderDate</th><th>Status</th></tr>",
                            "<tr><td>1</td><td>2019-01-30</td><td>Active</td></tr>",
                            "<tr><td>2</td><td>2018-08-02</td><td>Archived</td></tr>",
                            "<tr><td>6</td><td>2018-11-18</td><td>Archived</td></tr>",
                            "<tr><td>7</td><td>2018-09-22</td><td>Archived</td></tr>",
                            "<tr><td>8</td><td>2018-06-08</td><td>Archived</td></tr>",
                            "<tr><td>10</td><td>2018-04-22</td><td>Archived</td></tr>",
                            "</table>"
                        ]
                    }
                }
            ],
            "execution_count": 32
        },
        {
            "cell_type": "code",
            "source": [
                "-- Exercise 5\n",
                "-- Unions\n",
                "\n",
                "SELECT CustomerId, FirstName, Points, 'Bronze' as Type FROM Customers WHERE Points < 2000\n",
                "UNION\n",
                "SELECT CustomerId, FirstName, Points, 'Silver' as Type FROM Customers WHERE Points BETWEEN 2000 AND 3000\n",
                "UNION\n",
                "SELECT CustomerId, FirstName, Points, 'Gold' as Type FROM Customers WHERE Points > 3000;"
            ],
            "metadata": {
                "azdata_cell_guid": "8fd65a13-f1ea-4cc2-998c-000cf525a8d0"
            },
            "outputs": [
                {
                    "output_type": "display_data",
                    "data": {
                        "text/html": "(10 rows affected)"
                    },
                    "metadata": {}
                },
                {
                    "output_type": "display_data",
                    "data": {
                        "text/html": "Total execution time: 00:00:00.009"
                    },
                    "metadata": {}
                },
                {
                    "output_type": "execute_result",
                    "metadata": {},
                    "execution_count": 38,
                    "data": {
                        "application/vnd.dataresource+json": {
                            "schema": {
                                "fields": [
                                    {
                                        "name": "CustomerId"
                                    },
                                    {
                                        "name": "FirstName"
                                    },
                                    {
                                        "name": "Points"
                                    },
                                    {
                                        "name": "Type"
                                    }
                                ]
                            },
                            "data": [
                                {
                                    "0": "1",
                                    "1": "Babara",
                                    "2": "2273",
                                    "3": "Silver"
                                },
                                {
                                    "0": "2",
                                    "1": "Ines",
                                    "2": "947",
                                    "3": "Bronze"
                                },
                                {
                                    "0": "3",
                                    "1": "Freddi",
                                    "2": "2967",
                                    "3": "Silver"
                                },
                                {
                                    "0": "4",
                                    "1": "Ambur",
                                    "2": "457",
                                    "3": "Bronze"
                                },
                                {
                                    "0": "5",
                                    "1": "Clemmie",
                                    "2": "3675",
                                    "3": "Gold"
                                },
                                {
                                    "0": "6",
                                    "1": "Elka",
                                    "2": "3073",
                                    "3": "Gold"
                                },
                                {
                                    "0": "7",
                                    "1": "Ilene",
                                    "2": "1672",
                                    "3": "Bronze"
                                },
                                {
                                    "0": "8",
                                    "1": "Thacher",
                                    "2": "205",
                                    "3": "Bronze"
                                },
                                {
                                    "0": "9",
                                    "1": "Romola",
                                    "2": "1486",
                                    "3": "Bronze"
                                },
                                {
                                    "0": "10",
                                    "1": "Levy",
                                    "2": "796",
                                    "3": "Bronze"
                                }
                            ]
                        },
                        "text/html": [
                            "<table>",
                            "<tr><th>CustomerId</th><th>FirstName</th><th>Points</th><th>Type</th></tr>",
                            "<tr><td>1</td><td>Babara</td><td>2273</td><td>Silver</td></tr>",
                            "<tr><td>2</td><td>Ines</td><td>947</td><td>Bronze</td></tr>",
                            "<tr><td>3</td><td>Freddi</td><td>2967</td><td>Silver</td></tr>",
                            "<tr><td>4</td><td>Ambur</td><td>457</td><td>Bronze</td></tr>",
                            "<tr><td>5</td><td>Clemmie</td><td>3675</td><td>Gold</td></tr>",
                            "<tr><td>6</td><td>Elka</td><td>3073</td><td>Gold</td></tr>",
                            "<tr><td>7</td><td>Ilene</td><td>1672</td><td>Bronze</td></tr>",
                            "<tr><td>8</td><td>Thacher</td><td>205</td><td>Bronze</td></tr>",
                            "<tr><td>9</td><td>Romola</td><td>1486</td><td>Bronze</td></tr>",
                            "<tr><td>10</td><td>Levy</td><td>796</td><td>Bronze</td></tr>",
                            "</table>"
                        ]
                    }
                }
            ],
            "execution_count": 38
        }
    ]
}