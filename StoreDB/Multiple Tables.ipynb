{
    "metadata": {
        "kernelspec": {
            "name": "SQL",
            "display_name": "SQL",
            "language": "sql"
        },
        "language_info": {
            "name": "sql",
            "version": ""
        }
    },
    "nbformat_minor": 2,
    "nbformat": 4,
    "cells": [
        {
            "cell_type": "code",
            "source": [
                "-- Init\n",
                "-- Ensure Init StoreDB is run before to setup the Store DB\n",
                "\n",
                "USE Store;"
            ],
            "metadata": {
                "azdata_cell_guid": "1870631a-800e-480d-98d9-5c3631d0659e"
            },
            "outputs": [
                {
                    "output_type": "display_data",
                    "data": {
                        "text/html": "Commands completed successfully."
                    },
                    "metadata": {}
                },
                {
                    "output_type": "display_data",
                    "data": {
                        "text/html": "Total execution time: 00:00:00.001"
                    },
                    "metadata": {}
                }
            ],
            "execution_count": 1
        },
        {
            "cell_type": "code",
            "source": [
                "-- Inner Join \n",
                "SELECT * FROM Orders O JOIN Customers C ON O.CustomerId = C.CustomerId;"
            ],
            "metadata": {
                "azdata_cell_guid": "d1887907-de6e-4dd4-9305-08a22d4ac55e",
                "tags": []
            },
            "outputs": [
                {
                    "output_type": "display_data",
                    "data": {
                        "text/html": "(10 rows affected)"
                    },
                    "metadata": {}
                },
                {
                    "output_type": "display_data",
                    "data": {
                        "text/html": "Total execution time: 00:00:00.024"
                    },
                    "metadata": {}
                },
                {
                    "output_type": "execute_result",
                    "metadata": {},
                    "execution_count": 4,
                    "data": {
                        "application/vnd.dataresource+json": {
                            "schema": {
                                "fields": [
                                    {
                                        "name": "OrderID"
                                    },
                                    {
                                        "name": "CustomerId"
                                    },
                                    {
                                        "name": "OrderDate"
                                    },
                                    {
                                        "name": "Status"
                                    },
                                    {
                                        "name": "comments"
                                    },
                                    {
                                        "name": "ShippedDate"
                                    },
                                    {
                                        "name": "ShipperId"
                                    },
                                    {
                                        "name": "CustomerId"
                                    },
                                    {
                                        "name": "FirstName"
                                    },
                                    {
                                        "name": "LastName"
                                    },
                                    {
                                        "name": "BirthDate"
                                    },
                                    {
                                        "name": "Phone"
                                    },
                                    {
                                        "name": "Address"
                                    },
                                    {
                                        "name": "City"
                                    },
                                    {
                                        "name": "State"
                                    },
                                    {
                                        "name": "Points"
                                    }
                                ]
                            },
                            "data": [
                                {
                                    "0": "1",
                                    "1": "6",
                                    "2": "2019-01-30",
                                    "3": "1",
                                    "4": "NULL",
                                    "5": "NULL",
                                    "6": "NULL",
                                    "7": "6",
                                    "8": "Elka",
                                    "9": "Twiddell",
                                    "10": "1991-09-04",
                                    "11": "312-480-8498",
                                    "12": "7 Manley Drive",
                                    "13": "Chicago",
                                    "14": "IL",
                                    "15": "3073"
                                },
                                {
                                    "0": "2",
                                    "1": "7",
                                    "2": "2018-08-02",
                                    "3": "2",
                                    "4": "NULL",
                                    "5": "2018-08-03",
                                    "6": "4",
                                    "7": "7",
                                    "8": "Ilene",
                                    "9": "Dowson",
                                    "10": "1964-08-30",
                                    "11": "615-641-4759",
                                    "12": "50 Lillian Crossing",
                                    "13": "Nashville",
                                    "14": "TN",
                                    "15": "1672"
                                },
                                {
                                    "0": "3",
                                    "1": "8",
                                    "2": "2017-12-01",
                                    "3": "1",
                                    "4": "NULL",
                                    "5": "NULL",
                                    "6": "NULL",
                                    "7": "8",
                                    "8": "Thacher",
                                    "9": "Naseby",
                                    "10": "1993-07-17",
                                    "11": "941-527-3977",
                                    "12": "538 Mosinee Center",
                                    "13": "Sarasota",
                                    "14": "FL",
                                    "15": "205"
                                },
                                {
                                    "0": "4",
                                    "1": "2",
                                    "2": "2017-01-22",
                                    "3": "1",
                                    "4": "NULL",
                                    "5": "NULL",
                                    "6": "NULL",
                                    "7": "2",
                                    "8": "Ines",
                                    "9": "Brushfield",
                                    "10": "1986-04-13",
                                    "11": "804-427-9456",
                                    "12": "14187 Commercial Trail",
                                    "13": "Hampton",
                                    "14": "VA",
                                    "15": "947"
                                },
                                {
                                    "0": "5",
                                    "1": "5",
                                    "2": "2017-08-25",
                                    "3": "2",
                                    "4": "",
                                    "5": "2017-08-26",
                                    "6": "3",
                                    "7": "5",
                                    "8": "Clemmie",
                                    "9": "Betchley",
                                    "10": "1973-11-07",
                                    "11": "NULL",
                                    "12": "5 Spohn Circle",
                                    "13": "Arlington",
                                    "14": "TX",
                                    "15": "3675"
                                },
                                {
                                    "0": "6",
                                    "1": "10",
                                    "2": "2018-11-18",
                                    "3": "1",
                                    "4": "Aliquam erat volutpat. In congue.",
                                    "5": "NULL",
                                    "6": "NULL",
                                    "7": "10",
                                    "8": "Levy",
                                    "9": "Mynett",
                                    "10": "1969-10-13",
                                    "11": "404-246-3370",
                                    "12": "68 Lawn Avenue",
                                    "13": "Atlanta",
                                    "14": "GA",
                                    "15": "796"
                                },
                                {
                                    "0": "7",
                                    "1": "2",
                                    "2": "2018-09-22",
                                    "3": "2",
                                    "4": "NULL",
                                    "5": "2018-09-23",
                                    "6": "4",
                                    "7": "2",
                                    "8": "Ines",
                                    "9": "Brushfield",
                                    "10": "1986-04-13",
                                    "11": "804-427-9456",
                                    "12": "14187 Commercial Trail",
                                    "13": "Hampton",
                                    "14": "VA",
                                    "15": "947"
                                },
                                {
                                    "0": "8",
                                    "1": "5",
                                    "2": "2018-06-08",
                                    "3": "1",
                                    "4": "Mauris enim leo, rhoncus sed, vestibulum sit amet, cursus id, turpis.",
                                    "5": "NULL",
                                    "6": "NULL",
                                    "7": "5",
                                    "8": "Clemmie",
                                    "9": "Betchley",
                                    "10": "1973-11-07",
                                    "11": "NULL",
                                    "12": "5 Spohn Circle",
                                    "13": "Arlington",
                                    "14": "TX",
                                    "15": "3675"
                                },
                                {
                                    "0": "9",
                                    "1": "10",
                                    "2": "2017-07-05",
                                    "3": "2",
                                    "4": "Nulla mollis molestie lorem. Quisque ut erat.",
                                    "5": "2017-07-06",
                                    "6": "1",
                                    "7": "10",
                                    "8": "Levy",
                                    "9": "Mynett",
                                    "10": "1969-10-13",
                                    "11": "404-246-3370",
                                    "12": "68 Lawn Avenue",
                                    "13": "Atlanta",
                                    "14": "GA",
                                    "15": "796"
                                },
                                {
                                    "0": "10",
                                    "1": "6",
                                    "2": "2018-04-22",
                                    "3": "2",
                                    "4": "NULL",
                                    "5": "2018-04-23",
                                    "6": "2",
                                    "7": "6",
                                    "8": "Elka",
                                    "9": "Twiddell",
                                    "10": "1991-09-04",
                                    "11": "312-480-8498",
                                    "12": "7 Manley Drive",
                                    "13": "Chicago",
                                    "14": "IL",
                                    "15": "3073"
                                }
                            ]
                        },
                        "text/html": [
                            "<table>",
                            "<tr><th>OrderID</th><th>CustomerId</th><th>OrderDate</th><th>Status</th><th>comments</th><th>ShippedDate</th><th>ShipperId</th><th>CustomerId</th><th>FirstName</th><th>LastName</th><th>BirthDate</th><th>Phone</th><th>Address</th><th>City</th><th>State</th><th>Points</th></tr>",
                            "<tr><td>1</td><td>6</td><td>2019-01-30</td><td>1</td><td>NULL</td><td>NULL</td><td>NULL</td><td>6</td><td>Elka</td><td>Twiddell</td><td>1991-09-04</td><td>312-480-8498</td><td>7 Manley Drive</td><td>Chicago</td><td>IL</td><td>3073</td></tr>",
                            "<tr><td>2</td><td>7</td><td>2018-08-02</td><td>2</td><td>NULL</td><td>2018-08-03</td><td>4</td><td>7</td><td>Ilene</td><td>Dowson</td><td>1964-08-30</td><td>615-641-4759</td><td>50 Lillian Crossing</td><td>Nashville</td><td>TN</td><td>1672</td></tr>",
                            "<tr><td>3</td><td>8</td><td>2017-12-01</td><td>1</td><td>NULL</td><td>NULL</td><td>NULL</td><td>8</td><td>Thacher</td><td>Naseby</td><td>1993-07-17</td><td>941-527-3977</td><td>538 Mosinee Center</td><td>Sarasota</td><td>FL</td><td>205</td></tr>",
                            "<tr><td>4</td><td>2</td><td>2017-01-22</td><td>1</td><td>NULL</td><td>NULL</td><td>NULL</td><td>2</td><td>Ines</td><td>Brushfield</td><td>1986-04-13</td><td>804-427-9456</td><td>14187 Commercial Trail</td><td>Hampton</td><td>VA</td><td>947</td></tr>",
                            "<tr><td>5</td><td>5</td><td>2017-08-25</td><td>2</td><td></td><td>2017-08-26</td><td>3</td><td>5</td><td>Clemmie</td><td>Betchley</td><td>1973-11-07</td><td>NULL</td><td>5 Spohn Circle</td><td>Arlington</td><td>TX</td><td>3675</td></tr>",
                            "<tr><td>6</td><td>10</td><td>2018-11-18</td><td>1</td><td>Aliquam erat volutpat. In congue.</td><td>NULL</td><td>NULL</td><td>10</td><td>Levy</td><td>Mynett</td><td>1969-10-13</td><td>404-246-3370</td><td>68 Lawn Avenue</td><td>Atlanta</td><td>GA</td><td>796</td></tr>",
                            "<tr><td>7</td><td>2</td><td>2018-09-22</td><td>2</td><td>NULL</td><td>2018-09-23</td><td>4</td><td>2</td><td>Ines</td><td>Brushfield</td><td>1986-04-13</td><td>804-427-9456</td><td>14187 Commercial Trail</td><td>Hampton</td><td>VA</td><td>947</td></tr>",
                            "<tr><td>8</td><td>5</td><td>2018-06-08</td><td>1</td><td>Mauris enim leo, rhoncus sed, vestibulum sit amet, cursus id, turpis.</td><td>NULL</td><td>NULL</td><td>5</td><td>Clemmie</td><td>Betchley</td><td>1973-11-07</td><td>NULL</td><td>5 Spohn Circle</td><td>Arlington</td><td>TX</td><td>3675</td></tr>",
                            "<tr><td>9</td><td>10</td><td>2017-07-05</td><td>2</td><td>Nulla mollis molestie lorem. Quisque ut erat.</td><td>2017-07-06</td><td>1</td><td>10</td><td>Levy</td><td>Mynett</td><td>1969-10-13</td><td>404-246-3370</td><td>68 Lawn Avenue</td><td>Atlanta</td><td>GA</td><td>796</td></tr>",
                            "<tr><td>10</td><td>6</td><td>2018-04-22</td><td>2</td><td>NULL</td><td>2018-04-23</td><td>2</td><td>6</td><td>Elka</td><td>Twiddell</td><td>1991-09-04</td><td>312-480-8498</td><td>7 Manley Drive</td><td>Chicago</td><td>IL</td><td>3073</td></tr>",
                            "</table>"
                        ]
                    }
                }
            ],
            "execution_count": 4
        },
        {
            "cell_type": "code",
            "source": [
                "-- Exercise 1\n",
                "-- Join Order Items and Products tables\n",
                "SELECT * FROM OrderItems OI JOIN Products P on OI.ProductId = P.ProductId;"
            ],
            "metadata": {
                "azdata_cell_guid": "97ca8b51-aafb-4d90-88bb-6dd10fd0e3c8"
            },
            "outputs": [
                {
                    "output_type": "display_data",
                    "data": {
                        "text/html": "(18 rows affected)"
                    },
                    "metadata": {}
                },
                {
                    "output_type": "display_data",
                    "data": {
                        "text/html": "Total execution time: 00:00:00.017"
                    },
                    "metadata": {}
                },
                {
                    "output_type": "execute_result",
                    "metadata": {},
                    "execution_count": 5,
                    "data": {
                        "application/vnd.dataresource+json": {
                            "schema": {
                                "fields": [
                                    {
                                        "name": "OrderId"
                                    },
                                    {
                                        "name": "ProductId"
                                    },
                                    {
                                        "name": "Quantity"
                                    },
                                    {
                                        "name": "UnitPrice"
                                    },
                                    {
                                        "name": "ProductId"
                                    },
                                    {
                                        "name": "Name"
                                    },
                                    {
                                        "name": "QuantityInStock"
                                    },
                                    {
                                        "name": "UnitPrice"
                                    }
                                ]
                            },
                            "data": [
                                {
                                    "0": "1",
                                    "1": "4",
                                    "2": "4",
                                    "3": "3.74",
                                    "4": "4",
                                    "5": "Brocolinni - Gaylan, Chinese",
                                    "6": "90",
                                    "7": "4.53"
                                },
                                {
                                    "0": "2",
                                    "1": "1",
                                    "2": "2",
                                    "3": "9.10",
                                    "4": "1",
                                    "5": "Foam Dinner Plate",
                                    "6": "70",
                                    "7": "1.21"
                                },
                                {
                                    "0": "2",
                                    "1": "4",
                                    "2": "4",
                                    "3": "1.66",
                                    "4": "4",
                                    "5": "Brocolinni - Gaylan, Chinese",
                                    "6": "90",
                                    "7": "4.53"
                                },
                                {
                                    "0": "2",
                                    "1": "6",
                                    "2": "2",
                                    "3": "2.94",
                                    "4": "6",
                                    "5": "Petit Baguette",
                                    "6": "14",
                                    "7": "2.39"
                                },
                                {
                                    "0": "3",
                                    "1": "3",
                                    "2": "10",
                                    "3": "9.12",
                                    "4": "3",
                                    "5": "Lettuce - Romaine, Heart",
                                    "6": "38",
                                    "7": "3.35"
                                },
                                {
                                    "0": "4",
                                    "1": "3",
                                    "2": "7",
                                    "3": "6.99",
                                    "4": "3",
                                    "5": "Lettuce - Romaine, Heart",
                                    "6": "38",
                                    "7": "3.35"
                                },
                                {
                                    "0": "4",
                                    "1": "10",
                                    "2": "7",
                                    "3": "6.40",
                                    "4": "10",
                                    "5": "Broom - Push",
                                    "6": "6",
                                    "7": "1.09"
                                },
                                {
                                    "0": "5",
                                    "1": "2",
                                    "2": "3",
                                    "3": "9.89",
                                    "4": "2",
                                    "5": "Pork - Bacon,back Peameal",
                                    "6": "49",
                                    "7": "4.65"
                                },
                                {
                                    "0": "6",
                                    "1": "1",
                                    "2": "4",
                                    "3": "8.65",
                                    "4": "1",
                                    "5": "Foam Dinner Plate",
                                    "6": "70",
                                    "7": "1.21"
                                },
                                {
                                    "0": "6",
                                    "1": "2",
                                    "2": "4",
                                    "3": "3.28",
                                    "4": "2",
                                    "5": "Pork - Bacon,back Peameal",
                                    "6": "49",
                                    "7": "4.65"
                                },
                                {
                                    "0": "6",
                                    "1": "3",
                                    "2": "4",
                                    "3": "7.46",
                                    "4": "3",
                                    "5": "Lettuce - Romaine, Heart",
                                    "6": "38",
                                    "7": "3.35"
                                },
                                {
                                    "0": "6",
                                    "1": "5",
                                    "2": "1",
                                    "3": "3.45",
                                    "4": "5",
                                    "5": "Sauce - Ranch Dressing",
                                    "6": "94",
                                    "7": "1.63"
                                },
                                {
                                    "0": "7",
                                    "1": "3",
                                    "2": "7",
                                    "3": "9.17",
                                    "4": "3",
                                    "5": "Lettuce - Romaine, Heart",
                                    "6": "38",
                                    "7": "3.35"
                                },
                                {
                                    "0": "8",
                                    "1": "5",
                                    "2": "2",
                                    "3": "6.94",
                                    "4": "5",
                                    "5": "Sauce - Ranch Dressing",
                                    "6": "94",
                                    "7": "1.63"
                                },
                                {
                                    "0": "8",
                                    "1": "8",
                                    "2": "2",
                                    "3": "8.59",
                                    "4": "8",
                                    "5": "Island Oasis - Raspberry",
                                    "6": "26",
                                    "7": "0.74"
                                },
                                {
                                    "0": "9",
                                    "1": "6",
                                    "2": "5",
                                    "3": "7.28",
                                    "4": "6",
                                    "5": "Petit Baguette",
                                    "6": "14",
                                    "7": "2.39"
                                },
                                {
                                    "0": "10",
                                    "1": "1",
                                    "2": "10",
                                    "3": "6.01",
                                    "4": "1",
                                    "5": "Foam Dinner Plate",
                                    "6": "70",
                                    "7": "1.21"
                                },
                                {
                                    "0": "10",
                                    "1": "9",
                                    "2": "9",
                                    "3": "4.28",
                                    "4": "9",
                                    "5": "Longan",
                                    "6": "67",
                                    "7": "2.26"
                                }
                            ]
                        },
                        "text/html": [
                            "<table>",
                            "<tr><th>OrderId</th><th>ProductId</th><th>Quantity</th><th>UnitPrice</th><th>ProductId</th><th>Name</th><th>QuantityInStock</th><th>UnitPrice</th></tr>",
                            "<tr><td>1</td><td>4</td><td>4</td><td>3.74</td><td>4</td><td>Brocolinni - Gaylan, Chinese</td><td>90</td><td>4.53</td></tr>",
                            "<tr><td>2</td><td>1</td><td>2</td><td>9.10</td><td>1</td><td>Foam Dinner Plate</td><td>70</td><td>1.21</td></tr>",
                            "<tr><td>2</td><td>4</td><td>4</td><td>1.66</td><td>4</td><td>Brocolinni - Gaylan, Chinese</td><td>90</td><td>4.53</td></tr>",
                            "<tr><td>2</td><td>6</td><td>2</td><td>2.94</td><td>6</td><td>Petit Baguette</td><td>14</td><td>2.39</td></tr>",
                            "<tr><td>3</td><td>3</td><td>10</td><td>9.12</td><td>3</td><td>Lettuce - Romaine, Heart</td><td>38</td><td>3.35</td></tr>",
                            "<tr><td>4</td><td>3</td><td>7</td><td>6.99</td><td>3</td><td>Lettuce - Romaine, Heart</td><td>38</td><td>3.35</td></tr>",
                            "<tr><td>4</td><td>10</td><td>7</td><td>6.40</td><td>10</td><td>Broom - Push</td><td>6</td><td>1.09</td></tr>",
                            "<tr><td>5</td><td>2</td><td>3</td><td>9.89</td><td>2</td><td>Pork - Bacon,back Peameal</td><td>49</td><td>4.65</td></tr>",
                            "<tr><td>6</td><td>1</td><td>4</td><td>8.65</td><td>1</td><td>Foam Dinner Plate</td><td>70</td><td>1.21</td></tr>",
                            "<tr><td>6</td><td>2</td><td>4</td><td>3.28</td><td>2</td><td>Pork - Bacon,back Peameal</td><td>49</td><td>4.65</td></tr>",
                            "<tr><td>6</td><td>3</td><td>4</td><td>7.46</td><td>3</td><td>Lettuce - Romaine, Heart</td><td>38</td><td>3.35</td></tr>",
                            "<tr><td>6</td><td>5</td><td>1</td><td>3.45</td><td>5</td><td>Sauce - Ranch Dressing</td><td>94</td><td>1.63</td></tr>",
                            "<tr><td>7</td><td>3</td><td>7</td><td>9.17</td><td>3</td><td>Lettuce - Romaine, Heart</td><td>38</td><td>3.35</td></tr>",
                            "<tr><td>8</td><td>5</td><td>2</td><td>6.94</td><td>5</td><td>Sauce - Ranch Dressing</td><td>94</td><td>1.63</td></tr>",
                            "<tr><td>8</td><td>8</td><td>2</td><td>8.59</td><td>8</td><td>Island Oasis - Raspberry</td><td>26</td><td>0.74</td></tr>",
                            "<tr><td>9</td><td>6</td><td>5</td><td>7.28</td><td>6</td><td>Petit Baguette</td><td>14</td><td>2.39</td></tr>",
                            "<tr><td>10</td><td>1</td><td>10</td><td>6.01</td><td>1</td><td>Foam Dinner Plate</td><td>70</td><td>1.21</td></tr>",
                            "<tr><td>10</td><td>9</td><td>9</td><td>4.28</td><td>9</td><td>Longan</td><td>67</td><td>2.26</td></tr>",
                            "</table>"
                        ]
                    }
                }
            ],
            "execution_count": 5
        },
        {
            "cell_type": "code",
            "source": [
                "-- Joining Across Databases\n",
                "-- Prefix the Database name to the table while joining between DBs\n",
                "-- Prefix is not required for the Tables of the current DB\n",
                "-- SELECT * FROM OrderItems OI JOIN AnotherDB.Products P on OI.ProductId = P.ProductId;"
            ],
            "metadata": {
                "azdata_cell_guid": "410a1220-a18d-4267-821e-fcc662b2bb90"
            },
            "outputs": [],
            "execution_count": null
        },
        {
            "cell_type": "code",
            "source": [
                "-- Joining Multiple Tables\n",
                "SELECT\n",
                "    O.OrderId,\n",
                "    O.OrderDate,\n",
                "    C.FirstName,\n",
                "    OS.Name as Status\n",
                "FROM Orders O\n",
                "JOIN Customers C\n",
                "ON O.CustomerId = C.CustomerId\n",
                "JOIN OrderStatuses OS \n",
                "ON O.Status = OS.OrderStatusesId \n",
                "\n",
                "\n",
                ""
            ],
            "metadata": {
                "azdata_cell_guid": "47521ec3-740d-417c-952c-331597dcec8d"
            },
            "outputs": [
                {
                    "output_type": "display_data",
                    "data": {
                        "text/html": "(10 rows affected)"
                    },
                    "metadata": {}
                },
                {
                    "output_type": "display_data",
                    "data": {
                        "text/html": "Total execution time: 00:00:00.004"
                    },
                    "metadata": {}
                },
                {
                    "output_type": "execute_result",
                    "metadata": {},
                    "execution_count": 12,
                    "data": {
                        "application/vnd.dataresource+json": {
                            "schema": {
                                "fields": [
                                    {
                                        "name": "OrderId"
                                    },
                                    {
                                        "name": "OrderDate"
                                    },
                                    {
                                        "name": "FirstName"
                                    },
                                    {
                                        "name": "Status"
                                    }
                                ]
                            },
                            "data": [
                                {
                                    "0": "1",
                                    "1": "2019-01-30",
                                    "2": "Elka",
                                    "3": "Processed"
                                },
                                {
                                    "0": "2",
                                    "1": "2018-08-02",
                                    "2": "Ilene",
                                    "3": "Shipped"
                                },
                                {
                                    "0": "3",
                                    "1": "2017-12-01",
                                    "2": "Thacher",
                                    "3": "Processed"
                                },
                                {
                                    "0": "4",
                                    "1": "2017-01-22",
                                    "2": "Ines",
                                    "3": "Processed"
                                },
                                {
                                    "0": "5",
                                    "1": "2017-08-25",
                                    "2": "Clemmie",
                                    "3": "Shipped"
                                },
                                {
                                    "0": "6",
                                    "1": "2018-11-18",
                                    "2": "Levy",
                                    "3": "Processed"
                                },
                                {
                                    "0": "7",
                                    "1": "2018-09-22",
                                    "2": "Ines",
                                    "3": "Shipped"
                                },
                                {
                                    "0": "8",
                                    "1": "2018-06-08",
                                    "2": "Clemmie",
                                    "3": "Processed"
                                },
                                {
                                    "0": "9",
                                    "1": "2017-07-05",
                                    "2": "Levy",
                                    "3": "Shipped"
                                },
                                {
                                    "0": "10",
                                    "1": "2018-04-22",
                                    "2": "Elka",
                                    "3": "Shipped"
                                }
                            ]
                        },
                        "text/html": [
                            "<table>",
                            "<tr><th>OrderId</th><th>OrderDate</th><th>FirstName</th><th>Status</th></tr>",
                            "<tr><td>1</td><td>2019-01-30</td><td>Elka</td><td>Processed</td></tr>",
                            "<tr><td>2</td><td>2018-08-02</td><td>Ilene</td><td>Shipped</td></tr>",
                            "<tr><td>3</td><td>2017-12-01</td><td>Thacher</td><td>Processed</td></tr>",
                            "<tr><td>4</td><td>2017-01-22</td><td>Ines</td><td>Processed</td></tr>",
                            "<tr><td>5</td><td>2017-08-25</td><td>Clemmie</td><td>Shipped</td></tr>",
                            "<tr><td>6</td><td>2018-11-18</td><td>Levy</td><td>Processed</td></tr>",
                            "<tr><td>7</td><td>2018-09-22</td><td>Ines</td><td>Shipped</td></tr>",
                            "<tr><td>8</td><td>2018-06-08</td><td>Clemmie</td><td>Processed</td></tr>",
                            "<tr><td>9</td><td>2017-07-05</td><td>Levy</td><td>Shipped</td></tr>",
                            "<tr><td>10</td><td>2018-04-22</td><td>Elka</td><td>Shipped</td></tr>",
                            "</table>"
                        ]
                    }
                }
            ],
            "execution_count": 12
        }
    ]
}