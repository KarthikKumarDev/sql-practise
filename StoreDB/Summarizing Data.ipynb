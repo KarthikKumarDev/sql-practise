{
    "metadata": {
        "kernelspec": {
            "name": "SQL",
            "display_name": "SQL",
            "language": "sql"
        },
        "language_info": {
            "name": "sql",
            "version": ""
        }
    },
    "nbformat_minor": 2,
    "nbformat": 4,
    "cells": [
        {
            "cell_type": "code",
            "source": [
                "-- Init\n",
                "-- Ensure Init StoreDB is run before to setup the Store DB\n",
                "\n",
                "USE Store;"
            ],
            "metadata": {
                "azdata_cell_guid": "4fc84e69-06a8-41b1-9b38-278ef6e82061",
                "tags": []
            },
            "outputs": [
                {
                    "output_type": "display_data",
                    "data": {
                        "text/html": "Commands completed successfully."
                    },
                    "metadata": {}
                },
                {
                    "output_type": "display_data",
                    "data": {
                        "text/html": "Total execution time: 00:00:00.001"
                    },
                    "metadata": {}
                }
            ],
            "execution_count": 1
        },
        {
            "cell_type": "code",
            "source": [
                "-- Aggrefate Functions\n",
                "-- It takes series of values to aggregate them into single value\n",
                "\n",
                "-- MAX() MIN() AVG() SUM() COUNT()\n",
                "\n",
                "SELECT MAX(Points) 'Highest Points', MIN(Points) 'Lowest Points', AVG(Points) 'AVG Points', SUM(Points) 'Total Points', COUNT(Points) 'Customers'\n",
                "from Customers;\n",
                "\n",
                "-- COUNT() doesn't include null values\n",
                "SELECT COUNT(ShippedDate)\n",
                "FROM [store].[dbo].[Orders]"
            ],
            "metadata": {
                "azdata_cell_guid": "ed36a79a-8f04-4099-8a79-28075f3bbda9"
            },
            "outputs": [
                {
                    "output_type": "display_data",
                    "data": {
                        "text/html": "(1 row affected)"
                    },
                    "metadata": {}
                },
                {
                    "output_type": "display_data",
                    "data": {
                        "text/html": "Warning: Null value is eliminated by an aggregate or other SET operation."
                    },
                    "metadata": {}
                },
                {
                    "output_type": "display_data",
                    "data": {
                        "text/html": "(1 row affected)"
                    },
                    "metadata": {}
                },
                {
                    "output_type": "display_data",
                    "data": {
                        "text/html": "Total execution time: 00:00:00.006"
                    },
                    "metadata": {}
                },
                {
                    "output_type": "execute_result",
                    "metadata": {},
                    "execution_count": 7,
                    "data": {
                        "application/vnd.dataresource+json": {
                            "schema": {
                                "fields": [
                                    {
                                        "name": "Highest Points"
                                    },
                                    {
                                        "name": "Lowest Points"
                                    },
                                    {
                                        "name": "AVG Points"
                                    },
                                    {
                                        "name": "Total Points"
                                    },
                                    {
                                        "name": "Customers"
                                    }
                                ]
                            },
                            "data": [
                                {
                                    "0": "3725",
                                    "1": "0",
                                    "2": "1491",
                                    "3": "17901",
                                    "4": "12"
                                }
                            ]
                        },
                        "text/html": [
                            "<table>",
                            "<tr><th>Highest Points</th><th>Lowest Points</th><th>AVG Points</th><th>Total Points</th><th>Customers</th></tr>",
                            "<tr><td>3725</td><td>0</td><td>1491</td><td>17901</td><td>12</td></tr>",
                            "</table>"
                        ]
                    }
                },
                {
                    "output_type": "execute_result",
                    "metadata": {},
                    "execution_count": 7,
                    "data": {
                        "application/vnd.dataresource+json": {
                            "schema": {
                                "fields": [
                                    {
                                        "name": "(No column name)"
                                    }
                                ]
                            },
                            "data": [
                                {
                                    "0": "5"
                                }
                            ]
                        },
                        "text/html": [
                            "<table>",
                            "<tr><th>(No column name)</th></tr>",
                            "<tr><td>5</td></tr>",
                            "</table>"
                        ]
                    }
                }
            ],
            "execution_count": 7
        },
        {
            "cell_type": "code",
            "source": [
                "-- Exercise 1\n",
                "    SELECT 'Born Before 1990' DateRange, SUM(Points) 'Total Points'\n",
                "    FROM Customers\n",
                "    WHERE YEAR(BirthDate) < 1990\n",
                "UNION\n",
                "    SELECT 'Born After 1990' DateRange, SUM(Points) 'Total Points'\n",
                "    FROM Customers\n",
                "    WHERE YEAR(BirthDate) > 1990\n",
                "UNION\n",
                "    SELECT 'Total' DateRange, SUM(Points) 'Total Points'\n",
                "    FROM Customers "
            ],
            "metadata": {
                "azdata_cell_guid": "609a4c70-20a0-4f3b-8a09-575c9a656fc3"
            },
            "outputs": [
                {
                    "output_type": "display_data",
                    "data": {
                        "text/html": "(3 rows affected)"
                    },
                    "metadata": {}
                },
                {
                    "output_type": "display_data",
                    "data": {
                        "text/html": "Total execution time: 00:00:00.007"
                    },
                    "metadata": {}
                },
                {
                    "output_type": "execute_result",
                    "metadata": {},
                    "execution_count": 14,
                    "data": {
                        "application/vnd.dataresource+json": {
                            "schema": {
                                "fields": [
                                    {
                                        "name": "DateRange"
                                    },
                                    {
                                        "name": "Total Points"
                                    }
                                ]
                            },
                            "data": [
                                {
                                    "0": "Born After 1990",
                                    "1": "4764"
                                },
                                {
                                    "0": "Born Before 1990",
                                    "1": "13137"
                                },
                                {
                                    "0": "Total",
                                    "1": "17901"
                                }
                            ]
                        },
                        "text/html": [
                            "<table>",
                            "<tr><th>DateRange</th><th>Total Points</th></tr>",
                            "<tr><td>Born After 1990</td><td>4764</td></tr>",
                            "<tr><td>Born Before 1990</td><td>13137</td></tr>",
                            "<tr><td>Total</td><td>17901</td></tr>",
                            "</table>"
                        ]
                    }
                }
            ],
            "execution_count": 14
        },
        {
            "cell_type": "code",
            "source": [
                "-- Group By\n",
                "SELECT COUNT(OrderId) Purchases, CustomerId\n",
                "FROM Orders\n",
                "GROUP BY CustomerId;\n",
                "\n",
                "\n",
                "SELECT Purchases, FirstName\n",
                "FROM (SELECT COUNT(O.OrderId) Purchases, CustomerId\n",
                "    FROM Orders O\n",
                "    GROUP BY O.CustomerId) as GrpOrder JOIN Customers C ON GrpOrder.CustomerId = C.CustomerId;"
            ],
            "metadata": {
                "azdata_cell_guid": "ce71ec1b-a902-4efc-98f0-a406aa03a712",
                "tags": []
            },
            "outputs": [
                {
                    "output_type": "display_data",
                    "data": {
                        "text/html": "(6 rows affected)"
                    },
                    "metadata": {}
                },
                {
                    "output_type": "display_data",
                    "data": {
                        "text/html": "(6 rows affected)"
                    },
                    "metadata": {}
                },
                {
                    "output_type": "display_data",
                    "data": {
                        "text/html": "Total execution time: 00:00:00.004"
                    },
                    "metadata": {}
                },
                {
                    "output_type": "execute_result",
                    "metadata": {},
                    "execution_count": 44,
                    "data": {
                        "application/vnd.dataresource+json": {
                            "schema": {
                                "fields": [
                                    {
                                        "name": "Purchases"
                                    },
                                    {
                                        "name": "CustomerId"
                                    }
                                ]
                            },
                            "data": [
                                {
                                    "0": "2",
                                    "1": "2"
                                },
                                {
                                    "0": "2",
                                    "1": "5"
                                },
                                {
                                    "0": "2",
                                    "1": "6"
                                },
                                {
                                    "0": "1",
                                    "1": "7"
                                },
                                {
                                    "0": "2",
                                    "1": "8"
                                },
                                {
                                    "0": "2",
                                    "1": "10"
                                }
                            ]
                        },
                        "text/html": [
                            "<table>",
                            "<tr><th>Purchases</th><th>CustomerId</th></tr>",
                            "<tr><td>2</td><td>2</td></tr>",
                            "<tr><td>2</td><td>5</td></tr>",
                            "<tr><td>2</td><td>6</td></tr>",
                            "<tr><td>1</td><td>7</td></tr>",
                            "<tr><td>2</td><td>8</td></tr>",
                            "<tr><td>2</td><td>10</td></tr>",
                            "</table>"
                        ]
                    }
                },
                {
                    "output_type": "execute_result",
                    "metadata": {},
                    "execution_count": 44,
                    "data": {
                        "application/vnd.dataresource+json": {
                            "schema": {
                                "fields": [
                                    {
                                        "name": "Purchases"
                                    },
                                    {
                                        "name": "FirstName"
                                    }
                                ]
                            },
                            "data": [
                                {
                                    "0": "2",
                                    "1": "Ines"
                                },
                                {
                                    "0": "2",
                                    "1": "Clemmie"
                                },
                                {
                                    "0": "2",
                                    "1": "Elka"
                                },
                                {
                                    "0": "1",
                                    "1": "Ilene"
                                },
                                {
                                    "0": "2",
                                    "1": "Thacher"
                                },
                                {
                                    "0": "2",
                                    "1": "Levy"
                                }
                            ]
                        },
                        "text/html": [
                            "<table>",
                            "<tr><th>Purchases</th><th>FirstName</th></tr>",
                            "<tr><td>2</td><td>Ines</td></tr>",
                            "<tr><td>2</td><td>Clemmie</td></tr>",
                            "<tr><td>2</td><td>Elka</td></tr>",
                            "<tr><td>1</td><td>Ilene</td></tr>",
                            "<tr><td>2</td><td>Thacher</td></tr>",
                            "<tr><td>2</td><td>Levy</td></tr>",
                            "</table>"
                        ]
                    }
                }
            ],
            "execution_count": 44
        }
    ]
}