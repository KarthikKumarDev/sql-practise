{
    "metadata": {
        "kernelspec": {
            "name": "SQL",
            "display_name": "SQL",
            "language": "sql"
        },
        "language_info": {
            "name": "sql",
            "version": ""
        }
    },
    "nbformat_minor": 2,
    "nbformat": 4,
    "cells": [
        {
            "cell_type": "code",
            "source": [
                "-- Init\n",
                "-- Ensure Init StoreDB is run before to setup the Store DB\n",
                "\n",
                "USE Store;"
            ],
            "metadata": {
                "azdata_cell_guid": "d2c92463-f860-4261-8734-3a9b52671f69"
            },
            "outputs": [
                {
                    "output_type": "display_data",
                    "data": {
                        "text/html": "Commands completed successfully."
                    },
                    "metadata": {}
                },
                {
                    "output_type": "display_data",
                    "data": {
                        "text/html": "Total execution time: 00:00:00.007"
                    },
                    "metadata": {}
                }
            ],
            "execution_count": 1
        },
        {
            "cell_type": "code",
            "source": [
                "-- Insert\n",
                "INSERT INTO Customers VALUES ( 'John', 'Smith', '1990-01-01', NULL, 'Lake view street', 'New York', 'NY', DEFAULT );\n",
                "\n",
                "INSERT INTO Customers (FirstName, LastName, BirthDate, Address, City, State) VALUES ( 'Jack', 'Mayers', '1996-06-21', 'Ocean street', 'Chicago', 'IL');"
            ],
            "metadata": {
                "azdata_cell_guid": "d1124c86-d5b2-461a-b3c0-23da49e9d0d7",
                "tags": []
            },
            "outputs": [
                {
                    "output_type": "display_data",
                    "data": {
                        "text/html": "(1 row affected)"
                    },
                    "metadata": {}
                },
                {
                    "output_type": "display_data",
                    "data": {
                        "text/html": "Total execution time: 00:00:00.009"
                    },
                    "metadata": {}
                }
            ],
            "execution_count": 5
        },
        {
            "cell_type": "code",
            "source": [
                "-- Insert Multiple Rows\n",
                "INSERT INTO Shippers (name) VALUES ('Bluedart'),('Shiprocket'), ('FedEx');"
            ],
            "metadata": {
                "azdata_cell_guid": "1b3c6e5f-2839-4e3c-809a-18755a7a9683"
            },
            "outputs": [
                {
                    "output_type": "display_data",
                    "data": {
                        "text/html": "(3 rows affected)"
                    },
                    "metadata": {}
                },
                {
                    "output_type": "display_data",
                    "data": {
                        "text/html": "Total execution time: 00:00:00.028"
                    },
                    "metadata": {}
                }
            ],
            "execution_count": 6
        },
        {
            "cell_type": "code",
            "source": [
                "-- Exercise\n",
                "-- Three entries in products table\n",
                "\n",
                "INSERT INTO Products\n",
                "    (Name, QuantityInStock, UnitPrice)\n",
                "VALUES\n",
                "    ('Moonshine', 100, 2.25),\n",
                "    ('Canned Peach', 250, 2),\n",
                "    ('Tuna Can', 50, 5);"
            ],
            "metadata": {
                "azdata_cell_guid": "90d2df14-ebb8-4bcd-b077-d8e5f7a052be"
            },
            "outputs": [
                {
                    "output_type": "display_data",
                    "data": {
                        "text/html": "(10 rows affected)"
                    },
                    "metadata": {}
                },
                {
                    "output_type": "display_data",
                    "data": {
                        "text/html": "(3 rows affected)"
                    },
                    "metadata": {}
                },
                {
                    "output_type": "display_data",
                    "data": {
                        "text/html": "Total execution time: 00:00:00.030"
                    },
                    "metadata": {}
                },
                {
                    "output_type": "execute_result",
                    "metadata": {},
                    "execution_count": 8,
                    "data": {
                        "application/vnd.dataresource+json": {
                            "schema": {
                                "fields": [
                                    {
                                        "name": "ProductId"
                                    },
                                    {
                                        "name": "Name"
                                    },
                                    {
                                        "name": "QuantityInStock"
                                    },
                                    {
                                        "name": "UnitPrice"
                                    }
                                ]
                            },
                            "data": [
                                {
                                    "0": "1",
                                    "1": "Foam Dinner Plate",
                                    "2": "70",
                                    "3": "1.21"
                                },
                                {
                                    "0": "2",
                                    "1": "Pork - Bacon,back Peameal",
                                    "2": "49",
                                    "3": "4.65"
                                },
                                {
                                    "0": "3",
                                    "1": "Lettuce - Romaine, Heart",
                                    "2": "38",
                                    "3": "3.35"
                                },
                                {
                                    "0": "4",
                                    "1": "Brocolinni - Gaylan, Chinese",
                                    "2": "90",
                                    "3": "4.53"
                                },
                                {
                                    "0": "5",
                                    "1": "Sauce - Ranch Dressing",
                                    "2": "94",
                                    "3": "1.63"
                                },
                                {
                                    "0": "6",
                                    "1": "Petit Baguette",
                                    "2": "14",
                                    "3": "2.39"
                                },
                                {
                                    "0": "7",
                                    "1": "Sweet Pea Sprouts",
                                    "2": "98",
                                    "3": "3.29"
                                },
                                {
                                    "0": "8",
                                    "1": "Island Oasis - Raspberry",
                                    "2": "26",
                                    "3": "0.74"
                                },
                                {
                                    "0": "9",
                                    "1": "Longan",
                                    "2": "67",
                                    "3": "2.26"
                                },
                                {
                                    "0": "10",
                                    "1": "Broom - Push",
                                    "2": "6",
                                    "3": "1.09"
                                }
                            ]
                        },
                        "text/html": [
                            "<table>",
                            "<tr><th>ProductId</th><th>Name</th><th>QuantityInStock</th><th>UnitPrice</th></tr>",
                            "<tr><td>1</td><td>Foam Dinner Plate</td><td>70</td><td>1.21</td></tr>",
                            "<tr><td>2</td><td>Pork - Bacon,back Peameal</td><td>49</td><td>4.65</td></tr>",
                            "<tr><td>3</td><td>Lettuce - Romaine, Heart</td><td>38</td><td>3.35</td></tr>",
                            "<tr><td>4</td><td>Brocolinni - Gaylan, Chinese</td><td>90</td><td>4.53</td></tr>",
                            "<tr><td>5</td><td>Sauce - Ranch Dressing</td><td>94</td><td>1.63</td></tr>",
                            "<tr><td>6</td><td>Petit Baguette</td><td>14</td><td>2.39</td></tr>",
                            "<tr><td>7</td><td>Sweet Pea Sprouts</td><td>98</td><td>3.29</td></tr>",
                            "<tr><td>8</td><td>Island Oasis - Raspberry</td><td>26</td><td>0.74</td></tr>",
                            "<tr><td>9</td><td>Longan</td><td>67</td><td>2.26</td></tr>",
                            "<tr><td>10</td><td>Broom - Push</td><td>6</td><td>1.09</td></tr>",
                            "</table>"
                        ]
                    }
                }
            ],
            "execution_count": 8
        },
        {
            "cell_type": "code",
            "source": [
                "-- Hierarchical  Insertion\n",
                "INSERT INTO Orders (CustomerId, OrderDate,Status) VALUES (8, '2022-01-02', 1);\n",
                "\n",
                "INSERT INTO OrderItems VALUES (SCOPE_IDENTITY(), 1, 1,2.95), (SCOPE_IDENTITY(), 2,1, 2.95);"
            ],
            "metadata": {
                "azdata_cell_guid": "1bffdbd8-2206-4d0a-a8b2-e2db117495b5"
            },
            "outputs": [
                {
                    "output_type": "display_data",
                    "data": {
                        "text/html": "(1 row affected)"
                    },
                    "metadata": {}
                },
                {
                    "output_type": "display_data",
                    "data": {
                        "text/html": "(2 rows affected)"
                    },
                    "metadata": {}
                },
                {
                    "output_type": "display_data",
                    "data": {
                        "text/html": "Total execution time: 00:00:00.038"
                    },
                    "metadata": {}
                }
            ],
            "execution_count": 11
        }
    ]
}