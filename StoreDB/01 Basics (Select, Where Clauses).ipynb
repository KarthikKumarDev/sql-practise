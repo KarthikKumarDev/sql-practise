{
    "metadata": {
        "kernelspec": {
            "name": "SQL",
            "display_name": "SQL",
            "language": "sql"
        },
        "language_info": {
            "name": "sql",
            "version": ""
        }
    },
    "nbformat_minor": 2,
    "nbformat": 4,
    "cells": [
        {
            "cell_type": "code",
            "source": [
                "-- Init\n",
                "-- Ensure Init StoreDB is run before to setup the Store DB\n",
                "\n",
                "USE Store;"
            ],
            "metadata": {
                "azdata_cell_guid": "4fc84e69-06a8-41b1-9b38-278ef6e82061",
                "tags": [],
                "language": "sql"
            },
            "outputs": [
                {
                    "output_type": "display_data",
                    "data": {
                        "text/html": "Commands completed successfully."
                    },
                    "metadata": {}
                },
                {
                    "output_type": "display_data",
                    "data": {
                        "text/html": "Total execution time: 00:00:00.002"
                    },
                    "metadata": {}
                }
            ],
            "execution_count": 1
        },
        {
            "cell_type": "code",
            "source": [
                "-- Exercise 1\n",
                "-- Select clause\n",
                "SELECT Name, UnitPrice, UnitPrice * 2.1 as 'New Price'  from dbo.Products;"
            ],
            "metadata": {
                "azdata_cell_guid": "18ded245-8d56-40de-8b38-3188fbc2242e",
                "tags": [],
                "language": "sql"
            },
            "outputs": [
                {
                    "output_type": "display_data",
                    "data": {
                        "text/html": "(10 rows affected)"
                    },
                    "metadata": {}
                },
                {
                    "output_type": "display_data",
                    "data": {
                        "text/html": "Total execution time: 00:00:00.372"
                    },
                    "metadata": {}
                },
                {
                    "output_type": "execute_result",
                    "metadata": {},
                    "execution_count": 2,
                    "data": {
                        "application/vnd.dataresource+json": {
                            "schema": {
                                "fields": [
                                    {
                                        "name": "Name"
                                    },
                                    {
                                        "name": "UnitPrice"
                                    },
                                    {
                                        "name": "New Price"
                                    }
                                ]
                            },
                            "data": [
                                {
                                    "Name": "Foam Dinner Plate",
                                    "UnitPrice": "1.21",
                                    "New Price": "2.541"
                                },
                                {
                                    "Name": "Pork - Bacon,back Peameal",
                                    "UnitPrice": "4.65",
                                    "New Price": "9.765"
                                },
                                {
                                    "Name": "Lettuce - Romaine, Heart",
                                    "UnitPrice": "3.35",
                                    "New Price": "7.035"
                                },
                                {
                                    "Name": "Brocolinni - Gaylan, Chinese",
                                    "UnitPrice": "4.53",
                                    "New Price": "9.513"
                                },
                                {
                                    "Name": "Sauce - Ranch Dressing",
                                    "UnitPrice": "1.63",
                                    "New Price": "3.423"
                                },
                                {
                                    "Name": "Petit Baguette",
                                    "UnitPrice": "2.39",
                                    "New Price": "5.019"
                                },
                                {
                                    "Name": "Sweet Pea Sprouts",
                                    "UnitPrice": "3.29",
                                    "New Price": "6.909"
                                },
                                {
                                    "Name": "Island Oasis - Raspberry",
                                    "UnitPrice": "0.74",
                                    "New Price": "1.554"
                                },
                                {
                                    "Name": "Longan",
                                    "UnitPrice": "2.26",
                                    "New Price": "4.746"
                                },
                                {
                                    "Name": "Broom - Push",
                                    "UnitPrice": "1.09",
                                    "New Price": "2.289"
                                }
                            ]
                        },
                        "text/html": [
                            "<table>",
                            "<tr><th>Name</th><th>UnitPrice</th><th>New Price</th></tr>",
                            "<tr><td>Foam Dinner Plate</td><td>1.21</td><td>2.541</td></tr>",
                            "<tr><td>Pork - Bacon,back Peameal</td><td>4.65</td><td>9.765</td></tr>",
                            "<tr><td>Lettuce - Romaine, Heart</td><td>3.35</td><td>7.035</td></tr>",
                            "<tr><td>Brocolinni - Gaylan, Chinese</td><td>4.53</td><td>9.513</td></tr>",
                            "<tr><td>Sauce - Ranch Dressing</td><td>1.63</td><td>3.423</td></tr>",
                            "<tr><td>Petit Baguette</td><td>2.39</td><td>5.019</td></tr>",
                            "<tr><td>Sweet Pea Sprouts</td><td>3.29</td><td>6.909</td></tr>",
                            "<tr><td>Island Oasis - Raspberry</td><td>0.74</td><td>1.554</td></tr>",
                            "<tr><td>Longan</td><td>2.26</td><td>4.746</td></tr>",
                            "<tr><td>Broom - Push</td><td>1.09</td><td>2.289</td></tr>",
                            "</table>"
                        ]
                    }
                }
            ],
            "execution_count": 2
        },
        {
            "cell_type": "code",
            "source": [
                "-- Exercise 2 : Where Clause\n",
                "-- Get the orders placed this year\n",
                "SELECT * FROM ORDERS WHERE OrderDate >= '2018-01-01'\n",
                "SELECT * FROM ORDERS WHERE YEAR(OrderDate) = YEAR(GETDATE()) - 4\n",
                ""
            ],
            "metadata": {
                "azdata_cell_guid": "9d17cabe-6ef8-4247-91e9-f75470518286",
                "tags": [],
                "language": "sql"
            },
            "outputs": [
                {
                    "output_type": "display_data",
                    "data": {
                        "text/html": "(7 rows affected)"
                    },
                    "metadata": {}
                },
                {
                    "output_type": "display_data",
                    "data": {
                        "text/html": "(0 rows affected)"
                    },
                    "metadata": {}
                },
                {
                    "output_type": "display_data",
                    "data": {
                        "text/html": "Total execution time: 00:00:00.038"
                    },
                    "metadata": {}
                },
                {
                    "output_type": "execute_result",
                    "metadata": {},
                    "execution_count": 3,
                    "data": {
                        "application/vnd.dataresource+json": {
                            "schema": {
                                "fields": [
                                    {
                                        "name": "OrderID"
                                    },
                                    {
                                        "name": "CustomerId"
                                    },
                                    {
                                        "name": "OrderDate"
                                    },
                                    {
                                        "name": "Status"
                                    },
                                    {
                                        "name": "comments"
                                    },
                                    {
                                        "name": "ShippedDate"
                                    },
                                    {
                                        "name": "ShipperId"
                                    }
                                ]
                            },
                            "data": [
                                {
                                    "OrderID": "1",
                                    "CustomerId": "6",
                                    "OrderDate": "2019-01-30",
                                    "Status": "1",
                                    "comments": "NULL",
                                    "ShippedDate": "NULL",
                                    "ShipperId": "NULL"
                                },
                                {
                                    "OrderID": "2",
                                    "CustomerId": "7",
                                    "OrderDate": "2018-08-02",
                                    "Status": "2",
                                    "comments": "NULL",
                                    "ShippedDate": "2018-08-03",
                                    "ShipperId": "4"
                                },
                                {
                                    "OrderID": "6",
                                    "CustomerId": "10",
                                    "OrderDate": "2018-11-18",
                                    "Status": "1",
                                    "comments": "Aliquam erat volutpat. In congue.",
                                    "ShippedDate": "NULL",
                                    "ShipperId": "NULL"
                                },
                                {
                                    "OrderID": "7",
                                    "CustomerId": "2",
                                    "OrderDate": "2018-09-22",
                                    "Status": "2",
                                    "comments": "NULL",
                                    "ShippedDate": "2018-09-23",
                                    "ShipperId": "4"
                                },
                                {
                                    "OrderID": "8",
                                    "CustomerId": "5",
                                    "OrderDate": "2018-06-08",
                                    "Status": "1",
                                    "comments": "Mauris enim leo, rhoncus sed, vestibulum sit amet, cursus id, turpis.",
                                    "ShippedDate": "NULL",
                                    "ShipperId": "NULL"
                                },
                                {
                                    "OrderID": "10",
                                    "CustomerId": "6",
                                    "OrderDate": "2018-04-22",
                                    "Status": "2",
                                    "comments": "NULL",
                                    "ShippedDate": "2018-04-23",
                                    "ShipperId": "2"
                                },
                                {
                                    "OrderID": "11",
                                    "CustomerId": "6",
                                    "OrderDate": "2025-03-01",
                                    "Status": "2",
                                    "comments": "NULL",
                                    "ShippedDate": "2025-03-01",
                                    "ShipperId": "2"
                                }
                            ]
                        },
                        "text/html": [
                            "<table>",
                            "<tr><th>OrderID</th><th>CustomerId</th><th>OrderDate</th><th>Status</th><th>comments</th><th>ShippedDate</th><th>ShipperId</th></tr>",
                            "<tr><td>1</td><td>6</td><td>2019-01-30</td><td>1</td><td>NULL</td><td>NULL</td><td>NULL</td></tr>",
                            "<tr><td>2</td><td>7</td><td>2018-08-02</td><td>2</td><td>NULL</td><td>2018-08-03</td><td>4</td></tr>",
                            "<tr><td>6</td><td>10</td><td>2018-11-18</td><td>1</td><td>Aliquam erat volutpat. In congue.</td><td>NULL</td><td>NULL</td></tr>",
                            "<tr><td>7</td><td>2</td><td>2018-09-22</td><td>2</td><td>NULL</td><td>2018-09-23</td><td>4</td></tr>",
                            "<tr><td>8</td><td>5</td><td>2018-06-08</td><td>1</td><td>Mauris enim leo, rhoncus sed, vestibulum sit amet, cursus id, turpis.</td><td>NULL</td><td>NULL</td></tr>",
                            "<tr><td>10</td><td>6</td><td>2018-04-22</td><td>2</td><td>NULL</td><td>2018-04-23</td><td>2</td></tr>",
                            "<tr><td>11</td><td>6</td><td>2025-03-01</td><td>2</td><td>NULL</td><td>2025-03-01</td><td>2</td></tr>",
                            "</table>"
                        ]
                    }
                },
                {
                    "output_type": "execute_result",
                    "metadata": {},
                    "execution_count": 3,
                    "data": {
                        "application/vnd.dataresource+json": {
                            "schema": {
                                "fields": [
                                    {
                                        "name": "OrderID"
                                    },
                                    {
                                        "name": "CustomerId"
                                    },
                                    {
                                        "name": "OrderDate"
                                    },
                                    {
                                        "name": "Status"
                                    },
                                    {
                                        "name": "comments"
                                    },
                                    {
                                        "name": "ShippedDate"
                                    },
                                    {
                                        "name": "ShipperId"
                                    }
                                ]
                            },
                            "data": []
                        },
                        "text/html": [
                            "<table>",
                            "<tr><th>OrderID</th><th>CustomerId</th><th>OrderDate</th><th>Status</th><th>comments</th><th>ShippedDate</th><th>ShipperId</th></tr>",
                            "</table>"
                        ]
                    }
                }
            ],
            "execution_count": 3
        },
        {
            "cell_type": "code",
            "source": [
                "-- Exercise 3 \n",
                " -- Get items for 6th order price greater than 30\n",
                " SELECT * FROM OrderItems WHERE OrderId = 6 AND Quantity * UnitPrice > 30;"
            ],
            "metadata": {
                "azdata_cell_guid": "1a8564d8-f2c5-4be9-ba45-f05493a7edbf",
                "tags": [],
                "language": "sql"
            },
            "outputs": [
                {
                    "output_type": "display_data",
                    "data": {
                        "text/html": "(1 row affected)"
                    },
                    "metadata": {}
                },
                {
                    "output_type": "display_data",
                    "data": {
                        "text/html": "Total execution time: 00:00:00.016"
                    },
                    "metadata": {}
                },
                {
                    "output_type": "execute_result",
                    "metadata": {},
                    "execution_count": 4,
                    "data": {
                        "application/vnd.dataresource+json": {
                            "schema": {
                                "fields": [
                                    {
                                        "name": "OrderId"
                                    },
                                    {
                                        "name": "ProductId"
                                    },
                                    {
                                        "name": "Quantity"
                                    },
                                    {
                                        "name": "UnitPrice"
                                    }
                                ]
                            },
                            "data": [
                                {
                                    "OrderId": "6",
                                    "ProductId": "1",
                                    "Quantity": "4",
                                    "UnitPrice": "8.65"
                                }
                            ]
                        },
                        "text/html": [
                            "<table>",
                            "<tr><th>OrderId</th><th>ProductId</th><th>Quantity</th><th>UnitPrice</th></tr>",
                            "<tr><td>6</td><td>1</td><td>4</td><td>8.65</td></tr>",
                            "</table>"
                        ]
                    }
                }
            ],
            "execution_count": 4
        },
        {
            "cell_type": "code",
            "source": [
                "-- Exercise 4\n",
                "-- Products with stock 49, 38, 72\n",
                "\n",
                "SELECT * FROM Products WHERE QuantityInStock in (49, 38, 72);\n",
                ""
            ],
            "metadata": {
                "azdata_cell_guid": "ebf6938b-ffee-40e0-bfcc-55a500830086",
                "tags": [],
                "language": "sql"
            },
            "outputs": [
                {
                    "output_type": "display_data",
                    "data": {
                        "text/html": "(2 rows affected)"
                    },
                    "metadata": {}
                },
                {
                    "output_type": "display_data",
                    "data": {
                        "text/html": "Total execution time: 00:00:00.017"
                    },
                    "metadata": {}
                },
                {
                    "output_type": "execute_result",
                    "metadata": {},
                    "execution_count": 5,
                    "data": {
                        "application/vnd.dataresource+json": {
                            "schema": {
                                "fields": [
                                    {
                                        "name": "ProductId"
                                    },
                                    {
                                        "name": "Name"
                                    },
                                    {
                                        "name": "QuantityInStock"
                                    },
                                    {
                                        "name": "UnitPrice"
                                    }
                                ]
                            },
                            "data": [
                                {
                                    "ProductId": "2",
                                    "Name": "Pork - Bacon,back Peameal",
                                    "QuantityInStock": "49",
                                    "UnitPrice": "4.65"
                                },
                                {
                                    "ProductId": "3",
                                    "Name": "Lettuce - Romaine, Heart",
                                    "QuantityInStock": "38",
                                    "UnitPrice": "3.35"
                                }
                            ]
                        },
                        "text/html": [
                            "<table>",
                            "<tr><th>ProductId</th><th>Name</th><th>QuantityInStock</th><th>UnitPrice</th></tr>",
                            "<tr><td>2</td><td>Pork - Bacon,back Peameal</td><td>49</td><td>4.65</td></tr>",
                            "<tr><td>3</td><td>Lettuce - Romaine, Heart</td><td>38</td><td>3.35</td></tr>",
                            "</table>"
                        ]
                    }
                }
            ],
            "execution_count": 5
        },
        {
            "cell_type": "code",
            "source": [
                "-- Exercise 5\n",
                "-- Customers born Between 1/1/1990 and 1/1/2000\n",
                "\n",
                "SELECT * FROM Customers WHERE BirthDate BETWEEN '1/1/1990' AND '1/1/2000';"
            ],
            "metadata": {
                "azdata_cell_guid": "86bb67c8-9295-41ea-b555-aca14b54a237",
                "tags": [],
                "language": "sql"
            },
            "outputs": [
                {
                    "output_type": "display_data",
                    "data": {
                        "text/html": "(3 rows affected)"
                    },
                    "metadata": {}
                },
                {
                    "output_type": "display_data",
                    "data": {
                        "text/html": "Total execution time: 00:00:00.051"
                    },
                    "metadata": {}
                },
                {
                    "output_type": "execute_result",
                    "metadata": {},
                    "execution_count": 6,
                    "data": {
                        "application/vnd.dataresource+json": {
                            "schema": {
                                "fields": [
                                    {
                                        "name": "CustomerId"
                                    },
                                    {
                                        "name": "FirstName"
                                    },
                                    {
                                        "name": "LastName"
                                    },
                                    {
                                        "name": "BirthDate"
                                    },
                                    {
                                        "name": "Phone"
                                    },
                                    {
                                        "name": "Address"
                                    },
                                    {
                                        "name": "City"
                                    },
                                    {
                                        "name": "State"
                                    },
                                    {
                                        "name": "Points"
                                    }
                                ]
                            },
                            "data": [
                                {
                                    "CustomerId": "6",
                                    "FirstName": "Elka",
                                    "LastName": "Twiddell",
                                    "BirthDate": "1991-09-04",
                                    "Phone": "312-480-8498",
                                    "Address": "7 Manley Drive",
                                    "City": "Chicago",
                                    "State": "IL",
                                    "Points": "3073"
                                },
                                {
                                    "CustomerId": "8",
                                    "FirstName": "Thacher",
                                    "LastName": "Naseby",
                                    "BirthDate": "1993-07-17",
                                    "Phone": "941-527-3977",
                                    "Address": "538 Mosinee Center",
                                    "City": "Sarasota",
                                    "State": "FL",
                                    "Points": "205"
                                },
                                {
                                    "CustomerId": "9",
                                    "FirstName": "Romola",
                                    "LastName": "Rumgay",
                                    "BirthDate": "1992-05-23",
                                    "Phone": "559-181-3744",
                                    "Address": "3520 Ohio Trail",
                                    "City": "Visalia",
                                    "State": "CA",
                                    "Points": "1486"
                                }
                            ]
                        },
                        "text/html": [
                            "<table>",
                            "<tr><th>CustomerId</th><th>FirstName</th><th>LastName</th><th>BirthDate</th><th>Phone</th><th>Address</th><th>City</th><th>State</th><th>Points</th></tr>",
                            "<tr><td>6</td><td>Elka</td><td>Twiddell</td><td>1991-09-04</td><td>312-480-8498</td><td>7 Manley Drive</td><td>Chicago</td><td>IL</td><td>3073</td></tr>",
                            "<tr><td>8</td><td>Thacher</td><td>Naseby</td><td>1993-07-17</td><td>941-527-3977</td><td>538 Mosinee Center</td><td>Sarasota</td><td>FL</td><td>205</td></tr>",
                            "<tr><td>9</td><td>Romola</td><td>Rumgay</td><td>1992-05-23</td><td>559-181-3744</td><td>3520 Ohio Trail</td><td>Visalia</td><td>CA</td><td>1486</td></tr>",
                            "</table>"
                        ]
                    }
                }
            ],
            "execution_count": 6
        },
        {
            "cell_type": "code",
            "source": [
                "-- Exercise 6 (Like)\n",
                "-- Customers with addresses containing 'Trail' or 'Avenue'\n",
                "SELECT * FROM Customers WHERE Address like '%TRAIL%' or Address like '%AVENUE%';\n",
                "\n",
                "-- Phone numbers end with 9\n",
                "SELECT * FROM Customers WHERE Phone like '%9';\n",
                "\n",
                "SELECT * FROM Customers WHERE Phone NOT like '%9';"
            ],
            "metadata": {
                "azdata_cell_guid": "461a9503-ee5e-4405-91de-f8dac039a6ed",
                "tags": [],
                "language": "sql"
            },
            "outputs": [
                {
                    "output_type": "display_data",
                    "data": {
                        "text/html": "(3 rows affected)"
                    },
                    "metadata": {}
                },
                {
                    "output_type": "display_data",
                    "data": {
                        "text/html": "(2 rows affected)"
                    },
                    "metadata": {}
                },
                {
                    "output_type": "display_data",
                    "data": {
                        "text/html": "(7 rows affected)"
                    },
                    "metadata": {}
                },
                {
                    "output_type": "display_data",
                    "data": {
                        "text/html": "Total execution time: 00:00:00.030"
                    },
                    "metadata": {}
                },
                {
                    "output_type": "execute_result",
                    "metadata": {},
                    "execution_count": 7,
                    "data": {
                        "application/vnd.dataresource+json": {
                            "schema": {
                                "fields": [
                                    {
                                        "name": "CustomerId"
                                    },
                                    {
                                        "name": "FirstName"
                                    },
                                    {
                                        "name": "LastName"
                                    },
                                    {
                                        "name": "BirthDate"
                                    },
                                    {
                                        "name": "Phone"
                                    },
                                    {
                                        "name": "Address"
                                    },
                                    {
                                        "name": "City"
                                    },
                                    {
                                        "name": "State"
                                    },
                                    {
                                        "name": "Points"
                                    }
                                ]
                            },
                            "data": [
                                {
                                    "CustomerId": "2",
                                    "FirstName": "Ines",
                                    "LastName": "Brushfield",
                                    "BirthDate": "1986-04-13",
                                    "Phone": "804-427-9456",
                                    "Address": "14187 Commercial Trail",
                                    "City": "Hampton",
                                    "State": "VA",
                                    "Points": "947"
                                },
                                {
                                    "CustomerId": "9",
                                    "FirstName": "Romola",
                                    "LastName": "Rumgay",
                                    "BirthDate": "1992-05-23",
                                    "Phone": "559-181-3744",
                                    "Address": "3520 Ohio Trail",
                                    "City": "Visalia",
                                    "State": "CA",
                                    "Points": "1486"
                                },
                                {
                                    "CustomerId": "10",
                                    "FirstName": "Levy",
                                    "LastName": "Mynett",
                                    "BirthDate": "1969-10-13",
                                    "Phone": "404-246-3370",
                                    "Address": "68 Lawn Avenue",
                                    "City": "Atlanta",
                                    "State": "GA",
                                    "Points": "796"
                                }
                            ]
                        },
                        "text/html": [
                            "<table>",
                            "<tr><th>CustomerId</th><th>FirstName</th><th>LastName</th><th>BirthDate</th><th>Phone</th><th>Address</th><th>City</th><th>State</th><th>Points</th></tr>",
                            "<tr><td>2</td><td>Ines</td><td>Brushfield</td><td>1986-04-13</td><td>804-427-9456</td><td>14187 Commercial Trail</td><td>Hampton</td><td>VA</td><td>947</td></tr>",
                            "<tr><td>9</td><td>Romola</td><td>Rumgay</td><td>1992-05-23</td><td>559-181-3744</td><td>3520 Ohio Trail</td><td>Visalia</td><td>CA</td><td>1486</td></tr>",
                            "<tr><td>10</td><td>Levy</td><td>Mynett</td><td>1969-10-13</td><td>404-246-3370</td><td>68 Lawn Avenue</td><td>Atlanta</td><td>GA</td><td>796</td></tr>",
                            "</table>"
                        ]
                    }
                },
                {
                    "output_type": "execute_result",
                    "metadata": {},
                    "execution_count": 7,
                    "data": {
                        "application/vnd.dataresource+json": {
                            "schema": {
                                "fields": [
                                    {
                                        "name": "CustomerId"
                                    },
                                    {
                                        "name": "FirstName"
                                    },
                                    {
                                        "name": "LastName"
                                    },
                                    {
                                        "name": "BirthDate"
                                    },
                                    {
                                        "name": "Phone"
                                    },
                                    {
                                        "name": "Address"
                                    },
                                    {
                                        "name": "City"
                                    },
                                    {
                                        "name": "State"
                                    },
                                    {
                                        "name": "Points"
                                    }
                                ]
                            },
                            "data": [
                                {
                                    "CustomerId": "3",
                                    "FirstName": "Freddi",
                                    "LastName": "Boagey",
                                    "BirthDate": "1985-02-07",
                                    "Phone": "719-724-7869",
                                    "Address": "251 Springs Junction",
                                    "City": "Colorado Springs",
                                    "State": "CO",
                                    "Points": "2967"
                                },
                                {
                                    "CustomerId": "7",
                                    "FirstName": "Ilene",
                                    "LastName": "Dowson",
                                    "BirthDate": "1964-08-30",
                                    "Phone": "615-641-4759",
                                    "Address": "50 Lillian Crossing",
                                    "City": "Nashville",
                                    "State": "TN",
                                    "Points": "1672"
                                }
                            ]
                        },
                        "text/html": [
                            "<table>",
                            "<tr><th>CustomerId</th><th>FirstName</th><th>LastName</th><th>BirthDate</th><th>Phone</th><th>Address</th><th>City</th><th>State</th><th>Points</th></tr>",
                            "<tr><td>3</td><td>Freddi</td><td>Boagey</td><td>1985-02-07</td><td>719-724-7869</td><td>251 Springs Junction</td><td>Colorado Springs</td><td>CO</td><td>2967</td></tr>",
                            "<tr><td>7</td><td>Ilene</td><td>Dowson</td><td>1964-08-30</td><td>615-641-4759</td><td>50 Lillian Crossing</td><td>Nashville</td><td>TN</td><td>1672</td></tr>",
                            "</table>"
                        ]
                    }
                },
                {
                    "output_type": "execute_result",
                    "metadata": {},
                    "execution_count": 7,
                    "data": {
                        "application/vnd.dataresource+json": {
                            "schema": {
                                "fields": [
                                    {
                                        "name": "CustomerId"
                                    },
                                    {
                                        "name": "FirstName"
                                    },
                                    {
                                        "name": "LastName"
                                    },
                                    {
                                        "name": "BirthDate"
                                    },
                                    {
                                        "name": "Phone"
                                    },
                                    {
                                        "name": "Address"
                                    },
                                    {
                                        "name": "City"
                                    },
                                    {
                                        "name": "State"
                                    },
                                    {
                                        "name": "Points"
                                    }
                                ]
                            },
                            "data": [
                                {
                                    "CustomerId": "1",
                                    "FirstName": "Babara",
                                    "LastName": "MacCaffrey",
                                    "BirthDate": "1986-03-28",
                                    "Phone": "781-932-9754",
                                    "Address": "0 Sage Terrace",
                                    "City": "Waltham",
                                    "State": "MA",
                                    "Points": "2273"
                                },
                                {
                                    "CustomerId": "2",
                                    "FirstName": "Ines",
                                    "LastName": "Brushfield",
                                    "BirthDate": "1986-04-13",
                                    "Phone": "804-427-9456",
                                    "Address": "14187 Commercial Trail",
                                    "City": "Hampton",
                                    "State": "VA",
                                    "Points": "947"
                                },
                                {
                                    "CustomerId": "4",
                                    "FirstName": "Ambur",
                                    "LastName": "Roseburgh",
                                    "BirthDate": "1974-04-14",
                                    "Phone": "407-231-8017",
                                    "Address": "30 Arapahoe Terrace",
                                    "City": "Orlando",
                                    "State": "FL",
                                    "Points": "457"
                                },
                                {
                                    "CustomerId": "6",
                                    "FirstName": "Elka",
                                    "LastName": "Twiddell",
                                    "BirthDate": "1991-09-04",
                                    "Phone": "312-480-8498",
                                    "Address": "7 Manley Drive",
                                    "City": "Chicago",
                                    "State": "IL",
                                    "Points": "3073"
                                },
                                {
                                    "CustomerId": "8",
                                    "FirstName": "Thacher",
                                    "LastName": "Naseby",
                                    "BirthDate": "1993-07-17",
                                    "Phone": "941-527-3977",
                                    "Address": "538 Mosinee Center",
                                    "City": "Sarasota",
                                    "State": "FL",
                                    "Points": "205"
                                },
                                {
                                    "CustomerId": "9",
                                    "FirstName": "Romola",
                                    "LastName": "Rumgay",
                                    "BirthDate": "1992-05-23",
                                    "Phone": "559-181-3744",
                                    "Address": "3520 Ohio Trail",
                                    "City": "Visalia",
                                    "State": "CA",
                                    "Points": "1486"
                                },
                                {
                                    "CustomerId": "10",
                                    "FirstName": "Levy",
                                    "LastName": "Mynett",
                                    "BirthDate": "1969-10-13",
                                    "Phone": "404-246-3370",
                                    "Address": "68 Lawn Avenue",
                                    "City": "Atlanta",
                                    "State": "GA",
                                    "Points": "796"
                                }
                            ]
                        },
                        "text/html": [
                            "<table>",
                            "<tr><th>CustomerId</th><th>FirstName</th><th>LastName</th><th>BirthDate</th><th>Phone</th><th>Address</th><th>City</th><th>State</th><th>Points</th></tr>",
                            "<tr><td>1</td><td>Babara</td><td>MacCaffrey</td><td>1986-03-28</td><td>781-932-9754</td><td>0 Sage Terrace</td><td>Waltham</td><td>MA</td><td>2273</td></tr>",
                            "<tr><td>2</td><td>Ines</td><td>Brushfield</td><td>1986-04-13</td><td>804-427-9456</td><td>14187 Commercial Trail</td><td>Hampton</td><td>VA</td><td>947</td></tr>",
                            "<tr><td>4</td><td>Ambur</td><td>Roseburgh</td><td>1974-04-14</td><td>407-231-8017</td><td>30 Arapahoe Terrace</td><td>Orlando</td><td>FL</td><td>457</td></tr>",
                            "<tr><td>6</td><td>Elka</td><td>Twiddell</td><td>1991-09-04</td><td>312-480-8498</td><td>7 Manley Drive</td><td>Chicago</td><td>IL</td><td>3073</td></tr>",
                            "<tr><td>8</td><td>Thacher</td><td>Naseby</td><td>1993-07-17</td><td>941-527-3977</td><td>538 Mosinee Center</td><td>Sarasota</td><td>FL</td><td>205</td></tr>",
                            "<tr><td>9</td><td>Romola</td><td>Rumgay</td><td>1992-05-23</td><td>559-181-3744</td><td>3520 Ohio Trail</td><td>Visalia</td><td>CA</td><td>1486</td></tr>",
                            "<tr><td>10</td><td>Levy</td><td>Mynett</td><td>1969-10-13</td><td>404-246-3370</td><td>68 Lawn Avenue</td><td>Atlanta</td><td>GA</td><td>796</td></tr>",
                            "</table>"
                        ]
                    }
                }
            ],
            "execution_count": 7
        },
        {
            "cell_type": "code",
            "source": [
                "--  Regular Expressions via 'like' operator\n",
                "-- There is not REGEXP in SQL Server like in MySql\n",
                "\n",
                "SELECT * FROM Customers WHERE LastName like '[A-D]%';\n",
                "\n",
                "SELECT * FROM Customers WHERE LastName like '%B%[x-z]';\n",
                "\n",
                "SELECT * FROM Customers WHERE LastName like '%field' OR LastName like 'mac%';"
            ],
            "metadata": {
                "azdata_cell_guid": "e3ffa4cf-33b1-46d4-95ae-4904c2192bca",
                "language": "sql"
            },
            "outputs": [
                {
                    "output_type": "display_data",
                    "data": {
                        "text/html": "(4 rows affected)"
                    },
                    "metadata": {}
                },
                {
                    "output_type": "display_data",
                    "data": {
                        "text/html": "(3 rows affected)"
                    },
                    "metadata": {}
                },
                {
                    "output_type": "display_data",
                    "data": {
                        "text/html": "(2 rows affected)"
                    },
                    "metadata": {}
                },
                {
                    "output_type": "display_data",
                    "data": {
                        "text/html": "Total execution time: 00:00:00.023"
                    },
                    "metadata": {}
                },
                {
                    "output_type": "execute_result",
                    "metadata": {},
                    "execution_count": 8,
                    "data": {
                        "application/vnd.dataresource+json": {
                            "schema": {
                                "fields": [
                                    {
                                        "name": "CustomerId"
                                    },
                                    {
                                        "name": "FirstName"
                                    },
                                    {
                                        "name": "LastName"
                                    },
                                    {
                                        "name": "BirthDate"
                                    },
                                    {
                                        "name": "Phone"
                                    },
                                    {
                                        "name": "Address"
                                    },
                                    {
                                        "name": "City"
                                    },
                                    {
                                        "name": "State"
                                    },
                                    {
                                        "name": "Points"
                                    }
                                ]
                            },
                            "data": [
                                {
                                    "CustomerId": "2",
                                    "FirstName": "Ines",
                                    "LastName": "Brushfield",
                                    "BirthDate": "1986-04-13",
                                    "Phone": "804-427-9456",
                                    "Address": "14187 Commercial Trail",
                                    "City": "Hampton",
                                    "State": "VA",
                                    "Points": "947"
                                },
                                {
                                    "CustomerId": "3",
                                    "FirstName": "Freddi",
                                    "LastName": "Boagey",
                                    "BirthDate": "1985-02-07",
                                    "Phone": "719-724-7869",
                                    "Address": "251 Springs Junction",
                                    "City": "Colorado Springs",
                                    "State": "CO",
                                    "Points": "2967"
                                },
                                {
                                    "CustomerId": "5",
                                    "FirstName": "Clemmie",
                                    "LastName": "Betchley",
                                    "BirthDate": "1973-11-07",
                                    "Phone": "NULL",
                                    "Address": "5 Spohn Circle",
                                    "City": "Arlington",
                                    "State": "TX",
                                    "Points": "3675"
                                },
                                {
                                    "CustomerId": "7",
                                    "FirstName": "Ilene",
                                    "LastName": "Dowson",
                                    "BirthDate": "1964-08-30",
                                    "Phone": "615-641-4759",
                                    "Address": "50 Lillian Crossing",
                                    "City": "Nashville",
                                    "State": "TN",
                                    "Points": "1672"
                                }
                            ]
                        },
                        "text/html": [
                            "<table>",
                            "<tr><th>CustomerId</th><th>FirstName</th><th>LastName</th><th>BirthDate</th><th>Phone</th><th>Address</th><th>City</th><th>State</th><th>Points</th></tr>",
                            "<tr><td>2</td><td>Ines</td><td>Brushfield</td><td>1986-04-13</td><td>804-427-9456</td><td>14187 Commercial Trail</td><td>Hampton</td><td>VA</td><td>947</td></tr>",
                            "<tr><td>3</td><td>Freddi</td><td>Boagey</td><td>1985-02-07</td><td>719-724-7869</td><td>251 Springs Junction</td><td>Colorado Springs</td><td>CO</td><td>2967</td></tr>",
                            "<tr><td>5</td><td>Clemmie</td><td>Betchley</td><td>1973-11-07</td><td>NULL</td><td>5 Spohn Circle</td><td>Arlington</td><td>TX</td><td>3675</td></tr>",
                            "<tr><td>7</td><td>Ilene</td><td>Dowson</td><td>1964-08-30</td><td>615-641-4759</td><td>50 Lillian Crossing</td><td>Nashville</td><td>TN</td><td>1672</td></tr>",
                            "</table>"
                        ]
                    }
                },
                {
                    "output_type": "execute_result",
                    "metadata": {},
                    "execution_count": 8,
                    "data": {
                        "application/vnd.dataresource+json": {
                            "schema": {
                                "fields": [
                                    {
                                        "name": "CustomerId"
                                    },
                                    {
                                        "name": "FirstName"
                                    },
                                    {
                                        "name": "LastName"
                                    },
                                    {
                                        "name": "BirthDate"
                                    },
                                    {
                                        "name": "Phone"
                                    },
                                    {
                                        "name": "Address"
                                    },
                                    {
                                        "name": "City"
                                    },
                                    {
                                        "name": "State"
                                    },
                                    {
                                        "name": "Points"
                                    }
                                ]
                            },
                            "data": [
                                {
                                    "CustomerId": "3",
                                    "FirstName": "Freddi",
                                    "LastName": "Boagey",
                                    "BirthDate": "1985-02-07",
                                    "Phone": "719-724-7869",
                                    "Address": "251 Springs Junction",
                                    "City": "Colorado Springs",
                                    "State": "CO",
                                    "Points": "2967"
                                },
                                {
                                    "CustomerId": "5",
                                    "FirstName": "Clemmie",
                                    "LastName": "Betchley",
                                    "BirthDate": "1973-11-07",
                                    "Phone": "NULL",
                                    "Address": "5 Spohn Circle",
                                    "City": "Arlington",
                                    "State": "TX",
                                    "Points": "3675"
                                },
                                {
                                    "CustomerId": "8",
                                    "FirstName": "Thacher",
                                    "LastName": "Naseby",
                                    "BirthDate": "1993-07-17",
                                    "Phone": "941-527-3977",
                                    "Address": "538 Mosinee Center",
                                    "City": "Sarasota",
                                    "State": "FL",
                                    "Points": "205"
                                }
                            ]
                        },
                        "text/html": [
                            "<table>",
                            "<tr><th>CustomerId</th><th>FirstName</th><th>LastName</th><th>BirthDate</th><th>Phone</th><th>Address</th><th>City</th><th>State</th><th>Points</th></tr>",
                            "<tr><td>3</td><td>Freddi</td><td>Boagey</td><td>1985-02-07</td><td>719-724-7869</td><td>251 Springs Junction</td><td>Colorado Springs</td><td>CO</td><td>2967</td></tr>",
                            "<tr><td>5</td><td>Clemmie</td><td>Betchley</td><td>1973-11-07</td><td>NULL</td><td>5 Spohn Circle</td><td>Arlington</td><td>TX</td><td>3675</td></tr>",
                            "<tr><td>8</td><td>Thacher</td><td>Naseby</td><td>1993-07-17</td><td>941-527-3977</td><td>538 Mosinee Center</td><td>Sarasota</td><td>FL</td><td>205</td></tr>",
                            "</table>"
                        ]
                    }
                },
                {
                    "output_type": "execute_result",
                    "metadata": {},
                    "execution_count": 8,
                    "data": {
                        "application/vnd.dataresource+json": {
                            "schema": {
                                "fields": [
                                    {
                                        "name": "CustomerId"
                                    },
                                    {
                                        "name": "FirstName"
                                    },
                                    {
                                        "name": "LastName"
                                    },
                                    {
                                        "name": "BirthDate"
                                    },
                                    {
                                        "name": "Phone"
                                    },
                                    {
                                        "name": "Address"
                                    },
                                    {
                                        "name": "City"
                                    },
                                    {
                                        "name": "State"
                                    },
                                    {
                                        "name": "Points"
                                    }
                                ]
                            },
                            "data": [
                                {
                                    "CustomerId": "1",
                                    "FirstName": "Babara",
                                    "LastName": "MacCaffrey",
                                    "BirthDate": "1986-03-28",
                                    "Phone": "781-932-9754",
                                    "Address": "0 Sage Terrace",
                                    "City": "Waltham",
                                    "State": "MA",
                                    "Points": "2273"
                                },
                                {
                                    "CustomerId": "2",
                                    "FirstName": "Ines",
                                    "LastName": "Brushfield",
                                    "BirthDate": "1986-04-13",
                                    "Phone": "804-427-9456",
                                    "Address": "14187 Commercial Trail",
                                    "City": "Hampton",
                                    "State": "VA",
                                    "Points": "947"
                                }
                            ]
                        },
                        "text/html": [
                            "<table>",
                            "<tr><th>CustomerId</th><th>FirstName</th><th>LastName</th><th>BirthDate</th><th>Phone</th><th>Address</th><th>City</th><th>State</th><th>Points</th></tr>",
                            "<tr><td>1</td><td>Babara</td><td>MacCaffrey</td><td>1986-03-28</td><td>781-932-9754</td><td>0 Sage Terrace</td><td>Waltham</td><td>MA</td><td>2273</td></tr>",
                            "<tr><td>2</td><td>Ines</td><td>Brushfield</td><td>1986-04-13</td><td>804-427-9456</td><td>14187 Commercial Trail</td><td>Hampton</td><td>VA</td><td>947</td></tr>",
                            "</table>"
                        ]
                    }
                }
            ],
            "execution_count": 8
        },
        {
            "cell_type": "code",
            "source": [
                "-- Exercise 7\n",
                "-- Customers first names ELKA or AMBUR\n",
                "\n",
                "SELECT * FROM Customers WHERE FirstName = 'ELKA' or FirstName = 'Ambur';\n",
                "\n",
                "-- Last Names end with EY or ON\n",
                "\n",
                "SELECT * FROM Customers WHERE LastName like '%EY' or LastName like '%ON';\n",
                "\n",
                "SELECT * FROM Customers WHERE FirstName = 'ELKA' or LastName = 'Ambur' OR  LastName like '%EY' or LastName like '%ON';\n",
                "\n",
                "\n",
                "-- Last Names start with MY or contains SE\n",
                "\n",
                "SELECT * FROM Customers WHERE LastName like 'MY%' OR LastName like '%SE%';\n",
                "-- Last names contain B followed by R or U\n",
                "\n",
                "SELECT * FROM Customers WHERE LastName like '%b[r]%' OR LastName like '%b[u]%';\n",
                "\n",
                "SELECT * FROM Customers WHERE LastName like 'MY%' OR LastName like '%SE%' OR LastName like '%b[r]%' OR LastName like '%b[u]%';"
            ],
            "metadata": {
                "azdata_cell_guid": "db0b523b-2ab9-4e36-8580-697682851586",
                "language": "sql"
            },
            "outputs": [
                {
                    "output_type": "display_data",
                    "data": {
                        "text/html": "(2 rows affected)"
                    },
                    "metadata": {}
                },
                {
                    "output_type": "display_data",
                    "data": {
                        "text/html": "(4 rows affected)"
                    },
                    "metadata": {}
                },
                {
                    "output_type": "display_data",
                    "data": {
                        "text/html": "(5 rows affected)"
                    },
                    "metadata": {}
                },
                {
                    "output_type": "display_data",
                    "data": {
                        "text/html": "(3 rows affected)"
                    },
                    "metadata": {}
                },
                {
                    "output_type": "display_data",
                    "data": {
                        "text/html": "(2 rows affected)"
                    },
                    "metadata": {}
                },
                {
                    "output_type": "display_data",
                    "data": {
                        "text/html": "(4 rows affected)"
                    },
                    "metadata": {}
                },
                {
                    "output_type": "display_data",
                    "data": {
                        "text/html": "Total execution time: 00:00:00.036"
                    },
                    "metadata": {}
                },
                {
                    "output_type": "execute_result",
                    "metadata": {},
                    "execution_count": 9,
                    "data": {
                        "application/vnd.dataresource+json": {
                            "schema": {
                                "fields": [
                                    {
                                        "name": "CustomerId"
                                    },
                                    {
                                        "name": "FirstName"
                                    },
                                    {
                                        "name": "LastName"
                                    },
                                    {
                                        "name": "BirthDate"
                                    },
                                    {
                                        "name": "Phone"
                                    },
                                    {
                                        "name": "Address"
                                    },
                                    {
                                        "name": "City"
                                    },
                                    {
                                        "name": "State"
                                    },
                                    {
                                        "name": "Points"
                                    }
                                ]
                            },
                            "data": [
                                {
                                    "CustomerId": "4",
                                    "FirstName": "Ambur",
                                    "LastName": "Roseburgh",
                                    "BirthDate": "1974-04-14",
                                    "Phone": "407-231-8017",
                                    "Address": "30 Arapahoe Terrace",
                                    "City": "Orlando",
                                    "State": "FL",
                                    "Points": "457"
                                },
                                {
                                    "CustomerId": "6",
                                    "FirstName": "Elka",
                                    "LastName": "Twiddell",
                                    "BirthDate": "1991-09-04",
                                    "Phone": "312-480-8498",
                                    "Address": "7 Manley Drive",
                                    "City": "Chicago",
                                    "State": "IL",
                                    "Points": "3073"
                                }
                            ]
                        },
                        "text/html": [
                            "<table>",
                            "<tr><th>CustomerId</th><th>FirstName</th><th>LastName</th><th>BirthDate</th><th>Phone</th><th>Address</th><th>City</th><th>State</th><th>Points</th></tr>",
                            "<tr><td>4</td><td>Ambur</td><td>Roseburgh</td><td>1974-04-14</td><td>407-231-8017</td><td>30 Arapahoe Terrace</td><td>Orlando</td><td>FL</td><td>457</td></tr>",
                            "<tr><td>6</td><td>Elka</td><td>Twiddell</td><td>1991-09-04</td><td>312-480-8498</td><td>7 Manley Drive</td><td>Chicago</td><td>IL</td><td>3073</td></tr>",
                            "</table>"
                        ]
                    }
                },
                {
                    "output_type": "execute_result",
                    "metadata": {},
                    "execution_count": 9,
                    "data": {
                        "application/vnd.dataresource+json": {
                            "schema": {
                                "fields": [
                                    {
                                        "name": "CustomerId"
                                    },
                                    {
                                        "name": "FirstName"
                                    },
                                    {
                                        "name": "LastName"
                                    },
                                    {
                                        "name": "BirthDate"
                                    },
                                    {
                                        "name": "Phone"
                                    },
                                    {
                                        "name": "Address"
                                    },
                                    {
                                        "name": "City"
                                    },
                                    {
                                        "name": "State"
                                    },
                                    {
                                        "name": "Points"
                                    }
                                ]
                            },
                            "data": [
                                {
                                    "CustomerId": "1",
                                    "FirstName": "Babara",
                                    "LastName": "MacCaffrey",
                                    "BirthDate": "1986-03-28",
                                    "Phone": "781-932-9754",
                                    "Address": "0 Sage Terrace",
                                    "City": "Waltham",
                                    "State": "MA",
                                    "Points": "2273"
                                },
                                {
                                    "CustomerId": "3",
                                    "FirstName": "Freddi",
                                    "LastName": "Boagey",
                                    "BirthDate": "1985-02-07",
                                    "Phone": "719-724-7869",
                                    "Address": "251 Springs Junction",
                                    "City": "Colorado Springs",
                                    "State": "CO",
                                    "Points": "2967"
                                },
                                {
                                    "CustomerId": "5",
                                    "FirstName": "Clemmie",
                                    "LastName": "Betchley",
                                    "BirthDate": "1973-11-07",
                                    "Phone": "NULL",
                                    "Address": "5 Spohn Circle",
                                    "City": "Arlington",
                                    "State": "TX",
                                    "Points": "3675"
                                },
                                {
                                    "CustomerId": "7",
                                    "FirstName": "Ilene",
                                    "LastName": "Dowson",
                                    "BirthDate": "1964-08-30",
                                    "Phone": "615-641-4759",
                                    "Address": "50 Lillian Crossing",
                                    "City": "Nashville",
                                    "State": "TN",
                                    "Points": "1672"
                                }
                            ]
                        },
                        "text/html": [
                            "<table>",
                            "<tr><th>CustomerId</th><th>FirstName</th><th>LastName</th><th>BirthDate</th><th>Phone</th><th>Address</th><th>City</th><th>State</th><th>Points</th></tr>",
                            "<tr><td>1</td><td>Babara</td><td>MacCaffrey</td><td>1986-03-28</td><td>781-932-9754</td><td>0 Sage Terrace</td><td>Waltham</td><td>MA</td><td>2273</td></tr>",
                            "<tr><td>3</td><td>Freddi</td><td>Boagey</td><td>1985-02-07</td><td>719-724-7869</td><td>251 Springs Junction</td><td>Colorado Springs</td><td>CO</td><td>2967</td></tr>",
                            "<tr><td>5</td><td>Clemmie</td><td>Betchley</td><td>1973-11-07</td><td>NULL</td><td>5 Spohn Circle</td><td>Arlington</td><td>TX</td><td>3675</td></tr>",
                            "<tr><td>7</td><td>Ilene</td><td>Dowson</td><td>1964-08-30</td><td>615-641-4759</td><td>50 Lillian Crossing</td><td>Nashville</td><td>TN</td><td>1672</td></tr>",
                            "</table>"
                        ]
                    }
                },
                {
                    "output_type": "execute_result",
                    "metadata": {},
                    "execution_count": 9,
                    "data": {
                        "application/vnd.dataresource+json": {
                            "schema": {
                                "fields": [
                                    {
                                        "name": "CustomerId"
                                    },
                                    {
                                        "name": "FirstName"
                                    },
                                    {
                                        "name": "LastName"
                                    },
                                    {
                                        "name": "BirthDate"
                                    },
                                    {
                                        "name": "Phone"
                                    },
                                    {
                                        "name": "Address"
                                    },
                                    {
                                        "name": "City"
                                    },
                                    {
                                        "name": "State"
                                    },
                                    {
                                        "name": "Points"
                                    }
                                ]
                            },
                            "data": [
                                {
                                    "CustomerId": "1",
                                    "FirstName": "Babara",
                                    "LastName": "MacCaffrey",
                                    "BirthDate": "1986-03-28",
                                    "Phone": "781-932-9754",
                                    "Address": "0 Sage Terrace",
                                    "City": "Waltham",
                                    "State": "MA",
                                    "Points": "2273"
                                },
                                {
                                    "CustomerId": "3",
                                    "FirstName": "Freddi",
                                    "LastName": "Boagey",
                                    "BirthDate": "1985-02-07",
                                    "Phone": "719-724-7869",
                                    "Address": "251 Springs Junction",
                                    "City": "Colorado Springs",
                                    "State": "CO",
                                    "Points": "2967"
                                },
                                {
                                    "CustomerId": "5",
                                    "FirstName": "Clemmie",
                                    "LastName": "Betchley",
                                    "BirthDate": "1973-11-07",
                                    "Phone": "NULL",
                                    "Address": "5 Spohn Circle",
                                    "City": "Arlington",
                                    "State": "TX",
                                    "Points": "3675"
                                },
                                {
                                    "CustomerId": "6",
                                    "FirstName": "Elka",
                                    "LastName": "Twiddell",
                                    "BirthDate": "1991-09-04",
                                    "Phone": "312-480-8498",
                                    "Address": "7 Manley Drive",
                                    "City": "Chicago",
                                    "State": "IL",
                                    "Points": "3073"
                                },
                                {
                                    "CustomerId": "7",
                                    "FirstName": "Ilene",
                                    "LastName": "Dowson",
                                    "BirthDate": "1964-08-30",
                                    "Phone": "615-641-4759",
                                    "Address": "50 Lillian Crossing",
                                    "City": "Nashville",
                                    "State": "TN",
                                    "Points": "1672"
                                }
                            ]
                        },
                        "text/html": [
                            "<table>",
                            "<tr><th>CustomerId</th><th>FirstName</th><th>LastName</th><th>BirthDate</th><th>Phone</th><th>Address</th><th>City</th><th>State</th><th>Points</th></tr>",
                            "<tr><td>1</td><td>Babara</td><td>MacCaffrey</td><td>1986-03-28</td><td>781-932-9754</td><td>0 Sage Terrace</td><td>Waltham</td><td>MA</td><td>2273</td></tr>",
                            "<tr><td>3</td><td>Freddi</td><td>Boagey</td><td>1985-02-07</td><td>719-724-7869</td><td>251 Springs Junction</td><td>Colorado Springs</td><td>CO</td><td>2967</td></tr>",
                            "<tr><td>5</td><td>Clemmie</td><td>Betchley</td><td>1973-11-07</td><td>NULL</td><td>5 Spohn Circle</td><td>Arlington</td><td>TX</td><td>3675</td></tr>",
                            "<tr><td>6</td><td>Elka</td><td>Twiddell</td><td>1991-09-04</td><td>312-480-8498</td><td>7 Manley Drive</td><td>Chicago</td><td>IL</td><td>3073</td></tr>",
                            "<tr><td>7</td><td>Ilene</td><td>Dowson</td><td>1964-08-30</td><td>615-641-4759</td><td>50 Lillian Crossing</td><td>Nashville</td><td>TN</td><td>1672</td></tr>",
                            "</table>"
                        ]
                    }
                },
                {
                    "output_type": "execute_result",
                    "metadata": {},
                    "execution_count": 9,
                    "data": {
                        "application/vnd.dataresource+json": {
                            "schema": {
                                "fields": [
                                    {
                                        "name": "CustomerId"
                                    },
                                    {
                                        "name": "FirstName"
                                    },
                                    {
                                        "name": "LastName"
                                    },
                                    {
                                        "name": "BirthDate"
                                    },
                                    {
                                        "name": "Phone"
                                    },
                                    {
                                        "name": "Address"
                                    },
                                    {
                                        "name": "City"
                                    },
                                    {
                                        "name": "State"
                                    },
                                    {
                                        "name": "Points"
                                    }
                                ]
                            },
                            "data": [
                                {
                                    "CustomerId": "4",
                                    "FirstName": "Ambur",
                                    "LastName": "Roseburgh",
                                    "BirthDate": "1974-04-14",
                                    "Phone": "407-231-8017",
                                    "Address": "30 Arapahoe Terrace",
                                    "City": "Orlando",
                                    "State": "FL",
                                    "Points": "457"
                                },
                                {
                                    "CustomerId": "8",
                                    "FirstName": "Thacher",
                                    "LastName": "Naseby",
                                    "BirthDate": "1993-07-17",
                                    "Phone": "941-527-3977",
                                    "Address": "538 Mosinee Center",
                                    "City": "Sarasota",
                                    "State": "FL",
                                    "Points": "205"
                                },
                                {
                                    "CustomerId": "10",
                                    "FirstName": "Levy",
                                    "LastName": "Mynett",
                                    "BirthDate": "1969-10-13",
                                    "Phone": "404-246-3370",
                                    "Address": "68 Lawn Avenue",
                                    "City": "Atlanta",
                                    "State": "GA",
                                    "Points": "796"
                                }
                            ]
                        },
                        "text/html": [
                            "<table>",
                            "<tr><th>CustomerId</th><th>FirstName</th><th>LastName</th><th>BirthDate</th><th>Phone</th><th>Address</th><th>City</th><th>State</th><th>Points</th></tr>",
                            "<tr><td>4</td><td>Ambur</td><td>Roseburgh</td><td>1974-04-14</td><td>407-231-8017</td><td>30 Arapahoe Terrace</td><td>Orlando</td><td>FL</td><td>457</td></tr>",
                            "<tr><td>8</td><td>Thacher</td><td>Naseby</td><td>1993-07-17</td><td>941-527-3977</td><td>538 Mosinee Center</td><td>Sarasota</td><td>FL</td><td>205</td></tr>",
                            "<tr><td>10</td><td>Levy</td><td>Mynett</td><td>1969-10-13</td><td>404-246-3370</td><td>68 Lawn Avenue</td><td>Atlanta</td><td>GA</td><td>796</td></tr>",
                            "</table>"
                        ]
                    }
                },
                {
                    "output_type": "execute_result",
                    "metadata": {},
                    "execution_count": 9,
                    "data": {
                        "application/vnd.dataresource+json": {
                            "schema": {
                                "fields": [
                                    {
                                        "name": "CustomerId"
                                    },
                                    {
                                        "name": "FirstName"
                                    },
                                    {
                                        "name": "LastName"
                                    },
                                    {
                                        "name": "BirthDate"
                                    },
                                    {
                                        "name": "Phone"
                                    },
                                    {
                                        "name": "Address"
                                    },
                                    {
                                        "name": "City"
                                    },
                                    {
                                        "name": "State"
                                    },
                                    {
                                        "name": "Points"
                                    }
                                ]
                            },
                            "data": [
                                {
                                    "CustomerId": "2",
                                    "FirstName": "Ines",
                                    "LastName": "Brushfield",
                                    "BirthDate": "1986-04-13",
                                    "Phone": "804-427-9456",
                                    "Address": "14187 Commercial Trail",
                                    "City": "Hampton",
                                    "State": "VA",
                                    "Points": "947"
                                },
                                {
                                    "CustomerId": "4",
                                    "FirstName": "Ambur",
                                    "LastName": "Roseburgh",
                                    "BirthDate": "1974-04-14",
                                    "Phone": "407-231-8017",
                                    "Address": "30 Arapahoe Terrace",
                                    "City": "Orlando",
                                    "State": "FL",
                                    "Points": "457"
                                }
                            ]
                        },
                        "text/html": [
                            "<table>",
                            "<tr><th>CustomerId</th><th>FirstName</th><th>LastName</th><th>BirthDate</th><th>Phone</th><th>Address</th><th>City</th><th>State</th><th>Points</th></tr>",
                            "<tr><td>2</td><td>Ines</td><td>Brushfield</td><td>1986-04-13</td><td>804-427-9456</td><td>14187 Commercial Trail</td><td>Hampton</td><td>VA</td><td>947</td></tr>",
                            "<tr><td>4</td><td>Ambur</td><td>Roseburgh</td><td>1974-04-14</td><td>407-231-8017</td><td>30 Arapahoe Terrace</td><td>Orlando</td><td>FL</td><td>457</td></tr>",
                            "</table>"
                        ]
                    }
                },
                {
                    "output_type": "execute_result",
                    "metadata": {},
                    "execution_count": 9,
                    "data": {
                        "application/vnd.dataresource+json": {
                            "schema": {
                                "fields": [
                                    {
                                        "name": "CustomerId"
                                    },
                                    {
                                        "name": "FirstName"
                                    },
                                    {
                                        "name": "LastName"
                                    },
                                    {
                                        "name": "BirthDate"
                                    },
                                    {
                                        "name": "Phone"
                                    },
                                    {
                                        "name": "Address"
                                    },
                                    {
                                        "name": "City"
                                    },
                                    {
                                        "name": "State"
                                    },
                                    {
                                        "name": "Points"
                                    }
                                ]
                            },
                            "data": [
                                {
                                    "CustomerId": "2",
                                    "FirstName": "Ines",
                                    "LastName": "Brushfield",
                                    "BirthDate": "1986-04-13",
                                    "Phone": "804-427-9456",
                                    "Address": "14187 Commercial Trail",
                                    "City": "Hampton",
                                    "State": "VA",
                                    "Points": "947"
                                },
                                {
                                    "CustomerId": "4",
                                    "FirstName": "Ambur",
                                    "LastName": "Roseburgh",
                                    "BirthDate": "1974-04-14",
                                    "Phone": "407-231-8017",
                                    "Address": "30 Arapahoe Terrace",
                                    "City": "Orlando",
                                    "State": "FL",
                                    "Points": "457"
                                },
                                {
                                    "CustomerId": "8",
                                    "FirstName": "Thacher",
                                    "LastName": "Naseby",
                                    "BirthDate": "1993-07-17",
                                    "Phone": "941-527-3977",
                                    "Address": "538 Mosinee Center",
                                    "City": "Sarasota",
                                    "State": "FL",
                                    "Points": "205"
                                },
                                {
                                    "CustomerId": "10",
                                    "FirstName": "Levy",
                                    "LastName": "Mynett",
                                    "BirthDate": "1969-10-13",
                                    "Phone": "404-246-3370",
                                    "Address": "68 Lawn Avenue",
                                    "City": "Atlanta",
                                    "State": "GA",
                                    "Points": "796"
                                }
                            ]
                        },
                        "text/html": [
                            "<table>",
                            "<tr><th>CustomerId</th><th>FirstName</th><th>LastName</th><th>BirthDate</th><th>Phone</th><th>Address</th><th>City</th><th>State</th><th>Points</th></tr>",
                            "<tr><td>2</td><td>Ines</td><td>Brushfield</td><td>1986-04-13</td><td>804-427-9456</td><td>14187 Commercial Trail</td><td>Hampton</td><td>VA</td><td>947</td></tr>",
                            "<tr><td>4</td><td>Ambur</td><td>Roseburgh</td><td>1974-04-14</td><td>407-231-8017</td><td>30 Arapahoe Terrace</td><td>Orlando</td><td>FL</td><td>457</td></tr>",
                            "<tr><td>8</td><td>Thacher</td><td>Naseby</td><td>1993-07-17</td><td>941-527-3977</td><td>538 Mosinee Center</td><td>Sarasota</td><td>FL</td><td>205</td></tr>",
                            "<tr><td>10</td><td>Levy</td><td>Mynett</td><td>1969-10-13</td><td>404-246-3370</td><td>68 Lawn Avenue</td><td>Atlanta</td><td>GA</td><td>796</td></tr>",
                            "</table>"
                        ]
                    }
                }
            ],
            "execution_count": 9
        },
        {
            "cell_type": "code",
            "source": [
                "-- Exercise 8\n",
                "-- Get the Order that are not shipped\n",
                "SELECT * FROM Orders WHERE ShippedDate IS NULL;\n",
                "\n",
                "-- Alternatively\n",
                "\n",
                "SELECT * FROM Orders WHERE Status  < 2;"
            ],
            "metadata": {
                "azdata_cell_guid": "827561f7-50a2-41a0-9880-5f4b7e1f7995",
                "language": "sql"
            },
            "outputs": [
                {
                    "output_type": "display_data",
                    "data": {
                        "text/html": "(5 rows affected)"
                    },
                    "metadata": {}
                },
                {
                    "output_type": "display_data",
                    "data": {
                        "text/html": "(5 rows affected)"
                    },
                    "metadata": {}
                },
                {
                    "output_type": "display_data",
                    "data": {
                        "text/html": "Total execution time: 00:00:00.028"
                    },
                    "metadata": {}
                },
                {
                    "output_type": "execute_result",
                    "metadata": {},
                    "execution_count": 10,
                    "data": {
                        "application/vnd.dataresource+json": {
                            "schema": {
                                "fields": [
                                    {
                                        "name": "OrderID"
                                    },
                                    {
                                        "name": "CustomerId"
                                    },
                                    {
                                        "name": "OrderDate"
                                    },
                                    {
                                        "name": "Status"
                                    },
                                    {
                                        "name": "comments"
                                    },
                                    {
                                        "name": "ShippedDate"
                                    },
                                    {
                                        "name": "ShipperId"
                                    }
                                ]
                            },
                            "data": [
                                {
                                    "OrderID": "1",
                                    "CustomerId": "6",
                                    "OrderDate": "2019-01-30",
                                    "Status": "1",
                                    "comments": "NULL",
                                    "ShippedDate": "NULL",
                                    "ShipperId": "NULL"
                                },
                                {
                                    "OrderID": "3",
                                    "CustomerId": "8",
                                    "OrderDate": "2017-12-01",
                                    "Status": "1",
                                    "comments": "NULL",
                                    "ShippedDate": "NULL",
                                    "ShipperId": "NULL"
                                },
                                {
                                    "OrderID": "4",
                                    "CustomerId": "2",
                                    "OrderDate": "2017-01-22",
                                    "Status": "1",
                                    "comments": "NULL",
                                    "ShippedDate": "NULL",
                                    "ShipperId": "NULL"
                                },
                                {
                                    "OrderID": "6",
                                    "CustomerId": "10",
                                    "OrderDate": "2018-11-18",
                                    "Status": "1",
                                    "comments": "Aliquam erat volutpat. In congue.",
                                    "ShippedDate": "NULL",
                                    "ShipperId": "NULL"
                                },
                                {
                                    "OrderID": "8",
                                    "CustomerId": "5",
                                    "OrderDate": "2018-06-08",
                                    "Status": "1",
                                    "comments": "Mauris enim leo, rhoncus sed, vestibulum sit amet, cursus id, turpis.",
                                    "ShippedDate": "NULL",
                                    "ShipperId": "NULL"
                                }
                            ]
                        },
                        "text/html": [
                            "<table>",
                            "<tr><th>OrderID</th><th>CustomerId</th><th>OrderDate</th><th>Status</th><th>comments</th><th>ShippedDate</th><th>ShipperId</th></tr>",
                            "<tr><td>1</td><td>6</td><td>2019-01-30</td><td>1</td><td>NULL</td><td>NULL</td><td>NULL</td></tr>",
                            "<tr><td>3</td><td>8</td><td>2017-12-01</td><td>1</td><td>NULL</td><td>NULL</td><td>NULL</td></tr>",
                            "<tr><td>4</td><td>2</td><td>2017-01-22</td><td>1</td><td>NULL</td><td>NULL</td><td>NULL</td></tr>",
                            "<tr><td>6</td><td>10</td><td>2018-11-18</td><td>1</td><td>Aliquam erat volutpat. In congue.</td><td>NULL</td><td>NULL</td></tr>",
                            "<tr><td>8</td><td>5</td><td>2018-06-08</td><td>1</td><td>Mauris enim leo, rhoncus sed, vestibulum sit amet, cursus id, turpis.</td><td>NULL</td><td>NULL</td></tr>",
                            "</table>"
                        ]
                    }
                },
                {
                    "output_type": "execute_result",
                    "metadata": {},
                    "execution_count": 10,
                    "data": {
                        "application/vnd.dataresource+json": {
                            "schema": {
                                "fields": [
                                    {
                                        "name": "OrderID"
                                    },
                                    {
                                        "name": "CustomerId"
                                    },
                                    {
                                        "name": "OrderDate"
                                    },
                                    {
                                        "name": "Status"
                                    },
                                    {
                                        "name": "comments"
                                    },
                                    {
                                        "name": "ShippedDate"
                                    },
                                    {
                                        "name": "ShipperId"
                                    }
                                ]
                            },
                            "data": [
                                {
                                    "OrderID": "1",
                                    "CustomerId": "6",
                                    "OrderDate": "2019-01-30",
                                    "Status": "1",
                                    "comments": "NULL",
                                    "ShippedDate": "NULL",
                                    "ShipperId": "NULL"
                                },
                                {
                                    "OrderID": "3",
                                    "CustomerId": "8",
                                    "OrderDate": "2017-12-01",
                                    "Status": "1",
                                    "comments": "NULL",
                                    "ShippedDate": "NULL",
                                    "ShipperId": "NULL"
                                },
                                {
                                    "OrderID": "4",
                                    "CustomerId": "2",
                                    "OrderDate": "2017-01-22",
                                    "Status": "1",
                                    "comments": "NULL",
                                    "ShippedDate": "NULL",
                                    "ShipperId": "NULL"
                                },
                                {
                                    "OrderID": "6",
                                    "CustomerId": "10",
                                    "OrderDate": "2018-11-18",
                                    "Status": "1",
                                    "comments": "Aliquam erat volutpat. In congue.",
                                    "ShippedDate": "NULL",
                                    "ShipperId": "NULL"
                                },
                                {
                                    "OrderID": "8",
                                    "CustomerId": "5",
                                    "OrderDate": "2018-06-08",
                                    "Status": "1",
                                    "comments": "Mauris enim leo, rhoncus sed, vestibulum sit amet, cursus id, turpis.",
                                    "ShippedDate": "NULL",
                                    "ShipperId": "NULL"
                                }
                            ]
                        },
                        "text/html": [
                            "<table>",
                            "<tr><th>OrderID</th><th>CustomerId</th><th>OrderDate</th><th>Status</th><th>comments</th><th>ShippedDate</th><th>ShipperId</th></tr>",
                            "<tr><td>1</td><td>6</td><td>2019-01-30</td><td>1</td><td>NULL</td><td>NULL</td><td>NULL</td></tr>",
                            "<tr><td>3</td><td>8</td><td>2017-12-01</td><td>1</td><td>NULL</td><td>NULL</td><td>NULL</td></tr>",
                            "<tr><td>4</td><td>2</td><td>2017-01-22</td><td>1</td><td>NULL</td><td>NULL</td><td>NULL</td></tr>",
                            "<tr><td>6</td><td>10</td><td>2018-11-18</td><td>1</td><td>Aliquam erat volutpat. In congue.</td><td>NULL</td><td>NULL</td></tr>",
                            "<tr><td>8</td><td>5</td><td>2018-06-08</td><td>1</td><td>Mauris enim leo, rhoncus sed, vestibulum sit amet, cursus id, turpis.</td><td>NULL</td><td>NULL</td></tr>",
                            "</table>"
                        ]
                    }
                }
            ],
            "execution_count": 10
        },
        {
            "cell_type": "code",
            "source": [
                "-- Exercise 9\n",
                "-- By default primary key is used for ordering the rows in a table\n",
                "\n",
                "-- Order by Total Price by Desc order for the Order ID 2\n",
                "\n",
                "SELECT OrderId, ProductId, Quantity, UnitPrice FROM OrderItems WHERE OrderID =2 Order By Quantity * UnitPrice DESC;\n",
                "\n",
                "-- Sorting by Column number\n",
                "\n",
                "SELECT FirstName, LastName , City FROM Customers ORDER BY 3, 1;\n",
                "\n",
                "-- Sorting based on the Column not in the select clause\n",
                "\n",
                "SELECT FirstName, LastName, Address FROM Customers ORDER BY City;"
            ],
            "metadata": {
                "azdata_cell_guid": "1d9684a6-e582-48bc-b7aa-a62a99b4a16e",
                "tags": [],
                "language": "sql"
            },
            "outputs": [
                {
                    "output_type": "display_data",
                    "data": {
                        "text/html": "(3 rows affected)"
                    },
                    "metadata": {}
                },
                {
                    "output_type": "display_data",
                    "data": {
                        "text/html": "(10 rows affected)"
                    },
                    "metadata": {}
                },
                {
                    "output_type": "display_data",
                    "data": {
                        "text/html": "(10 rows affected)"
                    },
                    "metadata": {}
                },
                {
                    "output_type": "display_data",
                    "data": {
                        "text/html": "Total execution time: 00:00:00.017"
                    },
                    "metadata": {}
                },
                {
                    "output_type": "execute_result",
                    "metadata": {},
                    "execution_count": 11,
                    "data": {
                        "application/vnd.dataresource+json": {
                            "schema": {
                                "fields": [
                                    {
                                        "name": "OrderId"
                                    },
                                    {
                                        "name": "ProductId"
                                    },
                                    {
                                        "name": "Quantity"
                                    },
                                    {
                                        "name": "UnitPrice"
                                    }
                                ]
                            },
                            "data": [
                                {
                                    "OrderId": "2",
                                    "ProductId": "1",
                                    "Quantity": "2",
                                    "UnitPrice": "9.10"
                                },
                                {
                                    "OrderId": "2",
                                    "ProductId": "4",
                                    "Quantity": "4",
                                    "UnitPrice": "1.66"
                                },
                                {
                                    "OrderId": "2",
                                    "ProductId": "6",
                                    "Quantity": "2",
                                    "UnitPrice": "2.94"
                                }
                            ]
                        },
                        "text/html": [
                            "<table>",
                            "<tr><th>OrderId</th><th>ProductId</th><th>Quantity</th><th>UnitPrice</th></tr>",
                            "<tr><td>2</td><td>1</td><td>2</td><td>9.10</td></tr>",
                            "<tr><td>2</td><td>4</td><td>4</td><td>1.66</td></tr>",
                            "<tr><td>2</td><td>6</td><td>2</td><td>2.94</td></tr>",
                            "</table>"
                        ]
                    }
                },
                {
                    "output_type": "execute_result",
                    "metadata": {},
                    "execution_count": 11,
                    "data": {
                        "application/vnd.dataresource+json": {
                            "schema": {
                                "fields": [
                                    {
                                        "name": "FirstName"
                                    },
                                    {
                                        "name": "LastName"
                                    },
                                    {
                                        "name": "City"
                                    }
                                ]
                            },
                            "data": [
                                {
                                    "FirstName": "Clemmie",
                                    "LastName": "Betchley",
                                    "City": "Arlington"
                                },
                                {
                                    "FirstName": "Levy",
                                    "LastName": "Mynett",
                                    "City": "Atlanta"
                                },
                                {
                                    "FirstName": "Elka",
                                    "LastName": "Twiddell",
                                    "City": "Chicago"
                                },
                                {
                                    "FirstName": "Freddi",
                                    "LastName": "Boagey",
                                    "City": "Colorado Springs"
                                },
                                {
                                    "FirstName": "Ines",
                                    "LastName": "Brushfield",
                                    "City": "Hampton"
                                },
                                {
                                    "FirstName": "Ilene",
                                    "LastName": "Dowson",
                                    "City": "Nashville"
                                },
                                {
                                    "FirstName": "Ambur",
                                    "LastName": "Roseburgh",
                                    "City": "Orlando"
                                },
                                {
                                    "FirstName": "Thacher",
                                    "LastName": "Naseby",
                                    "City": "Sarasota"
                                },
                                {
                                    "FirstName": "Romola",
                                    "LastName": "Rumgay",
                                    "City": "Visalia"
                                },
                                {
                                    "FirstName": "Babara",
                                    "LastName": "MacCaffrey",
                                    "City": "Waltham"
                                }
                            ]
                        },
                        "text/html": [
                            "<table>",
                            "<tr><th>FirstName</th><th>LastName</th><th>City</th></tr>",
                            "<tr><td>Clemmie</td><td>Betchley</td><td>Arlington</td></tr>",
                            "<tr><td>Levy</td><td>Mynett</td><td>Atlanta</td></tr>",
                            "<tr><td>Elka</td><td>Twiddell</td><td>Chicago</td></tr>",
                            "<tr><td>Freddi</td><td>Boagey</td><td>Colorado Springs</td></tr>",
                            "<tr><td>Ines</td><td>Brushfield</td><td>Hampton</td></tr>",
                            "<tr><td>Ilene</td><td>Dowson</td><td>Nashville</td></tr>",
                            "<tr><td>Ambur</td><td>Roseburgh</td><td>Orlando</td></tr>",
                            "<tr><td>Thacher</td><td>Naseby</td><td>Sarasota</td></tr>",
                            "<tr><td>Romola</td><td>Rumgay</td><td>Visalia</td></tr>",
                            "<tr><td>Babara</td><td>MacCaffrey</td><td>Waltham</td></tr>",
                            "</table>"
                        ]
                    }
                },
                {
                    "output_type": "execute_result",
                    "metadata": {},
                    "execution_count": 11,
                    "data": {
                        "application/vnd.dataresource+json": {
                            "schema": {
                                "fields": [
                                    {
                                        "name": "FirstName"
                                    },
                                    {
                                        "name": "LastName"
                                    },
                                    {
                                        "name": "Address"
                                    }
                                ]
                            },
                            "data": [
                                {
                                    "FirstName": "Clemmie",
                                    "LastName": "Betchley",
                                    "Address": "5 Spohn Circle"
                                },
                                {
                                    "FirstName": "Levy",
                                    "LastName": "Mynett",
                                    "Address": "68 Lawn Avenue"
                                },
                                {
                                    "FirstName": "Elka",
                                    "LastName": "Twiddell",
                                    "Address": "7 Manley Drive"
                                },
                                {
                                    "FirstName": "Freddi",
                                    "LastName": "Boagey",
                                    "Address": "251 Springs Junction"
                                },
                                {
                                    "FirstName": "Ines",
                                    "LastName": "Brushfield",
                                    "Address": "14187 Commercial Trail"
                                },
                                {
                                    "FirstName": "Ilene",
                                    "LastName": "Dowson",
                                    "Address": "50 Lillian Crossing"
                                },
                                {
                                    "FirstName": "Ambur",
                                    "LastName": "Roseburgh",
                                    "Address": "30 Arapahoe Terrace"
                                },
                                {
                                    "FirstName": "Thacher",
                                    "LastName": "Naseby",
                                    "Address": "538 Mosinee Center"
                                },
                                {
                                    "FirstName": "Romola",
                                    "LastName": "Rumgay",
                                    "Address": "3520 Ohio Trail"
                                },
                                {
                                    "FirstName": "Babara",
                                    "LastName": "MacCaffrey",
                                    "Address": "0 Sage Terrace"
                                }
                            ]
                        },
                        "text/html": [
                            "<table>",
                            "<tr><th>FirstName</th><th>LastName</th><th>Address</th></tr>",
                            "<tr><td>Clemmie</td><td>Betchley</td><td>5 Spohn Circle</td></tr>",
                            "<tr><td>Levy</td><td>Mynett</td><td>68 Lawn Avenue</td></tr>",
                            "<tr><td>Elka</td><td>Twiddell</td><td>7 Manley Drive</td></tr>",
                            "<tr><td>Freddi</td><td>Boagey</td><td>251 Springs Junction</td></tr>",
                            "<tr><td>Ines</td><td>Brushfield</td><td>14187 Commercial Trail</td></tr>",
                            "<tr><td>Ilene</td><td>Dowson</td><td>50 Lillian Crossing</td></tr>",
                            "<tr><td>Ambur</td><td>Roseburgh</td><td>30 Arapahoe Terrace</td></tr>",
                            "<tr><td>Thacher</td><td>Naseby</td><td>538 Mosinee Center</td></tr>",
                            "<tr><td>Romola</td><td>Rumgay</td><td>3520 Ohio Trail</td></tr>",
                            "<tr><td>Babara</td><td>MacCaffrey</td><td>0 Sage Terrace</td></tr>",
                            "</table>"
                        ]
                    }
                }
            ],
            "execution_count": 11
        },
        {
            "cell_type": "code",
            "source": [
                "-- Exercise 10\n",
                "\n",
                "-- Limit Clause\n",
                "-- Get the top three Loyal Customers\n",
                "\n",
                "SELECT  TOP(3) * FROM Customers Order By Points DESC;\n",
                "\n",
                "-- Offset\n",
                "SELECT   * FROM Customers Order By Points DESC;\n",
                "SELECT   * FROM Customers Order By Points DESC OFFSET 7 ROWS FETCH NEXT 1 ROWS ONLY;\n",
                ""
            ],
            "metadata": {
                "azdata_cell_guid": "718666b3-cac0-4d4f-abf7-6a7b5ab24e38",
                "language": "sql"
            },
            "outputs": [
                {
                    "output_type": "display_data",
                    "data": {
                        "text/html": "(3 rows affected)"
                    },
                    "metadata": {}
                },
                {
                    "output_type": "display_data",
                    "data": {
                        "text/html": "(10 rows affected)"
                    },
                    "metadata": {}
                },
                {
                    "output_type": "display_data",
                    "data": {
                        "text/html": "(1 row affected)"
                    },
                    "metadata": {}
                },
                {
                    "output_type": "display_data",
                    "data": {
                        "text/html": "Total execution time: 00:00:00.024"
                    },
                    "metadata": {}
                },
                {
                    "output_type": "execute_result",
                    "metadata": {},
                    "execution_count": 12,
                    "data": {
                        "application/vnd.dataresource+json": {
                            "schema": {
                                "fields": [
                                    {
                                        "name": "CustomerId"
                                    },
                                    {
                                        "name": "FirstName"
                                    },
                                    {
                                        "name": "LastName"
                                    },
                                    {
                                        "name": "BirthDate"
                                    },
                                    {
                                        "name": "Phone"
                                    },
                                    {
                                        "name": "Address"
                                    },
                                    {
                                        "name": "City"
                                    },
                                    {
                                        "name": "State"
                                    },
                                    {
                                        "name": "Points"
                                    }
                                ]
                            },
                            "data": [
                                {
                                    "CustomerId": "5",
                                    "FirstName": "Clemmie",
                                    "LastName": "Betchley",
                                    "BirthDate": "1973-11-07",
                                    "Phone": "NULL",
                                    "Address": "5 Spohn Circle",
                                    "City": "Arlington",
                                    "State": "TX",
                                    "Points": "3675"
                                },
                                {
                                    "CustomerId": "6",
                                    "FirstName": "Elka",
                                    "LastName": "Twiddell",
                                    "BirthDate": "1991-09-04",
                                    "Phone": "312-480-8498",
                                    "Address": "7 Manley Drive",
                                    "City": "Chicago",
                                    "State": "IL",
                                    "Points": "3073"
                                },
                                {
                                    "CustomerId": "3",
                                    "FirstName": "Freddi",
                                    "LastName": "Boagey",
                                    "BirthDate": "1985-02-07",
                                    "Phone": "719-724-7869",
                                    "Address": "251 Springs Junction",
                                    "City": "Colorado Springs",
                                    "State": "CO",
                                    "Points": "2967"
                                }
                            ]
                        },
                        "text/html": [
                            "<table>",
                            "<tr><th>CustomerId</th><th>FirstName</th><th>LastName</th><th>BirthDate</th><th>Phone</th><th>Address</th><th>City</th><th>State</th><th>Points</th></tr>",
                            "<tr><td>5</td><td>Clemmie</td><td>Betchley</td><td>1973-11-07</td><td>NULL</td><td>5 Spohn Circle</td><td>Arlington</td><td>TX</td><td>3675</td></tr>",
                            "<tr><td>6</td><td>Elka</td><td>Twiddell</td><td>1991-09-04</td><td>312-480-8498</td><td>7 Manley Drive</td><td>Chicago</td><td>IL</td><td>3073</td></tr>",
                            "<tr><td>3</td><td>Freddi</td><td>Boagey</td><td>1985-02-07</td><td>719-724-7869</td><td>251 Springs Junction</td><td>Colorado Springs</td><td>CO</td><td>2967</td></tr>",
                            "</table>"
                        ]
                    }
                },
                {
                    "output_type": "execute_result",
                    "metadata": {},
                    "execution_count": 12,
                    "data": {
                        "application/vnd.dataresource+json": {
                            "schema": {
                                "fields": [
                                    {
                                        "name": "CustomerId"
                                    },
                                    {
                                        "name": "FirstName"
                                    },
                                    {
                                        "name": "LastName"
                                    },
                                    {
                                        "name": "BirthDate"
                                    },
                                    {
                                        "name": "Phone"
                                    },
                                    {
                                        "name": "Address"
                                    },
                                    {
                                        "name": "City"
                                    },
                                    {
                                        "name": "State"
                                    },
                                    {
                                        "name": "Points"
                                    }
                                ]
                            },
                            "data": [
                                {
                                    "CustomerId": "5",
                                    "FirstName": "Clemmie",
                                    "LastName": "Betchley",
                                    "BirthDate": "1973-11-07",
                                    "Phone": "NULL",
                                    "Address": "5 Spohn Circle",
                                    "City": "Arlington",
                                    "State": "TX",
                                    "Points": "3675"
                                },
                                {
                                    "CustomerId": "6",
                                    "FirstName": "Elka",
                                    "LastName": "Twiddell",
                                    "BirthDate": "1991-09-04",
                                    "Phone": "312-480-8498",
                                    "Address": "7 Manley Drive",
                                    "City": "Chicago",
                                    "State": "IL",
                                    "Points": "3073"
                                },
                                {
                                    "CustomerId": "3",
                                    "FirstName": "Freddi",
                                    "LastName": "Boagey",
                                    "BirthDate": "1985-02-07",
                                    "Phone": "719-724-7869",
                                    "Address": "251 Springs Junction",
                                    "City": "Colorado Springs",
                                    "State": "CO",
                                    "Points": "2967"
                                },
                                {
                                    "CustomerId": "1",
                                    "FirstName": "Babara",
                                    "LastName": "MacCaffrey",
                                    "BirthDate": "1986-03-28",
                                    "Phone": "781-932-9754",
                                    "Address": "0 Sage Terrace",
                                    "City": "Waltham",
                                    "State": "MA",
                                    "Points": "2273"
                                },
                                {
                                    "CustomerId": "7",
                                    "FirstName": "Ilene",
                                    "LastName": "Dowson",
                                    "BirthDate": "1964-08-30",
                                    "Phone": "615-641-4759",
                                    "Address": "50 Lillian Crossing",
                                    "City": "Nashville",
                                    "State": "TN",
                                    "Points": "1672"
                                },
                                {
                                    "CustomerId": "9",
                                    "FirstName": "Romola",
                                    "LastName": "Rumgay",
                                    "BirthDate": "1992-05-23",
                                    "Phone": "559-181-3744",
                                    "Address": "3520 Ohio Trail",
                                    "City": "Visalia",
                                    "State": "CA",
                                    "Points": "1486"
                                },
                                {
                                    "CustomerId": "2",
                                    "FirstName": "Ines",
                                    "LastName": "Brushfield",
                                    "BirthDate": "1986-04-13",
                                    "Phone": "804-427-9456",
                                    "Address": "14187 Commercial Trail",
                                    "City": "Hampton",
                                    "State": "VA",
                                    "Points": "947"
                                },
                                {
                                    "CustomerId": "10",
                                    "FirstName": "Levy",
                                    "LastName": "Mynett",
                                    "BirthDate": "1969-10-13",
                                    "Phone": "404-246-3370",
                                    "Address": "68 Lawn Avenue",
                                    "City": "Atlanta",
                                    "State": "GA",
                                    "Points": "796"
                                },
                                {
                                    "CustomerId": "4",
                                    "FirstName": "Ambur",
                                    "LastName": "Roseburgh",
                                    "BirthDate": "1974-04-14",
                                    "Phone": "407-231-8017",
                                    "Address": "30 Arapahoe Terrace",
                                    "City": "Orlando",
                                    "State": "FL",
                                    "Points": "457"
                                },
                                {
                                    "CustomerId": "8",
                                    "FirstName": "Thacher",
                                    "LastName": "Naseby",
                                    "BirthDate": "1993-07-17",
                                    "Phone": "941-527-3977",
                                    "Address": "538 Mosinee Center",
                                    "City": "Sarasota",
                                    "State": "FL",
                                    "Points": "205"
                                }
                            ]
                        },
                        "text/html": [
                            "<table>",
                            "<tr><th>CustomerId</th><th>FirstName</th><th>LastName</th><th>BirthDate</th><th>Phone</th><th>Address</th><th>City</th><th>State</th><th>Points</th></tr>",
                            "<tr><td>5</td><td>Clemmie</td><td>Betchley</td><td>1973-11-07</td><td>NULL</td><td>5 Spohn Circle</td><td>Arlington</td><td>TX</td><td>3675</td></tr>",
                            "<tr><td>6</td><td>Elka</td><td>Twiddell</td><td>1991-09-04</td><td>312-480-8498</td><td>7 Manley Drive</td><td>Chicago</td><td>IL</td><td>3073</td></tr>",
                            "<tr><td>3</td><td>Freddi</td><td>Boagey</td><td>1985-02-07</td><td>719-724-7869</td><td>251 Springs Junction</td><td>Colorado Springs</td><td>CO</td><td>2967</td></tr>",
                            "<tr><td>1</td><td>Babara</td><td>MacCaffrey</td><td>1986-03-28</td><td>781-932-9754</td><td>0 Sage Terrace</td><td>Waltham</td><td>MA</td><td>2273</td></tr>",
                            "<tr><td>7</td><td>Ilene</td><td>Dowson</td><td>1964-08-30</td><td>615-641-4759</td><td>50 Lillian Crossing</td><td>Nashville</td><td>TN</td><td>1672</td></tr>",
                            "<tr><td>9</td><td>Romola</td><td>Rumgay</td><td>1992-05-23</td><td>559-181-3744</td><td>3520 Ohio Trail</td><td>Visalia</td><td>CA</td><td>1486</td></tr>",
                            "<tr><td>2</td><td>Ines</td><td>Brushfield</td><td>1986-04-13</td><td>804-427-9456</td><td>14187 Commercial Trail</td><td>Hampton</td><td>VA</td><td>947</td></tr>",
                            "<tr><td>10</td><td>Levy</td><td>Mynett</td><td>1969-10-13</td><td>404-246-3370</td><td>68 Lawn Avenue</td><td>Atlanta</td><td>GA</td><td>796</td></tr>",
                            "<tr><td>4</td><td>Ambur</td><td>Roseburgh</td><td>1974-04-14</td><td>407-231-8017</td><td>30 Arapahoe Terrace</td><td>Orlando</td><td>FL</td><td>457</td></tr>",
                            "<tr><td>8</td><td>Thacher</td><td>Naseby</td><td>1993-07-17</td><td>941-527-3977</td><td>538 Mosinee Center</td><td>Sarasota</td><td>FL</td><td>205</td></tr>",
                            "</table>"
                        ]
                    }
                },
                {
                    "output_type": "execute_result",
                    "metadata": {},
                    "execution_count": 12,
                    "data": {
                        "application/vnd.dataresource+json": {
                            "schema": {
                                "fields": [
                                    {
                                        "name": "CustomerId"
                                    },
                                    {
                                        "name": "FirstName"
                                    },
                                    {
                                        "name": "LastName"
                                    },
                                    {
                                        "name": "BirthDate"
                                    },
                                    {
                                        "name": "Phone"
                                    },
                                    {
                                        "name": "Address"
                                    },
                                    {
                                        "name": "City"
                                    },
                                    {
                                        "name": "State"
                                    },
                                    {
                                        "name": "Points"
                                    }
                                ]
                            },
                            "data": [
                                {
                                    "CustomerId": "10",
                                    "FirstName": "Levy",
                                    "LastName": "Mynett",
                                    "BirthDate": "1969-10-13",
                                    "Phone": "404-246-3370",
                                    "Address": "68 Lawn Avenue",
                                    "City": "Atlanta",
                                    "State": "GA",
                                    "Points": "796"
                                }
                            ]
                        },
                        "text/html": [
                            "<table>",
                            "<tr><th>CustomerId</th><th>FirstName</th><th>LastName</th><th>BirthDate</th><th>Phone</th><th>Address</th><th>City</th><th>State</th><th>Points</th></tr>",
                            "<tr><td>10</td><td>Levy</td><td>Mynett</td><td>1969-10-13</td><td>404-246-3370</td><td>68 Lawn Avenue</td><td>Atlanta</td><td>GA</td><td>796</td></tr>",
                            "</table>"
                        ]
                    }
                }
            ],
            "execution_count": 12
        }
    ]
}