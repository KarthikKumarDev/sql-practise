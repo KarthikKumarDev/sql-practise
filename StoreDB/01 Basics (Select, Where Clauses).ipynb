{
    "metadata": {
        "kernelspec": {
            "name": "SQL",
            "display_name": "SQL",
            "language": "sql"
        },
        "language_info": {
            "name": "sql",
            "version": ""
        }
    },
    "nbformat_minor": 2,
    "nbformat": 4,
    "cells": [
        {
            "cell_type": "code",
            "source": [
                "-- Init\n",
                "-- Ensure Init StoreDB is run before to setup the Store DB\n",
                "\n",
                "USE Store;"
            ],
            "metadata": {
                "azdata_cell_guid": "4fc84e69-06a8-41b1-9b38-278ef6e82061",
                "tags": []
            },
            "outputs": [
                {
                    "output_type": "display_data",
                    "data": {
                        "text/html": "Commands completed successfully."
                    },
                    "metadata": {}
                },
                {
                    "output_type": "display_data",
                    "data": {
                        "text/html": "Total execution time: 00:00:00.027"
                    },
                    "metadata": {}
                }
            ],
            "execution_count": 4
        },
        {
            "cell_type": "code",
            "source": [
                "-- Exercise 1\n",
                "-- Select clause\n",
                "SELECT Name, UnitPrice, UnitPrice * 2.1 as 'New Price'  from dbo.Products;"
            ],
            "metadata": {
                "azdata_cell_guid": "18ded245-8d56-40de-8b38-3188fbc2242e",
                "tags": []
            },
            "outputs": [
                {
                    "output_type": "display_data",
                    "data": {
                        "text/html": "(10 rows affected)"
                    },
                    "metadata": {}
                },
                {
                    "output_type": "display_data",
                    "data": {
                        "text/html": "Total execution time: 00:00:00.023"
                    },
                    "metadata": {}
                },
                {
                    "output_type": "execute_result",
                    "metadata": {},
                    "execution_count": 5,
                    "data": {
                        "application/vnd.dataresource+json": {
                            "schema": {
                                "fields": [
                                    {
                                        "name": "Name"
                                    },
                                    {
                                        "name": "UnitPrice"
                                    },
                                    {
                                        "name": "New Price"
                                    }
                                ]
                            },
                            "data": [
                                {
                                    "0": "Foam Dinner Plate",
                                    "1": "1.21",
                                    "2": "2.541"
                                },
                                {
                                    "0": "Pork - Bacon,back Peameal",
                                    "1": "4.65",
                                    "2": "9.765"
                                },
                                {
                                    "0": "Lettuce - Romaine, Heart",
                                    "1": "3.35",
                                    "2": "7.035"
                                },
                                {
                                    "0": "Brocolinni - Gaylan, Chinese",
                                    "1": "4.53",
                                    "2": "9.513"
                                },
                                {
                                    "0": "Sauce - Ranch Dressing",
                                    "1": "1.63",
                                    "2": "3.423"
                                },
                                {
                                    "0": "Petit Baguette",
                                    "1": "2.39",
                                    "2": "5.019"
                                },
                                {
                                    "0": "Sweet Pea Sprouts",
                                    "1": "3.29",
                                    "2": "6.909"
                                },
                                {
                                    "0": "Island Oasis - Raspberry",
                                    "1": "0.74",
                                    "2": "1.554"
                                },
                                {
                                    "0": "Longan",
                                    "1": "2.26",
                                    "2": "4.746"
                                },
                                {
                                    "0": "Broom - Push",
                                    "1": "1.09",
                                    "2": "2.289"
                                }
                            ]
                        },
                        "text/html": [
                            "<table>",
                            "<tr><th>Name</th><th>UnitPrice</th><th>New Price</th></tr>",
                            "<tr><td>Foam Dinner Plate</td><td>1.21</td><td>2.541</td></tr>",
                            "<tr><td>Pork - Bacon,back Peameal</td><td>4.65</td><td>9.765</td></tr>",
                            "<tr><td>Lettuce - Romaine, Heart</td><td>3.35</td><td>7.035</td></tr>",
                            "<tr><td>Brocolinni - Gaylan, Chinese</td><td>4.53</td><td>9.513</td></tr>",
                            "<tr><td>Sauce - Ranch Dressing</td><td>1.63</td><td>3.423</td></tr>",
                            "<tr><td>Petit Baguette</td><td>2.39</td><td>5.019</td></tr>",
                            "<tr><td>Sweet Pea Sprouts</td><td>3.29</td><td>6.909</td></tr>",
                            "<tr><td>Island Oasis - Raspberry</td><td>0.74</td><td>1.554</td></tr>",
                            "<tr><td>Longan</td><td>2.26</td><td>4.746</td></tr>",
                            "<tr><td>Broom - Push</td><td>1.09</td><td>2.289</td></tr>",
                            "</table>"
                        ]
                    }
                }
            ],
            "execution_count": 5
        },
        {
            "cell_type": "code",
            "source": [
                "-- Exercise 2 : Where Clause\n",
                "-- Get the orders placed this year\n",
                "SELECT * FROM ORDERS WHERE OrderDate >= '2018-01-01'\n",
                "SELECT * FROM ORDERS WHERE YEAR(OrderDate) = YEAR(GETDATE()) - 4\n",
                ""
            ],
            "metadata": {
                "azdata_cell_guid": "9d17cabe-6ef8-4247-91e9-f75470518286",
                "tags": []
            },
            "outputs": [
                {
                    "output_type": "display_data",
                    "data": {
                        "text/html": "(6 rows affected)"
                    },
                    "metadata": {}
                },
                {
                    "output_type": "display_data",
                    "data": {
                        "text/html": "(5 rows affected)"
                    },
                    "metadata": {}
                },
                {
                    "output_type": "display_data",
                    "data": {
                        "text/html": "Total execution time: 00:00:00.021"
                    },
                    "metadata": {}
                },
                {
                    "output_type": "execute_result",
                    "metadata": {},
                    "execution_count": 6,
                    "data": {
                        "application/vnd.dataresource+json": {
                            "schema": {
                                "fields": [
                                    {
                                        "name": "OrderID"
                                    },
                                    {
                                        "name": "CustomerId"
                                    },
                                    {
                                        "name": "OrderDate"
                                    },
                                    {
                                        "name": "Status"
                                    },
                                    {
                                        "name": "comments"
                                    },
                                    {
                                        "name": "ShippedDate"
                                    },
                                    {
                                        "name": "ShipperId"
                                    }
                                ]
                            },
                            "data": [
                                {
                                    "0": "1",
                                    "1": "6",
                                    "2": "2019-01-30",
                                    "3": "1",
                                    "4": "NULL",
                                    "5": "NULL",
                                    "6": "NULL"
                                },
                                {
                                    "0": "2",
                                    "1": "7",
                                    "2": "2018-08-02",
                                    "3": "2",
                                    "4": "NULL",
                                    "5": "2018-08-03",
                                    "6": "4"
                                },
                                {
                                    "0": "6",
                                    "1": "10",
                                    "2": "2018-11-18",
                                    "3": "1",
                                    "4": "Aliquam erat volutpat. In congue.",
                                    "5": "NULL",
                                    "6": "NULL"
                                },
                                {
                                    "0": "7",
                                    "1": "2",
                                    "2": "2018-09-22",
                                    "3": "2",
                                    "4": "NULL",
                                    "5": "2018-09-23",
                                    "6": "4"
                                },
                                {
                                    "0": "8",
                                    "1": "5",
                                    "2": "2018-06-08",
                                    "3": "1",
                                    "4": "Mauris enim leo, rhoncus sed, vestibulum sit amet, cursus id, turpis.",
                                    "5": "NULL",
                                    "6": "NULL"
                                },
                                {
                                    "0": "10",
                                    "1": "6",
                                    "2": "2018-04-22",
                                    "3": "2",
                                    "4": "NULL",
                                    "5": "2018-04-23",
                                    "6": "2"
                                }
                            ]
                        },
                        "text/html": [
                            "<table>",
                            "<tr><th>OrderID</th><th>CustomerId</th><th>OrderDate</th><th>Status</th><th>comments</th><th>ShippedDate</th><th>ShipperId</th></tr>",
                            "<tr><td>1</td><td>6</td><td>2019-01-30</td><td>1</td><td>NULL</td><td>NULL</td><td>NULL</td></tr>",
                            "<tr><td>2</td><td>7</td><td>2018-08-02</td><td>2</td><td>NULL</td><td>2018-08-03</td><td>4</td></tr>",
                            "<tr><td>6</td><td>10</td><td>2018-11-18</td><td>1</td><td>Aliquam erat volutpat. In congue.</td><td>NULL</td><td>NULL</td></tr>",
                            "<tr><td>7</td><td>2</td><td>2018-09-22</td><td>2</td><td>NULL</td><td>2018-09-23</td><td>4</td></tr>",
                            "<tr><td>8</td><td>5</td><td>2018-06-08</td><td>1</td><td>Mauris enim leo, rhoncus sed, vestibulum sit amet, cursus id, turpis.</td><td>NULL</td><td>NULL</td></tr>",
                            "<tr><td>10</td><td>6</td><td>2018-04-22</td><td>2</td><td>NULL</td><td>2018-04-23</td><td>2</td></tr>",
                            "</table>"
                        ]
                    }
                },
                {
                    "output_type": "execute_result",
                    "metadata": {},
                    "execution_count": 6,
                    "data": {
                        "application/vnd.dataresource+json": {
                            "schema": {
                                "fields": [
                                    {
                                        "name": "OrderID"
                                    },
                                    {
                                        "name": "CustomerId"
                                    },
                                    {
                                        "name": "OrderDate"
                                    },
                                    {
                                        "name": "Status"
                                    },
                                    {
                                        "name": "comments"
                                    },
                                    {
                                        "name": "ShippedDate"
                                    },
                                    {
                                        "name": "ShipperId"
                                    }
                                ]
                            },
                            "data": [
                                {
                                    "0": "2",
                                    "1": "7",
                                    "2": "2018-08-02",
                                    "3": "2",
                                    "4": "NULL",
                                    "5": "2018-08-03",
                                    "6": "4"
                                },
                                {
                                    "0": "6",
                                    "1": "10",
                                    "2": "2018-11-18",
                                    "3": "1",
                                    "4": "Aliquam erat volutpat. In congue.",
                                    "5": "NULL",
                                    "6": "NULL"
                                },
                                {
                                    "0": "7",
                                    "1": "2",
                                    "2": "2018-09-22",
                                    "3": "2",
                                    "4": "NULL",
                                    "5": "2018-09-23",
                                    "6": "4"
                                },
                                {
                                    "0": "8",
                                    "1": "5",
                                    "2": "2018-06-08",
                                    "3": "1",
                                    "4": "Mauris enim leo, rhoncus sed, vestibulum sit amet, cursus id, turpis.",
                                    "5": "NULL",
                                    "6": "NULL"
                                },
                                {
                                    "0": "10",
                                    "1": "6",
                                    "2": "2018-04-22",
                                    "3": "2",
                                    "4": "NULL",
                                    "5": "2018-04-23",
                                    "6": "2"
                                }
                            ]
                        },
                        "text/html": [
                            "<table>",
                            "<tr><th>OrderID</th><th>CustomerId</th><th>OrderDate</th><th>Status</th><th>comments</th><th>ShippedDate</th><th>ShipperId</th></tr>",
                            "<tr><td>2</td><td>7</td><td>2018-08-02</td><td>2</td><td>NULL</td><td>2018-08-03</td><td>4</td></tr>",
                            "<tr><td>6</td><td>10</td><td>2018-11-18</td><td>1</td><td>Aliquam erat volutpat. In congue.</td><td>NULL</td><td>NULL</td></tr>",
                            "<tr><td>7</td><td>2</td><td>2018-09-22</td><td>2</td><td>NULL</td><td>2018-09-23</td><td>4</td></tr>",
                            "<tr><td>8</td><td>5</td><td>2018-06-08</td><td>1</td><td>Mauris enim leo, rhoncus sed, vestibulum sit amet, cursus id, turpis.</td><td>NULL</td><td>NULL</td></tr>",
                            "<tr><td>10</td><td>6</td><td>2018-04-22</td><td>2</td><td>NULL</td><td>2018-04-23</td><td>2</td></tr>",
                            "</table>"
                        ]
                    }
                }
            ],
            "execution_count": 6
        },
        {
            "cell_type": "code",
            "source": [
                "-- Exercise 3 \n",
                " -- Get items for 6th order price greater than 30\n",
                " SELECT * FROM OrderItems WHERE OrderId = 6 AND Quantity * UnitPrice > 30;"
            ],
            "metadata": {
                "azdata_cell_guid": "1a8564d8-f2c5-4be9-ba45-f05493a7edbf",
                "tags": []
            },
            "outputs": [
                {
                    "output_type": "display_data",
                    "data": {
                        "text/html": "(1 row affected)"
                    },
                    "metadata": {}
                },
                {
                    "output_type": "display_data",
                    "data": {
                        "text/html": "Total execution time: 00:00:00.011"
                    },
                    "metadata": {}
                },
                {
                    "output_type": "execute_result",
                    "metadata": {},
                    "execution_count": 7,
                    "data": {
                        "application/vnd.dataresource+json": {
                            "schema": {
                                "fields": [
                                    {
                                        "name": "OrderId"
                                    },
                                    {
                                        "name": "ProductId"
                                    },
                                    {
                                        "name": "Quantity"
                                    },
                                    {
                                        "name": "UnitPrice"
                                    }
                                ]
                            },
                            "data": [
                                {
                                    "0": "6",
                                    "1": "1",
                                    "2": "4",
                                    "3": "8.65"
                                }
                            ]
                        },
                        "text/html": [
                            "<table>",
                            "<tr><th>OrderId</th><th>ProductId</th><th>Quantity</th><th>UnitPrice</th></tr>",
                            "<tr><td>6</td><td>1</td><td>4</td><td>8.65</td></tr>",
                            "</table>"
                        ]
                    }
                }
            ],
            "execution_count": 7
        },
        {
            "cell_type": "code",
            "source": [
                "-- Exercise 4\n",
                "-- Products with stock 49, 38, 72\n",
                "\n",
                "SELECT * FROM Products WHERE QuantityInStock in (49, 38, 72);\n",
                ""
            ],
            "metadata": {
                "azdata_cell_guid": "ebf6938b-ffee-40e0-bfcc-55a500830086",
                "tags": []
            },
            "outputs": [
                {
                    "output_type": "display_data",
                    "data": {
                        "text/html": "(2 rows affected)"
                    },
                    "metadata": {}
                },
                {
                    "output_type": "display_data",
                    "data": {
                        "text/html": "Total execution time: 00:00:00.006"
                    },
                    "metadata": {}
                },
                {
                    "output_type": "execute_result",
                    "metadata": {},
                    "execution_count": 8,
                    "data": {
                        "application/vnd.dataresource+json": {
                            "schema": {
                                "fields": [
                                    {
                                        "name": "ProductId"
                                    },
                                    {
                                        "name": "Name"
                                    },
                                    {
                                        "name": "QuantityInStock"
                                    },
                                    {
                                        "name": "UnitPrice"
                                    }
                                ]
                            },
                            "data": [
                                {
                                    "0": "2",
                                    "1": "Pork - Bacon,back Peameal",
                                    "2": "49",
                                    "3": "4.65"
                                },
                                {
                                    "0": "3",
                                    "1": "Lettuce - Romaine, Heart",
                                    "2": "38",
                                    "3": "3.35"
                                }
                            ]
                        },
                        "text/html": [
                            "<table>",
                            "<tr><th>ProductId</th><th>Name</th><th>QuantityInStock</th><th>UnitPrice</th></tr>",
                            "<tr><td>2</td><td>Pork - Bacon,back Peameal</td><td>49</td><td>4.65</td></tr>",
                            "<tr><td>3</td><td>Lettuce - Romaine, Heart</td><td>38</td><td>3.35</td></tr>",
                            "</table>"
                        ]
                    }
                }
            ],
            "execution_count": 8
        },
        {
            "cell_type": "code",
            "source": [
                "-- Exercise 5\n",
                "-- Customers born Between 1/1/1990 and 1/1/2000\n",
                "\n",
                "SELECT * FROM Customers WHERE BirthDate BETWEEN '1/1/1990' AND '1/1/2000';"
            ],
            "metadata": {
                "azdata_cell_guid": "86bb67c8-9295-41ea-b555-aca14b54a237",
                "tags": []
            },
            "outputs": [
                {
                    "output_type": "display_data",
                    "data": {
                        "text/html": "(3 rows affected)"
                    },
                    "metadata": {}
                },
                {
                    "output_type": "display_data",
                    "data": {
                        "text/html": "Total execution time: 00:00:00.009"
                    },
                    "metadata": {}
                },
                {
                    "output_type": "execute_result",
                    "metadata": {},
                    "execution_count": 9,
                    "data": {
                        "application/vnd.dataresource+json": {
                            "schema": {
                                "fields": [
                                    {
                                        "name": "CustomerId"
                                    },
                                    {
                                        "name": "FirstName"
                                    },
                                    {
                                        "name": "LastName"
                                    },
                                    {
                                        "name": "BirthDate"
                                    },
                                    {
                                        "name": "Phone"
                                    },
                                    {
                                        "name": "Address"
                                    },
                                    {
                                        "name": "City"
                                    },
                                    {
                                        "name": "State"
                                    },
                                    {
                                        "name": "Points"
                                    }
                                ]
                            },
                            "data": [
                                {
                                    "0": "6",
                                    "1": "Elka",
                                    "2": "Twiddell",
                                    "3": "1991-09-04",
                                    "4": "312-480-8498",
                                    "5": "7 Manley Drive",
                                    "6": "Chicago",
                                    "7": "IL",
                                    "8": "3073"
                                },
                                {
                                    "0": "8",
                                    "1": "Thacher",
                                    "2": "Naseby",
                                    "3": "1993-07-17",
                                    "4": "941-527-3977",
                                    "5": "538 Mosinee Center",
                                    "6": "Sarasota",
                                    "7": "FL",
                                    "8": "205"
                                },
                                {
                                    "0": "9",
                                    "1": "Romola",
                                    "2": "Rumgay",
                                    "3": "1992-05-23",
                                    "4": "559-181-3744",
                                    "5": "3520 Ohio Trail",
                                    "6": "Visalia",
                                    "7": "CA",
                                    "8": "1486"
                                }
                            ]
                        },
                        "text/html": [
                            "<table>",
                            "<tr><th>CustomerId</th><th>FirstName</th><th>LastName</th><th>BirthDate</th><th>Phone</th><th>Address</th><th>City</th><th>State</th><th>Points</th></tr>",
                            "<tr><td>6</td><td>Elka</td><td>Twiddell</td><td>1991-09-04</td><td>312-480-8498</td><td>7 Manley Drive</td><td>Chicago</td><td>IL</td><td>3073</td></tr>",
                            "<tr><td>8</td><td>Thacher</td><td>Naseby</td><td>1993-07-17</td><td>941-527-3977</td><td>538 Mosinee Center</td><td>Sarasota</td><td>FL</td><td>205</td></tr>",
                            "<tr><td>9</td><td>Romola</td><td>Rumgay</td><td>1992-05-23</td><td>559-181-3744</td><td>3520 Ohio Trail</td><td>Visalia</td><td>CA</td><td>1486</td></tr>",
                            "</table>"
                        ]
                    }
                }
            ],
            "execution_count": 9
        },
        {
            "cell_type": "code",
            "source": [
                "-- Exercise 6 (Like)\n",
                "-- Customers with addresses containing 'Trail' or 'Avenue'\n",
                "SELECT * FROM Customers WHERE Address like '%TRAIL%' or Address like '%AVENUE%';\n",
                "\n",
                "-- Phone numbers end with 9\n",
                "SELECT * FROM Customers WHERE Phone like '%9';\n",
                "\n",
                "SELECT * FROM Customers WHERE Phone NOT like '%9';"
            ],
            "metadata": {
                "azdata_cell_guid": "461a9503-ee5e-4405-91de-f8dac039a6ed",
                "tags": []
            },
            "outputs": [
                {
                    "output_type": "display_data",
                    "data": {
                        "text/html": "(3 rows affected)"
                    },
                    "metadata": {}
                },
                {
                    "output_type": "display_data",
                    "data": {
                        "text/html": "(2 rows affected)"
                    },
                    "metadata": {}
                },
                {
                    "output_type": "display_data",
                    "data": {
                        "text/html": "(7 rows affected)"
                    },
                    "metadata": {}
                },
                {
                    "output_type": "display_data",
                    "data": {
                        "text/html": "Total execution time: 00:00:00.016"
                    },
                    "metadata": {}
                },
                {
                    "output_type": "execute_result",
                    "metadata": {},
                    "execution_count": 10,
                    "data": {
                        "application/vnd.dataresource+json": {
                            "schema": {
                                "fields": [
                                    {
                                        "name": "CustomerId"
                                    },
                                    {
                                        "name": "FirstName"
                                    },
                                    {
                                        "name": "LastName"
                                    },
                                    {
                                        "name": "BirthDate"
                                    },
                                    {
                                        "name": "Phone"
                                    },
                                    {
                                        "name": "Address"
                                    },
                                    {
                                        "name": "City"
                                    },
                                    {
                                        "name": "State"
                                    },
                                    {
                                        "name": "Points"
                                    }
                                ]
                            },
                            "data": [
                                {
                                    "0": "2",
                                    "1": "Ines",
                                    "2": "Brushfield",
                                    "3": "1986-04-13",
                                    "4": "804-427-9456",
                                    "5": "14187 Commercial Trail",
                                    "6": "Hampton",
                                    "7": "VA",
                                    "8": "947"
                                },
                                {
                                    "0": "9",
                                    "1": "Romola",
                                    "2": "Rumgay",
                                    "3": "1992-05-23",
                                    "4": "559-181-3744",
                                    "5": "3520 Ohio Trail",
                                    "6": "Visalia",
                                    "7": "CA",
                                    "8": "1486"
                                },
                                {
                                    "0": "10",
                                    "1": "Levy",
                                    "2": "Mynett",
                                    "3": "1969-10-13",
                                    "4": "404-246-3370",
                                    "5": "68 Lawn Avenue",
                                    "6": "Atlanta",
                                    "7": "GA",
                                    "8": "796"
                                }
                            ]
                        },
                        "text/html": [
                            "<table>",
                            "<tr><th>CustomerId</th><th>FirstName</th><th>LastName</th><th>BirthDate</th><th>Phone</th><th>Address</th><th>City</th><th>State</th><th>Points</th></tr>",
                            "<tr><td>2</td><td>Ines</td><td>Brushfield</td><td>1986-04-13</td><td>804-427-9456</td><td>14187 Commercial Trail</td><td>Hampton</td><td>VA</td><td>947</td></tr>",
                            "<tr><td>9</td><td>Romola</td><td>Rumgay</td><td>1992-05-23</td><td>559-181-3744</td><td>3520 Ohio Trail</td><td>Visalia</td><td>CA</td><td>1486</td></tr>",
                            "<tr><td>10</td><td>Levy</td><td>Mynett</td><td>1969-10-13</td><td>404-246-3370</td><td>68 Lawn Avenue</td><td>Atlanta</td><td>GA</td><td>796</td></tr>",
                            "</table>"
                        ]
                    }
                },
                {
                    "output_type": "execute_result",
                    "metadata": {},
                    "execution_count": 10,
                    "data": {
                        "application/vnd.dataresource+json": {
                            "schema": {
                                "fields": [
                                    {
                                        "name": "CustomerId"
                                    },
                                    {
                                        "name": "FirstName"
                                    },
                                    {
                                        "name": "LastName"
                                    },
                                    {
                                        "name": "BirthDate"
                                    },
                                    {
                                        "name": "Phone"
                                    },
                                    {
                                        "name": "Address"
                                    },
                                    {
                                        "name": "City"
                                    },
                                    {
                                        "name": "State"
                                    },
                                    {
                                        "name": "Points"
                                    }
                                ]
                            },
                            "data": [
                                {
                                    "0": "3",
                                    "1": "Freddi",
                                    "2": "Boagey",
                                    "3": "1985-02-07",
                                    "4": "719-724-7869",
                                    "5": "251 Springs Junction",
                                    "6": "Colorado Springs",
                                    "7": "CO",
                                    "8": "2967"
                                },
                                {
                                    "0": "7",
                                    "1": "Ilene",
                                    "2": "Dowson",
                                    "3": "1964-08-30",
                                    "4": "615-641-4759",
                                    "5": "50 Lillian Crossing",
                                    "6": "Nashville",
                                    "7": "TN",
                                    "8": "1672"
                                }
                            ]
                        },
                        "text/html": [
                            "<table>",
                            "<tr><th>CustomerId</th><th>FirstName</th><th>LastName</th><th>BirthDate</th><th>Phone</th><th>Address</th><th>City</th><th>State</th><th>Points</th></tr>",
                            "<tr><td>3</td><td>Freddi</td><td>Boagey</td><td>1985-02-07</td><td>719-724-7869</td><td>251 Springs Junction</td><td>Colorado Springs</td><td>CO</td><td>2967</td></tr>",
                            "<tr><td>7</td><td>Ilene</td><td>Dowson</td><td>1964-08-30</td><td>615-641-4759</td><td>50 Lillian Crossing</td><td>Nashville</td><td>TN</td><td>1672</td></tr>",
                            "</table>"
                        ]
                    }
                },
                {
                    "output_type": "execute_result",
                    "metadata": {},
                    "execution_count": 10,
                    "data": {
                        "application/vnd.dataresource+json": {
                            "schema": {
                                "fields": [
                                    {
                                        "name": "CustomerId"
                                    },
                                    {
                                        "name": "FirstName"
                                    },
                                    {
                                        "name": "LastName"
                                    },
                                    {
                                        "name": "BirthDate"
                                    },
                                    {
                                        "name": "Phone"
                                    },
                                    {
                                        "name": "Address"
                                    },
                                    {
                                        "name": "City"
                                    },
                                    {
                                        "name": "State"
                                    },
                                    {
                                        "name": "Points"
                                    }
                                ]
                            },
                            "data": [
                                {
                                    "0": "1",
                                    "1": "Babara",
                                    "2": "MacCaffrey",
                                    "3": "1986-03-28",
                                    "4": "781-932-9754",
                                    "5": "0 Sage Terrace",
                                    "6": "Waltham",
                                    "7": "MA",
                                    "8": "2273"
                                },
                                {
                                    "0": "2",
                                    "1": "Ines",
                                    "2": "Brushfield",
                                    "3": "1986-04-13",
                                    "4": "804-427-9456",
                                    "5": "14187 Commercial Trail",
                                    "6": "Hampton",
                                    "7": "VA",
                                    "8": "947"
                                },
                                {
                                    "0": "4",
                                    "1": "Ambur",
                                    "2": "Roseburgh",
                                    "3": "1974-04-14",
                                    "4": "407-231-8017",
                                    "5": "30 Arapahoe Terrace",
                                    "6": "Orlando",
                                    "7": "FL",
                                    "8": "457"
                                },
                                {
                                    "0": "6",
                                    "1": "Elka",
                                    "2": "Twiddell",
                                    "3": "1991-09-04",
                                    "4": "312-480-8498",
                                    "5": "7 Manley Drive",
                                    "6": "Chicago",
                                    "7": "IL",
                                    "8": "3073"
                                },
                                {
                                    "0": "8",
                                    "1": "Thacher",
                                    "2": "Naseby",
                                    "3": "1993-07-17",
                                    "4": "941-527-3977",
                                    "5": "538 Mosinee Center",
                                    "6": "Sarasota",
                                    "7": "FL",
                                    "8": "205"
                                },
                                {
                                    "0": "9",
                                    "1": "Romola",
                                    "2": "Rumgay",
                                    "3": "1992-05-23",
                                    "4": "559-181-3744",
                                    "5": "3520 Ohio Trail",
                                    "6": "Visalia",
                                    "7": "CA",
                                    "8": "1486"
                                },
                                {
                                    "0": "10",
                                    "1": "Levy",
                                    "2": "Mynett",
                                    "3": "1969-10-13",
                                    "4": "404-246-3370",
                                    "5": "68 Lawn Avenue",
                                    "6": "Atlanta",
                                    "7": "GA",
                                    "8": "796"
                                }
                            ]
                        },
                        "text/html": [
                            "<table>",
                            "<tr><th>CustomerId</th><th>FirstName</th><th>LastName</th><th>BirthDate</th><th>Phone</th><th>Address</th><th>City</th><th>State</th><th>Points</th></tr>",
                            "<tr><td>1</td><td>Babara</td><td>MacCaffrey</td><td>1986-03-28</td><td>781-932-9754</td><td>0 Sage Terrace</td><td>Waltham</td><td>MA</td><td>2273</td></tr>",
                            "<tr><td>2</td><td>Ines</td><td>Brushfield</td><td>1986-04-13</td><td>804-427-9456</td><td>14187 Commercial Trail</td><td>Hampton</td><td>VA</td><td>947</td></tr>",
                            "<tr><td>4</td><td>Ambur</td><td>Roseburgh</td><td>1974-04-14</td><td>407-231-8017</td><td>30 Arapahoe Terrace</td><td>Orlando</td><td>FL</td><td>457</td></tr>",
                            "<tr><td>6</td><td>Elka</td><td>Twiddell</td><td>1991-09-04</td><td>312-480-8498</td><td>7 Manley Drive</td><td>Chicago</td><td>IL</td><td>3073</td></tr>",
                            "<tr><td>8</td><td>Thacher</td><td>Naseby</td><td>1993-07-17</td><td>941-527-3977</td><td>538 Mosinee Center</td><td>Sarasota</td><td>FL</td><td>205</td></tr>",
                            "<tr><td>9</td><td>Romola</td><td>Rumgay</td><td>1992-05-23</td><td>559-181-3744</td><td>3520 Ohio Trail</td><td>Visalia</td><td>CA</td><td>1486</td></tr>",
                            "<tr><td>10</td><td>Levy</td><td>Mynett</td><td>1969-10-13</td><td>404-246-3370</td><td>68 Lawn Avenue</td><td>Atlanta</td><td>GA</td><td>796</td></tr>",
                            "</table>"
                        ]
                    }
                }
            ],
            "execution_count": 10
        },
        {
            "cell_type": "code",
            "source": [
                "--  Regular Expressions via 'like' operator\n",
                "-- There is not REGEXP in SQL Server like in MySql\n",
                "\n",
                "SELECT * FROM Customers WHERE LastName like '[A-D]%';\n",
                "\n",
                "SELECT * FROM Customers WHERE LastName like '%B%[x-z]';\n",
                "\n",
                "SELECT * FROM Customers WHERE LastName like '%field' OR LastName like 'mac%';"
            ],
            "metadata": {
                "azdata_cell_guid": "e3ffa4cf-33b1-46d4-95ae-4904c2192bca"
            },
            "outputs": [
                {
                    "output_type": "display_data",
                    "data": {
                        "text/html": "(4 rows affected)"
                    },
                    "metadata": {}
                },
                {
                    "output_type": "display_data",
                    "data": {
                        "text/html": "(3 rows affected)"
                    },
                    "metadata": {}
                },
                {
                    "output_type": "display_data",
                    "data": {
                        "text/html": "(2 rows affected)"
                    },
                    "metadata": {}
                },
                {
                    "output_type": "display_data",
                    "data": {
                        "text/html": "Total execution time: 00:00:00.011"
                    },
                    "metadata": {}
                },
                {
                    "output_type": "execute_result",
                    "metadata": {},
                    "execution_count": 11,
                    "data": {
                        "application/vnd.dataresource+json": {
                            "schema": {
                                "fields": [
                                    {
                                        "name": "CustomerId"
                                    },
                                    {
                                        "name": "FirstName"
                                    },
                                    {
                                        "name": "LastName"
                                    },
                                    {
                                        "name": "BirthDate"
                                    },
                                    {
                                        "name": "Phone"
                                    },
                                    {
                                        "name": "Address"
                                    },
                                    {
                                        "name": "City"
                                    },
                                    {
                                        "name": "State"
                                    },
                                    {
                                        "name": "Points"
                                    }
                                ]
                            },
                            "data": [
                                {
                                    "0": "2",
                                    "1": "Ines",
                                    "2": "Brushfield",
                                    "3": "1986-04-13",
                                    "4": "804-427-9456",
                                    "5": "14187 Commercial Trail",
                                    "6": "Hampton",
                                    "7": "VA",
                                    "8": "947"
                                },
                                {
                                    "0": "3",
                                    "1": "Freddi",
                                    "2": "Boagey",
                                    "3": "1985-02-07",
                                    "4": "719-724-7869",
                                    "5": "251 Springs Junction",
                                    "6": "Colorado Springs",
                                    "7": "CO",
                                    "8": "2967"
                                },
                                {
                                    "0": "5",
                                    "1": "Clemmie",
                                    "2": "Betchley",
                                    "3": "1973-11-07",
                                    "4": "NULL",
                                    "5": "5 Spohn Circle",
                                    "6": "Arlington",
                                    "7": "TX",
                                    "8": "3675"
                                },
                                {
                                    "0": "7",
                                    "1": "Ilene",
                                    "2": "Dowson",
                                    "3": "1964-08-30",
                                    "4": "615-641-4759",
                                    "5": "50 Lillian Crossing",
                                    "6": "Nashville",
                                    "7": "TN",
                                    "8": "1672"
                                }
                            ]
                        },
                        "text/html": [
                            "<table>",
                            "<tr><th>CustomerId</th><th>FirstName</th><th>LastName</th><th>BirthDate</th><th>Phone</th><th>Address</th><th>City</th><th>State</th><th>Points</th></tr>",
                            "<tr><td>2</td><td>Ines</td><td>Brushfield</td><td>1986-04-13</td><td>804-427-9456</td><td>14187 Commercial Trail</td><td>Hampton</td><td>VA</td><td>947</td></tr>",
                            "<tr><td>3</td><td>Freddi</td><td>Boagey</td><td>1985-02-07</td><td>719-724-7869</td><td>251 Springs Junction</td><td>Colorado Springs</td><td>CO</td><td>2967</td></tr>",
                            "<tr><td>5</td><td>Clemmie</td><td>Betchley</td><td>1973-11-07</td><td>NULL</td><td>5 Spohn Circle</td><td>Arlington</td><td>TX</td><td>3675</td></tr>",
                            "<tr><td>7</td><td>Ilene</td><td>Dowson</td><td>1964-08-30</td><td>615-641-4759</td><td>50 Lillian Crossing</td><td>Nashville</td><td>TN</td><td>1672</td></tr>",
                            "</table>"
                        ]
                    }
                },
                {
                    "output_type": "execute_result",
                    "metadata": {},
                    "execution_count": 11,
                    "data": {
                        "application/vnd.dataresource+json": {
                            "schema": {
                                "fields": [
                                    {
                                        "name": "CustomerId"
                                    },
                                    {
                                        "name": "FirstName"
                                    },
                                    {
                                        "name": "LastName"
                                    },
                                    {
                                        "name": "BirthDate"
                                    },
                                    {
                                        "name": "Phone"
                                    },
                                    {
                                        "name": "Address"
                                    },
                                    {
                                        "name": "City"
                                    },
                                    {
                                        "name": "State"
                                    },
                                    {
                                        "name": "Points"
                                    }
                                ]
                            },
                            "data": [
                                {
                                    "0": "3",
                                    "1": "Freddi",
                                    "2": "Boagey",
                                    "3": "1985-02-07",
                                    "4": "719-724-7869",
                                    "5": "251 Springs Junction",
                                    "6": "Colorado Springs",
                                    "7": "CO",
                                    "8": "2967"
                                },
                                {
                                    "0": "5",
                                    "1": "Clemmie",
                                    "2": "Betchley",
                                    "3": "1973-11-07",
                                    "4": "NULL",
                                    "5": "5 Spohn Circle",
                                    "6": "Arlington",
                                    "7": "TX",
                                    "8": "3675"
                                },
                                {
                                    "0": "8",
                                    "1": "Thacher",
                                    "2": "Naseby",
                                    "3": "1993-07-17",
                                    "4": "941-527-3977",
                                    "5": "538 Mosinee Center",
                                    "6": "Sarasota",
                                    "7": "FL",
                                    "8": "205"
                                }
                            ]
                        },
                        "text/html": [
                            "<table>",
                            "<tr><th>CustomerId</th><th>FirstName</th><th>LastName</th><th>BirthDate</th><th>Phone</th><th>Address</th><th>City</th><th>State</th><th>Points</th></tr>",
                            "<tr><td>3</td><td>Freddi</td><td>Boagey</td><td>1985-02-07</td><td>719-724-7869</td><td>251 Springs Junction</td><td>Colorado Springs</td><td>CO</td><td>2967</td></tr>",
                            "<tr><td>5</td><td>Clemmie</td><td>Betchley</td><td>1973-11-07</td><td>NULL</td><td>5 Spohn Circle</td><td>Arlington</td><td>TX</td><td>3675</td></tr>",
                            "<tr><td>8</td><td>Thacher</td><td>Naseby</td><td>1993-07-17</td><td>941-527-3977</td><td>538 Mosinee Center</td><td>Sarasota</td><td>FL</td><td>205</td></tr>",
                            "</table>"
                        ]
                    }
                },
                {
                    "output_type": "execute_result",
                    "metadata": {},
                    "execution_count": 11,
                    "data": {
                        "application/vnd.dataresource+json": {
                            "schema": {
                                "fields": [
                                    {
                                        "name": "CustomerId"
                                    },
                                    {
                                        "name": "FirstName"
                                    },
                                    {
                                        "name": "LastName"
                                    },
                                    {
                                        "name": "BirthDate"
                                    },
                                    {
                                        "name": "Phone"
                                    },
                                    {
                                        "name": "Address"
                                    },
                                    {
                                        "name": "City"
                                    },
                                    {
                                        "name": "State"
                                    },
                                    {
                                        "name": "Points"
                                    }
                                ]
                            },
                            "data": [
                                {
                                    "0": "1",
                                    "1": "Babara",
                                    "2": "MacCaffrey",
                                    "3": "1986-03-28",
                                    "4": "781-932-9754",
                                    "5": "0 Sage Terrace",
                                    "6": "Waltham",
                                    "7": "MA",
                                    "8": "2273"
                                },
                                {
                                    "0": "2",
                                    "1": "Ines",
                                    "2": "Brushfield",
                                    "3": "1986-04-13",
                                    "4": "804-427-9456",
                                    "5": "14187 Commercial Trail",
                                    "6": "Hampton",
                                    "7": "VA",
                                    "8": "947"
                                }
                            ]
                        },
                        "text/html": [
                            "<table>",
                            "<tr><th>CustomerId</th><th>FirstName</th><th>LastName</th><th>BirthDate</th><th>Phone</th><th>Address</th><th>City</th><th>State</th><th>Points</th></tr>",
                            "<tr><td>1</td><td>Babara</td><td>MacCaffrey</td><td>1986-03-28</td><td>781-932-9754</td><td>0 Sage Terrace</td><td>Waltham</td><td>MA</td><td>2273</td></tr>",
                            "<tr><td>2</td><td>Ines</td><td>Brushfield</td><td>1986-04-13</td><td>804-427-9456</td><td>14187 Commercial Trail</td><td>Hampton</td><td>VA</td><td>947</td></tr>",
                            "</table>"
                        ]
                    }
                }
            ],
            "execution_count": 11
        },
        {
            "cell_type": "code",
            "source": [
                "-- Exercise 7\n",
                "-- Customers first names ELKA or AMBUR\n",
                "\n",
                "SELECT * FROM Customers WHERE FirstName = 'ELKA' or FirstName = 'Ambur';\n",
                "\n",
                "-- Last Names end with EY or ON\n",
                "\n",
                "SELECT * FROM Customers WHERE LastName like '%EY' or LastName like '%ON';\n",
                "\n",
                "SELECT * FROM Customers WHERE FirstName = 'ELKA' or LastName = 'Ambur' OR  LastName like '%EY' or LastName like '%ON';\n",
                "\n",
                "\n",
                "-- Last Names start with MY or contains SE\n",
                "\n",
                "SELECT * FROM Customers WHERE LastName like 'MY%' OR LastName like '%SE%';\n",
                "-- Last names contain B followed by R or U\n",
                "\n",
                "SELECT * FROM Customers WHERE LastName like '%b[r]%' OR LastName like '%b[u]%';\n",
                "\n",
                "SELECT * FROM Customers WHERE LastName like 'MY%' OR LastName like '%SE%' OR LastName like '%b[r]%' OR LastName like '%b[u]%';"
            ],
            "metadata": {
                "azdata_cell_guid": "db0b523b-2ab9-4e36-8580-697682851586"
            },
            "outputs": [
                {
                    "output_type": "display_data",
                    "data": {
                        "text/html": "(2 rows affected)"
                    },
                    "metadata": {}
                },
                {
                    "output_type": "display_data",
                    "data": {
                        "text/html": "(4 rows affected)"
                    },
                    "metadata": {}
                },
                {
                    "output_type": "display_data",
                    "data": {
                        "text/html": "(5 rows affected)"
                    },
                    "metadata": {}
                },
                {
                    "output_type": "display_data",
                    "data": {
                        "text/html": "(3 rows affected)"
                    },
                    "metadata": {}
                },
                {
                    "output_type": "display_data",
                    "data": {
                        "text/html": "(2 rows affected)"
                    },
                    "metadata": {}
                },
                {
                    "output_type": "display_data",
                    "data": {
                        "text/html": "(4 rows affected)"
                    },
                    "metadata": {}
                },
                {
                    "output_type": "display_data",
                    "data": {
                        "text/html": "Total execution time: 00:00:00.039"
                    },
                    "metadata": {}
                },
                {
                    "output_type": "execute_result",
                    "metadata": {},
                    "execution_count": 14,
                    "data": {
                        "application/vnd.dataresource+json": {
                            "schema": {
                                "fields": [
                                    {
                                        "name": "CustomerId"
                                    },
                                    {
                                        "name": "FirstName"
                                    },
                                    {
                                        "name": "LastName"
                                    },
                                    {
                                        "name": "BirthDate"
                                    },
                                    {
                                        "name": "Phone"
                                    },
                                    {
                                        "name": "Address"
                                    },
                                    {
                                        "name": "City"
                                    },
                                    {
                                        "name": "State"
                                    },
                                    {
                                        "name": "Points"
                                    }
                                ]
                            },
                            "data": [
                                {
                                    "0": "4",
                                    "1": "Ambur",
                                    "2": "Roseburgh",
                                    "3": "1974-04-14",
                                    "4": "407-231-8017",
                                    "5": "30 Arapahoe Terrace",
                                    "6": "Orlando",
                                    "7": "FL",
                                    "8": "457"
                                },
                                {
                                    "0": "6",
                                    "1": "Elka",
                                    "2": "Twiddell",
                                    "3": "1991-09-04",
                                    "4": "312-480-8498",
                                    "5": "7 Manley Drive",
                                    "6": "Chicago",
                                    "7": "IL",
                                    "8": "3073"
                                }
                            ]
                        },
                        "text/html": [
                            "<table>",
                            "<tr><th>CustomerId</th><th>FirstName</th><th>LastName</th><th>BirthDate</th><th>Phone</th><th>Address</th><th>City</th><th>State</th><th>Points</th></tr>",
                            "<tr><td>4</td><td>Ambur</td><td>Roseburgh</td><td>1974-04-14</td><td>407-231-8017</td><td>30 Arapahoe Terrace</td><td>Orlando</td><td>FL</td><td>457</td></tr>",
                            "<tr><td>6</td><td>Elka</td><td>Twiddell</td><td>1991-09-04</td><td>312-480-8498</td><td>7 Manley Drive</td><td>Chicago</td><td>IL</td><td>3073</td></tr>",
                            "</table>"
                        ]
                    }
                },
                {
                    "output_type": "execute_result",
                    "metadata": {},
                    "execution_count": 14,
                    "data": {
                        "application/vnd.dataresource+json": {
                            "schema": {
                                "fields": [
                                    {
                                        "name": "CustomerId"
                                    },
                                    {
                                        "name": "FirstName"
                                    },
                                    {
                                        "name": "LastName"
                                    },
                                    {
                                        "name": "BirthDate"
                                    },
                                    {
                                        "name": "Phone"
                                    },
                                    {
                                        "name": "Address"
                                    },
                                    {
                                        "name": "City"
                                    },
                                    {
                                        "name": "State"
                                    },
                                    {
                                        "name": "Points"
                                    }
                                ]
                            },
                            "data": [
                                {
                                    "0": "1",
                                    "1": "Babara",
                                    "2": "MacCaffrey",
                                    "3": "1986-03-28",
                                    "4": "781-932-9754",
                                    "5": "0 Sage Terrace",
                                    "6": "Waltham",
                                    "7": "MA",
                                    "8": "2273"
                                },
                                {
                                    "0": "3",
                                    "1": "Freddi",
                                    "2": "Boagey",
                                    "3": "1985-02-07",
                                    "4": "719-724-7869",
                                    "5": "251 Springs Junction",
                                    "6": "Colorado Springs",
                                    "7": "CO",
                                    "8": "2967"
                                },
                                {
                                    "0": "5",
                                    "1": "Clemmie",
                                    "2": "Betchley",
                                    "3": "1973-11-07",
                                    "4": "NULL",
                                    "5": "5 Spohn Circle",
                                    "6": "Arlington",
                                    "7": "TX",
                                    "8": "3675"
                                },
                                {
                                    "0": "7",
                                    "1": "Ilene",
                                    "2": "Dowson",
                                    "3": "1964-08-30",
                                    "4": "615-641-4759",
                                    "5": "50 Lillian Crossing",
                                    "6": "Nashville",
                                    "7": "TN",
                                    "8": "1672"
                                }
                            ]
                        },
                        "text/html": [
                            "<table>",
                            "<tr><th>CustomerId</th><th>FirstName</th><th>LastName</th><th>BirthDate</th><th>Phone</th><th>Address</th><th>City</th><th>State</th><th>Points</th></tr>",
                            "<tr><td>1</td><td>Babara</td><td>MacCaffrey</td><td>1986-03-28</td><td>781-932-9754</td><td>0 Sage Terrace</td><td>Waltham</td><td>MA</td><td>2273</td></tr>",
                            "<tr><td>3</td><td>Freddi</td><td>Boagey</td><td>1985-02-07</td><td>719-724-7869</td><td>251 Springs Junction</td><td>Colorado Springs</td><td>CO</td><td>2967</td></tr>",
                            "<tr><td>5</td><td>Clemmie</td><td>Betchley</td><td>1973-11-07</td><td>NULL</td><td>5 Spohn Circle</td><td>Arlington</td><td>TX</td><td>3675</td></tr>",
                            "<tr><td>7</td><td>Ilene</td><td>Dowson</td><td>1964-08-30</td><td>615-641-4759</td><td>50 Lillian Crossing</td><td>Nashville</td><td>TN</td><td>1672</td></tr>",
                            "</table>"
                        ]
                    }
                },
                {
                    "output_type": "execute_result",
                    "metadata": {},
                    "execution_count": 14,
                    "data": {
                        "application/vnd.dataresource+json": {
                            "schema": {
                                "fields": [
                                    {
                                        "name": "CustomerId"
                                    },
                                    {
                                        "name": "FirstName"
                                    },
                                    {
                                        "name": "LastName"
                                    },
                                    {
                                        "name": "BirthDate"
                                    },
                                    {
                                        "name": "Phone"
                                    },
                                    {
                                        "name": "Address"
                                    },
                                    {
                                        "name": "City"
                                    },
                                    {
                                        "name": "State"
                                    },
                                    {
                                        "name": "Points"
                                    }
                                ]
                            },
                            "data": [
                                {
                                    "0": "1",
                                    "1": "Babara",
                                    "2": "MacCaffrey",
                                    "3": "1986-03-28",
                                    "4": "781-932-9754",
                                    "5": "0 Sage Terrace",
                                    "6": "Waltham",
                                    "7": "MA",
                                    "8": "2273"
                                },
                                {
                                    "0": "3",
                                    "1": "Freddi",
                                    "2": "Boagey",
                                    "3": "1985-02-07",
                                    "4": "719-724-7869",
                                    "5": "251 Springs Junction",
                                    "6": "Colorado Springs",
                                    "7": "CO",
                                    "8": "2967"
                                },
                                {
                                    "0": "5",
                                    "1": "Clemmie",
                                    "2": "Betchley",
                                    "3": "1973-11-07",
                                    "4": "NULL",
                                    "5": "5 Spohn Circle",
                                    "6": "Arlington",
                                    "7": "TX",
                                    "8": "3675"
                                },
                                {
                                    "0": "6",
                                    "1": "Elka",
                                    "2": "Twiddell",
                                    "3": "1991-09-04",
                                    "4": "312-480-8498",
                                    "5": "7 Manley Drive",
                                    "6": "Chicago",
                                    "7": "IL",
                                    "8": "3073"
                                },
                                {
                                    "0": "7",
                                    "1": "Ilene",
                                    "2": "Dowson",
                                    "3": "1964-08-30",
                                    "4": "615-641-4759",
                                    "5": "50 Lillian Crossing",
                                    "6": "Nashville",
                                    "7": "TN",
                                    "8": "1672"
                                }
                            ]
                        },
                        "text/html": [
                            "<table>",
                            "<tr><th>CustomerId</th><th>FirstName</th><th>LastName</th><th>BirthDate</th><th>Phone</th><th>Address</th><th>City</th><th>State</th><th>Points</th></tr>",
                            "<tr><td>1</td><td>Babara</td><td>MacCaffrey</td><td>1986-03-28</td><td>781-932-9754</td><td>0 Sage Terrace</td><td>Waltham</td><td>MA</td><td>2273</td></tr>",
                            "<tr><td>3</td><td>Freddi</td><td>Boagey</td><td>1985-02-07</td><td>719-724-7869</td><td>251 Springs Junction</td><td>Colorado Springs</td><td>CO</td><td>2967</td></tr>",
                            "<tr><td>5</td><td>Clemmie</td><td>Betchley</td><td>1973-11-07</td><td>NULL</td><td>5 Spohn Circle</td><td>Arlington</td><td>TX</td><td>3675</td></tr>",
                            "<tr><td>6</td><td>Elka</td><td>Twiddell</td><td>1991-09-04</td><td>312-480-8498</td><td>7 Manley Drive</td><td>Chicago</td><td>IL</td><td>3073</td></tr>",
                            "<tr><td>7</td><td>Ilene</td><td>Dowson</td><td>1964-08-30</td><td>615-641-4759</td><td>50 Lillian Crossing</td><td>Nashville</td><td>TN</td><td>1672</td></tr>",
                            "</table>"
                        ]
                    }
                },
                {
                    "output_type": "execute_result",
                    "metadata": {},
                    "execution_count": 14,
                    "data": {
                        "application/vnd.dataresource+json": {
                            "schema": {
                                "fields": [
                                    {
                                        "name": "CustomerId"
                                    },
                                    {
                                        "name": "FirstName"
                                    },
                                    {
                                        "name": "LastName"
                                    },
                                    {
                                        "name": "BirthDate"
                                    },
                                    {
                                        "name": "Phone"
                                    },
                                    {
                                        "name": "Address"
                                    },
                                    {
                                        "name": "City"
                                    },
                                    {
                                        "name": "State"
                                    },
                                    {
                                        "name": "Points"
                                    }
                                ]
                            },
                            "data": [
                                {
                                    "0": "4",
                                    "1": "Ambur",
                                    "2": "Roseburgh",
                                    "3": "1974-04-14",
                                    "4": "407-231-8017",
                                    "5": "30 Arapahoe Terrace",
                                    "6": "Orlando",
                                    "7": "FL",
                                    "8": "457"
                                },
                                {
                                    "0": "8",
                                    "1": "Thacher",
                                    "2": "Naseby",
                                    "3": "1993-07-17",
                                    "4": "941-527-3977",
                                    "5": "538 Mosinee Center",
                                    "6": "Sarasota",
                                    "7": "FL",
                                    "8": "205"
                                },
                                {
                                    "0": "10",
                                    "1": "Levy",
                                    "2": "Mynett",
                                    "3": "1969-10-13",
                                    "4": "404-246-3370",
                                    "5": "68 Lawn Avenue",
                                    "6": "Atlanta",
                                    "7": "GA",
                                    "8": "796"
                                }
                            ]
                        },
                        "text/html": [
                            "<table>",
                            "<tr><th>CustomerId</th><th>FirstName</th><th>LastName</th><th>BirthDate</th><th>Phone</th><th>Address</th><th>City</th><th>State</th><th>Points</th></tr>",
                            "<tr><td>4</td><td>Ambur</td><td>Roseburgh</td><td>1974-04-14</td><td>407-231-8017</td><td>30 Arapahoe Terrace</td><td>Orlando</td><td>FL</td><td>457</td></tr>",
                            "<tr><td>8</td><td>Thacher</td><td>Naseby</td><td>1993-07-17</td><td>941-527-3977</td><td>538 Mosinee Center</td><td>Sarasota</td><td>FL</td><td>205</td></tr>",
                            "<tr><td>10</td><td>Levy</td><td>Mynett</td><td>1969-10-13</td><td>404-246-3370</td><td>68 Lawn Avenue</td><td>Atlanta</td><td>GA</td><td>796</td></tr>",
                            "</table>"
                        ]
                    }
                },
                {
                    "output_type": "execute_result",
                    "metadata": {},
                    "execution_count": 14,
                    "data": {
                        "application/vnd.dataresource+json": {
                            "schema": {
                                "fields": [
                                    {
                                        "name": "CustomerId"
                                    },
                                    {
                                        "name": "FirstName"
                                    },
                                    {
                                        "name": "LastName"
                                    },
                                    {
                                        "name": "BirthDate"
                                    },
                                    {
                                        "name": "Phone"
                                    },
                                    {
                                        "name": "Address"
                                    },
                                    {
                                        "name": "City"
                                    },
                                    {
                                        "name": "State"
                                    },
                                    {
                                        "name": "Points"
                                    }
                                ]
                            },
                            "data": [
                                {
                                    "0": "2",
                                    "1": "Ines",
                                    "2": "Brushfield",
                                    "3": "1986-04-13",
                                    "4": "804-427-9456",
                                    "5": "14187 Commercial Trail",
                                    "6": "Hampton",
                                    "7": "VA",
                                    "8": "947"
                                },
                                {
                                    "0": "4",
                                    "1": "Ambur",
                                    "2": "Roseburgh",
                                    "3": "1974-04-14",
                                    "4": "407-231-8017",
                                    "5": "30 Arapahoe Terrace",
                                    "6": "Orlando",
                                    "7": "FL",
                                    "8": "457"
                                }
                            ]
                        },
                        "text/html": [
                            "<table>",
                            "<tr><th>CustomerId</th><th>FirstName</th><th>LastName</th><th>BirthDate</th><th>Phone</th><th>Address</th><th>City</th><th>State</th><th>Points</th></tr>",
                            "<tr><td>2</td><td>Ines</td><td>Brushfield</td><td>1986-04-13</td><td>804-427-9456</td><td>14187 Commercial Trail</td><td>Hampton</td><td>VA</td><td>947</td></tr>",
                            "<tr><td>4</td><td>Ambur</td><td>Roseburgh</td><td>1974-04-14</td><td>407-231-8017</td><td>30 Arapahoe Terrace</td><td>Orlando</td><td>FL</td><td>457</td></tr>",
                            "</table>"
                        ]
                    }
                },
                {
                    "output_type": "execute_result",
                    "metadata": {},
                    "execution_count": 14,
                    "data": {
                        "application/vnd.dataresource+json": {
                            "schema": {
                                "fields": [
                                    {
                                        "name": "CustomerId"
                                    },
                                    {
                                        "name": "FirstName"
                                    },
                                    {
                                        "name": "LastName"
                                    },
                                    {
                                        "name": "BirthDate"
                                    },
                                    {
                                        "name": "Phone"
                                    },
                                    {
                                        "name": "Address"
                                    },
                                    {
                                        "name": "City"
                                    },
                                    {
                                        "name": "State"
                                    },
                                    {
                                        "name": "Points"
                                    }
                                ]
                            },
                            "data": [
                                {
                                    "0": "2",
                                    "1": "Ines",
                                    "2": "Brushfield",
                                    "3": "1986-04-13",
                                    "4": "804-427-9456",
                                    "5": "14187 Commercial Trail",
                                    "6": "Hampton",
                                    "7": "VA",
                                    "8": "947"
                                },
                                {
                                    "0": "4",
                                    "1": "Ambur",
                                    "2": "Roseburgh",
                                    "3": "1974-04-14",
                                    "4": "407-231-8017",
                                    "5": "30 Arapahoe Terrace",
                                    "6": "Orlando",
                                    "7": "FL",
                                    "8": "457"
                                },
                                {
                                    "0": "8",
                                    "1": "Thacher",
                                    "2": "Naseby",
                                    "3": "1993-07-17",
                                    "4": "941-527-3977",
                                    "5": "538 Mosinee Center",
                                    "6": "Sarasota",
                                    "7": "FL",
                                    "8": "205"
                                },
                                {
                                    "0": "10",
                                    "1": "Levy",
                                    "2": "Mynett",
                                    "3": "1969-10-13",
                                    "4": "404-246-3370",
                                    "5": "68 Lawn Avenue",
                                    "6": "Atlanta",
                                    "7": "GA",
                                    "8": "796"
                                }
                            ]
                        },
                        "text/html": [
                            "<table>",
                            "<tr><th>CustomerId</th><th>FirstName</th><th>LastName</th><th>BirthDate</th><th>Phone</th><th>Address</th><th>City</th><th>State</th><th>Points</th></tr>",
                            "<tr><td>2</td><td>Ines</td><td>Brushfield</td><td>1986-04-13</td><td>804-427-9456</td><td>14187 Commercial Trail</td><td>Hampton</td><td>VA</td><td>947</td></tr>",
                            "<tr><td>4</td><td>Ambur</td><td>Roseburgh</td><td>1974-04-14</td><td>407-231-8017</td><td>30 Arapahoe Terrace</td><td>Orlando</td><td>FL</td><td>457</td></tr>",
                            "<tr><td>8</td><td>Thacher</td><td>Naseby</td><td>1993-07-17</td><td>941-527-3977</td><td>538 Mosinee Center</td><td>Sarasota</td><td>FL</td><td>205</td></tr>",
                            "<tr><td>10</td><td>Levy</td><td>Mynett</td><td>1969-10-13</td><td>404-246-3370</td><td>68 Lawn Avenue</td><td>Atlanta</td><td>GA</td><td>796</td></tr>",
                            "</table>"
                        ]
                    }
                }
            ],
            "execution_count": 14
        },
        {
            "cell_type": "code",
            "source": [
                "-- Exercise 8\n",
                "-- Get the Order that are not shipped\n",
                "SELECT * FROM Orders WHERE ShippedDate IS NULL;\n",
                "\n",
                "-- Alternatively\n",
                "\n",
                "SELECT * FROM Orders WHERE Status  < 2;"
            ],
            "metadata": {
                "azdata_cell_guid": "827561f7-50a2-41a0-9880-5f4b7e1f7995"
            },
            "outputs": [
                {
                    "output_type": "display_data",
                    "data": {
                        "text/html": "(5 rows affected)"
                    },
                    "metadata": {}
                },
                {
                    "output_type": "display_data",
                    "data": {
                        "text/html": "(5 rows affected)"
                    },
                    "metadata": {}
                },
                {
                    "output_type": "display_data",
                    "data": {
                        "text/html": "Total execution time: 00:00:00.008"
                    },
                    "metadata": {}
                },
                {
                    "output_type": "execute_result",
                    "metadata": {},
                    "execution_count": 19,
                    "data": {
                        "application/vnd.dataresource+json": {
                            "schema": {
                                "fields": [
                                    {
                                        "name": "OrderID"
                                    },
                                    {
                                        "name": "CustomerId"
                                    },
                                    {
                                        "name": "OrderDate"
                                    },
                                    {
                                        "name": "Status"
                                    },
                                    {
                                        "name": "comments"
                                    },
                                    {
                                        "name": "ShippedDate"
                                    },
                                    {
                                        "name": "ShipperId"
                                    }
                                ]
                            },
                            "data": [
                                {
                                    "0": "1",
                                    "1": "6",
                                    "2": "2019-01-30",
                                    "3": "1",
                                    "4": "NULL",
                                    "5": "NULL",
                                    "6": "NULL"
                                },
                                {
                                    "0": "3",
                                    "1": "8",
                                    "2": "2017-12-01",
                                    "3": "1",
                                    "4": "NULL",
                                    "5": "NULL",
                                    "6": "NULL"
                                },
                                {
                                    "0": "4",
                                    "1": "2",
                                    "2": "2017-01-22",
                                    "3": "1",
                                    "4": "NULL",
                                    "5": "NULL",
                                    "6": "NULL"
                                },
                                {
                                    "0": "6",
                                    "1": "10",
                                    "2": "2018-11-18",
                                    "3": "1",
                                    "4": "Aliquam erat volutpat. In congue.",
                                    "5": "NULL",
                                    "6": "NULL"
                                },
                                {
                                    "0": "8",
                                    "1": "5",
                                    "2": "2018-06-08",
                                    "3": "1",
                                    "4": "Mauris enim leo, rhoncus sed, vestibulum sit amet, cursus id, turpis.",
                                    "5": "NULL",
                                    "6": "NULL"
                                }
                            ]
                        },
                        "text/html": [
                            "<table>",
                            "<tr><th>OrderID</th><th>CustomerId</th><th>OrderDate</th><th>Status</th><th>comments</th><th>ShippedDate</th><th>ShipperId</th></tr>",
                            "<tr><td>1</td><td>6</td><td>2019-01-30</td><td>1</td><td>NULL</td><td>NULL</td><td>NULL</td></tr>",
                            "<tr><td>3</td><td>8</td><td>2017-12-01</td><td>1</td><td>NULL</td><td>NULL</td><td>NULL</td></tr>",
                            "<tr><td>4</td><td>2</td><td>2017-01-22</td><td>1</td><td>NULL</td><td>NULL</td><td>NULL</td></tr>",
                            "<tr><td>6</td><td>10</td><td>2018-11-18</td><td>1</td><td>Aliquam erat volutpat. In congue.</td><td>NULL</td><td>NULL</td></tr>",
                            "<tr><td>8</td><td>5</td><td>2018-06-08</td><td>1</td><td>Mauris enim leo, rhoncus sed, vestibulum sit amet, cursus id, turpis.</td><td>NULL</td><td>NULL</td></tr>",
                            "</table>"
                        ]
                    }
                },
                {
                    "output_type": "execute_result",
                    "metadata": {},
                    "execution_count": 19,
                    "data": {
                        "application/vnd.dataresource+json": {
                            "schema": {
                                "fields": [
                                    {
                                        "name": "OrderID"
                                    },
                                    {
                                        "name": "CustomerId"
                                    },
                                    {
                                        "name": "OrderDate"
                                    },
                                    {
                                        "name": "Status"
                                    },
                                    {
                                        "name": "comments"
                                    },
                                    {
                                        "name": "ShippedDate"
                                    },
                                    {
                                        "name": "ShipperId"
                                    }
                                ]
                            },
                            "data": [
                                {
                                    "0": "1",
                                    "1": "6",
                                    "2": "2019-01-30",
                                    "3": "1",
                                    "4": "NULL",
                                    "5": "NULL",
                                    "6": "NULL"
                                },
                                {
                                    "0": "3",
                                    "1": "8",
                                    "2": "2017-12-01",
                                    "3": "1",
                                    "4": "NULL",
                                    "5": "NULL",
                                    "6": "NULL"
                                },
                                {
                                    "0": "4",
                                    "1": "2",
                                    "2": "2017-01-22",
                                    "3": "1",
                                    "4": "NULL",
                                    "5": "NULL",
                                    "6": "NULL"
                                },
                                {
                                    "0": "6",
                                    "1": "10",
                                    "2": "2018-11-18",
                                    "3": "1",
                                    "4": "Aliquam erat volutpat. In congue.",
                                    "5": "NULL",
                                    "6": "NULL"
                                },
                                {
                                    "0": "8",
                                    "1": "5",
                                    "2": "2018-06-08",
                                    "3": "1",
                                    "4": "Mauris enim leo, rhoncus sed, vestibulum sit amet, cursus id, turpis.",
                                    "5": "NULL",
                                    "6": "NULL"
                                }
                            ]
                        },
                        "text/html": [
                            "<table>",
                            "<tr><th>OrderID</th><th>CustomerId</th><th>OrderDate</th><th>Status</th><th>comments</th><th>ShippedDate</th><th>ShipperId</th></tr>",
                            "<tr><td>1</td><td>6</td><td>2019-01-30</td><td>1</td><td>NULL</td><td>NULL</td><td>NULL</td></tr>",
                            "<tr><td>3</td><td>8</td><td>2017-12-01</td><td>1</td><td>NULL</td><td>NULL</td><td>NULL</td></tr>",
                            "<tr><td>4</td><td>2</td><td>2017-01-22</td><td>1</td><td>NULL</td><td>NULL</td><td>NULL</td></tr>",
                            "<tr><td>6</td><td>10</td><td>2018-11-18</td><td>1</td><td>Aliquam erat volutpat. In congue.</td><td>NULL</td><td>NULL</td></tr>",
                            "<tr><td>8</td><td>5</td><td>2018-06-08</td><td>1</td><td>Mauris enim leo, rhoncus sed, vestibulum sit amet, cursus id, turpis.</td><td>NULL</td><td>NULL</td></tr>",
                            "</table>"
                        ]
                    }
                }
            ],
            "execution_count": 19
        },
        {
            "cell_type": "code",
            "source": [
                "-- Exercise 9\n",
                "-- By default primary key is used for ordering the rows in a table\n",
                "\n",
                "-- Order by Total Price by Desc order for the Order ID 2\n",
                "\n",
                "SELECT OrderId, ProductId, Quantity, UnitPrice FROM OrderItems WHERE OrderID =2 Order By Quantity * UnitPrice DESC;\n",
                "\n",
                "-- Sorting by Column number\n",
                "\n",
                "SELECT FirstName, LastName , City FROM Customers ORDER BY 3, 1;\n",
                "\n",
                "-- Sorting based on the Column not in the select clause\n",
                "\n",
                "SELECT FirstName, LastName, Address FROM Customers ORDER BY City;"
            ],
            "metadata": {
                "azdata_cell_guid": "1d9684a6-e582-48bc-b7aa-a62a99b4a16e",
                "tags": []
            },
            "outputs": [
                {
                    "output_type": "display_data",
                    "data": {
                        "text/html": "(3 rows affected)"
                    },
                    "metadata": {}
                },
                {
                    "output_type": "display_data",
                    "data": {
                        "text/html": "(10 rows affected)"
                    },
                    "metadata": {}
                },
                {
                    "output_type": "display_data",
                    "data": {
                        "text/html": "(10 rows affected)"
                    },
                    "metadata": {}
                },
                {
                    "output_type": "display_data",
                    "data": {
                        "text/html": "Total execution time: 00:00:00.013"
                    },
                    "metadata": {}
                },
                {
                    "output_type": "execute_result",
                    "metadata": {},
                    "execution_count": 32,
                    "data": {
                        "application/vnd.dataresource+json": {
                            "schema": {
                                "fields": [
                                    {
                                        "name": "OrderId"
                                    },
                                    {
                                        "name": "ProductId"
                                    },
                                    {
                                        "name": "Quantity"
                                    },
                                    {
                                        "name": "UnitPrice"
                                    }
                                ]
                            },
                            "data": [
                                {
                                    "0": "2",
                                    "1": "1",
                                    "2": "2",
                                    "3": "9.10"
                                },
                                {
                                    "0": "2",
                                    "1": "4",
                                    "2": "4",
                                    "3": "1.66"
                                },
                                {
                                    "0": "2",
                                    "1": "6",
                                    "2": "2",
                                    "3": "2.94"
                                }
                            ]
                        },
                        "text/html": [
                            "<table>",
                            "<tr><th>OrderId</th><th>ProductId</th><th>Quantity</th><th>UnitPrice</th></tr>",
                            "<tr><td>2</td><td>1</td><td>2</td><td>9.10</td></tr>",
                            "<tr><td>2</td><td>4</td><td>4</td><td>1.66</td></tr>",
                            "<tr><td>2</td><td>6</td><td>2</td><td>2.94</td></tr>",
                            "</table>"
                        ]
                    }
                },
                {
                    "output_type": "execute_result",
                    "metadata": {},
                    "execution_count": 32,
                    "data": {
                        "application/vnd.dataresource+json": {
                            "schema": {
                                "fields": [
                                    {
                                        "name": "FirstName"
                                    },
                                    {
                                        "name": "LastName"
                                    },
                                    {
                                        "name": "City"
                                    }
                                ]
                            },
                            "data": [
                                {
                                    "0": "Clemmie",
                                    "1": "Betchley",
                                    "2": "Arlington"
                                },
                                {
                                    "0": "Levy",
                                    "1": "Mynett",
                                    "2": "Atlanta"
                                },
                                {
                                    "0": "Elka",
                                    "1": "Twiddell",
                                    "2": "Chicago"
                                },
                                {
                                    "0": "Freddi",
                                    "1": "Boagey",
                                    "2": "Colorado Springs"
                                },
                                {
                                    "0": "Ines",
                                    "1": "Brushfield",
                                    "2": "Hampton"
                                },
                                {
                                    "0": "Ilene",
                                    "1": "Dowson",
                                    "2": "Nashville"
                                },
                                {
                                    "0": "Ambur",
                                    "1": "Roseburgh",
                                    "2": "Orlando"
                                },
                                {
                                    "0": "Thacher",
                                    "1": "Naseby",
                                    "2": "Sarasota"
                                },
                                {
                                    "0": "Romola",
                                    "1": "Rumgay",
                                    "2": "Visalia"
                                },
                                {
                                    "0": "Babara",
                                    "1": "MacCaffrey",
                                    "2": "Waltham"
                                }
                            ]
                        },
                        "text/html": [
                            "<table>",
                            "<tr><th>FirstName</th><th>LastName</th><th>City</th></tr>",
                            "<tr><td>Clemmie</td><td>Betchley</td><td>Arlington</td></tr>",
                            "<tr><td>Levy</td><td>Mynett</td><td>Atlanta</td></tr>",
                            "<tr><td>Elka</td><td>Twiddell</td><td>Chicago</td></tr>",
                            "<tr><td>Freddi</td><td>Boagey</td><td>Colorado Springs</td></tr>",
                            "<tr><td>Ines</td><td>Brushfield</td><td>Hampton</td></tr>",
                            "<tr><td>Ilene</td><td>Dowson</td><td>Nashville</td></tr>",
                            "<tr><td>Ambur</td><td>Roseburgh</td><td>Orlando</td></tr>",
                            "<tr><td>Thacher</td><td>Naseby</td><td>Sarasota</td></tr>",
                            "<tr><td>Romola</td><td>Rumgay</td><td>Visalia</td></tr>",
                            "<tr><td>Babara</td><td>MacCaffrey</td><td>Waltham</td></tr>",
                            "</table>"
                        ]
                    }
                },
                {
                    "output_type": "execute_result",
                    "metadata": {},
                    "execution_count": 32,
                    "data": {
                        "application/vnd.dataresource+json": {
                            "schema": {
                                "fields": [
                                    {
                                        "name": "FirstName"
                                    },
                                    {
                                        "name": "LastName"
                                    },
                                    {
                                        "name": "Address"
                                    }
                                ]
                            },
                            "data": [
                                {
                                    "0": "Clemmie",
                                    "1": "Betchley",
                                    "2": "5 Spohn Circle"
                                },
                                {
                                    "0": "Levy",
                                    "1": "Mynett",
                                    "2": "68 Lawn Avenue"
                                },
                                {
                                    "0": "Elka",
                                    "1": "Twiddell",
                                    "2": "7 Manley Drive"
                                },
                                {
                                    "0": "Freddi",
                                    "1": "Boagey",
                                    "2": "251 Springs Junction"
                                },
                                {
                                    "0": "Ines",
                                    "1": "Brushfield",
                                    "2": "14187 Commercial Trail"
                                },
                                {
                                    "0": "Ilene",
                                    "1": "Dowson",
                                    "2": "50 Lillian Crossing"
                                },
                                {
                                    "0": "Ambur",
                                    "1": "Roseburgh",
                                    "2": "30 Arapahoe Terrace"
                                },
                                {
                                    "0": "Thacher",
                                    "1": "Naseby",
                                    "2": "538 Mosinee Center"
                                },
                                {
                                    "0": "Romola",
                                    "1": "Rumgay",
                                    "2": "3520 Ohio Trail"
                                },
                                {
                                    "0": "Babara",
                                    "1": "MacCaffrey",
                                    "2": "0 Sage Terrace"
                                }
                            ]
                        },
                        "text/html": [
                            "<table>",
                            "<tr><th>FirstName</th><th>LastName</th><th>Address</th></tr>",
                            "<tr><td>Clemmie</td><td>Betchley</td><td>5 Spohn Circle</td></tr>",
                            "<tr><td>Levy</td><td>Mynett</td><td>68 Lawn Avenue</td></tr>",
                            "<tr><td>Elka</td><td>Twiddell</td><td>7 Manley Drive</td></tr>",
                            "<tr><td>Freddi</td><td>Boagey</td><td>251 Springs Junction</td></tr>",
                            "<tr><td>Ines</td><td>Brushfield</td><td>14187 Commercial Trail</td></tr>",
                            "<tr><td>Ilene</td><td>Dowson</td><td>50 Lillian Crossing</td></tr>",
                            "<tr><td>Ambur</td><td>Roseburgh</td><td>30 Arapahoe Terrace</td></tr>",
                            "<tr><td>Thacher</td><td>Naseby</td><td>538 Mosinee Center</td></tr>",
                            "<tr><td>Romola</td><td>Rumgay</td><td>3520 Ohio Trail</td></tr>",
                            "<tr><td>Babara</td><td>MacCaffrey</td><td>0 Sage Terrace</td></tr>",
                            "</table>"
                        ]
                    }
                }
            ],
            "execution_count": 32
        },
        {
            "cell_type": "code",
            "source": [
                "-- Exercise 10\n",
                "\n",
                "-- Limit Clause\n",
                "-- Get the top three Loyal Customers\n",
                "\n",
                "SELECT  TOP(3) * FROM Customers Order By Points DESC;\n",
                "\n",
                "-- Offset\n",
                "SELECT   * FROM Customers Order By Points DESC;\n",
                "SELECT   * FROM Customers Order By Points DESC OFFSET 7 ROWS FETCH NEXT 1 ROWS ONLY;\n",
                ""
            ],
            "metadata": {
                "azdata_cell_guid": "718666b3-cac0-4d4f-abf7-6a7b5ab24e38"
            },
            "outputs": [
                {
                    "output_type": "display_data",
                    "data": {
                        "text/html": "(3 rows affected)"
                    },
                    "metadata": {}
                },
                {
                    "output_type": "display_data",
                    "data": {
                        "text/html": "(10 rows affected)"
                    },
                    "metadata": {}
                },
                {
                    "output_type": "display_data",
                    "data": {
                        "text/html": "(1 row affected)"
                    },
                    "metadata": {}
                },
                {
                    "output_type": "display_data",
                    "data": {
                        "text/html": "Total execution time: 00:00:00.016"
                    },
                    "metadata": {}
                },
                {
                    "output_type": "execute_result",
                    "metadata": {},
                    "execution_count": 41,
                    "data": {
                        "application/vnd.dataresource+json": {
                            "schema": {
                                "fields": [
                                    {
                                        "name": "CustomerId"
                                    },
                                    {
                                        "name": "FirstName"
                                    },
                                    {
                                        "name": "LastName"
                                    },
                                    {
                                        "name": "BirthDate"
                                    },
                                    {
                                        "name": "Phone"
                                    },
                                    {
                                        "name": "Address"
                                    },
                                    {
                                        "name": "City"
                                    },
                                    {
                                        "name": "State"
                                    },
                                    {
                                        "name": "Points"
                                    }
                                ]
                            },
                            "data": [
                                {
                                    "0": "5",
                                    "1": "Clemmie",
                                    "2": "Betchley",
                                    "3": "1973-11-07",
                                    "4": "NULL",
                                    "5": "5 Spohn Circle",
                                    "6": "Arlington",
                                    "7": "TX",
                                    "8": "3675"
                                },
                                {
                                    "0": "6",
                                    "1": "Elka",
                                    "2": "Twiddell",
                                    "3": "1991-09-04",
                                    "4": "312-480-8498",
                                    "5": "7 Manley Drive",
                                    "6": "Chicago",
                                    "7": "IL",
                                    "8": "3073"
                                },
                                {
                                    "0": "3",
                                    "1": "Freddi",
                                    "2": "Boagey",
                                    "3": "1985-02-07",
                                    "4": "719-724-7869",
                                    "5": "251 Springs Junction",
                                    "6": "Colorado Springs",
                                    "7": "CO",
                                    "8": "2967"
                                }
                            ]
                        },
                        "text/html": [
                            "<table>",
                            "<tr><th>CustomerId</th><th>FirstName</th><th>LastName</th><th>BirthDate</th><th>Phone</th><th>Address</th><th>City</th><th>State</th><th>Points</th></tr>",
                            "<tr><td>5</td><td>Clemmie</td><td>Betchley</td><td>1973-11-07</td><td>NULL</td><td>5 Spohn Circle</td><td>Arlington</td><td>TX</td><td>3675</td></tr>",
                            "<tr><td>6</td><td>Elka</td><td>Twiddell</td><td>1991-09-04</td><td>312-480-8498</td><td>7 Manley Drive</td><td>Chicago</td><td>IL</td><td>3073</td></tr>",
                            "<tr><td>3</td><td>Freddi</td><td>Boagey</td><td>1985-02-07</td><td>719-724-7869</td><td>251 Springs Junction</td><td>Colorado Springs</td><td>CO</td><td>2967</td></tr>",
                            "</table>"
                        ]
                    }
                },
                {
                    "output_type": "execute_result",
                    "metadata": {},
                    "execution_count": 41,
                    "data": {
                        "application/vnd.dataresource+json": {
                            "schema": {
                                "fields": [
                                    {
                                        "name": "CustomerId"
                                    },
                                    {
                                        "name": "FirstName"
                                    },
                                    {
                                        "name": "LastName"
                                    },
                                    {
                                        "name": "BirthDate"
                                    },
                                    {
                                        "name": "Phone"
                                    },
                                    {
                                        "name": "Address"
                                    },
                                    {
                                        "name": "City"
                                    },
                                    {
                                        "name": "State"
                                    },
                                    {
                                        "name": "Points"
                                    }
                                ]
                            },
                            "data": [
                                {
                                    "0": "5",
                                    "1": "Clemmie",
                                    "2": "Betchley",
                                    "3": "1973-11-07",
                                    "4": "NULL",
                                    "5": "5 Spohn Circle",
                                    "6": "Arlington",
                                    "7": "TX",
                                    "8": "3675"
                                },
                                {
                                    "0": "6",
                                    "1": "Elka",
                                    "2": "Twiddell",
                                    "3": "1991-09-04",
                                    "4": "312-480-8498",
                                    "5": "7 Manley Drive",
                                    "6": "Chicago",
                                    "7": "IL",
                                    "8": "3073"
                                },
                                {
                                    "0": "3",
                                    "1": "Freddi",
                                    "2": "Boagey",
                                    "3": "1985-02-07",
                                    "4": "719-724-7869",
                                    "5": "251 Springs Junction",
                                    "6": "Colorado Springs",
                                    "7": "CO",
                                    "8": "2967"
                                },
                                {
                                    "0": "1",
                                    "1": "Babara",
                                    "2": "MacCaffrey",
                                    "3": "1986-03-28",
                                    "4": "781-932-9754",
                                    "5": "0 Sage Terrace",
                                    "6": "Waltham",
                                    "7": "MA",
                                    "8": "2273"
                                },
                                {
                                    "0": "7",
                                    "1": "Ilene",
                                    "2": "Dowson",
                                    "3": "1964-08-30",
                                    "4": "615-641-4759",
                                    "5": "50 Lillian Crossing",
                                    "6": "Nashville",
                                    "7": "TN",
                                    "8": "1672"
                                },
                                {
                                    "0": "9",
                                    "1": "Romola",
                                    "2": "Rumgay",
                                    "3": "1992-05-23",
                                    "4": "559-181-3744",
                                    "5": "3520 Ohio Trail",
                                    "6": "Visalia",
                                    "7": "CA",
                                    "8": "1486"
                                },
                                {
                                    "0": "2",
                                    "1": "Ines",
                                    "2": "Brushfield",
                                    "3": "1986-04-13",
                                    "4": "804-427-9456",
                                    "5": "14187 Commercial Trail",
                                    "6": "Hampton",
                                    "7": "VA",
                                    "8": "947"
                                },
                                {
                                    "0": "10",
                                    "1": "Levy",
                                    "2": "Mynett",
                                    "3": "1969-10-13",
                                    "4": "404-246-3370",
                                    "5": "68 Lawn Avenue",
                                    "6": "Atlanta",
                                    "7": "GA",
                                    "8": "796"
                                },
                                {
                                    "0": "4",
                                    "1": "Ambur",
                                    "2": "Roseburgh",
                                    "3": "1974-04-14",
                                    "4": "407-231-8017",
                                    "5": "30 Arapahoe Terrace",
                                    "6": "Orlando",
                                    "7": "FL",
                                    "8": "457"
                                },
                                {
                                    "0": "8",
                                    "1": "Thacher",
                                    "2": "Naseby",
                                    "3": "1993-07-17",
                                    "4": "941-527-3977",
                                    "5": "538 Mosinee Center",
                                    "6": "Sarasota",
                                    "7": "FL",
                                    "8": "205"
                                }
                            ]
                        },
                        "text/html": [
                            "<table>",
                            "<tr><th>CustomerId</th><th>FirstName</th><th>LastName</th><th>BirthDate</th><th>Phone</th><th>Address</th><th>City</th><th>State</th><th>Points</th></tr>",
                            "<tr><td>5</td><td>Clemmie</td><td>Betchley</td><td>1973-11-07</td><td>NULL</td><td>5 Spohn Circle</td><td>Arlington</td><td>TX</td><td>3675</td></tr>",
                            "<tr><td>6</td><td>Elka</td><td>Twiddell</td><td>1991-09-04</td><td>312-480-8498</td><td>7 Manley Drive</td><td>Chicago</td><td>IL</td><td>3073</td></tr>",
                            "<tr><td>3</td><td>Freddi</td><td>Boagey</td><td>1985-02-07</td><td>719-724-7869</td><td>251 Springs Junction</td><td>Colorado Springs</td><td>CO</td><td>2967</td></tr>",
                            "<tr><td>1</td><td>Babara</td><td>MacCaffrey</td><td>1986-03-28</td><td>781-932-9754</td><td>0 Sage Terrace</td><td>Waltham</td><td>MA</td><td>2273</td></tr>",
                            "<tr><td>7</td><td>Ilene</td><td>Dowson</td><td>1964-08-30</td><td>615-641-4759</td><td>50 Lillian Crossing</td><td>Nashville</td><td>TN</td><td>1672</td></tr>",
                            "<tr><td>9</td><td>Romola</td><td>Rumgay</td><td>1992-05-23</td><td>559-181-3744</td><td>3520 Ohio Trail</td><td>Visalia</td><td>CA</td><td>1486</td></tr>",
                            "<tr><td>2</td><td>Ines</td><td>Brushfield</td><td>1986-04-13</td><td>804-427-9456</td><td>14187 Commercial Trail</td><td>Hampton</td><td>VA</td><td>947</td></tr>",
                            "<tr><td>10</td><td>Levy</td><td>Mynett</td><td>1969-10-13</td><td>404-246-3370</td><td>68 Lawn Avenue</td><td>Atlanta</td><td>GA</td><td>796</td></tr>",
                            "<tr><td>4</td><td>Ambur</td><td>Roseburgh</td><td>1974-04-14</td><td>407-231-8017</td><td>30 Arapahoe Terrace</td><td>Orlando</td><td>FL</td><td>457</td></tr>",
                            "<tr><td>8</td><td>Thacher</td><td>Naseby</td><td>1993-07-17</td><td>941-527-3977</td><td>538 Mosinee Center</td><td>Sarasota</td><td>FL</td><td>205</td></tr>",
                            "</table>"
                        ]
                    }
                },
                {
                    "output_type": "execute_result",
                    "metadata": {},
                    "execution_count": 41,
                    "data": {
                        "application/vnd.dataresource+json": {
                            "schema": {
                                "fields": [
                                    {
                                        "name": "CustomerId"
                                    },
                                    {
                                        "name": "FirstName"
                                    },
                                    {
                                        "name": "LastName"
                                    },
                                    {
                                        "name": "BirthDate"
                                    },
                                    {
                                        "name": "Phone"
                                    },
                                    {
                                        "name": "Address"
                                    },
                                    {
                                        "name": "City"
                                    },
                                    {
                                        "name": "State"
                                    },
                                    {
                                        "name": "Points"
                                    }
                                ]
                            },
                            "data": [
                                {
                                    "0": "10",
                                    "1": "Levy",
                                    "2": "Mynett",
                                    "3": "1969-10-13",
                                    "4": "404-246-3370",
                                    "5": "68 Lawn Avenue",
                                    "6": "Atlanta",
                                    "7": "GA",
                                    "8": "796"
                                }
                            ]
                        },
                        "text/html": [
                            "<table>",
                            "<tr><th>CustomerId</th><th>FirstName</th><th>LastName</th><th>BirthDate</th><th>Phone</th><th>Address</th><th>City</th><th>State</th><th>Points</th></tr>",
                            "<tr><td>10</td><td>Levy</td><td>Mynett</td><td>1969-10-13</td><td>404-246-3370</td><td>68 Lawn Avenue</td><td>Atlanta</td><td>GA</td><td>796</td></tr>",
                            "</table>"
                        ]
                    }
                }
            ],
            "execution_count": 41
        }
    ]
}