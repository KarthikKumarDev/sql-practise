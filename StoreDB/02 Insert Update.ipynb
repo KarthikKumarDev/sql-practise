{
    "metadata": {
        "kernelspec": {
            "name": "SQL",
            "display_name": "SQL",
            "language": "sql"
        },
        "language_info": {
            "name": "sql",
            "version": ""
        }
    },
    "nbformat_minor": 2,
    "nbformat": 4,
    "cells": [
        {
            "cell_type": "code",
            "source": [
                "-- Init\n",
                "-- Ensure Init StoreDB is run before to setup the Store DB\n",
                "\n",
                "USE Store;"
            ],
            "metadata": {
                "azdata_cell_guid": "d2c92463-f860-4261-8734-3a9b52671f69"
            },
            "outputs": [
                {
                    "output_type": "display_data",
                    "data": {
                        "text/html": "Commands completed successfully."
                    },
                    "metadata": {}
                },
                {
                    "output_type": "display_data",
                    "data": {
                        "text/html": "Total execution time: 00:00:00.004"
                    },
                    "metadata": {}
                }
            ],
            "execution_count": 1
        },
        {
            "cell_type": "code",
            "source": [
                "-- Insert\n",
                "INSERT INTO Customers VALUES ( 'John', 'Smith', '1990-01-01', NULL, 'Lake view street', 'New York', 'NY', DEFAULT );\n",
                "\n",
                "INSERT INTO Customers (FirstName, LastName, BirthDate, Address, City, State) VALUES ( 'Jack', 'Mayers', '1996-06-21', 'Ocean street', 'Chicago', 'IL');"
            ],
            "metadata": {
                "azdata_cell_guid": "d1124c86-d5b2-461a-b3c0-23da49e9d0d7",
                "tags": []
            },
            "outputs": [
                {
                    "output_type": "display_data",
                    "data": {
                        "text/html": "(1 row affected)"
                    },
                    "metadata": {}
                },
                {
                    "output_type": "display_data",
                    "data": {
                        "text/html": "Total execution time: 00:00:00.009"
                    },
                    "metadata": {}
                }
            ],
            "execution_count": 5
        },
        {
            "cell_type": "code",
            "source": [
                "-- Insert Multiple Rows\n",
                "INSERT INTO Shippers (name) VALUES ('Bluedart'),('Shiprocket'), ('FedEx');"
            ],
            "metadata": {
                "azdata_cell_guid": "1b3c6e5f-2839-4e3c-809a-18755a7a9683"
            },
            "outputs": [
                {
                    "output_type": "display_data",
                    "data": {
                        "text/html": "(3 rows affected)"
                    },
                    "metadata": {}
                },
                {
                    "output_type": "display_data",
                    "data": {
                        "text/html": "Total execution time: 00:00:00.028"
                    },
                    "metadata": {}
                }
            ],
            "execution_count": 6
        },
        {
            "cell_type": "code",
            "source": [
                "-- Exercise 1\n",
                "-- Three entries in products table\n",
                "\n",
                "INSERT INTO Products\n",
                "    (Name, QuantityInStock, UnitPrice)\n",
                "VALUES\n",
                "    ('Moonshine', 100, 2.25),\n",
                "    ('Canned Peach', 250, 2),\n",
                "    ('Tuna Can', 50, 5);"
            ],
            "metadata": {
                "azdata_cell_guid": "90d2df14-ebb8-4bcd-b077-d8e5f7a052be"
            },
            "outputs": [
                {
                    "output_type": "display_data",
                    "data": {
                        "text/html": "(10 rows affected)"
                    },
                    "metadata": {}
                },
                {
                    "output_type": "display_data",
                    "data": {
                        "text/html": "(3 rows affected)"
                    },
                    "metadata": {}
                },
                {
                    "output_type": "display_data",
                    "data": {
                        "text/html": "Total execution time: 00:00:00.030"
                    },
                    "metadata": {}
                },
                {
                    "output_type": "execute_result",
                    "execution_count": 8,
                    "data": {
                        "application/vnd.dataresource+json": {
                            "schema": {
                                "fields": [
                                    {
                                        "name": "ProductId"
                                    },
                                    {
                                        "name": "Name"
                                    },
                                    {
                                        "name": "QuantityInStock"
                                    },
                                    {
                                        "name": "UnitPrice"
                                    }
                                ]
                            },
                            "data": [
                                {
                                    "0": "1",
                                    "1": "Foam Dinner Plate",
                                    "2": "70",
                                    "3": "1.21"
                                },
                                {
                                    "0": "2",
                                    "1": "Pork - Bacon,back Peameal",
                                    "2": "49",
                                    "3": "4.65"
                                },
                                {
                                    "0": "3",
                                    "1": "Lettuce - Romaine, Heart",
                                    "2": "38",
                                    "3": "3.35"
                                },
                                {
                                    "0": "4",
                                    "1": "Brocolinni - Gaylan, Chinese",
                                    "2": "90",
                                    "3": "4.53"
                                },
                                {
                                    "0": "5",
                                    "1": "Sauce - Ranch Dressing",
                                    "2": "94",
                                    "3": "1.63"
                                },
                                {
                                    "0": "6",
                                    "1": "Petit Baguette",
                                    "2": "14",
                                    "3": "2.39"
                                },
                                {
                                    "0": "7",
                                    "1": "Sweet Pea Sprouts",
                                    "2": "98",
                                    "3": "3.29"
                                },
                                {
                                    "0": "8",
                                    "1": "Island Oasis - Raspberry",
                                    "2": "26",
                                    "3": "0.74"
                                },
                                {
                                    "0": "9",
                                    "1": "Longan",
                                    "2": "67",
                                    "3": "2.26"
                                },
                                {
                                    "0": "10",
                                    "1": "Broom - Push",
                                    "2": "6",
                                    "3": "1.09"
                                }
                            ]
                        },
                        "text/html": "<table><tr><th>ProductId</th><th>Name</th><th>QuantityInStock</th><th>UnitPrice</th></tr><tr><td>1</td><td>Foam Dinner Plate</td><td>70</td><td>1.21</td></tr><tr><td>2</td><td>Pork - Bacon,back Peameal</td><td>49</td><td>4.65</td></tr><tr><td>3</td><td>Lettuce - Romaine, Heart</td><td>38</td><td>3.35</td></tr><tr><td>4</td><td>Brocolinni - Gaylan, Chinese</td><td>90</td><td>4.53</td></tr><tr><td>5</td><td>Sauce - Ranch Dressing</td><td>94</td><td>1.63</td></tr><tr><td>6</td><td>Petit Baguette</td><td>14</td><td>2.39</td></tr><tr><td>7</td><td>Sweet Pea Sprouts</td><td>98</td><td>3.29</td></tr><tr><td>8</td><td>Island Oasis - Raspberry</td><td>26</td><td>0.74</td></tr><tr><td>9</td><td>Longan</td><td>67</td><td>2.26</td></tr><tr><td>10</td><td>Broom - Push</td><td>6</td><td>1.09</td></tr></table>"
                    },
                    "metadata": {}
                }
            ],
            "execution_count": 8
        },
        {
            "cell_type": "code",
            "source": [
                "-- Hierarchical  Insertion\n",
                "INSERT INTO Orders (CustomerId, OrderDate,Status) VALUES (8, '2022-01-02', 1);\n",
                "\n",
                "INSERT INTO OrderItems VALUES (SCOPE_IDENTITY(), 1, 1,2.95), (SCOPE_IDENTITY(), 2,1, 2.95);"
            ],
            "metadata": {
                "azdata_cell_guid": "1bffdbd8-2206-4d0a-a8b2-e2db117495b5"
            },
            "outputs": [
                {
                    "output_type": "display_data",
                    "data": {
                        "text/html": "(1 row affected)"
                    },
                    "metadata": {}
                },
                {
                    "output_type": "display_data",
                    "data": {
                        "text/html": "(2 rows affected)"
                    },
                    "metadata": {}
                },
                {
                    "output_type": "display_data",
                    "data": {
                        "text/html": "Total execution time: 00:00:00.038"
                    },
                    "metadata": {}
                }
            ],
            "execution_count": 11
        },
        {
            "cell_type": "code",
            "source": [
                "-- Insert rows from one table to another\n",
                "-- This creates a New OrdersArchived table \n",
                "SELECT * INTO OrdersArchived FROM Orders;\n",
                "\n",
                "-- But here Key Constraints are not copied along\n",
                ""
            ],
            "metadata": {
                "azdata_cell_guid": "1cc69c02-2b13-4109-9080-a23424e0d5fe"
            },
            "outputs": [
                {
                    "output_type": "display_data",
                    "data": {
                        "text/html": "(11 rows affected)"
                    },
                    "metadata": {}
                },
                {
                    "output_type": "display_data",
                    "data": {
                        "text/html": "Total execution time: 00:00:00.026"
                    },
                    "metadata": {}
                }
            ],
            "execution_count": 5
        },
        {
            "cell_type": "code",
            "source": [
                "-- Updating Data \n",
                "UPDATE Customers SET PHONE ='9898989898' WHERE CustomerId = 5"
            ],
            "metadata": {
                "azdata_cell_guid": "27d1db3b-b519-41ed-9357-61db4501f56b"
            },
            "outputs": [
                {
                    "output_type": "display_data",
                    "data": {
                        "text/html": "(1 row affected)"
                    },
                    "metadata": {}
                },
                {
                    "output_type": "display_data",
                    "data": {
                        "text/html": "Total execution time: 00:00:00.009"
                    },
                    "metadata": {}
                }
            ],
            "execution_count": 7
        },
        {
            "cell_type": "code",
            "source": [
                "-- Updating Multiple Conditions\n",
                "\n",
                "UPDATE Customers SET PHONE =null, Address = '' WHERE CustomerId = 5 OR State = 'IL'"
            ],
            "metadata": {
                "azdata_cell_guid": "28b9b966-592f-4df2-93e8-a6db44a57159"
            },
            "outputs": [
                {
                    "output_type": "display_data",
                    "data": {
                        "text/html": "(3 rows affected)"
                    },
                    "metadata": {}
                },
                {
                    "output_type": "display_data",
                    "data": {
                        "text/html": "Total execution time: 00:00:00.005"
                    },
                    "metadata": {}
                }
            ],
            "execution_count": 10
        },
        {
            "cell_type": "code",
            "source": [
                "-- Exercise 2\n",
                "-- Update Customers born before 1990 extra 50 points\n",
                "\n",
                "UPDATE Customers SET Points = Points + 50 WHERE YEAR(BirthDate) < 1990"
            ],
            "metadata": {
                "azdata_cell_guid": "fe280073-49df-4f7e-b8ce-52a00309421c"
            },
            "outputs": [
                {
                    "output_type": "display_data",
                    "data": {
                        "text/html": "(7 rows affected)"
                    },
                    "metadata": {}
                },
                {
                    "output_type": "display_data",
                    "data": {
                        "text/html": "Total execution time: 00:00:00.005"
                    },
                    "metadata": {}
                }
            ],
            "execution_count": 14
        },
        {
            "cell_type": "code",
            "source": [
                "-- Sub Queries\n",
                "UPDATE Customers SET PHONE ='9898989898' WHERE CustomerId = (SELECT CustomerId FROM Customers WHERE FirstName = 'Ines');"
            ],
            "metadata": {
                "azdata_cell_guid": "c1acd731-0da2-4fc6-808f-2132f77dd2e0"
            },
            "outputs": [
                {
                    "output_type": "display_data",
                    "data": {
                        "text/html": "(1 row affected)"
                    },
                    "metadata": {}
                },
                {
                    "output_type": "display_data",
                    "data": {
                        "text/html": "Total execution time: 00:00:00.023"
                    },
                    "metadata": {}
                }
            ],
            "execution_count": 15
        },
        {
            "cell_type": "code",
            "source": [
                "-- Exercise 3\n",
                "-- Update Orders table comment based on Customer points\n",
                "UPDATE Orders SET Comments='Gold Customer' WHERE CustomerId IN (SELECT CustomerId FROM Customers WHERE Points > 3000);"
            ],
            "metadata": {
                "azdata_cell_guid": "27f284e4-fcfe-4be5-b80a-3891ac926dce"
            },
            "outputs": [
                {
                    "output_type": "display_data",
                    "data": {
                        "text/html": "(4 rows affected)"
                    },
                    "metadata": {}
                },
                {
                    "output_type": "display_data",
                    "data": {
                        "text/html": "Total execution time: 00:00:00.010"
                    },
                    "metadata": {}
                }
            ],
            "execution_count": 20
        },
        {
            "cell_type": "code",
            "source": [
                "-- Delete Data\n",
                "DELETE FROM Products WHERE ProductId = 13"
            ],
            "metadata": {
                "azdata_cell_guid": "71517c8b-eedb-451f-b75f-3605d98f0c88"
            },
            "outputs": [
                {
                    "output_type": "display_data",
                    "data": {
                        "text/html": "(1 row affected)"
                    },
                    "metadata": {}
                },
                {
                    "output_type": "display_data",
                    "data": {
                        "text/html": "Total execution time: 00:00:00.016"
                    },
                    "metadata": {}
                }
            ],
            "execution_count": 21
        },
        {
            "cell_type": "code",
            "source": [
                ""
            ],
            "metadata": {
                "azdata_cell_guid": "9ab473f7-e2f6-445a-869a-929c21401396"
            },
            "outputs": [],
            "execution_count": null
        }
    ]
}