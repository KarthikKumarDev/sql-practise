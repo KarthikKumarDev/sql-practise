{
    "metadata": {
        "kernelspec": {
            "name": "SQL",
            "display_name": "SQL",
            "language": "sql"
        },
        "language_info": {
            "name": "sql",
            "version": ""
        }
    },
    "nbformat_minor": 2,
    "nbformat": 4,
    "cells": [
        {
            "cell_type": "code",
            "source": [
                "-- Init\n",
                "DROP DATABASE IF EXISTS store;\n",
                "CREATE DATABASE store;"
            ],
            "metadata": {
                "azdata_cell_guid": "4fc84e69-06a8-41b1-9b38-278ef6e82061",
                "tags": []
            },
            "outputs": [
                {
                    "output_type": "error",
                    "evalue": "Msg 3702, Level 16, State 3, Line 2\nCannot drop database \"store\" because it is currently in use.",
                    "ename": "",
                    "traceback": []
                },
                {
                    "output_type": "error",
                    "evalue": "Msg 1801, Level 16, State 3, Line 3\nDatabase 'store' already exists. Choose a different database name.",
                    "ename": "",
                    "traceback": []
                },
                {
                    "output_type": "display_data",
                    "data": {
                        "text/html": "Total execution time: 00:00:00.025"
                    },
                    "metadata": {}
                }
            ],
            "execution_count": 15
        },
        {
            "cell_type": "code",
            "source": [
                "-- Init Data\n",
                "USE store;\n",
                "\n",
                "IF OBJECT_ID('Products', 'U') IS NULL\n",
                "BEGIN\n",
                "    CREATE TABLE Products\n",
                "    (\n",
                "        ProductId int NOT NULL PRIMARY KEY IDENTITY(1,1),\n",
                "        Name varchar(50) NOT NULL,\n",
                "        QuantityInStock int NOT NULL,\n",
                "        UnitPrice decimal(4,2) NOT NULL\n",
                "    );\n",
                "\n",
                "    -- Insert Data into Products\n",
                "    INSERT INTO  Products  VALUES ('Foam Dinner Plate',70,1.21);\n",
                "    INSERT INTO  Products  VALUES ('Pork - Bacon,back Peameal',49,4.65);\n",
                "    INSERT INTO  Products  VALUES ('Lettuce - Romaine, Heart',38,3.35);\n",
                "    INSERT INTO  Products  VALUES ('Brocolinni - Gaylan, Chinese',90,4.53);\n",
                "    INSERT INTO  Products  VALUES ('Sauce - Ranch Dressing',94,1.63);\n",
                "    INSERT INTO  Products  VALUES ('Petit Baguette',14,2.39);\n",
                "    INSERT INTO  Products  VALUES ('Sweet Pea Sprouts',98,3.29);\n",
                "    INSERT INTO  Products  VALUES ('Island Oasis - Raspberry',26,0.74);\n",
                "    INSERT INTO  Products  VALUES ('Longan',67,2.26);\n",
                "    INSERT INTO  Products  VALUES ('Broom - Push',6,1.09);\n",
                "\n",
                "END\n",
                "\n",
                "IF OBJECT_ID('Shippers', 'U') IS NULL\n",
                "BEGIN\n",
                "    CREATE TABLE Shippers\n",
                "    (\n",
                "        ShipperId int NOT NULL PRIMARY KEY IDENTITY(1,1),\n",
                "        name varchar (50) NOT NULL,\n",
                "    );\n",
                "    INSERT INTO Shippers VALUES ('Hettinger LLC');\n",
                "    INSERT INTO  Shippers VALUES ('Schinner-Predovic');\n",
                "    INSERT INTO  Shippers VALUES ('Satterfield LLC');\n",
                "    INSERT INTO  Shippers VALUES ('Mraz, Renner and Nolan');\n",
                "    INSERT INTO  Shippers VALUES ('Waters, Mayert and Prohaska');\n",
                "END\n",
                "\n",
                "\n",
                "IF OBJECT_ID('Customers', 'U') IS NULL\n",
                "BEGIN\n",
                "    CREATE TABLE Customers\n",
                "    (\n",
                "        CustomerId int NOT NULL PRIMARY KEY IDENTITY(1,1),\n",
                "        FirstName varchar (50) NOT NULL,\n",
                "        LastName varchar (50) NOT NULL,\n",
                "        BirthDate date DEFAULT NULL,\n",
                "        Phone varchar (50) DEFAULT NULL,\n",
                "        Address varchar (50) NOT NULL,\n",
                "        City varchar (50) NOT NULL,\n",
                "        State char (2) NOT NULL,\n",
                "        Points int NOT NULL DEFAULT '0',\n",
                "    );\n",
                "\n",
                "    -- Insert Data into CUSTOMERS\n",
                "    INSERT INTO  CUSTOMERS  VALUES ('Babara','MacCaffrey','1986-03-28','781-932-9754','0 Sage Terrace','Waltham','MA',2273);\n",
                "    INSERT INTO  CUSTOMERS  VALUES ('Ines','Brushfield','1986-04-13','804-427-9456','14187 Commercial Trail','Hampton','VA',947);\n",
                "    INSERT INTO  CUSTOMERS  VALUES ('Freddi','Boagey','1985-02-07','719-724-7869','251 Springs Junction','Colorado Springs','CO',2967);\n",
                "    INSERT INTO  CUSTOMERS  VALUES ('Ambur','Roseburgh','1974-04-14','407-231-8017','30 Arapahoe Terrace','Orlando','FL',457);\n",
                "    INSERT INTO  CUSTOMERS  VALUES ('Clemmie','Betchley','1973-11-07',NULL,'5 Spohn Circle','Arlington','TX',3675);\n",
                "    INSERT INTO  CUSTOMERS  VALUES ('Elka','Twiddell','1991-09-04','312-480-8498','7 Manley Drive','Chicago','IL',3073);\n",
                "    INSERT INTO  CUSTOMERS  VALUES ('Ilene','Dowson','1964-08-30','615-641-4759','50 Lillian Crossing','Nashville','TN',1672);\n",
                "    INSERT INTO  CUSTOMERS  VALUES ('Thacher','Naseby','1993-07-17','941-527-3977','538 Mosinee Center','Sarasota','FL',205);\n",
                "    INSERT INTO  CUSTOMERS  VALUES ('Romola','Rumgay','1992-05-23','559-181-3744','3520 Ohio Trail','Visalia','CA',1486);\n",
                "    INSERT INTO  CUSTOMERS  VALUES ('Levy','Mynett','1969-10-13','404-246-3370','68 Lawn Avenue','Atlanta','GA',796);\n",
                "END\n",
                "\n",
                "IF OBJECT_ID('OrderStatuses', 'U') IS NULL\n",
                "BEGIN\n",
                "    CREATE TABLE OrderStatuses\n",
                "    (\n",
                "    OrderStatusesID  int NOT NULL PRIMARY KEY,\n",
                "    name  varchar(50) NOT NULL\n",
                "    );\n",
                "    -- Insert Data into Order Status\n",
                "    INSERT INTO  OrderStatuses  VALUES (1,'Processed');\n",
                "    INSERT INTO  OrderStatuses  VALUES (2,'Shipped');\n",
                "    INSERT INTO  OrderStatuses  VALUES (3,'Delivered');\n",
                "END\n",
                "\n",
                "IF OBJECT_ID('Orders', 'U') IS NULL\n",
                "BEGIN\n",
                "    CREATE TABLE Orders\n",
                "    (\n",
                "    OrderID  int NOT NULL PRIMARY KEY IDENTITY(1,1),\n",
                "    CustomerId  int NOT NULL FOREIGN KEY REFERENCES Customers(CustomerId) ON UPDATE CASCADE,\n",
                "    OrderDate  date NOT NULL,\n",
                "    Status  int NOT NULL DEFAULT '1' FOREIGN KEY REFERENCES OrderStatuses(OrderStatusesID) ON UPDATE CASCADE,\n",
                "    comments  varchar(2000) DEFAULT NULL,\n",
                "    ShippedDate  date DEFAULT NULL,\n",
                "    ShipperId  int DEFAULT NULL FOREIGN KEY REFERENCES Shippers(ShipperId) ON UPDATE CASCADE,\n",
                "    );\n",
                "    -- Insert Data into Orders\n",
                "    INSERT INTO  Orders  VALUES (6,'2019-01-30',1,NULL,NULL,NULL);\n",
                "    INSERT INTO  Orders  VALUES (7,'2018-08-02',2,NULL,'2018-08-03',4);\n",
                "    INSERT INTO  Orders  VALUES (8,'2017-12-01',1,NULL,NULL,NULL);\n",
                "    INSERT INTO  Orders  VALUES (2,'2017-01-22',1,NULL,NULL,NULL);\n",
                "    INSERT INTO  Orders  VALUES (5,'2017-08-25',2,'','2017-08-26',3);\n",
                "    INSERT INTO  Orders  VALUES (10,'2018-11-18',1,'Aliquam erat volutpat. In congue.',NULL,NULL);\n",
                "    INSERT INTO  Orders  VALUES (2,'2018-09-22',2,NULL,'2018-09-23',4);\n",
                "    INSERT INTO  Orders  VALUES (5,'2018-06-08',1,'Mauris enim leo, rhoncus sed, vestibulum sit amet, cursus id, turpis.',NULL,NULL);\n",
                "    INSERT INTO  Orders  VALUES (10,'2017-07-05',2,'Nulla mollis molestie lorem. Quisque ut erat.','2017-07-06',1);\n",
                "    INSERT INTO  Orders  VALUES (6,'2018-04-22',2,NULL,'2018-04-23',2);\n",
                "END\n",
                "\n",
                "\n",
                "IF OBJECT_ID('OrderItems', 'U') IS NULL\n",
                "BEGIN\n",
                "    CREATE TABLE OrderItems\n",
                "    (\n",
                "    OrderId  int NOT NULL FOREIGN KEY REFERENCES Orders(OrderID) ON UPDATE CASCADE,\n",
                "    ProductId  int NOT NULL FOREIGN KEY REFERENCES Products(ProductId) ON UPDATE CASCADE,\n",
                "    Quantity  int NOT NULL,\n",
                "    UnitPrice  decimal(4,2) NOT NULL,\n",
                "    PRIMARY KEY ( OrderId , ProductId ),\n",
                "    );\n",
                "    -- Insert Data into Order Items\n",
                "    INSERT INTO  OrderItems  VALUES (1,4,4,3.74);\n",
                "    INSERT INTO  OrderItems  VALUES (2,1,2,9.10);\n",
                "    INSERT INTO  OrderItems  VALUES (2,4,4,1.66);\n",
                "    INSERT INTO  OrderItems  VALUES (2,6,2,2.94);\n",
                "    INSERT INTO  OrderItems  VALUES (3,3,10,9.12);\n",
                "    INSERT INTO  OrderItems  VALUES (4,3,7,6.99);\n",
                "    INSERT INTO  OrderItems  VALUES (4,10,7,6.40);\n",
                "    INSERT INTO  OrderItems  VALUES (5,2,3,9.89);\n",
                "    INSERT INTO  OrderItems  VALUES (6,1,4,8.65);\n",
                "    INSERT INTO  OrderItems  VALUES (6,2,4,3.28);\n",
                "    INSERT INTO  OrderItems  VALUES (6,3,4,7.46);\n",
                "    INSERT INTO  OrderItems  VALUES (6,5,1,3.45);\n",
                "    INSERT INTO  OrderItems  VALUES (7,3,7,9.17);\n",
                "    INSERT INTO  OrderItems  VALUES (8,5,2,6.94);\n",
                "    INSERT INTO  OrderItems  VALUES (8,8,2,8.59);\n",
                "    INSERT INTO  OrderItems  VALUES (9,6,5,7.28);\n",
                "    INSERT INTO  OrderItems  VALUES (10,1,10,6.01);\n",
                "    INSERT INTO  OrderItems  VALUES (10,9,9,4.28);\n",
                "END\n",
                "\n",
                "IF OBJECT_ID('OrderItemNotes', 'U') IS NULL\n",
                "BEGIN\n",
                "    CREATE TABLE OrderItemNotes\n",
                "    (\n",
                "    NoteId  INT NOT NULL PRIMARY KEY,\n",
                "    OrderId  INT NOT NULL,\n",
                "    ProductId  INT NOT NULL,\n",
                "    Note  VARCHAR(255) NOT NULL,\n",
                "    );\n",
                "    -- Insert Data into Order Item Notes\n",
                "    INSERT INTO  OrderItemNotes VALUES ('1', '1', '2', 'first note');\n",
                "    INSERT INTO  OrderItemNotes VALUES ('2', '1', '2', 'second note');\n",
                "END\n",
                "\n",
                ""
            ],
            "metadata": {
                "azdata_cell_guid": "53699a69-222b-4b50-b764-feaeb0223f71",
                "tags": []
            },
            "outputs": [],
            "execution_count": null
        },
        {
            "cell_type": "code",
            "source": [
                "-- Exercise 1\n",
                "-- Select clause\n",
                "SELECT Name, UnitPrice, UnitPrice * 1.1 as 'New Price'  from Products;"
            ],
            "metadata": {
                "azdata_cell_guid": "18ded245-8d56-40de-8b38-3188fbc2242e",
                "tags": []
            },
            "outputs": [],
            "execution_count": null
        },
        {
            "cell_type": "code",
            "source": [
                "-- Exercise 2 : Where Clause\n",
                "-- Get the orders placed this year\n",
                "SELECT * FROM ORDERS WHERE OrderDate >= '2018-01-01'\n",
                "SELECT * FROM ORDERS WHERE YEAR(OrderDate) = YEAR(GETDATE()) - 4\n",
                ""
            ],
            "metadata": {
                "azdata_cell_guid": "9d17cabe-6ef8-4247-91e9-f75470518286",
                "tags": []
            },
            "outputs": [],
            "execution_count": null
        },
        {
            "cell_type": "code",
            "source": [
                "-- Exercise 3 \n",
                " -- Get items for 6th order price greater than 30\n",
                " SELECT * FROM OrderItems WHERE OrderId = 6 AND Quantity * UnitPrice > 30;"
            ],
            "metadata": {
                "azdata_cell_guid": "1a8564d8-f2c5-4be9-ba45-f05493a7edbf",
                "tags": []
            },
            "outputs": [
                {
                    "output_type": "display_data",
                    "data": {
                        "text/html": "(1 row affected)"
                    },
                    "metadata": {}
                },
                {
                    "output_type": "display_data",
                    "data": {
                        "text/html": "Total execution time: 00:00:00.011"
                    },
                    "metadata": {}
                },
                {
                    "output_type": "execute_result",
                    "metadata": {},
                    "execution_count": 9,
                    "data": {
                        "application/vnd.dataresource+json": {
                            "schema": {
                                "fields": [
                                    {
                                        "name": "OrderId"
                                    },
                                    {
                                        "name": "ProductId"
                                    },
                                    {
                                        "name": "Quantity"
                                    },
                                    {
                                        "name": "UnitPrice"
                                    }
                                ]
                            },
                            "data": [
                                {
                                    "0": "6",
                                    "1": "1",
                                    "2": "4",
                                    "3": "8.65"
                                }
                            ]
                        },
                        "text/html": [
                            "<table>",
                            "<tr><th>OrderId</th><th>ProductId</th><th>Quantity</th><th>UnitPrice</th></tr>",
                            "<tr><td>6</td><td>1</td><td>4</td><td>8.65</td></tr>",
                            "</table>"
                        ]
                    }
                }
            ],
            "execution_count": 9
        },
        {
            "cell_type": "code",
            "source": [
                "-- Exercise 4\n",
                "-- Products with stock 49, 38, 72\n",
                "\n",
                "SELECT * FROM Products WHERE QuantityInStock in (49, 38, 72);\n",
                ""
            ],
            "metadata": {
                "azdata_cell_guid": "ebf6938b-ffee-40e0-bfcc-55a500830086",
                "tags": []
            },
            "outputs": [
                {
                    "output_type": "display_data",
                    "data": {
                        "text/html": "(2 rows affected)"
                    },
                    "metadata": {}
                },
                {
                    "output_type": "display_data",
                    "data": {
                        "text/html": "Total execution time: 00:00:00.015"
                    },
                    "metadata": {}
                },
                {
                    "output_type": "execute_result",
                    "metadata": {},
                    "execution_count": 11,
                    "data": {
                        "application/vnd.dataresource+json": {
                            "schema": {
                                "fields": [
                                    {
                                        "name": "ProductId"
                                    },
                                    {
                                        "name": "Name"
                                    },
                                    {
                                        "name": "QuantityInStock"
                                    },
                                    {
                                        "name": "UnitPrice"
                                    }
                                ]
                            },
                            "data": [
                                {
                                    "0": "2",
                                    "1": "Pork - Bacon,back Peameal",
                                    "2": "49",
                                    "3": "4.65"
                                },
                                {
                                    "0": "3",
                                    "1": "Lettuce - Romaine, Heart",
                                    "2": "38",
                                    "3": "3.35"
                                }
                            ]
                        },
                        "text/html": [
                            "<table>",
                            "<tr><th>ProductId</th><th>Name</th><th>QuantityInStock</th><th>UnitPrice</th></tr>",
                            "<tr><td>2</td><td>Pork - Bacon,back Peameal</td><td>49</td><td>4.65</td></tr>",
                            "<tr><td>3</td><td>Lettuce - Romaine, Heart</td><td>38</td><td>3.35</td></tr>",
                            "</table>"
                        ]
                    }
                }
            ],
            "execution_count": 11
        },
        {
            "cell_type": "code",
            "source": [
                "-- Exercise 5\n",
                "-- Customers born Between 1/1/1990 and 1/1/2000\n",
                "\n",
                "SELECT * FROM Customers WHERE BirthDate BETWEEN '1/1/1990' AND '1/1/2000';"
            ],
            "metadata": {
                "azdata_cell_guid": "86bb67c8-9295-41ea-b555-aca14b54a237",
                "tags": []
            },
            "outputs": [
                {
                    "output_type": "display_data",
                    "data": {
                        "text/html": "(3 rows affected)"
                    },
                    "metadata": {}
                },
                {
                    "output_type": "display_data",
                    "data": {
                        "text/html": "Total execution time: 00:00:00.005"
                    },
                    "metadata": {}
                },
                {
                    "output_type": "execute_result",
                    "metadata": {},
                    "execution_count": 16,
                    "data": {
                        "application/vnd.dataresource+json": {
                            "schema": {
                                "fields": [
                                    {
                                        "name": "CustomerId"
                                    },
                                    {
                                        "name": "FirstName"
                                    },
                                    {
                                        "name": "LastName"
                                    },
                                    {
                                        "name": "BirthDate"
                                    },
                                    {
                                        "name": "Phone"
                                    },
                                    {
                                        "name": "Address"
                                    },
                                    {
                                        "name": "City"
                                    },
                                    {
                                        "name": "State"
                                    },
                                    {
                                        "name": "Points"
                                    }
                                ]
                            },
                            "data": [
                                {
                                    "0": "6",
                                    "1": "Elka",
                                    "2": "Twiddell",
                                    "3": "1991-09-04",
                                    "4": "312-480-8498",
                                    "5": "7 Manley Drive",
                                    "6": "Chicago",
                                    "7": "IL",
                                    "8": "3073"
                                },
                                {
                                    "0": "8",
                                    "1": "Thacher",
                                    "2": "Naseby",
                                    "3": "1993-07-17",
                                    "4": "941-527-3977",
                                    "5": "538 Mosinee Center",
                                    "6": "Sarasota",
                                    "7": "FL",
                                    "8": "205"
                                },
                                {
                                    "0": "9",
                                    "1": "Romola",
                                    "2": "Rumgay",
                                    "3": "1992-05-23",
                                    "4": "559-181-3744",
                                    "5": "3520 Ohio Trail",
                                    "6": "Visalia",
                                    "7": "CA",
                                    "8": "1486"
                                }
                            ]
                        },
                        "text/html": [
                            "<table>",
                            "<tr><th>CustomerId</th><th>FirstName</th><th>LastName</th><th>BirthDate</th><th>Phone</th><th>Address</th><th>City</th><th>State</th><th>Points</th></tr>",
                            "<tr><td>6</td><td>Elka</td><td>Twiddell</td><td>1991-09-04</td><td>312-480-8498</td><td>7 Manley Drive</td><td>Chicago</td><td>IL</td><td>3073</td></tr>",
                            "<tr><td>8</td><td>Thacher</td><td>Naseby</td><td>1993-07-17</td><td>941-527-3977</td><td>538 Mosinee Center</td><td>Sarasota</td><td>FL</td><td>205</td></tr>",
                            "<tr><td>9</td><td>Romola</td><td>Rumgay</td><td>1992-05-23</td><td>559-181-3744</td><td>3520 Ohio Trail</td><td>Visalia</td><td>CA</td><td>1486</td></tr>",
                            "</table>"
                        ]
                    }
                }
            ],
            "execution_count": 16
        },
        {
            "cell_type": "code",
            "source": [
                "-- Exercise 6 (Like)\n",
                "-- Customers with addresses containing 'Trail' or 'Avenue'\n",
                "SELECT * FROM Customers WHERE Address like '%TRAIL%' or Address like '%AVENUE%';\n",
                "\n",
                "-- Phone numbers end with 9\n",
                "SELECT * FROM Customers WHERE Phone like '%9';\n",
                "\n",
                "SELECT * FROM Customers WHERE Phone NOT like '%9';"
            ],
            "metadata": {
                "azdata_cell_guid": "461a9503-ee5e-4405-91de-f8dac039a6ed",
                "tags": []
            },
            "outputs": [
                {
                    "output_type": "display_data",
                    "data": {
                        "text/html": "(3 rows affected)"
                    },
                    "metadata": {}
                },
                {
                    "output_type": "display_data",
                    "data": {
                        "text/html": "(2 rows affected)"
                    },
                    "metadata": {}
                },
                {
                    "output_type": "display_data",
                    "data": {
                        "text/html": "(7 rows affected)"
                    },
                    "metadata": {}
                },
                {
                    "output_type": "display_data",
                    "data": {
                        "text/html": "Total execution time: 00:00:00.011"
                    },
                    "metadata": {}
                },
                {
                    "output_type": "execute_result",
                    "metadata": {},
                    "execution_count": 20,
                    "data": {
                        "application/vnd.dataresource+json": {
                            "schema": {
                                "fields": [
                                    {
                                        "name": "CustomerId"
                                    },
                                    {
                                        "name": "FirstName"
                                    },
                                    {
                                        "name": "LastName"
                                    },
                                    {
                                        "name": "BirthDate"
                                    },
                                    {
                                        "name": "Phone"
                                    },
                                    {
                                        "name": "Address"
                                    },
                                    {
                                        "name": "City"
                                    },
                                    {
                                        "name": "State"
                                    },
                                    {
                                        "name": "Points"
                                    }
                                ]
                            },
                            "data": [
                                {
                                    "0": "2",
                                    "1": "Ines",
                                    "2": "Brushfield",
                                    "3": "1986-04-13",
                                    "4": "804-427-9456",
                                    "5": "14187 Commercial Trail",
                                    "6": "Hampton",
                                    "7": "VA",
                                    "8": "947"
                                },
                                {
                                    "0": "9",
                                    "1": "Romola",
                                    "2": "Rumgay",
                                    "3": "1992-05-23",
                                    "4": "559-181-3744",
                                    "5": "3520 Ohio Trail",
                                    "6": "Visalia",
                                    "7": "CA",
                                    "8": "1486"
                                },
                                {
                                    "0": "10",
                                    "1": "Levy",
                                    "2": "Mynett",
                                    "3": "1969-10-13",
                                    "4": "404-246-3370",
                                    "5": "68 Lawn Avenue",
                                    "6": "Atlanta",
                                    "7": "GA",
                                    "8": "796"
                                }
                            ]
                        },
                        "text/html": [
                            "<table>",
                            "<tr><th>CustomerId</th><th>FirstName</th><th>LastName</th><th>BirthDate</th><th>Phone</th><th>Address</th><th>City</th><th>State</th><th>Points</th></tr>",
                            "<tr><td>2</td><td>Ines</td><td>Brushfield</td><td>1986-04-13</td><td>804-427-9456</td><td>14187 Commercial Trail</td><td>Hampton</td><td>VA</td><td>947</td></tr>",
                            "<tr><td>9</td><td>Romola</td><td>Rumgay</td><td>1992-05-23</td><td>559-181-3744</td><td>3520 Ohio Trail</td><td>Visalia</td><td>CA</td><td>1486</td></tr>",
                            "<tr><td>10</td><td>Levy</td><td>Mynett</td><td>1969-10-13</td><td>404-246-3370</td><td>68 Lawn Avenue</td><td>Atlanta</td><td>GA</td><td>796</td></tr>",
                            "</table>"
                        ]
                    }
                },
                {
                    "output_type": "execute_result",
                    "metadata": {},
                    "execution_count": 20,
                    "data": {
                        "application/vnd.dataresource+json": {
                            "schema": {
                                "fields": [
                                    {
                                        "name": "CustomerId"
                                    },
                                    {
                                        "name": "FirstName"
                                    },
                                    {
                                        "name": "LastName"
                                    },
                                    {
                                        "name": "BirthDate"
                                    },
                                    {
                                        "name": "Phone"
                                    },
                                    {
                                        "name": "Address"
                                    },
                                    {
                                        "name": "City"
                                    },
                                    {
                                        "name": "State"
                                    },
                                    {
                                        "name": "Points"
                                    }
                                ]
                            },
                            "data": [
                                {
                                    "0": "3",
                                    "1": "Freddi",
                                    "2": "Boagey",
                                    "3": "1985-02-07",
                                    "4": "719-724-7869",
                                    "5": "251 Springs Junction",
                                    "6": "Colorado Springs",
                                    "7": "CO",
                                    "8": "2967"
                                },
                                {
                                    "0": "7",
                                    "1": "Ilene",
                                    "2": "Dowson",
                                    "3": "1964-08-30",
                                    "4": "615-641-4759",
                                    "5": "50 Lillian Crossing",
                                    "6": "Nashville",
                                    "7": "TN",
                                    "8": "1672"
                                }
                            ]
                        },
                        "text/html": [
                            "<table>",
                            "<tr><th>CustomerId</th><th>FirstName</th><th>LastName</th><th>BirthDate</th><th>Phone</th><th>Address</th><th>City</th><th>State</th><th>Points</th></tr>",
                            "<tr><td>3</td><td>Freddi</td><td>Boagey</td><td>1985-02-07</td><td>719-724-7869</td><td>251 Springs Junction</td><td>Colorado Springs</td><td>CO</td><td>2967</td></tr>",
                            "<tr><td>7</td><td>Ilene</td><td>Dowson</td><td>1964-08-30</td><td>615-641-4759</td><td>50 Lillian Crossing</td><td>Nashville</td><td>TN</td><td>1672</td></tr>",
                            "</table>"
                        ]
                    }
                },
                {
                    "output_type": "execute_result",
                    "metadata": {},
                    "execution_count": 20,
                    "data": {
                        "application/vnd.dataresource+json": {
                            "schema": {
                                "fields": [
                                    {
                                        "name": "CustomerId"
                                    },
                                    {
                                        "name": "FirstName"
                                    },
                                    {
                                        "name": "LastName"
                                    },
                                    {
                                        "name": "BirthDate"
                                    },
                                    {
                                        "name": "Phone"
                                    },
                                    {
                                        "name": "Address"
                                    },
                                    {
                                        "name": "City"
                                    },
                                    {
                                        "name": "State"
                                    },
                                    {
                                        "name": "Points"
                                    }
                                ]
                            },
                            "data": [
                                {
                                    "0": "1",
                                    "1": "Babara",
                                    "2": "MacCaffrey",
                                    "3": "1986-03-28",
                                    "4": "781-932-9754",
                                    "5": "0 Sage Terrace",
                                    "6": "Waltham",
                                    "7": "MA",
                                    "8": "2273"
                                },
                                {
                                    "0": "2",
                                    "1": "Ines",
                                    "2": "Brushfield",
                                    "3": "1986-04-13",
                                    "4": "804-427-9456",
                                    "5": "14187 Commercial Trail",
                                    "6": "Hampton",
                                    "7": "VA",
                                    "8": "947"
                                },
                                {
                                    "0": "4",
                                    "1": "Ambur",
                                    "2": "Roseburgh",
                                    "3": "1974-04-14",
                                    "4": "407-231-8017",
                                    "5": "30 Arapahoe Terrace",
                                    "6": "Orlando",
                                    "7": "FL",
                                    "8": "457"
                                },
                                {
                                    "0": "6",
                                    "1": "Elka",
                                    "2": "Twiddell",
                                    "3": "1991-09-04",
                                    "4": "312-480-8498",
                                    "5": "7 Manley Drive",
                                    "6": "Chicago",
                                    "7": "IL",
                                    "8": "3073"
                                },
                                {
                                    "0": "8",
                                    "1": "Thacher",
                                    "2": "Naseby",
                                    "3": "1993-07-17",
                                    "4": "941-527-3977",
                                    "5": "538 Mosinee Center",
                                    "6": "Sarasota",
                                    "7": "FL",
                                    "8": "205"
                                },
                                {
                                    "0": "9",
                                    "1": "Romola",
                                    "2": "Rumgay",
                                    "3": "1992-05-23",
                                    "4": "559-181-3744",
                                    "5": "3520 Ohio Trail",
                                    "6": "Visalia",
                                    "7": "CA",
                                    "8": "1486"
                                },
                                {
                                    "0": "10",
                                    "1": "Levy",
                                    "2": "Mynett",
                                    "3": "1969-10-13",
                                    "4": "404-246-3370",
                                    "5": "68 Lawn Avenue",
                                    "6": "Atlanta",
                                    "7": "GA",
                                    "8": "796"
                                }
                            ]
                        },
                        "text/html": [
                            "<table>",
                            "<tr><th>CustomerId</th><th>FirstName</th><th>LastName</th><th>BirthDate</th><th>Phone</th><th>Address</th><th>City</th><th>State</th><th>Points</th></tr>",
                            "<tr><td>1</td><td>Babara</td><td>MacCaffrey</td><td>1986-03-28</td><td>781-932-9754</td><td>0 Sage Terrace</td><td>Waltham</td><td>MA</td><td>2273</td></tr>",
                            "<tr><td>2</td><td>Ines</td><td>Brushfield</td><td>1986-04-13</td><td>804-427-9456</td><td>14187 Commercial Trail</td><td>Hampton</td><td>VA</td><td>947</td></tr>",
                            "<tr><td>4</td><td>Ambur</td><td>Roseburgh</td><td>1974-04-14</td><td>407-231-8017</td><td>30 Arapahoe Terrace</td><td>Orlando</td><td>FL</td><td>457</td></tr>",
                            "<tr><td>6</td><td>Elka</td><td>Twiddell</td><td>1991-09-04</td><td>312-480-8498</td><td>7 Manley Drive</td><td>Chicago</td><td>IL</td><td>3073</td></tr>",
                            "<tr><td>8</td><td>Thacher</td><td>Naseby</td><td>1993-07-17</td><td>941-527-3977</td><td>538 Mosinee Center</td><td>Sarasota</td><td>FL</td><td>205</td></tr>",
                            "<tr><td>9</td><td>Romola</td><td>Rumgay</td><td>1992-05-23</td><td>559-181-3744</td><td>3520 Ohio Trail</td><td>Visalia</td><td>CA</td><td>1486</td></tr>",
                            "<tr><td>10</td><td>Levy</td><td>Mynett</td><td>1969-10-13</td><td>404-246-3370</td><td>68 Lawn Avenue</td><td>Atlanta</td><td>GA</td><td>796</td></tr>",
                            "</table>"
                        ]
                    }
                }
            ],
            "execution_count": 20
        },
        {
            "cell_type": "code",
            "source": [
                "--  Regular Expressions via 'like' operator\n",
                "-- There is not REGEXP in SQL Server like in MySql\n",
                "\n",
                "SELECT * FROM Customers WHERE LastName like '[A-D]%';\n",
                "\n",
                "SELECT * FROM Customers WHERE LastName like '%B%[x-z]';\n",
                "\n",
                "SELECT * FROM Customers WHERE LastName like '%field' OR LastName like 'mac%';"
            ],
            "metadata": {
                "azdata_cell_guid": "e3ffa4cf-33b1-46d4-95ae-4904c2192bca"
            },
            "outputs": [
                {
                    "output_type": "display_data",
                    "data": {
                        "text/html": "(4 rows affected)"
                    },
                    "metadata": {}
                },
                {
                    "output_type": "display_data",
                    "data": {
                        "text/html": "(3 rows affected)"
                    },
                    "metadata": {}
                },
                {
                    "output_type": "display_data",
                    "data": {
                        "text/html": "(2 rows affected)"
                    },
                    "metadata": {}
                },
                {
                    "output_type": "display_data",
                    "data": {
                        "text/html": "Total execution time: 00:00:00.012"
                    },
                    "metadata": {}
                },
                {
                    "output_type": "execute_result",
                    "metadata": {},
                    "execution_count": 46,
                    "data": {
                        "application/vnd.dataresource+json": {
                            "schema": {
                                "fields": [
                                    {
                                        "name": "CustomerId"
                                    },
                                    {
                                        "name": "FirstName"
                                    },
                                    {
                                        "name": "LastName"
                                    },
                                    {
                                        "name": "BirthDate"
                                    },
                                    {
                                        "name": "Phone"
                                    },
                                    {
                                        "name": "Address"
                                    },
                                    {
                                        "name": "City"
                                    },
                                    {
                                        "name": "State"
                                    },
                                    {
                                        "name": "Points"
                                    }
                                ]
                            },
                            "data": [
                                {
                                    "0": "2",
                                    "1": "Ines",
                                    "2": "Brushfield",
                                    "3": "1986-04-13",
                                    "4": "804-427-9456",
                                    "5": "14187 Commercial Trail",
                                    "6": "Hampton",
                                    "7": "VA",
                                    "8": "947"
                                },
                                {
                                    "0": "3",
                                    "1": "Freddi",
                                    "2": "Boagey",
                                    "3": "1985-02-07",
                                    "4": "719-724-7869",
                                    "5": "251 Springs Junction",
                                    "6": "Colorado Springs",
                                    "7": "CO",
                                    "8": "2967"
                                },
                                {
                                    "0": "5",
                                    "1": "Clemmie",
                                    "2": "Betchley",
                                    "3": "1973-11-07",
                                    "4": "NULL",
                                    "5": "5 Spohn Circle",
                                    "6": "Arlington",
                                    "7": "TX",
                                    "8": "3675"
                                },
                                {
                                    "0": "7",
                                    "1": "Ilene",
                                    "2": "Dowson",
                                    "3": "1964-08-30",
                                    "4": "615-641-4759",
                                    "5": "50 Lillian Crossing",
                                    "6": "Nashville",
                                    "7": "TN",
                                    "8": "1672"
                                }
                            ]
                        },
                        "text/html": [
                            "<table>",
                            "<tr><th>CustomerId</th><th>FirstName</th><th>LastName</th><th>BirthDate</th><th>Phone</th><th>Address</th><th>City</th><th>State</th><th>Points</th></tr>",
                            "<tr><td>2</td><td>Ines</td><td>Brushfield</td><td>1986-04-13</td><td>804-427-9456</td><td>14187 Commercial Trail</td><td>Hampton</td><td>VA</td><td>947</td></tr>",
                            "<tr><td>3</td><td>Freddi</td><td>Boagey</td><td>1985-02-07</td><td>719-724-7869</td><td>251 Springs Junction</td><td>Colorado Springs</td><td>CO</td><td>2967</td></tr>",
                            "<tr><td>5</td><td>Clemmie</td><td>Betchley</td><td>1973-11-07</td><td>NULL</td><td>5 Spohn Circle</td><td>Arlington</td><td>TX</td><td>3675</td></tr>",
                            "<tr><td>7</td><td>Ilene</td><td>Dowson</td><td>1964-08-30</td><td>615-641-4759</td><td>50 Lillian Crossing</td><td>Nashville</td><td>TN</td><td>1672</td></tr>",
                            "</table>"
                        ]
                    }
                },
                {
                    "output_type": "execute_result",
                    "metadata": {},
                    "execution_count": 46,
                    "data": {
                        "application/vnd.dataresource+json": {
                            "schema": {
                                "fields": [
                                    {
                                        "name": "CustomerId"
                                    },
                                    {
                                        "name": "FirstName"
                                    },
                                    {
                                        "name": "LastName"
                                    },
                                    {
                                        "name": "BirthDate"
                                    },
                                    {
                                        "name": "Phone"
                                    },
                                    {
                                        "name": "Address"
                                    },
                                    {
                                        "name": "City"
                                    },
                                    {
                                        "name": "State"
                                    },
                                    {
                                        "name": "Points"
                                    }
                                ]
                            },
                            "data": [
                                {
                                    "0": "3",
                                    "1": "Freddi",
                                    "2": "Boagey",
                                    "3": "1985-02-07",
                                    "4": "719-724-7869",
                                    "5": "251 Springs Junction",
                                    "6": "Colorado Springs",
                                    "7": "CO",
                                    "8": "2967"
                                },
                                {
                                    "0": "5",
                                    "1": "Clemmie",
                                    "2": "Betchley",
                                    "3": "1973-11-07",
                                    "4": "NULL",
                                    "5": "5 Spohn Circle",
                                    "6": "Arlington",
                                    "7": "TX",
                                    "8": "3675"
                                },
                                {
                                    "0": "8",
                                    "1": "Thacher",
                                    "2": "Naseby",
                                    "3": "1993-07-17",
                                    "4": "941-527-3977",
                                    "5": "538 Mosinee Center",
                                    "6": "Sarasota",
                                    "7": "FL",
                                    "8": "205"
                                }
                            ]
                        },
                        "text/html": [
                            "<table>",
                            "<tr><th>CustomerId</th><th>FirstName</th><th>LastName</th><th>BirthDate</th><th>Phone</th><th>Address</th><th>City</th><th>State</th><th>Points</th></tr>",
                            "<tr><td>3</td><td>Freddi</td><td>Boagey</td><td>1985-02-07</td><td>719-724-7869</td><td>251 Springs Junction</td><td>Colorado Springs</td><td>CO</td><td>2967</td></tr>",
                            "<tr><td>5</td><td>Clemmie</td><td>Betchley</td><td>1973-11-07</td><td>NULL</td><td>5 Spohn Circle</td><td>Arlington</td><td>TX</td><td>3675</td></tr>",
                            "<tr><td>8</td><td>Thacher</td><td>Naseby</td><td>1993-07-17</td><td>941-527-3977</td><td>538 Mosinee Center</td><td>Sarasota</td><td>FL</td><td>205</td></tr>",
                            "</table>"
                        ]
                    }
                },
                {
                    "output_type": "execute_result",
                    "metadata": {},
                    "execution_count": 46,
                    "data": {
                        "application/vnd.dataresource+json": {
                            "schema": {
                                "fields": [
                                    {
                                        "name": "CustomerId"
                                    },
                                    {
                                        "name": "FirstName"
                                    },
                                    {
                                        "name": "LastName"
                                    },
                                    {
                                        "name": "BirthDate"
                                    },
                                    {
                                        "name": "Phone"
                                    },
                                    {
                                        "name": "Address"
                                    },
                                    {
                                        "name": "City"
                                    },
                                    {
                                        "name": "State"
                                    },
                                    {
                                        "name": "Points"
                                    }
                                ]
                            },
                            "data": [
                                {
                                    "0": "1",
                                    "1": "Babara",
                                    "2": "MacCaffrey",
                                    "3": "1986-03-28",
                                    "4": "781-932-9754",
                                    "5": "0 Sage Terrace",
                                    "6": "Waltham",
                                    "7": "MA",
                                    "8": "2273"
                                },
                                {
                                    "0": "2",
                                    "1": "Ines",
                                    "2": "Brushfield",
                                    "3": "1986-04-13",
                                    "4": "804-427-9456",
                                    "5": "14187 Commercial Trail",
                                    "6": "Hampton",
                                    "7": "VA",
                                    "8": "947"
                                }
                            ]
                        },
                        "text/html": [
                            "<table>",
                            "<tr><th>CustomerId</th><th>FirstName</th><th>LastName</th><th>BirthDate</th><th>Phone</th><th>Address</th><th>City</th><th>State</th><th>Points</th></tr>",
                            "<tr><td>1</td><td>Babara</td><td>MacCaffrey</td><td>1986-03-28</td><td>781-932-9754</td><td>0 Sage Terrace</td><td>Waltham</td><td>MA</td><td>2273</td></tr>",
                            "<tr><td>2</td><td>Ines</td><td>Brushfield</td><td>1986-04-13</td><td>804-427-9456</td><td>14187 Commercial Trail</td><td>Hampton</td><td>VA</td><td>947</td></tr>",
                            "</table>"
                        ]
                    }
                }
            ],
            "execution_count": 46
        },
        {
            "cell_type": "code",
            "source": [
                "\n",
                "-- Exercise 7\n",
                "-- Customers first names ELKA or AMBUR\n",
                "\n",
                "SELECT * FROM Customers WHERE FirstName = 'ELKA' or FirstName = 'Ambur';\n",
                "\n",
                "-- Last Names end with EY or ON\n",
                "\n",
                "SELECT * FROM Customers WHERE LastName like '%EY' or LastName like '%ON';\n",
                "\n",
                "SELECT * FROM Customers WHERE FirstName = 'ELKA' or LastName = 'Ambur' OR  LastName like '%EY' or LastName like '%ON';\n",
                "\n",
                "\n",
                "-- Last Names start with MY or contains SE\n",
                "\n",
                "SELECT * FROM Customers WHERE LastName like 'MY%' OR LastName like '%SE%';\n",
                "-- Last names contain B followed by R or U\n",
                "\n",
                "SELECT * FROM Customers WHERE LastName like '%b[r]%' OR LastName like '%b[u]%';\n",
                "\n",
                "SELECT * FROM Customers WHERE LastName like 'MY%' OR LastName like '%SE%' OR LastName like '%b[r]%' OR LastName like '%b[u]%';"
            ],
            "metadata": {
                "azdata_cell_guid": "7a16ae3a-4d44-41b9-a94d-4d0f0fccad6a"
            },
            "outputs": [
                {
                    "output_type": "display_data",
                    "data": {
                        "text/html": "(2 rows affected)"
                    },
                    "metadata": {}
                },
                {
                    "output_type": "display_data",
                    "data": {
                        "text/html": "(4 rows affected)"
                    },
                    "metadata": {}
                },
                {
                    "output_type": "display_data",
                    "data": {
                        "text/html": "(5 rows affected)"
                    },
                    "metadata": {}
                },
                {
                    "output_type": "display_data",
                    "data": {
                        "text/html": "(3 rows affected)"
                    },
                    "metadata": {}
                },
                {
                    "output_type": "display_data",
                    "data": {
                        "text/html": "(2 rows affected)"
                    },
                    "metadata": {}
                },
                {
                    "output_type": "display_data",
                    "data": {
                        "text/html": "(4 rows affected)"
                    },
                    "metadata": {}
                },
                {
                    "output_type": "display_data",
                    "data": {
                        "text/html": "Total execution time: 00:00:00.039"
                    },
                    "metadata": {}
                },
                {
                    "output_type": "execute_result",
                    "metadata": {},
                    "execution_count": 52,
                    "data": {
                        "application/vnd.dataresource+json": {
                            "schema": {
                                "fields": [
                                    {
                                        "name": "CustomerId"
                                    },
                                    {
                                        "name": "FirstName"
                                    },
                                    {
                                        "name": "LastName"
                                    },
                                    {
                                        "name": "BirthDate"
                                    },
                                    {
                                        "name": "Phone"
                                    },
                                    {
                                        "name": "Address"
                                    },
                                    {
                                        "name": "City"
                                    },
                                    {
                                        "name": "State"
                                    },
                                    {
                                        "name": "Points"
                                    }
                                ]
                            },
                            "data": [
                                {
                                    "0": "4",
                                    "1": "Ambur",
                                    "2": "Roseburgh",
                                    "3": "1974-04-14",
                                    "4": "407-231-8017",
                                    "5": "30 Arapahoe Terrace",
                                    "6": "Orlando",
                                    "7": "FL",
                                    "8": "457"
                                },
                                {
                                    "0": "6",
                                    "1": "Elka",
                                    "2": "Twiddell",
                                    "3": "1991-09-04",
                                    "4": "312-480-8498",
                                    "5": "7 Manley Drive",
                                    "6": "Chicago",
                                    "7": "IL",
                                    "8": "3073"
                                }
                            ]
                        },
                        "text/html": [
                            "<table>",
                            "<tr><th>CustomerId</th><th>FirstName</th><th>LastName</th><th>BirthDate</th><th>Phone</th><th>Address</th><th>City</th><th>State</th><th>Points</th></tr>",
                            "<tr><td>4</td><td>Ambur</td><td>Roseburgh</td><td>1974-04-14</td><td>407-231-8017</td><td>30 Arapahoe Terrace</td><td>Orlando</td><td>FL</td><td>457</td></tr>",
                            "<tr><td>6</td><td>Elka</td><td>Twiddell</td><td>1991-09-04</td><td>312-480-8498</td><td>7 Manley Drive</td><td>Chicago</td><td>IL</td><td>3073</td></tr>",
                            "</table>"
                        ]
                    }
                },
                {
                    "output_type": "execute_result",
                    "metadata": {},
                    "execution_count": 52,
                    "data": {
                        "application/vnd.dataresource+json": {
                            "schema": {
                                "fields": [
                                    {
                                        "name": "CustomerId"
                                    },
                                    {
                                        "name": "FirstName"
                                    },
                                    {
                                        "name": "LastName"
                                    },
                                    {
                                        "name": "BirthDate"
                                    },
                                    {
                                        "name": "Phone"
                                    },
                                    {
                                        "name": "Address"
                                    },
                                    {
                                        "name": "City"
                                    },
                                    {
                                        "name": "State"
                                    },
                                    {
                                        "name": "Points"
                                    }
                                ]
                            },
                            "data": [
                                {
                                    "0": "1",
                                    "1": "Babara",
                                    "2": "MacCaffrey",
                                    "3": "1986-03-28",
                                    "4": "781-932-9754",
                                    "5": "0 Sage Terrace",
                                    "6": "Waltham",
                                    "7": "MA",
                                    "8": "2273"
                                },
                                {
                                    "0": "3",
                                    "1": "Freddi",
                                    "2": "Boagey",
                                    "3": "1985-02-07",
                                    "4": "719-724-7869",
                                    "5": "251 Springs Junction",
                                    "6": "Colorado Springs",
                                    "7": "CO",
                                    "8": "2967"
                                },
                                {
                                    "0": "5",
                                    "1": "Clemmie",
                                    "2": "Betchley",
                                    "3": "1973-11-07",
                                    "4": "NULL",
                                    "5": "5 Spohn Circle",
                                    "6": "Arlington",
                                    "7": "TX",
                                    "8": "3675"
                                },
                                {
                                    "0": "7",
                                    "1": "Ilene",
                                    "2": "Dowson",
                                    "3": "1964-08-30",
                                    "4": "615-641-4759",
                                    "5": "50 Lillian Crossing",
                                    "6": "Nashville",
                                    "7": "TN",
                                    "8": "1672"
                                }
                            ]
                        },
                        "text/html": [
                            "<table>",
                            "<tr><th>CustomerId</th><th>FirstName</th><th>LastName</th><th>BirthDate</th><th>Phone</th><th>Address</th><th>City</th><th>State</th><th>Points</th></tr>",
                            "<tr><td>1</td><td>Babara</td><td>MacCaffrey</td><td>1986-03-28</td><td>781-932-9754</td><td>0 Sage Terrace</td><td>Waltham</td><td>MA</td><td>2273</td></tr>",
                            "<tr><td>3</td><td>Freddi</td><td>Boagey</td><td>1985-02-07</td><td>719-724-7869</td><td>251 Springs Junction</td><td>Colorado Springs</td><td>CO</td><td>2967</td></tr>",
                            "<tr><td>5</td><td>Clemmie</td><td>Betchley</td><td>1973-11-07</td><td>NULL</td><td>5 Spohn Circle</td><td>Arlington</td><td>TX</td><td>3675</td></tr>",
                            "<tr><td>7</td><td>Ilene</td><td>Dowson</td><td>1964-08-30</td><td>615-641-4759</td><td>50 Lillian Crossing</td><td>Nashville</td><td>TN</td><td>1672</td></tr>",
                            "</table>"
                        ]
                    }
                },
                {
                    "output_type": "execute_result",
                    "metadata": {},
                    "execution_count": 52,
                    "data": {
                        "application/vnd.dataresource+json": {
                            "schema": {
                                "fields": [
                                    {
                                        "name": "CustomerId"
                                    },
                                    {
                                        "name": "FirstName"
                                    },
                                    {
                                        "name": "LastName"
                                    },
                                    {
                                        "name": "BirthDate"
                                    },
                                    {
                                        "name": "Phone"
                                    },
                                    {
                                        "name": "Address"
                                    },
                                    {
                                        "name": "City"
                                    },
                                    {
                                        "name": "State"
                                    },
                                    {
                                        "name": "Points"
                                    }
                                ]
                            },
                            "data": [
                                {
                                    "0": "1",
                                    "1": "Babara",
                                    "2": "MacCaffrey",
                                    "3": "1986-03-28",
                                    "4": "781-932-9754",
                                    "5": "0 Sage Terrace",
                                    "6": "Waltham",
                                    "7": "MA",
                                    "8": "2273"
                                },
                                {
                                    "0": "3",
                                    "1": "Freddi",
                                    "2": "Boagey",
                                    "3": "1985-02-07",
                                    "4": "719-724-7869",
                                    "5": "251 Springs Junction",
                                    "6": "Colorado Springs",
                                    "7": "CO",
                                    "8": "2967"
                                },
                                {
                                    "0": "5",
                                    "1": "Clemmie",
                                    "2": "Betchley",
                                    "3": "1973-11-07",
                                    "4": "NULL",
                                    "5": "5 Spohn Circle",
                                    "6": "Arlington",
                                    "7": "TX",
                                    "8": "3675"
                                },
                                {
                                    "0": "6",
                                    "1": "Elka",
                                    "2": "Twiddell",
                                    "3": "1991-09-04",
                                    "4": "312-480-8498",
                                    "5": "7 Manley Drive",
                                    "6": "Chicago",
                                    "7": "IL",
                                    "8": "3073"
                                },
                                {
                                    "0": "7",
                                    "1": "Ilene",
                                    "2": "Dowson",
                                    "3": "1964-08-30",
                                    "4": "615-641-4759",
                                    "5": "50 Lillian Crossing",
                                    "6": "Nashville",
                                    "7": "TN",
                                    "8": "1672"
                                }
                            ]
                        },
                        "text/html": [
                            "<table>",
                            "<tr><th>CustomerId</th><th>FirstName</th><th>LastName</th><th>BirthDate</th><th>Phone</th><th>Address</th><th>City</th><th>State</th><th>Points</th></tr>",
                            "<tr><td>1</td><td>Babara</td><td>MacCaffrey</td><td>1986-03-28</td><td>781-932-9754</td><td>0 Sage Terrace</td><td>Waltham</td><td>MA</td><td>2273</td></tr>",
                            "<tr><td>3</td><td>Freddi</td><td>Boagey</td><td>1985-02-07</td><td>719-724-7869</td><td>251 Springs Junction</td><td>Colorado Springs</td><td>CO</td><td>2967</td></tr>",
                            "<tr><td>5</td><td>Clemmie</td><td>Betchley</td><td>1973-11-07</td><td>NULL</td><td>5 Spohn Circle</td><td>Arlington</td><td>TX</td><td>3675</td></tr>",
                            "<tr><td>6</td><td>Elka</td><td>Twiddell</td><td>1991-09-04</td><td>312-480-8498</td><td>7 Manley Drive</td><td>Chicago</td><td>IL</td><td>3073</td></tr>",
                            "<tr><td>7</td><td>Ilene</td><td>Dowson</td><td>1964-08-30</td><td>615-641-4759</td><td>50 Lillian Crossing</td><td>Nashville</td><td>TN</td><td>1672</td></tr>",
                            "</table>"
                        ]
                    }
                },
                {
                    "output_type": "execute_result",
                    "metadata": {},
                    "execution_count": 52,
                    "data": {
                        "application/vnd.dataresource+json": {
                            "schema": {
                                "fields": [
                                    {
                                        "name": "CustomerId"
                                    },
                                    {
                                        "name": "FirstName"
                                    },
                                    {
                                        "name": "LastName"
                                    },
                                    {
                                        "name": "BirthDate"
                                    },
                                    {
                                        "name": "Phone"
                                    },
                                    {
                                        "name": "Address"
                                    },
                                    {
                                        "name": "City"
                                    },
                                    {
                                        "name": "State"
                                    },
                                    {
                                        "name": "Points"
                                    }
                                ]
                            },
                            "data": [
                                {
                                    "0": "4",
                                    "1": "Ambur",
                                    "2": "Roseburgh",
                                    "3": "1974-04-14",
                                    "4": "407-231-8017",
                                    "5": "30 Arapahoe Terrace",
                                    "6": "Orlando",
                                    "7": "FL",
                                    "8": "457"
                                },
                                {
                                    "0": "8",
                                    "1": "Thacher",
                                    "2": "Naseby",
                                    "3": "1993-07-17",
                                    "4": "941-527-3977",
                                    "5": "538 Mosinee Center",
                                    "6": "Sarasota",
                                    "7": "FL",
                                    "8": "205"
                                },
                                {
                                    "0": "10",
                                    "1": "Levy",
                                    "2": "Mynett",
                                    "3": "1969-10-13",
                                    "4": "404-246-3370",
                                    "5": "68 Lawn Avenue",
                                    "6": "Atlanta",
                                    "7": "GA",
                                    "8": "796"
                                }
                            ]
                        },
                        "text/html": [
                            "<table>",
                            "<tr><th>CustomerId</th><th>FirstName</th><th>LastName</th><th>BirthDate</th><th>Phone</th><th>Address</th><th>City</th><th>State</th><th>Points</th></tr>",
                            "<tr><td>4</td><td>Ambur</td><td>Roseburgh</td><td>1974-04-14</td><td>407-231-8017</td><td>30 Arapahoe Terrace</td><td>Orlando</td><td>FL</td><td>457</td></tr>",
                            "<tr><td>8</td><td>Thacher</td><td>Naseby</td><td>1993-07-17</td><td>941-527-3977</td><td>538 Mosinee Center</td><td>Sarasota</td><td>FL</td><td>205</td></tr>",
                            "<tr><td>10</td><td>Levy</td><td>Mynett</td><td>1969-10-13</td><td>404-246-3370</td><td>68 Lawn Avenue</td><td>Atlanta</td><td>GA</td><td>796</td></tr>",
                            "</table>"
                        ]
                    }
                },
                {
                    "output_type": "execute_result",
                    "metadata": {},
                    "execution_count": 52,
                    "data": {
                        "application/vnd.dataresource+json": {
                            "schema": {
                                "fields": [
                                    {
                                        "name": "CustomerId"
                                    },
                                    {
                                        "name": "FirstName"
                                    },
                                    {
                                        "name": "LastName"
                                    },
                                    {
                                        "name": "BirthDate"
                                    },
                                    {
                                        "name": "Phone"
                                    },
                                    {
                                        "name": "Address"
                                    },
                                    {
                                        "name": "City"
                                    },
                                    {
                                        "name": "State"
                                    },
                                    {
                                        "name": "Points"
                                    }
                                ]
                            },
                            "data": [
                                {
                                    "0": "2",
                                    "1": "Ines",
                                    "2": "Brushfield",
                                    "3": "1986-04-13",
                                    "4": "804-427-9456",
                                    "5": "14187 Commercial Trail",
                                    "6": "Hampton",
                                    "7": "VA",
                                    "8": "947"
                                },
                                {
                                    "0": "4",
                                    "1": "Ambur",
                                    "2": "Roseburgh",
                                    "3": "1974-04-14",
                                    "4": "407-231-8017",
                                    "5": "30 Arapahoe Terrace",
                                    "6": "Orlando",
                                    "7": "FL",
                                    "8": "457"
                                }
                            ]
                        },
                        "text/html": [
                            "<table>",
                            "<tr><th>CustomerId</th><th>FirstName</th><th>LastName</th><th>BirthDate</th><th>Phone</th><th>Address</th><th>City</th><th>State</th><th>Points</th></tr>",
                            "<tr><td>2</td><td>Ines</td><td>Brushfield</td><td>1986-04-13</td><td>804-427-9456</td><td>14187 Commercial Trail</td><td>Hampton</td><td>VA</td><td>947</td></tr>",
                            "<tr><td>4</td><td>Ambur</td><td>Roseburgh</td><td>1974-04-14</td><td>407-231-8017</td><td>30 Arapahoe Terrace</td><td>Orlando</td><td>FL</td><td>457</td></tr>",
                            "</table>"
                        ]
                    }
                },
                {
                    "output_type": "execute_result",
                    "metadata": {},
                    "execution_count": 52,
                    "data": {
                        "application/vnd.dataresource+json": {
                            "schema": {
                                "fields": [
                                    {
                                        "name": "CustomerId"
                                    },
                                    {
                                        "name": "FirstName"
                                    },
                                    {
                                        "name": "LastName"
                                    },
                                    {
                                        "name": "BirthDate"
                                    },
                                    {
                                        "name": "Phone"
                                    },
                                    {
                                        "name": "Address"
                                    },
                                    {
                                        "name": "City"
                                    },
                                    {
                                        "name": "State"
                                    },
                                    {
                                        "name": "Points"
                                    }
                                ]
                            },
                            "data": [
                                {
                                    "0": "2",
                                    "1": "Ines",
                                    "2": "Brushfield",
                                    "3": "1986-04-13",
                                    "4": "804-427-9456",
                                    "5": "14187 Commercial Trail",
                                    "6": "Hampton",
                                    "7": "VA",
                                    "8": "947"
                                },
                                {
                                    "0": "4",
                                    "1": "Ambur",
                                    "2": "Roseburgh",
                                    "3": "1974-04-14",
                                    "4": "407-231-8017",
                                    "5": "30 Arapahoe Terrace",
                                    "6": "Orlando",
                                    "7": "FL",
                                    "8": "457"
                                },
                                {
                                    "0": "8",
                                    "1": "Thacher",
                                    "2": "Naseby",
                                    "3": "1993-07-17",
                                    "4": "941-527-3977",
                                    "5": "538 Mosinee Center",
                                    "6": "Sarasota",
                                    "7": "FL",
                                    "8": "205"
                                },
                                {
                                    "0": "10",
                                    "1": "Levy",
                                    "2": "Mynett",
                                    "3": "1969-10-13",
                                    "4": "404-246-3370",
                                    "5": "68 Lawn Avenue",
                                    "6": "Atlanta",
                                    "7": "GA",
                                    "8": "796"
                                }
                            ]
                        },
                        "text/html": [
                            "<table>",
                            "<tr><th>CustomerId</th><th>FirstName</th><th>LastName</th><th>BirthDate</th><th>Phone</th><th>Address</th><th>City</th><th>State</th><th>Points</th></tr>",
                            "<tr><td>2</td><td>Ines</td><td>Brushfield</td><td>1986-04-13</td><td>804-427-9456</td><td>14187 Commercial Trail</td><td>Hampton</td><td>VA</td><td>947</td></tr>",
                            "<tr><td>4</td><td>Ambur</td><td>Roseburgh</td><td>1974-04-14</td><td>407-231-8017</td><td>30 Arapahoe Terrace</td><td>Orlando</td><td>FL</td><td>457</td></tr>",
                            "<tr><td>8</td><td>Thacher</td><td>Naseby</td><td>1993-07-17</td><td>941-527-3977</td><td>538 Mosinee Center</td><td>Sarasota</td><td>FL</td><td>205</td></tr>",
                            "<tr><td>10</td><td>Levy</td><td>Mynett</td><td>1969-10-13</td><td>404-246-3370</td><td>68 Lawn Avenue</td><td>Atlanta</td><td>GA</td><td>796</td></tr>",
                            "</table>"
                        ]
                    }
                }
            ],
            "execution_count": 52
        }
    ]
}